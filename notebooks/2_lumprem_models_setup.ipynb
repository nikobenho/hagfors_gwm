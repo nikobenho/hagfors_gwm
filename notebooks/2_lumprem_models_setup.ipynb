{
 "cells": [
  {
   "cell_type": "code",
   "execution_count": null,
   "metadata": {},
   "outputs": [],
   "source": [
    "import os\n",
    "import shutil\n",
    "import numpy as np\n",
    "import pandas as pd\n",
    "import flopy\n",
    "import lumpyrem as lr\n",
    "from lumpyrem import run\n",
    "from lumpyrem.lr2series import TimeSeries\n",
    "import matplotlib.pyplot as plt"
   ]
  },
  {
   "cell_type": "code",
   "execution_count": null,
   "metadata": {},
   "outputs": [],
   "source": [
    "import warnings\n",
    "warnings.filterwarnings(\"ignore\", category=DeprecationWarning)"
   ]
  },
  {
   "cell_type": "code",
   "execution_count": null,
   "metadata": {},
   "outputs": [],
   "source": [
    "bins_pth = os.path.join('..', 'bins', 'win') if 'nt' in os.name else os.path.join('..', 'bins', 'linux') # Binaries"
   ]
  },
  {
   "cell_type": "code",
   "execution_count": null,
   "metadata": {},
   "outputs": [],
   "source": [
    "lr_ws = os.path.join('..', 'temp_lr_prep') # Lumprem model workspace.  Safe to delete."
   ]
  },
  {
   "cell_type": "code",
   "execution_count": null,
   "metadata": {},
   "outputs": [],
   "source": [
    "lumprem_input_pth = os.path.join('..', 'data', 'lumprem_input') # Input data curated in a previous notebook\n",
    "os.listdir(lumprem_input_pth)"
   ]
  },
  {
   "cell_type": "code",
   "execution_count": null,
   "metadata": {},
   "outputs": [],
   "source": [
    "if not os.path.exists(lr_ws):\n",
    "    os.mkdir(lr_ws)"
   ]
  },
  {
   "cell_type": "code",
   "execution_count": null,
   "metadata": {},
   "outputs": [],
   "source": [
    "for file in os.listdir(lumprem_input_pth):\n",
    "    shutil.copyfile(lumprem_input_pth+'\\\\'+file, lr_ws+'\\\\'+file) #Works for Windows. Does it work for Linux?"
   ]
  },
  {
   "cell_type": "code",
   "execution_count": null,
   "metadata": {},
   "outputs": [],
   "source": [
    "os.listdir(lr_ws)"
   ]
  },
  {
   "cell_type": "markdown",
   "metadata": {},
   "source": [
    "## Setup recharge model\n",
    "What about EVT?"
   ]
  },
  {
   "cell_type": "code",
   "execution_count": null,
   "metadata": {},
   "outputs": [],
   "source": [
    "# initiate the model and write the in files. What about rbuf & mbuf?\n",
    "# landuse model for recharge, evap\n",
    "lr_lu1 = lr.lumprem.Model(\n",
    "    model_name = 'lu1',\n",
    "    workspace = lr_ws,\n",
    "    irrigvolfrac = 0.0,\n",
    "    rainfile = 'rainfall.dat',\n",
    "    epotfile = 'evapot.dat',\n",
    "    maxvol = 0.2, # Varför valde jag 0.2 istället för 0.5 som är default?\n",
    "    vol = 0.1,\n",
    "    ks = 43.2 # 43.2 m/day = 0.0005 m/s ≈ reasonable initial guess considering local geology\n",
    ")"
   ]
  },
  {
   "cell_type": "code",
   "execution_count": null,
   "metadata": {},
   "outputs": [],
   "source": [
    "lr_lu1.write_model(\n",
    "    start_date = '01/01/2016',\n",
    "    end_date = '01/01/2020',\n",
    "    noutdays='monthly',\n",
    "    mxiter = 500,\n",
    ")\n",
    "lr_lu1.run_model(version=2)"
   ]
  },
  {
   "cell_type": "code",
   "execution_count": null,
   "metadata": {},
   "outputs": [],
   "source": [
    "# get model results\n",
    "results = lr_lu1.get_results()\n",
    "display(results.head())"
   ]
  },
  {
   "cell_type": "code",
   "execution_count": null,
   "metadata": {},
   "outputs": [],
   "source": [
    "display(results.tail())"
   ]
  },
  {
   "cell_type": "code",
   "execution_count": null,
   "metadata": {},
   "outputs": [],
   "source": [
    "fig = plt.figure(figsize=(10, 6), dpi=50)\n",
    "ax = fig.add_subplot(1, 1, 1)\n",
    "plt.ticklabel_format(axis='both', style='plain', useOffset=False) #Show coordinates\n",
    "ax.set_title('lr_lu1 model', fontsize=18)\n",
    "\n",
    "results.plot('days','net_recharge', ax=ax)\n",
    "results.plot('days', 'gw_pot_evap', ax=ax)\n",
    "\n",
    "plt.legend()\n",
    "plt.show()"
   ]
  },
  {
   "cell_type": "markdown",
   "metadata": {},
   "source": [
    "## Setup GHB models"
   ]
  },
  {
   "cell_type": "markdown",
   "metadata": {},
   "source": [
    "GHB Models:"
   ]
  },
  {
   "cell_type": "code",
   "execution_count": null,
   "metadata": {},
   "outputs": [],
   "source": [
    "initial_ghb_bheads = {\n",
    "    'red': 142.5,\n",
    "    'orange': 142.0,\n",
    "    'yellow': 141.,\n",
    "    'limegreen': 139.5,\n",
    "    'royalblue': 135.,\n",
    "    'blueviolet': 137.5,\n",
    "    'magenta': 139.5,\n",
    "}"
   ]
  },
  {
   "cell_type": "code",
   "execution_count": null,
   "metadata": {},
   "outputs": [],
   "source": [
    "lr_ghb_red = lr.lumprem.Model(\n",
    "    model_name = 'red',\n",
    "    workspace = lr_ws,\n",
    "    factor1 = 30,\n",
    "    factor2 = 20,\n",
    "    power = 2,\n",
    "    offset = initial_ghb_bheads['red'],\n",
    "    maxvol = 0.2,\n",
    "    vol = 0.03,\n",
    "    surface = 200,\n",
    "    ks = 43.2,\n",
    "    irrigvolfrac=0.0,\n",
    "    rainfile = 'rainfall.dat',\n",
    "    epotfile = 'evapot.dat',\n",
    ")"
   ]
  },
  {
   "cell_type": "code",
   "execution_count": null,
   "metadata": {},
   "outputs": [],
   "source": [
    "lr_ghb_orange = lr.lumprem.Model(\n",
    "    model_name = 'orange',\n",
    "    workspace = lr_ws,\n",
    "    factor1 = 30,\n",
    "    factor2 = 20,\n",
    "    power = 2,\n",
    "    offset = initial_ghb_bheads['orange'],\n",
    "    maxvol = 0.2,\n",
    "    vol = 0.03,\n",
    "    surface = 200,\n",
    "    ks = 43.2,\n",
    "    irrigvolfrac=0.0,\n",
    "    rainfile = 'rainfall.dat',\n",
    "    epotfile = 'evapot.dat',\n",
    ")"
   ]
  },
  {
   "cell_type": "code",
   "execution_count": null,
   "metadata": {},
   "outputs": [],
   "source": [
    "lr_ghb_yellow = lr.lumprem.Model(\n",
    "    model_name = 'yellow',\n",
    "    workspace = lr_ws,\n",
    "    factor1 = 30,\n",
    "    factor2 = 20,\n",
    "    power = 2,\n",
    "    offset = initial_ghb_bheads['yellow'],\n",
    "    maxvol = 0.2,\n",
    "    vol = 0.03,\n",
    "    surface = 200,\n",
    "    ks = 43.2,\n",
    "    irrigvolfrac=0.0,\n",
    "    rainfile = 'rainfall.dat',\n",
    "    epotfile = 'evapot.dat',\n",
    ")"
   ]
  },
  {
   "cell_type": "code",
   "execution_count": null,
   "metadata": {},
   "outputs": [],
   "source": [
    "lr_ghb_limegreen = lr.lumprem.Model(\n",
    "    model_name = 'limegreen',\n",
    "    workspace = lr_ws,\n",
    "    factor1 = 30,\n",
    "    factor2 = 20,\n",
    "    power = 2,\n",
    "    offset = initial_ghb_bheads['limegreen'],\n",
    "    maxvol = 0.2,\n",
    "    vol = 0.03,\n",
    "    surface = 200,\n",
    "    ks = 43.2,\n",
    "    irrigvolfrac=0.0,\n",
    "    rainfile = 'rainfall.dat',\n",
    "    epotfile = 'evapot.dat',\n",
    ")"
   ]
  },
  {
   "cell_type": "code",
   "execution_count": null,
   "metadata": {},
   "outputs": [],
   "source": [
    "lr_ghb_royalblue = lr.lumprem.Model(\n",
    "    model_name = 'royalblue',\n",
    "    workspace = lr_ws,\n",
    "    factor1 = 30,\n",
    "    factor2 = 20,\n",
    "    power = 2,\n",
    "    offset = initial_ghb_bheads['royalblue'],\n",
    "    maxvol = 0.2,\n",
    "    vol = 0.03,\n",
    "    surface = 200,\n",
    "    ks = 43.2,\n",
    "    irrigvolfrac=0.0,\n",
    "    rainfile = 'rainfall.dat',\n",
    "    epotfile = 'evapot.dat',\n",
    ")"
   ]
  },
  {
   "cell_type": "code",
   "execution_count": null,
   "metadata": {},
   "outputs": [],
   "source": [
    "lr_ghb_blueviolet = lr.lumprem.Model(\n",
    "    model_name = 'blueviolet',\n",
    "    workspace = lr_ws,\n",
    "    factor1 = 30,\n",
    "    factor2 = 20,\n",
    "    power = 2,\n",
    "    offset = initial_ghb_bheads['blueviolet'],\n",
    "    maxvol = 0.2,\n",
    "    vol = 0.03,\n",
    "    surface = 200,\n",
    "    ks = 43.2,\n",
    "    irrigvolfrac=0.0,\n",
    "    rainfile = 'rainfall.dat',\n",
    "    epotfile = 'evapot.dat',\n",
    ")"
   ]
  },
  {
   "cell_type": "code",
   "execution_count": null,
   "metadata": {},
   "outputs": [],
   "source": [
    "lr_ghb_magenta = lr.lumprem.Model(\n",
    "    model_name = 'magenta',\n",
    "    workspace = lr_ws,\n",
    "    factor1 = 30,\n",
    "    factor2 = 20,\n",
    "    power = 2,\n",
    "    offset = initial_ghb_bheads['magenta'],\n",
    "    maxvol = 0.2,\n",
    "    vol = 0.03,\n",
    "    surface = 200,\n",
    "    ks = 43.2,\n",
    "    irrigvolfrac=0.0,\n",
    "    rainfile = 'rainfall.dat',\n",
    "    epotfile = 'evapot.dat',\n",
    ")"
   ]
  },
  {
   "cell_type": "code",
   "execution_count": null,
   "metadata": {},
   "outputs": [],
   "source": [
    "ghb_models = [lr_ghb_red, lr_ghb_orange, lr_ghb_yellow, lr_ghb_limegreen, lr_ghb_royalblue, lr_ghb_blueviolet, lr_ghb_magenta]\n",
    "for model in ghb_models:\n",
    "    model.write_model(\n",
    "        start_date = '01/01/2016',\n",
    "        end_date = '01/01/2020',\n",
    "        noutdays='monthly',\n",
    "        mxiter = 500,\n",
    "    )\n",
    "    model.run_model(version=2)"
   ]
  },
  {
   "cell_type": "code",
   "execution_count": null,
   "metadata": {},
   "outputs": [],
   "source": [
    "lr_ghb_red_df = lr_ghb_red.get_results()"
   ]
  },
  {
   "cell_type": "code",
   "execution_count": null,
   "metadata": {},
   "outputs": [],
   "source": [
    "# plot the model results\n",
    "import seaborn as sb\n",
    "sb.lineplot(data=lr_ghb_red_df, x='days',y='elevation', hue='lumprem_model_name', alpha=0.5);"
   ]
  },
  {
   "cell_type": "markdown",
   "metadata": {},
   "source": [
    "# load the simulation"
   ]
  },
  {
   "cell_type": "code",
   "execution_count": null,
   "metadata": {},
   "outputs": [],
   "source": [
    "org_model_ws = os.path.join('..', 'base_model_files')\n",
    "os.listdir(org_model_ws)"
   ]
  },
  {
   "cell_type": "code",
   "execution_count": null,
   "metadata": {},
   "outputs": [],
   "source": [
    "tmp_model_ws = os.path.join('..', 'temp_flopy_lumprem') # Safe to delete\n",
    "if os.path.exists(tmp_model_ws):\n",
    "    shutil.rmtree(tmp_model_ws)\n",
    "shutil.copytree(org_model_ws,tmp_model_ws)\n",
    "os.listdir(tmp_model_ws)"
   ]
  },
  {
   "cell_type": "code",
   "execution_count": null,
   "metadata": {},
   "outputs": [],
   "source": [
    "ml_name = 'hagfors_1'"
   ]
  },
  {
   "cell_type": "code",
   "execution_count": null,
   "metadata": {},
   "outputs": [],
   "source": [
    "sim = flopy.mf6.MFSimulation.load(ml_name, 'mf6', os.path.join(bins_pth, 'mf6'), tmp_model_ws)"
   ]
  },
  {
   "cell_type": "code",
   "execution_count": null,
   "metadata": {},
   "outputs": [],
   "source": [
    "sim.run_simulation()"
   ]
  },
  {
   "cell_type": "code",
   "execution_count": null,
   "metadata": {},
   "outputs": [],
   "source": [
    "gwf = sim.get_model(ml_name)"
   ]
  },
  {
   "cell_type": "code",
   "execution_count": null,
   "metadata": {},
   "outputs": [],
   "source": [
    "disv = gwf.get_package('disv')\n",
    "rch = gwf.get_package('rch')\n",
    "ghb = gwf.get_package('ghb')"
   ]
  },
  {
   "cell_type": "markdown",
   "metadata": {},
   "source": [
    "## Prepare recharge (RCH) timeseries input"
   ]
  },
  {
   "cell_type": "code",
   "execution_count": null,
   "metadata": {},
   "outputs": [],
   "source": [
    "rch_ts = lr.lr2series.TimeSeries(\n",
    "    ts_file='rch.ts',\n",
    "    workspace=lr_ws,\n",
    "    lr_models=[lr_lu1],\n",
    "    ts_names=['rch'],\n",
    "    lumprem_output_cols=['net_recharge'],\n",
    "    methods=['linearend'],\n",
    "    div_delta_t=True\n",
    ")\n"
   ]
  },
  {
   "cell_type": "code",
   "execution_count": null,
   "metadata": {},
   "outputs": [],
   "source": [
    "rch_ts.write_ts()"
   ]
  },
  {
   "cell_type": "markdown",
   "metadata": {},
   "source": [
    "Select non-ghb cells (cells can't both be rch and ghb):"
   ]
  },
  {
   "cell_type": "code",
   "execution_count": null,
   "metadata": {},
   "outputs": [],
   "source": [
    "#ghb_cell_ids cells in ghb cant be part of rch (will cause fortran error)\n",
    "ghb_cell_ids = [i[0][1] for i in ghb.stress_period_data.data[0]]"
   ]
  },
  {
   "cell_type": "markdown",
   "metadata": {},
   "source": [
    "Create rch TS for all non-ghb cells:"
   ]
  },
  {
   "cell_type": "code",
   "execution_count": null,
   "metadata": {},
   "outputs": [],
   "source": [
    "rchcells = np.array(list(range(disv.ncpl.data)), dtype=int)\n",
    "rchcells[ghb_cell_ids] = -1\n",
    "rch_spd = [\n",
    "    ((0, rchcells[i]), 'rch_lu1', 1, 'rch') for i in range(disv.ncpl.data) if rchcells[i] > 0\n",
    "]\n",
    "rch_spd = {0: rch_spd, 1: rch_spd}"
   ]
  },
  {
   "cell_type": "markdown",
   "metadata": {},
   "source": [
    "Display the data-structure of the old recharge package:"
   ]
  },
  {
   "cell_type": "code",
   "execution_count": null,
   "metadata": {},
   "outputs": [],
   "source": [
    "rch.stress_period_data.data"
   ]
  },
  {
   "cell_type": "markdown",
   "metadata": {},
   "source": [
    "Let's take a more detailed look at one of the stress periods:"
   ]
  },
  {
   "cell_type": "code",
   "execution_count": null,
   "metadata": {},
   "outputs": [],
   "source": [
    "rch.stress_period_data.data[0][:10]\n",
    "# Current data structure is cellid, recharge"
   ]
  },
  {
   "cell_type": "markdown",
   "metadata": {},
   "source": [
    "Remove old recharge package:"
   ]
  },
  {
   "cell_type": "code",
   "execution_count": null,
   "metadata": {},
   "outputs": [],
   "source": [
    "gwf.remove_package('rch')"
   ]
  },
  {
   "cell_type": "markdown",
   "metadata": {},
   "source": [
    "Instantiate new recharge package:"
   ]
  },
  {
   "cell_type": "code",
   "execution_count": null,
   "metadata": {},
   "outputs": [],
   "source": [
    "rch = flopy.mf6.ModflowGwfrch(\n",
    "    gwf,\n",
    "    filename='{}.rch'.format(ml_name), \n",
    "    pname='rch',\n",
    "    fixed_cell=True,\n",
    "    auxiliary='MULTIPLIER',\n",
    "    auxmultname='MULTIPLIER',\n",
    "    print_input=True,\n",
    "    print_flows=True, \n",
    "    save_flows=True,\n",
    "    boundnames=True,\n",
    "    stress_period_data=rch_spd\n",
    ")"
   ]
  },
  {
   "cell_type": "markdown",
   "metadata": {},
   "source": [
    "Display the data-structure of the **new** recharge package, using TS-file and multiplier:"
   ]
  },
  {
   "cell_type": "code",
   "execution_count": null,
   "metadata": {},
   "outputs": [],
   "source": [
    "rch.stress_period_data.data[0][:10]\n",
    "# Current data structure is cellid, recharge"
   ]
  },
  {
   "cell_type": "markdown",
   "metadata": {},
   "source": [
    "Initialize TS-file:"
   ]
  },
  {
   "cell_type": "code",
   "execution_count": null,
   "metadata": {},
   "outputs": [],
   "source": [
    "# Initialize ts-file\n",
    "rch.ts.initialize(filename='rch.ts')"
   ]
  },
  {
   "cell_type": "markdown",
   "metadata": {},
   "source": [
    "## Prepare general head boundary (GHB) timeseries input"
   ]
  },
  {
   "cell_type": "markdown",
   "metadata": {},
   "source": [
    "Extend lumpyrem TimeSeries class (ugly hack but gets the job done):"
   ]
  },
  {
   "cell_type": "code",
   "execution_count": null,
   "metadata": {},
   "outputs": [],
   "source": [
    "class GHB_TS(TimeSeries):\n",
    "    def write_ts(self):\n",
    "        \"\"\"Writes the MODFLOW6 timeseries file.\n",
    "\n",
    "        Parameters\n",
    "        ----------\n",
    "        \"\"\"\n",
    "        #number of columns to include in the ts file\n",
    "        count = len(self.ts_names)\n",
    "        ts_file = os.path.join(self.workspace, self.ts_file+'.in')\n",
    "\n",
    "        with open(ts_file, 'w') as f:\n",
    "            for model in self.lr_models:\n",
    "                model_name = model.lumprem_model_name\n",
    "                f.write('READ_LUMPREM_OUTPUT_FILE lr_'+model_name+'.out '+str(count)+'\\n')\n",
    "                f.write('#  my_name     LUMPREM_name      divide_by_delta_t?\\n\\n')\n",
    "\n",
    "                for col in range(count):\n",
    "                    f.write(\"\\t{0}\\t\\t{1}\\t\\t{2}\".format('ghb_'+model_name, self.lumprem_output_cols[col],self.div_delta[col]+'\\n'))\n",
    "                f.write('\\n\\n')\n",
    "\n",
    "            f.write('WRITE_MF6_TIME_SERIES_FILE '+self.ts_file+' '+str(count*len(self.lr_models))+' '+str(self.timeoffset)+'\\n')\n",
    "            f.write(\"#\\t{0}\\t\\t{1}\\t\\t{2}\\t\\t{3}\\t\\t{4}\".format('ts_name','scale','offset','mf6method','time_offset_method\\n\\n'))\n",
    "            for model in self.lr_models:\n",
    "                model_name = model.lumprem_model_name\n",
    "                for col in range(count):\n",
    "                        f.write(\"\\t{0}\\t\\t{1}\\t\\t{2}\\t\\t{3}\\t{4}\\t{5}\".format('ghb_'+model_name, self.scales[col],self.offsets[col],self.methods[col], self.time_offset_method[col], '#'+model_name+'\\n'))\n",
    "\n",
    "        f.close()\n",
    "        print('MF6 timeseries file '+ts_file+' written to:\\n'+ts_file)\n",
    "        \n",
    "        #write ts file\n",
    "        filename = self.ts_file\n",
    "        path = self.workspace\n",
    "        run.run_process('lr2series', commands=[filename+'.in'],path=path)"
   ]
  },
  {
   "cell_type": "markdown",
   "metadata": {},
   "source": [
    "Write TS-file:"
   ]
  },
  {
   "cell_type": "code",
   "execution_count": null,
   "metadata": {},
   "outputs": [],
   "source": [
    "ghb_ts = GHB_TS(\n",
    "    ts_file='ghb.ts',\n",
    "    workspace=lr_ws,\n",
    "    lr_models=ghb_models,\n",
    "    ts_names=['ghb'],\n",
    "    lumprem_output_cols=['elevation'],\n",
    "    methods=['linear'],\n",
    "    div_delta_t=False\n",
    ")\n"
   ]
  },
  {
   "cell_type": "code",
   "execution_count": null,
   "metadata": {},
   "outputs": [],
   "source": [
    "ghb_ts.write_ts()"
   ]
  },
  {
   "cell_type": "markdown",
   "metadata": {},
   "source": [
    "Make elevation/bhead a multiplier of the TS-data...?????!?!?!?!?"
   ]
  },
  {
   "cell_type": "markdown",
   "metadata": {},
   "source": [
    "Display the data-structure of the old GHB package:"
   ]
  },
  {
   "cell_type": "code",
   "execution_count": null,
   "metadata": {},
   "outputs": [],
   "source": [
    "# Current data structure is cellid, bhead, cond, boundname\n",
    "ghb.stress_period_data.data"
   ]
  },
  {
   "cell_type": "markdown",
   "metadata": {},
   "source": [
    "Construct new GHB stress period data:"
   ]
  },
  {
   "cell_type": "code",
   "execution_count": null,
   "metadata": {},
   "outputs": [],
   "source": [
    "bhead = ['ghb_'+i for i in ghb.stress_period_data.data[0].boundname]\n",
    "cond = [86.4 for i in ghb.stress_period_data.data[0].boundname]\n",
    "bname = [i for i in ghb.stress_period_data.data[0].boundname]"
   ]
  },
  {
   "cell_type": "code",
   "execution_count": null,
   "metadata": {},
   "outputs": [],
   "source": [
    "# Kanske behöver vara tuple\n",
    "ghb_new_data = [[(0, cell_id), bhead, cond, bname] for cell_id, bhead, cond, bname in zip(ghb_cell_ids, bhead, cond, bname)]"
   ]
  },
  {
   "cell_type": "code",
   "execution_count": null,
   "metadata": {},
   "outputs": [],
   "source": [
    "ghb_new_spd = {0: ghb_new_data}"
   ]
  },
  {
   "cell_type": "code",
   "execution_count": null,
   "metadata": {},
   "outputs": [],
   "source": [
    "ghb_new_spd"
   ]
  },
  {
   "cell_type": "markdown",
   "metadata": {},
   "source": [
    "Remove old GHB package:"
   ]
  },
  {
   "cell_type": "code",
   "execution_count": null,
   "metadata": {},
   "outputs": [],
   "source": [
    "gwf.remove_package('ghb')"
   ]
  },
  {
   "cell_type": "markdown",
   "metadata": {},
   "source": [
    "Instantiate new GHB package:"
   ]
  },
  {
   "cell_type": "code",
   "execution_count": null,
   "metadata": {},
   "outputs": [],
   "source": [
    "ghb = flopy.mf6.modflow.mfgwfghb.ModflowGwfghb(\n",
    "    gwf,\n",
    "    print_input=True,\n",
    "    print_flows=True,\n",
    "    save_flows=True,\n",
    "    boundnames=True, \n",
    "    pname='ghb',\n",
    "    stress_period_data=ghb_new_spd\n",
    ")"
   ]
  },
  {
   "cell_type": "markdown",
   "metadata": {},
   "source": [
    "Display the new data structure:"
   ]
  },
  {
   "cell_type": "code",
   "execution_count": null,
   "metadata": {},
   "outputs": [],
   "source": [
    "ghb.stress_period_data.data"
   ]
  },
  {
   "cell_type": "code",
   "execution_count": null,
   "metadata": {},
   "outputs": [],
   "source": [
    "# Initialize ts-file\n",
    "ghb.ts.initialize(filename='ghb.ts')"
   ]
  },
  {
   "cell_type": "markdown",
   "metadata": {},
   "source": [
    "Write simulation files:"
   ]
  },
  {
   "cell_type": "code",
   "execution_count": null,
   "metadata": {},
   "outputs": [],
   "source": [
    "sim.write_simulation()"
   ]
  },
  {
   "cell_type": "markdown",
   "metadata": {},
   "source": [
    "Move TS files:"
   ]
  },
  {
   "cell_type": "code",
   "execution_count": null,
   "metadata": {},
   "outputs": [],
   "source": [
    "ts_files = ['rch.ts', 'ghb.ts']\n",
    "for file in ts_files:\n",
    "    lumprem_ts = os.path.join(lr_ws, file)\n",
    "    flopy_ts = os.path.join(tmp_model_ws, file)\n",
    "    shutil.move(lumprem_ts, flopy_ts)"
   ]
  },
  {
   "cell_type": "markdown",
   "metadata": {},
   "source": [
    "Move template files:"
   ]
  },
  {
   "cell_type": "code",
   "execution_count": null,
   "metadata": {},
   "outputs": [],
   "source": [
    "template_files = [i for i in os.listdir(lr_ws) if '.tpl' in i]"
   ]
  },
  {
   "cell_type": "code",
   "execution_count": null,
   "metadata": {},
   "outputs": [],
   "source": [
    "for file in template_files:\n",
    "    lumprem_template = os.path.join(lr_ws, file)\n",
    "    flopy_template = os.path.join(tmp_model_ws, file)\n",
    "    shutil.move(lumprem_template, flopy_template)"
   ]
  },
  {
   "cell_type": "code",
   "execution_count": null,
   "metadata": {},
   "outputs": [],
   "source": [
    "sim.run_simulation()"
   ]
  },
  {
   "cell_type": "code",
   "execution_count": null,
   "metadata": {},
   "outputs": [],
   "source": []
  },
  {
   "cell_type": "code",
   "execution_count": null,
   "metadata": {},
   "outputs": [],
   "source": [
    "# check the output\n",
    "csv = os.path.join(tmp_model_ws,'head.obs.csv')\n",
    "df = pd.read_csv(csv)"
   ]
  },
  {
   "cell_type": "code",
   "execution_count": null,
   "metadata": {},
   "outputs": [],
   "source": [
    "df.columns"
   ]
  },
  {
   "cell_type": "code",
   "execution_count": null,
   "metadata": {},
   "outputs": [],
   "source": [
    "df['B10-2'].plot()"
   ]
  },
  {
   "cell_type": "code",
   "execution_count": null,
   "metadata": {},
   "outputs": [],
   "source": [
    "headfile = '{}.hds'.format(ml_name)\n",
    "fname = os.path.join(tmp_model_ws, headfile)\n",
    "hds = flopy.utils.binaryfile.HeadFile(fname)\n",
    "h = hds.get_data()"
   ]
  },
  {
   "cell_type": "code",
   "execution_count": null,
   "metadata": {},
   "outputs": [],
   "source": [
    "fig = plt.figure(figsize=(18, 5))\n",
    "ax = fig.add_subplot(1, 1, 1)\n",
    "ax.set_title(\"Cross section plot\")\n",
    "\n",
    "xsection = np.array([(427000, 6654690), (427540, 6655230)])\n",
    "xsect = flopy.plot.PlotCrossSection(model=gwf, line={\"line\": xsection})\n",
    "patch_collection = xsect.plot_array(h, head=h, alpha=0.5)\n",
    "line_collection = xsect.plot_grid()\n",
    "cb = plt.colorbar(patch_collection, shrink=0.75)"
   ]
  },
  {
   "cell_type": "code",
   "execution_count": null,
   "metadata": {},
   "outputs": [],
   "source": [
    "fig = plt.figure(figsize=(8,4), dpi=100)\n",
    "\n",
    "axs = fig.subplot_mosaic([['Left', 'TopRight'],['Left', 'BottomRight']],\n",
    "                          gridspec_kw={'width_ratios':[2, 1]})\n",
    "\n",
    "axs['Left'].set_title('Layer 1')\n",
    "axs['TopRight'].set_title('Layer 2')\n",
    "axs['BottomRight'].set_title('Layer 3')\n",
    "\n",
    "for index, ax in enumerate(axs):\n",
    "    modelmap = flopy.plot.PlotMapView(model=gwf, ax=axs[ax])\n",
    "    linecollection = modelmap.plot_grid(lw=0.25)\n",
    "    contours = modelmap.contour_array(h[index])\n",
    "    \n",
    "plt.tight_layout()\n",
    "plt.show()"
   ]
  },
  {
   "cell_type": "code",
   "execution_count": null,
   "metadata": {},
   "outputs": [],
   "source": [
    "#Check the budget\n",
    "mf_list = flopy.utils.Mf6ListBudget(os.path.join(tmp_model_ws, f\"{gwf.name}.lst\"), timeunit='days') #MF6ListBudget is different from MfListBudget...*sigh*\n",
    "incremental, cumulative = mf_list.get_budget()\n",
    "incrementaldf, cumulativedf = mf_list.get_dataframes(start_datetime=\"01-09-2017\")\n",
    "\n",
    "incrementaldf"
   ]
  },
  {
   "cell_type": "markdown",
   "metadata": {},
   "source": [
    "Delete LR to start over:"
   ]
  },
  {
   "cell_type": "code",
   "execution_count": null,
   "metadata": {},
   "outputs": [],
   "source": [
    "shutil.rmtree(lr_ws)"
   ]
  },
  {
   "cell_type": "code",
   "execution_count": null,
   "metadata": {},
   "outputs": [],
   "source": []
  }
 ],
 "metadata": {
  "kernelspec": {
   "display_name": "Python 3",
   "language": "python",
   "name": "python3"
  },
  "language_info": {
   "codemirror_mode": {
    "name": "ipython",
    "version": 3
   },
   "file_extension": ".py",
   "mimetype": "text/x-python",
   "name": "python",
   "nbconvert_exporter": "python",
   "pygments_lexer": "ipython3",
   "version": "3.8.6"
  }
 },
 "nbformat": 4,
 "nbformat_minor": 4
}
