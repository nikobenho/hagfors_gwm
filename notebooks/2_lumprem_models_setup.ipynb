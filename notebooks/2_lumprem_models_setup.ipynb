{
 "cells": [
  {
   "cell_type": "code",
   "execution_count": 1,
   "metadata": {},
   "outputs": [],
   "source": [
    "import os\n",
    "import shutil\n",
    "import numpy as np\n",
    "import pandas as pd\n",
    "import flopy\n",
    "import lumpyrem as lr\n",
    "from lumpyrem import run\n",
    "from lumpyrem.lr2series import TimeSeries\n",
    "import matplotlib.pyplot as plt"
   ]
  },
  {
   "cell_type": "code",
   "execution_count": 2,
   "metadata": {},
   "outputs": [
    {
     "name": "stderr",
     "output_type": "stream",
     "text": [
      "c:\\users\\nat12nho\\appdata\\local\\programs\\python\\python38\\lib\\site-packages\\ipykernel\\ipkernel.py:287: DeprecationWarning: `should_run_async` will not call `transform_cell` automatically in the future. Please pass the result to `transformed_cell` argument and any exception that happen during thetransform in `preprocessing_exc_tuple` in IPython 7.17 and above.\n",
      "  and should_run_async(code)\n"
     ]
    }
   ],
   "source": [
    "import warnings\n",
    "warnings.filterwarnings(\"ignore\", category=DeprecationWarning)"
   ]
  },
  {
   "cell_type": "code",
   "execution_count": 3,
   "metadata": {},
   "outputs": [],
   "source": [
    "bins_pth = os.path.join('..', 'bins', 'win') if 'nt' in os.name else os.path.join('..', 'bins', 'linux') # Binaries"
   ]
  },
  {
   "cell_type": "code",
   "execution_count": 4,
   "metadata": {},
   "outputs": [],
   "source": [
    "lr_ws = os.path.join('..', 'temp_lr_prep') # Lumprem model workspace.  Safe to delete."
   ]
  },
  {
   "cell_type": "code",
   "execution_count": 5,
   "metadata": {},
   "outputs": [
    {
     "data": {
      "text/plain": [
       "['evapot.dat', 'rainfall.dat']"
      ]
     },
     "execution_count": 5,
     "metadata": {},
     "output_type": "execute_result"
    }
   ],
   "source": [
    "lumprem_input_pth = os.path.join('..', 'data', 'lumprem_input') # Input data curated in a previous notebook\n",
    "os.listdir(lumprem_input_pth)"
   ]
  },
  {
   "cell_type": "code",
   "execution_count": 6,
   "metadata": {},
   "outputs": [],
   "source": [
    "if not os.path.exists(lr_ws):\n",
    "    os.mkdir(lr_ws)"
   ]
  },
  {
   "cell_type": "code",
   "execution_count": 7,
   "metadata": {},
   "outputs": [],
   "source": [
    "for file in os.listdir(lumprem_input_pth):\n",
    "    shutil.copyfile(lumprem_input_pth+'\\\\'+file, lr_ws+'\\\\'+file) #Works for Windows. Does it work for Linux?"
   ]
  },
  {
   "cell_type": "code",
   "execution_count": 8,
   "metadata": {},
   "outputs": [
    {
     "data": {
      "text/plain": [
       "['evapot.dat', 'rainfall.dat']"
      ]
     },
     "execution_count": 8,
     "metadata": {},
     "output_type": "execute_result"
    }
   ],
   "source": [
    "os.listdir(lr_ws)"
   ]
  },
  {
   "cell_type": "markdown",
   "metadata": {},
   "source": [
    "## Setup recharge model\n",
    "What about EVT?"
   ]
  },
  {
   "cell_type": "code",
   "execution_count": 9,
   "metadata": {},
   "outputs": [],
   "source": [
    "# initiate the model and write the in files. What about rbuf & mbuf?\n",
    "# landuse model for recharge, evap\n",
    "lr_lu1 = lr.lumprem.Model(\n",
    "    model_name = 'lu1',\n",
    "    workspace = lr_ws,\n",
    "    irrigvolfrac = 0.0,\n",
    "    rainfile = 'rainfall.dat',\n",
    "    epotfile = 'evapot.dat',\n",
    "    maxvol = 0.2, # Varför valde jag 0.2 istället för 0.5 som är default?\n",
    "    vol = 0.1,\n",
    "    ks = 43.2 # 43.2 m/day = 0.0005 m/s ≈ reasonable initial guess considering local geology\n",
    ")"
   ]
  },
  {
   "cell_type": "code",
   "execution_count": 10,
   "metadata": {},
   "outputs": [
    {
     "name": "stdout",
     "output_type": "stream",
     "text": [
      "LUMPREM model input file written to: \n",
      "..\\temp_lr_prep\\lr_lu1.in\n",
      "PEST template file written to: \n",
      "..\\temp_lr_prep\\lr_lu1.tpl\n",
      "\n",
      " Enter name of LUMPREM input file:  Enter name for LUMPREM tabular output file:  Enter name for CSV output file (<Enter> if none):  \n",
      " - file lr_lu1.in read ok.\n",
      " - file lumprem_variables.rec written ok.\n",
      " - file rainfall.dat read ok.\n",
      " - file evapot.dat read ok.\n",
      " RECHMOD upper bucket: call   1 day   1 step   1: iteration limit exceeded\n",
      " RECHMOD upper bucket: call   1 day   2 step   1: iteration limit exceeded\n",
      " RECHMOD upper bucket: call   1 day   3 step   1: iteration limit exceeded\n",
      " RECHMOD upper bucket: call   1 day   4 step   1: iteration limit exceeded\n",
      " RECHMOD upper bucket: call   1 day   5 step   1: iteration limit exceeded\n",
      " RECHMOD upper bucket: call   1 day   6 step   1: iteration limit exceeded\n",
      " RECHMOD upper bucket: call   7 day  14 step   1: iteration limit exceeded\n",
      " RECHMOD upper bucket: call   7 day  15 step   1: iteration limit exceeded\n",
      " RECHMOD upper bucket: call   7 day  16 step   1: iteration limit exceeded\n",
      " RECHMOD upper bucket: call   7 day  17 step   1: iteration limit exceeded\n",
      " RECHMOD upper bucket: call  30 day  18 step   1: iteration limit exceeded\n",
      " - file lr_lu1.out written ok.\n",
      " - file lr_lu1.csv written ok.\n",
      "\n"
     ]
    }
   ],
   "source": [
    "lr_lu1.write_model(\n",
    "    start_date = '01/01/2016',\n",
    "    end_date = '01/01/2020',\n",
    "    noutdays='monthly',\n",
    "    mxiter = 500,\n",
    ")\n",
    "lr_lu1.run_model(version=2)"
   ]
  },
  {
   "cell_type": "code",
   "execution_count": 11,
   "metadata": {},
   "outputs": [
    {
     "data": {
      "text/html": [
       "<div>\n",
       "<style scoped>\n",
       "    .dataframe tbody tr th:only-of-type {\n",
       "        vertical-align: middle;\n",
       "    }\n",
       "\n",
       "    .dataframe tbody tr th {\n",
       "        vertical-align: top;\n",
       "    }\n",
       "\n",
       "    .dataframe thead th {\n",
       "        text-align: right;\n",
       "    }\n",
       "</style>\n",
       "<table border=\"1\" class=\"dataframe\">\n",
       "  <thead>\n",
       "    <tr style=\"text-align: right;\">\n",
       "      <th></th>\n",
       "      <th>days</th>\n",
       "      <th>vol_upper</th>\n",
       "      <th>vol_lower</th>\n",
       "      <th>vol_drain</th>\n",
       "      <th>vol_macro</th>\n",
       "      <th>del_vol_upper</th>\n",
       "      <th>del_vol_lower</th>\n",
       "      <th>del_vol_drain</th>\n",
       "      <th>del_vol_macro</th>\n",
       "      <th>rainfall</th>\n",
       "      <th>...</th>\n",
       "      <th>workspace</th>\n",
       "      <th>maxvol_br</th>\n",
       "      <th>extravol_br</th>\n",
       "      <th>gamma_br</th>\n",
       "      <th>ks_br</th>\n",
       "      <th>m_br</th>\n",
       "      <th>l_br</th>\n",
       "      <th>vol_br</th>\n",
       "      <th>epotfile_br</th>\n",
       "      <th>epot_br_all</th>\n",
       "    </tr>\n",
       "  </thead>\n",
       "  <tbody>\n",
       "    <tr>\n",
       "      <th>0</th>\n",
       "      <td>0</td>\n",
       "      <td>0.100000</td>\n",
       "      <td>0.0</td>\n",
       "      <td>0.000000</td>\n",
       "      <td>0.0</td>\n",
       "      <td>0.000000</td>\n",
       "      <td>0.0</td>\n",
       "      <td>0.000000</td>\n",
       "      <td>0.0</td>\n",
       "      <td>0.0000</td>\n",
       "      <td>...</td>\n",
       "      <td>..\\temp_lr_prep</td>\n",
       "      <td>NaN</td>\n",
       "      <td>NaN</td>\n",
       "      <td>NaN</td>\n",
       "      <td>NaN</td>\n",
       "      <td>NaN</td>\n",
       "      <td>NaN</td>\n",
       "      <td>NaN</td>\n",
       "      <td>NaN</td>\n",
       "      <td>NaN</td>\n",
       "    </tr>\n",
       "    <tr>\n",
       "      <th>1</th>\n",
       "      <td>31</td>\n",
       "      <td>0.029620</td>\n",
       "      <td>0.0</td>\n",
       "      <td>0.012521</td>\n",
       "      <td>0.0</td>\n",
       "      <td>-0.070380</td>\n",
       "      <td>0.0</td>\n",
       "      <td>0.012521</td>\n",
       "      <td>0.0</td>\n",
       "      <td>0.0367</td>\n",
       "      <td>...</td>\n",
       "      <td>..\\temp_lr_prep</td>\n",
       "      <td>NaN</td>\n",
       "      <td>NaN</td>\n",
       "      <td>NaN</td>\n",
       "      <td>NaN</td>\n",
       "      <td>NaN</td>\n",
       "      <td>NaN</td>\n",
       "      <td>NaN</td>\n",
       "      <td>NaN</td>\n",
       "      <td>NaN</td>\n",
       "    </tr>\n",
       "    <tr>\n",
       "      <th>2</th>\n",
       "      <td>60</td>\n",
       "      <td>0.020521</td>\n",
       "      <td>0.0</td>\n",
       "      <td>0.002498</td>\n",
       "      <td>0.0</td>\n",
       "      <td>-0.009098</td>\n",
       "      <td>0.0</td>\n",
       "      <td>-0.010023</td>\n",
       "      <td>0.0</td>\n",
       "      <td>0.0285</td>\n",
       "      <td>...</td>\n",
       "      <td>..\\temp_lr_prep</td>\n",
       "      <td>NaN</td>\n",
       "      <td>NaN</td>\n",
       "      <td>NaN</td>\n",
       "      <td>NaN</td>\n",
       "      <td>NaN</td>\n",
       "      <td>NaN</td>\n",
       "      <td>NaN</td>\n",
       "      <td>NaN</td>\n",
       "      <td>NaN</td>\n",
       "    </tr>\n",
       "    <tr>\n",
       "      <th>3</th>\n",
       "      <td>91</td>\n",
       "      <td>0.029373</td>\n",
       "      <td>0.0</td>\n",
       "      <td>0.005160</td>\n",
       "      <td>0.0</td>\n",
       "      <td>0.008852</td>\n",
       "      <td>0.0</td>\n",
       "      <td>0.002663</td>\n",
       "      <td>0.0</td>\n",
       "      <td>0.0354</td>\n",
       "      <td>...</td>\n",
       "      <td>..\\temp_lr_prep</td>\n",
       "      <td>NaN</td>\n",
       "      <td>NaN</td>\n",
       "      <td>NaN</td>\n",
       "      <td>NaN</td>\n",
       "      <td>NaN</td>\n",
       "      <td>NaN</td>\n",
       "      <td>NaN</td>\n",
       "      <td>NaN</td>\n",
       "      <td>NaN</td>\n",
       "    </tr>\n",
       "    <tr>\n",
       "      <th>4</th>\n",
       "      <td>121</td>\n",
       "      <td>0.032995</td>\n",
       "      <td>0.0</td>\n",
       "      <td>0.012032</td>\n",
       "      <td>0.0</td>\n",
       "      <td>0.003622</td>\n",
       "      <td>0.0</td>\n",
       "      <td>0.006871</td>\n",
       "      <td>0.0</td>\n",
       "      <td>0.0651</td>\n",
       "      <td>...</td>\n",
       "      <td>..\\temp_lr_prep</td>\n",
       "      <td>NaN</td>\n",
       "      <td>NaN</td>\n",
       "      <td>NaN</td>\n",
       "      <td>NaN</td>\n",
       "      <td>NaN</td>\n",
       "      <td>NaN</td>\n",
       "      <td>NaN</td>\n",
       "      <td>NaN</td>\n",
       "      <td>NaN</td>\n",
       "    </tr>\n",
       "  </tbody>\n",
       "</table>\n",
       "<p>5 rows × 58 columns</p>\n",
       "</div>"
      ],
      "text/plain": [
       "   days  vol_upper  vol_lower  vol_drain  vol_macro  del_vol_upper  \\\n",
       "0     0   0.100000        0.0   0.000000        0.0       0.000000   \n",
       "1    31   0.029620        0.0   0.012521        0.0      -0.070380   \n",
       "2    60   0.020521        0.0   0.002498        0.0      -0.009098   \n",
       "3    91   0.029373        0.0   0.005160        0.0       0.008852   \n",
       "4   121   0.032995        0.0   0.012032        0.0       0.003622   \n",
       "\n",
       "   del_vol_lower  del_vol_drain  del_vol_macro  rainfall  ...  \\\n",
       "0            0.0       0.000000            0.0    0.0000  ...   \n",
       "1            0.0       0.012521            0.0    0.0367  ...   \n",
       "2            0.0      -0.010023            0.0    0.0285  ...   \n",
       "3            0.0       0.002663            0.0    0.0354  ...   \n",
       "4            0.0       0.006871            0.0    0.0651  ...   \n",
       "\n",
       "         workspace  maxvol_br  extravol_br  gamma_br  ks_br  m_br  l_br  \\\n",
       "0  ..\\temp_lr_prep        NaN          NaN       NaN    NaN   NaN   NaN   \n",
       "1  ..\\temp_lr_prep        NaN          NaN       NaN    NaN   NaN   NaN   \n",
       "2  ..\\temp_lr_prep        NaN          NaN       NaN    NaN   NaN   NaN   \n",
       "3  ..\\temp_lr_prep        NaN          NaN       NaN    NaN   NaN   NaN   \n",
       "4  ..\\temp_lr_prep        NaN          NaN       NaN    NaN   NaN   NaN   \n",
       "\n",
       "   vol_br  epotfile_br  epot_br_all  \n",
       "0     NaN          NaN          NaN  \n",
       "1     NaN          NaN          NaN  \n",
       "2     NaN          NaN          NaN  \n",
       "3     NaN          NaN          NaN  \n",
       "4     NaN          NaN          NaN  \n",
       "\n",
       "[5 rows x 58 columns]"
      ]
     },
     "metadata": {},
     "output_type": "display_data"
    }
   ],
   "source": [
    "# get model results\n",
    "results = lr_lu1.get_results()\n",
    "display(results.head())"
   ]
  },
  {
   "cell_type": "code",
   "execution_count": 12,
   "metadata": {},
   "outputs": [
    {
     "data": {
      "text/html": [
       "<div>\n",
       "<style scoped>\n",
       "    .dataframe tbody tr th:only-of-type {\n",
       "        vertical-align: middle;\n",
       "    }\n",
       "\n",
       "    .dataframe tbody tr th {\n",
       "        vertical-align: top;\n",
       "    }\n",
       "\n",
       "    .dataframe thead th {\n",
       "        text-align: right;\n",
       "    }\n",
       "</style>\n",
       "<table border=\"1\" class=\"dataframe\">\n",
       "  <thead>\n",
       "    <tr style=\"text-align: right;\">\n",
       "      <th></th>\n",
       "      <th>days</th>\n",
       "      <th>vol_upper</th>\n",
       "      <th>vol_lower</th>\n",
       "      <th>vol_drain</th>\n",
       "      <th>vol_macro</th>\n",
       "      <th>del_vol_upper</th>\n",
       "      <th>del_vol_lower</th>\n",
       "      <th>del_vol_drain</th>\n",
       "      <th>del_vol_macro</th>\n",
       "      <th>rainfall</th>\n",
       "      <th>...</th>\n",
       "      <th>workspace</th>\n",
       "      <th>maxvol_br</th>\n",
       "      <th>extravol_br</th>\n",
       "      <th>gamma_br</th>\n",
       "      <th>ks_br</th>\n",
       "      <th>m_br</th>\n",
       "      <th>l_br</th>\n",
       "      <th>vol_br</th>\n",
       "      <th>epotfile_br</th>\n",
       "      <th>epot_br_all</th>\n",
       "    </tr>\n",
       "  </thead>\n",
       "  <tbody>\n",
       "    <tr>\n",
       "      <th>44</th>\n",
       "      <td>1339</td>\n",
       "      <td>0.028656</td>\n",
       "      <td>0.0</td>\n",
       "      <td>0.011535</td>\n",
       "      <td>0.0</td>\n",
       "      <td>-0.001046</td>\n",
       "      <td>0.0</td>\n",
       "      <td>0.002256</td>\n",
       "      <td>0.0</td>\n",
       "      <td>0.1049</td>\n",
       "      <td>...</td>\n",
       "      <td>..\\temp_lr_prep</td>\n",
       "      <td>NaN</td>\n",
       "      <td>NaN</td>\n",
       "      <td>NaN</td>\n",
       "      <td>NaN</td>\n",
       "      <td>NaN</td>\n",
       "      <td>NaN</td>\n",
       "      <td>NaN</td>\n",
       "      <td>NaN</td>\n",
       "      <td>NaN</td>\n",
       "    </tr>\n",
       "    <tr>\n",
       "      <th>45</th>\n",
       "      <td>1369</td>\n",
       "      <td>0.033879</td>\n",
       "      <td>0.0</td>\n",
       "      <td>0.010354</td>\n",
       "      <td>0.0</td>\n",
       "      <td>0.005223</td>\n",
       "      <td>0.0</td>\n",
       "      <td>-0.001181</td>\n",
       "      <td>0.0</td>\n",
       "      <td>0.1053</td>\n",
       "      <td>...</td>\n",
       "      <td>..\\temp_lr_prep</td>\n",
       "      <td>NaN</td>\n",
       "      <td>NaN</td>\n",
       "      <td>NaN</td>\n",
       "      <td>NaN</td>\n",
       "      <td>NaN</td>\n",
       "      <td>NaN</td>\n",
       "      <td>NaN</td>\n",
       "      <td>NaN</td>\n",
       "      <td>NaN</td>\n",
       "    </tr>\n",
       "    <tr>\n",
       "      <th>46</th>\n",
       "      <td>1400</td>\n",
       "      <td>0.022116</td>\n",
       "      <td>0.0</td>\n",
       "      <td>0.003948</td>\n",
       "      <td>0.0</td>\n",
       "      <td>-0.011763</td>\n",
       "      <td>0.0</td>\n",
       "      <td>-0.006406</td>\n",
       "      <td>0.0</td>\n",
       "      <td>0.0686</td>\n",
       "      <td>...</td>\n",
       "      <td>..\\temp_lr_prep</td>\n",
       "      <td>NaN</td>\n",
       "      <td>NaN</td>\n",
       "      <td>NaN</td>\n",
       "      <td>NaN</td>\n",
       "      <td>NaN</td>\n",
       "      <td>NaN</td>\n",
       "      <td>NaN</td>\n",
       "      <td>NaN</td>\n",
       "      <td>NaN</td>\n",
       "    </tr>\n",
       "    <tr>\n",
       "      <th>47</th>\n",
       "      <td>1430</td>\n",
       "      <td>0.030076</td>\n",
       "      <td>0.0</td>\n",
       "      <td>0.023750</td>\n",
       "      <td>0.0</td>\n",
       "      <td>0.007959</td>\n",
       "      <td>0.0</td>\n",
       "      <td>0.019802</td>\n",
       "      <td>0.0</td>\n",
       "      <td>0.0734</td>\n",
       "      <td>...</td>\n",
       "      <td>..\\temp_lr_prep</td>\n",
       "      <td>NaN</td>\n",
       "      <td>NaN</td>\n",
       "      <td>NaN</td>\n",
       "      <td>NaN</td>\n",
       "      <td>NaN</td>\n",
       "      <td>NaN</td>\n",
       "      <td>NaN</td>\n",
       "      <td>NaN</td>\n",
       "      <td>NaN</td>\n",
       "    </tr>\n",
       "    <tr>\n",
       "      <th>48</th>\n",
       "      <td>1461</td>\n",
       "      <td>0.024696</td>\n",
       "      <td>0.0</td>\n",
       "      <td>0.005877</td>\n",
       "      <td>0.0</td>\n",
       "      <td>-0.005379</td>\n",
       "      <td>0.0</td>\n",
       "      <td>-0.017873</td>\n",
       "      <td>0.0</td>\n",
       "      <td>0.0654</td>\n",
       "      <td>...</td>\n",
       "      <td>..\\temp_lr_prep</td>\n",
       "      <td>NaN</td>\n",
       "      <td>NaN</td>\n",
       "      <td>NaN</td>\n",
       "      <td>NaN</td>\n",
       "      <td>NaN</td>\n",
       "      <td>NaN</td>\n",
       "      <td>NaN</td>\n",
       "      <td>NaN</td>\n",
       "      <td>NaN</td>\n",
       "    </tr>\n",
       "  </tbody>\n",
       "</table>\n",
       "<p>5 rows × 58 columns</p>\n",
       "</div>"
      ],
      "text/plain": [
       "    days  vol_upper  vol_lower  vol_drain  vol_macro  del_vol_upper  \\\n",
       "44  1339   0.028656        0.0   0.011535        0.0      -0.001046   \n",
       "45  1369   0.033879        0.0   0.010354        0.0       0.005223   \n",
       "46  1400   0.022116        0.0   0.003948        0.0      -0.011763   \n",
       "47  1430   0.030076        0.0   0.023750        0.0       0.007959   \n",
       "48  1461   0.024696        0.0   0.005877        0.0      -0.005379   \n",
       "\n",
       "    del_vol_lower  del_vol_drain  del_vol_macro  rainfall  ...  \\\n",
       "44            0.0       0.002256            0.0    0.1049  ...   \n",
       "45            0.0      -0.001181            0.0    0.1053  ...   \n",
       "46            0.0      -0.006406            0.0    0.0686  ...   \n",
       "47            0.0       0.019802            0.0    0.0734  ...   \n",
       "48            0.0      -0.017873            0.0    0.0654  ...   \n",
       "\n",
       "          workspace  maxvol_br  extravol_br  gamma_br  ks_br  m_br  l_br  \\\n",
       "44  ..\\temp_lr_prep        NaN          NaN       NaN    NaN   NaN   NaN   \n",
       "45  ..\\temp_lr_prep        NaN          NaN       NaN    NaN   NaN   NaN   \n",
       "46  ..\\temp_lr_prep        NaN          NaN       NaN    NaN   NaN   NaN   \n",
       "47  ..\\temp_lr_prep        NaN          NaN       NaN    NaN   NaN   NaN   \n",
       "48  ..\\temp_lr_prep        NaN          NaN       NaN    NaN   NaN   NaN   \n",
       "\n",
       "    vol_br  epotfile_br  epot_br_all  \n",
       "44     NaN          NaN          NaN  \n",
       "45     NaN          NaN          NaN  \n",
       "46     NaN          NaN          NaN  \n",
       "47     NaN          NaN          NaN  \n",
       "48     NaN          NaN          NaN  \n",
       "\n",
       "[5 rows x 58 columns]"
      ]
     },
     "metadata": {},
     "output_type": "display_data"
    }
   ],
   "source": [
    "display(results.tail())"
   ]
  },
  {
   "cell_type": "code",
   "execution_count": 13,
   "metadata": {},
   "outputs": [
    {
     "data": {
      "image/png": "[encoded data removed]",
      "text/plain": [
       "<Figure size 500x300 with 1 Axes>"
      ]
     },
     "metadata": {
      "needs_background": "light"
     },
     "output_type": "display_data"
    }
   ],
   "source": [
    "fig = plt.figure(figsize=(10, 6), dpi=50)\n",
    "ax = fig.add_subplot(1, 1, 1)\n",
    "plt.ticklabel_format(axis='both', style='plain', useOffset=False) #Show coordinates\n",
    "ax.set_title('lr_lu1 model', fontsize=18)\n",
    "\n",
    "results.plot('days','net_recharge', ax=ax)\n",
    "results.plot('days', 'gw_pot_evap', ax=ax)\n",
    "\n",
    "plt.legend()\n",
    "plt.show()"
   ]
  },
  {
   "cell_type": "markdown",
   "metadata": {},
   "source": [
    "## Setup GHB models"
   ]
  },
  {
   "cell_type": "markdown",
   "metadata": {},
   "source": [
    "GHB Models:"
   ]
  },
  {
   "cell_type": "code",
   "execution_count": 14,
   "metadata": {},
   "outputs": [],
   "source": [
    "initial_ghb_bheads = {\n",
    "    'red': 142.5,\n",
    "    'orange': 142.0,\n",
    "    'yellow': 141.,\n",
    "    'limegreen': 139.5,\n",
    "    'royalblue': 135.,\n",
    "    'blueviolet': 137.5,\n",
    "    'magenta': 139.5,\n",
    "}"
   ]
  },
  {
   "cell_type": "code",
   "execution_count": 15,
   "metadata": {},
   "outputs": [],
   "source": [
    "lr_ghb_red = lr.lumprem.Model(\n",
    "    model_name = 'red',\n",
    "    workspace = lr_ws,\n",
    "    factor1 = 30,\n",
    "    factor2 = 20,\n",
    "    power = 2,\n",
    "    offset = initial_ghb_bheads['red'],\n",
    "    maxvol = 0.2,\n",
    "    vol = 0.03,\n",
    "    surface = 200,\n",
    "    ks = 43.2,\n",
    "    irrigvolfrac=0.0,\n",
    "    rainfile = 'rainfall.dat',\n",
    "    epotfile = 'evapot.dat',\n",
    ")"
   ]
  },
  {
   "cell_type": "code",
   "execution_count": 16,
   "metadata": {},
   "outputs": [],
   "source": [
    "lr_ghb_orange = lr.lumprem.Model(\n",
    "    model_name = 'orange',\n",
    "    workspace = lr_ws,\n",
    "    factor1 = 30,\n",
    "    factor2 = 20,\n",
    "    power = 2,\n",
    "    offset = initial_ghb_bheads['orange'],\n",
    "    maxvol = 0.2,\n",
    "    vol = 0.03,\n",
    "    surface = 200,\n",
    "    ks = 43.2,\n",
    "    irrigvolfrac=0.0,\n",
    "    rainfile = 'rainfall.dat',\n",
    "    epotfile = 'evapot.dat',\n",
    ")"
   ]
  },
  {
   "cell_type": "code",
   "execution_count": 17,
   "metadata": {},
   "outputs": [],
   "source": [
    "lr_ghb_yellow = lr.lumprem.Model(\n",
    "    model_name = 'yellow',\n",
    "    workspace = lr_ws,\n",
    "    factor1 = 30,\n",
    "    factor2 = 20,\n",
    "    power = 2,\n",
    "    offset = initial_ghb_bheads['yellow'],\n",
    "    maxvol = 0.2,\n",
    "    vol = 0.03,\n",
    "    surface = 200,\n",
    "    ks = 43.2,\n",
    "    irrigvolfrac=0.0,\n",
    "    rainfile = 'rainfall.dat',\n",
    "    epotfile = 'evapot.dat',\n",
    ")"
   ]
  },
  {
   "cell_type": "code",
   "execution_count": 18,
   "metadata": {},
   "outputs": [],
   "source": [
    "lr_ghb_limegreen = lr.lumprem.Model(\n",
    "    model_name = 'limegreen',\n",
    "    workspace = lr_ws,\n",
    "    factor1 = 30,\n",
    "    factor2 = 20,\n",
    "    power = 2,\n",
    "    offset = initial_ghb_bheads['limegreen'],\n",
    "    maxvol = 0.2,\n",
    "    vol = 0.03,\n",
    "    surface = 200,\n",
    "    ks = 43.2,\n",
    "    irrigvolfrac=0.0,\n",
    "    rainfile = 'rainfall.dat',\n",
    "    epotfile = 'evapot.dat',\n",
    ")"
   ]
  },
  {
   "cell_type": "code",
   "execution_count": 19,
   "metadata": {},
   "outputs": [],
   "source": [
    "lr_ghb_royalblue = lr.lumprem.Model(\n",
    "    model_name = 'royalblue',\n",
    "    workspace = lr_ws,\n",
    "    factor1 = 30,\n",
    "    factor2 = 20,\n",
    "    power = 2,\n",
    "    offset = initial_ghb_bheads['royalblue'],\n",
    "    maxvol = 0.2,\n",
    "    vol = 0.03,\n",
    "    surface = 200,\n",
    "    ks = 43.2,\n",
    "    irrigvolfrac=0.0,\n",
    "    rainfile = 'rainfall.dat',\n",
    "    epotfile = 'evapot.dat',\n",
    ")"
   ]
  },
  {
   "cell_type": "code",
   "execution_count": 20,
   "metadata": {},
   "outputs": [],
   "source": [
    "lr_ghb_blueviolet = lr.lumprem.Model(\n",
    "    model_name = 'blueviolet',\n",
    "    workspace = lr_ws,\n",
    "    factor1 = 30,\n",
    "    factor2 = 20,\n",
    "    power = 2,\n",
    "    offset = initial_ghb_bheads['blueviolet'],\n",
    "    maxvol = 0.2,\n",
    "    vol = 0.03,\n",
    "    surface = 200,\n",
    "    ks = 43.2,\n",
    "    irrigvolfrac=0.0,\n",
    "    rainfile = 'rainfall.dat',\n",
    "    epotfile = 'evapot.dat',\n",
    ")"
   ]
  },
  {
   "cell_type": "code",
   "execution_count": 21,
   "metadata": {},
   "outputs": [],
   "source": [
    "lr_ghb_magenta = lr.lumprem.Model(\n",
    "    model_name = 'magenta',\n",
    "    workspace = lr_ws,\n",
    "    factor1 = 30,\n",
    "    factor2 = 20,\n",
    "    power = 2,\n",
    "    offset = initial_ghb_bheads['magenta'],\n",
    "    maxvol = 0.2,\n",
    "    vol = 0.03,\n",
    "    surface = 200,\n",
    "    ks = 43.2,\n",
    "    irrigvolfrac=0.0,\n",
    "    rainfile = 'rainfall.dat',\n",
    "    epotfile = 'evapot.dat',\n",
    ")"
   ]
  },
  {
   "cell_type": "code",
   "execution_count": 22,
   "metadata": {},
   "outputs": [
    {
     "name": "stdout",
     "output_type": "stream",
     "text": [
      "LUMPREM model input file written to: \n",
      "..\\temp_lr_prep\\lr_red.in\n",
      "PEST template file written to: \n",
      "..\\temp_lr_prep\\lr_red.tpl\n",
      "\n",
      " Enter name of LUMPREM input file:  Enter name for LUMPREM tabular output file:  Enter name for CSV output file (<Enter> if none):  \n",
      " - file lr_red.in read ok.\n",
      " - file lumprem_variables.rec written ok.\n",
      " - file rainfall.dat read ok.\n",
      " - file evapot.dat read ok.\n",
      " RECHMOD upper bucket: call   7 day  14 step   1: iteration limit exceeded\n",
      " RECHMOD upper bucket: call   7 day  15 step   1: iteration limit exceeded\n",
      " RECHMOD upper bucket: call   7 day  16 step   1: iteration limit exceeded\n",
      " RECHMOD upper bucket: call   7 day  17 step   1: iteration limit exceeded\n",
      " RECHMOD upper bucket: call  30 day  18 step   1: iteration limit exceeded\n",
      " - file lr_red.out written ok.\n",
      " - file lr_red.csv written ok.\n",
      "\n",
      "LUMPREM model input file written to: \n",
      "..\\temp_lr_prep\\lr_orange.in\n",
      "PEST template file written to: \n",
      "..\\temp_lr_prep\\lr_orange.tpl\n",
      "\n",
      " Enter name of LUMPREM input file:  Enter name for LUMPREM tabular output file:  Enter name for CSV output file (<Enter> if none):  \n",
      " - file lr_orange.in read ok.\n",
      " - file lumprem_variables.rec written ok.\n",
      " - file rainfall.dat read ok.\n",
      " - file evapot.dat read ok.\n",
      " RECHMOD upper bucket: call   7 day  14 step   1: iteration limit exceeded\n",
      " RECHMOD upper bucket: call   7 day  15 step   1: iteration limit exceeded\n",
      " RECHMOD upper bucket: call   7 day  16 step   1: iteration limit exceeded\n",
      " RECHMOD upper bucket: call   7 day  17 step   1: iteration limit exceeded\n",
      " RECHMOD upper bucket: call  30 day  18 step   1: iteration limit exceeded\n",
      " - file lr_orange.out written ok.\n",
      " - file lr_orange.csv written ok.\n",
      "\n",
      "LUMPREM model input file written to: \n",
      "..\\temp_lr_prep\\lr_yellow.in\n",
      "PEST template file written to: \n",
      "..\\temp_lr_prep\\lr_yellow.tpl\n",
      "\n",
      " Enter name of LUMPREM input file:  Enter name for LUMPREM tabular output file:  Enter name for CSV output file (<Enter> if none):  \n",
      " - file lr_yellow.in read ok.\n",
      " - file lumprem_variables.rec written ok.\n",
      " - file rainfall.dat read ok.\n",
      " - file evapot.dat read ok.\n",
      " RECHMOD upper bucket: call   7 day  14 step   1: iteration limit exceeded\n",
      " RECHMOD upper bucket: call   7 day  15 step   1: iteration limit exceeded\n",
      " RECHMOD upper bucket: call   7 day  16 step   1: iteration limit exceeded\n",
      " RECHMOD upper bucket: call   7 day  17 step   1: iteration limit exceeded\n",
      " RECHMOD upper bucket: call  30 day  18 step   1: iteration limit exceeded\n",
      " - file lr_yellow.out written ok.\n",
      " - file lr_yellow.csv written ok.\n",
      "\n",
      "LUMPREM model input file written to: \n",
      "..\\temp_lr_prep\\lr_limegreen.in\n",
      "PEST template file written to: \n",
      "..\\temp_lr_prep\\lr_limegreen.tpl\n",
      "\n",
      " Enter name of LUMPREM input file:  Enter name for LUMPREM tabular output file:  Enter name for CSV output file (<Enter> if none):  \n",
      " - file lr_limegreen.in read ok.\n",
      " - file lumprem_variables.rec written ok.\n",
      " - file rainfall.dat read ok.\n",
      " - file evapot.dat read ok.\n",
      " RECHMOD upper bucket: call   7 day  14 step   1: iteration limit exceeded\n",
      " RECHMOD upper bucket: call   7 day  15 step   1: iteration limit exceeded\n",
      " RECHMOD upper bucket: call   7 day  16 step   1: iteration limit exceeded\n",
      " RECHMOD upper bucket: call   7 day  17 step   1: iteration limit exceeded\n",
      " RECHMOD upper bucket: call  30 day  18 step   1: iteration limit exceeded\n",
      " - file lr_limegreen.out written ok.\n",
      " - file lr_limegreen.csv written ok.\n",
      "\n",
      "LUMPREM model input file written to: \n",
      "..\\temp_lr_prep\\lr_royalblue.in\n",
      "PEST template file written to: \n",
      "..\\temp_lr_prep\\lr_royalblue.tpl\n",
      "\n",
      " Enter name of LUMPREM input file:  Enter name for LUMPREM tabular output file:  Enter name for CSV output file (<Enter> if none):  \n",
      " - file lr_royalblue.in read ok.\n",
      " - file lumprem_variables.rec written ok.\n",
      " - file rainfall.dat read ok.\n",
      " - file evapot.dat read ok.\n",
      " RECHMOD upper bucket: call   7 day  14 step   1: iteration limit exceeded\n",
      " RECHMOD upper bucket: call   7 day  15 step   1: iteration limit exceeded\n",
      " RECHMOD upper bucket: call   7 day  16 step   1: iteration limit exceeded\n",
      " RECHMOD upper bucket: call   7 day  17 step   1: iteration limit exceeded\n",
      " RECHMOD upper bucket: call  30 day  18 step   1: iteration limit exceeded\n",
      " - file lr_royalblue.out written ok.\n",
      " - file lr_royalblue.csv written ok.\n",
      "\n",
      "LUMPREM model input file written to: \n",
      "..\\temp_lr_prep\\lr_blueviolet.in\n",
      "PEST template file written to: \n",
      "..\\temp_lr_prep\\lr_blueviolet.tpl\n",
      "\n",
      " Enter name of LUMPREM input file:  Enter name for LUMPREM tabular output file:  Enter name for CSV output file (<Enter> if none):  \n",
      " - file lr_blueviolet.in read ok.\n",
      " - file lumprem_variables.rec written ok.\n",
      " - file rainfall.dat read ok.\n",
      " - file evapot.dat read ok.\n",
      " RECHMOD upper bucket: call   7 day  14 step   1: iteration limit exceeded\n",
      " RECHMOD upper bucket: call   7 day  15 step   1: iteration limit exceeded\n",
      " RECHMOD upper bucket: call   7 day  16 step   1: iteration limit exceeded\n",
      " RECHMOD upper bucket: call   7 day  17 step   1: iteration limit exceeded\n",
      " RECHMOD upper bucket: call  30 day  18 step   1: iteration limit exceeded\n",
      " - file lr_blueviolet.out written ok.\n",
      " - file lr_blueviolet.csv written ok.\n",
      "\n",
      "LUMPREM model input file written to: \n",
      "..\\temp_lr_prep\\lr_magenta.in\n",
      "PEST template file written to: \n",
      "..\\temp_lr_prep\\lr_magenta.tpl\n",
      "\n",
      " Enter name of LUMPREM input file:  Enter name for LUMPREM tabular output file:  Enter name for CSV output file (<Enter> if none):  \n",
      " - file lr_magenta.in read ok.\n",
      " - file lumprem_variables.rec written ok.\n",
      " - file rainfall.dat read ok.\n",
      " - file evapot.dat read ok.\n",
      " RECHMOD upper bucket: call   7 day  14 step   1: iteration limit exceeded\n",
      " RECHMOD upper bucket: call   7 day  15 step   1: iteration limit exceeded\n",
      " RECHMOD upper bucket: call   7 day  16 step   1: iteration limit exceeded\n",
      " RECHMOD upper bucket: call   7 day  17 step   1: iteration limit exceeded\n",
      " RECHMOD upper bucket: call  30 day  18 step   1: iteration limit exceeded\n",
      " - file lr_magenta.out written ok.\n",
      " - file lr_magenta.csv written ok.\n",
      "\n"
     ]
    }
   ],
   "source": [
    "ghb_models = [lr_ghb_red, lr_ghb_orange, lr_ghb_yellow, lr_ghb_limegreen, lr_ghb_royalblue, lr_ghb_blueviolet, lr_ghb_magenta]\n",
    "for model in ghb_models:\n",
    "    model.write_model(\n",
    "        start_date = '01/01/2016',\n",
    "        end_date = '01/01/2020',\n",
    "        noutdays='monthly',\n",
    "        mxiter = 500,\n",
    "    )\n",
    "    model.run_model(version=2)"
   ]
  },
  {
   "cell_type": "code",
   "execution_count": 23,
   "metadata": {},
   "outputs": [],
   "source": [
    "lr_ghb_red_df = lr_ghb_red.get_results()"
   ]
  },
  {
   "cell_type": "code",
   "execution_count": 24,
   "metadata": {},
   "outputs": [
    {
     "data": {
      "image/png": "[encoded data removed]",
      "text/plain": [
       "<Figure size 432x288 with 1 Axes>"
      ]
     },
     "metadata": {
      "needs_background": "light"
     },
     "output_type": "display_data"
    }
   ],
   "source": [
    "# plot the model results\n",
    "import seaborn as sb\n",
    "sb.lineplot(data=lr_ghb_red_df, x='days',y='elevation', hue='lumprem_model_name', alpha=0.5);"
   ]
  },
  {
   "cell_type": "markdown",
   "metadata": {},
   "source": [
    "# load the simulation"
   ]
  },
  {
   "cell_type": "code",
   "execution_count": 25,
   "metadata": {},
   "outputs": [
    {
     "data": {
      "text/plain": [
       "['ghb_blueviolet_segfile.dat',\n",
       " 'ghb_limegreen_segfile.dat',\n",
       " 'ghb_magenta_segfile.dat',\n",
       " 'ghb_orange_segfile.dat',\n",
       " 'ghb_red_segfile.dat',\n",
       " 'ghb_royalblue_segfile.dat',\n",
       " 'ghb_yellow_segfile.dat',\n",
       " 'hagfors_1.cbb',\n",
       " 'hagfors_1.disv',\n",
       " 'hagfors_1.disv.grb',\n",
       " 'hagfors_1.ghb',\n",
       " 'hagfors_1.hds',\n",
       " 'hagfors_1.ic',\n",
       " 'hagfors_1.ims',\n",
       " 'hagfors_1.lst',\n",
       " 'hagfors_1.nam',\n",
       " 'hagfors_1.npf',\n",
       " 'hagfors_1.obs',\n",
       " 'hagfors_1.oc',\n",
       " 'hagfors_1.rch',\n",
       " 'hagfors_1.sfr',\n",
       " 'hagfors_1.sfr.bud',\n",
       " 'hagfors_1.sto',\n",
       " 'hagfors_1.tdis',\n",
       " 'hagfors_1_leakage.sfr.obs',\n",
       " 'head.obs.csv',\n",
       " 'mfsim.lst',\n",
       " 'mfsim.nam',\n",
       " 'sfr_leakage.obs.csv',\n",
       " 'sfr_segfile.dat']"
      ]
     },
     "execution_count": 25,
     "metadata": {},
     "output_type": "execute_result"
    }
   ],
   "source": [
    "org_model_ws = os.path.join('..', 'base_model_files')\n",
    "os.listdir(org_model_ws)"
   ]
  },
  {
   "cell_type": "code",
   "execution_count": 26,
   "metadata": {},
   "outputs": [
    {
     "data": {
      "text/plain": [
       "['ghb_blueviolet_segfile.dat',\n",
       " 'ghb_limegreen_segfile.dat',\n",
       " 'ghb_magenta_segfile.dat',\n",
       " 'ghb_orange_segfile.dat',\n",
       " 'ghb_red_segfile.dat',\n",
       " 'ghb_royalblue_segfile.dat',\n",
       " 'ghb_yellow_segfile.dat',\n",
       " 'hagfors_1.cbb',\n",
       " 'hagfors_1.disv',\n",
       " 'hagfors_1.disv.grb',\n",
       " 'hagfors_1.ghb',\n",
       " 'hagfors_1.hds',\n",
       " 'hagfors_1.ic',\n",
       " 'hagfors_1.ims',\n",
       " 'hagfors_1.lst',\n",
       " 'hagfors_1.nam',\n",
       " 'hagfors_1.npf',\n",
       " 'hagfors_1.obs',\n",
       " 'hagfors_1.oc',\n",
       " 'hagfors_1.rch',\n",
       " 'hagfors_1.sfr',\n",
       " 'hagfors_1.sfr.bud',\n",
       " 'hagfors_1.sto',\n",
       " 'hagfors_1.tdis',\n",
       " 'hagfors_1_leakage.sfr.obs',\n",
       " 'head.obs.csv',\n",
       " 'mfsim.lst',\n",
       " 'mfsim.nam',\n",
       " 'sfr_leakage.obs.csv',\n",
       " 'sfr_segfile.dat']"
      ]
     },
     "execution_count": 26,
     "metadata": {},
     "output_type": "execute_result"
    }
   ],
   "source": [
    "tmp_model_ws = os.path.join('..', 'temp_flopy_lumprem') # Safe to delete\n",
    "if os.path.exists(tmp_model_ws):\n",
    "    shutil.rmtree(tmp_model_ws)\n",
    "shutil.copytree(org_model_ws,tmp_model_ws)\n",
    "os.listdir(tmp_model_ws)"
   ]
  },
  {
   "cell_type": "code",
   "execution_count": 27,
   "metadata": {},
   "outputs": [],
   "source": [
    "ml_name = 'hagfors_1'"
   ]
  },
  {
   "cell_type": "code",
   "execution_count": 28,
   "metadata": {},
   "outputs": [
    {
     "name": "stdout",
     "output_type": "stream",
     "text": [
      "loading simulation...\n",
      "  loading simulation name file...\n",
      "  loading tdis package...\n",
      "  loading model gwf6...\n",
      "    loading package disv...\n",
      "WARNING: Unable to resolve dimension of ('gwf6', 'disv', 'cell2d', 'cell2d', 'icvert') based on shape \"ncvert\".\n",
      "    loading package obs...\n",
      "    loading package sfr...\n",
      "    loading package rch...\n",
      "    loading package ghb...\n",
      "    loading package sto...\n",
      "    loading package oc...\n",
      "    loading package npf...\n",
      "    loading package ic...\n",
      "  loading ims package hagfors_1...\n"
     ]
    }
   ],
   "source": [
    "sim = flopy.mf6.MFSimulation.load(ml_name, 'mf6', os.path.join(bins_pth, 'mf6'), tmp_model_ws)"
   ]
  },
  {
   "cell_type": "code",
   "execution_count": 29,
   "metadata": {},
   "outputs": [
    {
     "name": "stdout",
     "output_type": "stream",
     "text": [
      "FloPy is using the following executable to run the model: ..\\bins\\win\\mf6.exe\n",
      "                                   MODFLOW 6\n",
      "                U.S. GEOLOGICAL SURVEY MODULAR HYDROLOGIC MODEL\n",
      "                            VERSION 6.2.1 02/18/2021\n",
      "\n",
      "   MODFLOW 6 compiled Feb 18 2021 21:14:51 with IFORT compiler (ver. 19.10.3)\n",
      "\n",
      "This software has been approved for release by the U.S. Geological \n",
      "Survey (USGS). Although the software has been subjected to rigorous \n",
      "review, the USGS reserves the right to update the software as needed \n",
      "pursuant to further analysis and review. No warranty, expressed or \n",
      "implied, is made by the USGS or the U.S. Government as to the \n",
      "functionality of the software and related material nor shall the \n",
      "fact of release constitute any such warranty. Furthermore, the \n",
      "software is released on condition that neither the USGS nor the U.S. \n",
      "Government shall be held liable for any damages resulting from its \n",
      "authorized or unauthorized use. Also refer to the USGS Water \n",
      "Resources Software User Rights Notice for complete use, copyright, \n",
      "and distribution information.\n",
      "\n",
      " \n",
      " Run start date and time (yyyy/mm/dd hh:mm:ss): 2021/12/09  9:34:48\n",
      " \n",
      " Writing simulation list file: mfsim.lst\n",
      " Using Simulation name file: mfsim.nam\n",
      " \n",
      "    Solving:  Stress period:     1    Time step:     1\n",
      "    Solving:  Stress period:     2    Time step:     1\n",
      "    Solving:  Stress period:     2    Time step:     2\n",
      "    Solving:  Stress period:     2    Time step:     3\n",
      "    Solving:  Stress period:     2    Time step:     4\n",
      "    Solving:  Stress period:     2    Time step:     5\n",
      "    Solving:  Stress period:     2    Time step:     6\n",
      "    Solving:  Stress period:     2    Time step:     7\n",
      "    Solving:  Stress period:     2    Time step:     8\n",
      "    Solving:  Stress period:     2    Time step:     9\n",
      "    Solving:  Stress period:     2    Time step:    10\n",
      "    Solving:  Stress period:     2    Time step:    11\n",
      "    Solving:  Stress period:     2    Time step:    12\n",
      "    Solving:  Stress period:     2    Time step:    13\n",
      "    Solving:  Stress period:     2    Time step:    14\n",
      "    Solving:  Stress period:     2    Time step:    15\n",
      "    Solving:  Stress period:     2    Time step:    16\n",
      "    Solving:  Stress period:     2    Time step:    17\n",
      "    Solving:  Stress period:     2    Time step:    18\n",
      "    Solving:  Stress period:     2    Time step:    19\n",
      "    Solving:  Stress period:     2    Time step:    20\n",
      "    Solving:  Stress period:     2    Time step:    21\n",
      "    Solving:  Stress period:     2    Time step:    22\n",
      "    Solving:  Stress period:     2    Time step:    23\n",
      "    Solving:  Stress period:     2    Time step:    24\n",
      "    Solving:  Stress period:     2    Time step:    25\n",
      "    Solving:  Stress period:     2    Time step:    26\n",
      "    Solving:  Stress period:     2    Time step:    27\n",
      "    Solving:  Stress period:     2    Time step:    28\n",
      "    Solving:  Stress period:     2    Time step:    29\n",
      "    Solving:  Stress period:     2    Time step:    30\n",
      "    Solving:  Stress period:     2    Time step:    31\n",
      "    Solving:  Stress period:     2    Time step:    32\n",
      "    Solving:  Stress period:     2    Time step:    33\n",
      "    Solving:  Stress period:     2    Time step:    34\n",
      "    Solving:  Stress period:     2    Time step:    35\n",
      "    Solving:  Stress period:     2    Time step:    36\n",
      "    Solving:  Stress period:     2    Time step:    37\n",
      "    Solving:  Stress period:     2    Time step:    38\n",
      "    Solving:  Stress period:     2    Time step:    39\n",
      "    Solving:  Stress period:     2    Time step:    40\n",
      "    Solving:  Stress period:     2    Time step:    41\n",
      "    Solving:  Stress period:     2    Time step:    42\n",
      "    Solving:  Stress period:     2    Time step:    43\n",
      "    Solving:  Stress period:     2    Time step:    44\n",
      "    Solving:  Stress period:     2    Time step:    45\n",
      "    Solving:  Stress period:     2    Time step:    46\n",
      "    Solving:  Stress period:     2    Time step:    47\n",
      "    Solving:  Stress period:     2    Time step:    48\n",
      " \n",
      " Run end date and time (yyyy/mm/dd hh:mm:ss): 2021/12/09  9:34:51\n",
      " Elapsed run time:  3.515 Seconds\n",
      " \n",
      " Normal termination of simulation.\n"
     ]
    },
    {
     "data": {
      "text/plain": [
       "(True, [])"
      ]
     },
     "execution_count": 29,
     "metadata": {},
     "output_type": "execute_result"
    }
   ],
   "source": [
    "sim.run_simulation()"
   ]
  },
  {
   "cell_type": "code",
   "execution_count": 30,
   "metadata": {},
   "outputs": [],
   "source": [
    "gwf = sim.get_model(ml_name)"
   ]
  },
  {
   "cell_type": "code",
   "execution_count": 31,
   "metadata": {},
   "outputs": [],
   "source": [
    "disv = gwf.get_package('disv')\n",
    "rch = gwf.get_package('rch')\n",
    "ghb = gwf.get_package('ghb')"
   ]
  },
  {
   "cell_type": "markdown",
   "metadata": {},
   "source": [
    "## Prepare recharge (RCH) timeseries input"
   ]
  },
  {
   "cell_type": "code",
   "execution_count": 32,
   "metadata": {},
   "outputs": [],
   "source": [
    "rch_ts = lr.lr2series.TimeSeries(\n",
    "    ts_file='rch.ts',\n",
    "    workspace=lr_ws,\n",
    "    lr_models=[lr_lu1],\n",
    "    ts_names=['rch'],\n",
    "    lumprem_output_cols=['net_recharge'],\n",
    "    methods=['linearend'],\n",
    "    div_delta_t=True\n",
    ")\n"
   ]
  },
  {
   "cell_type": "code",
   "execution_count": 33,
   "metadata": {},
   "outputs": [
    {
     "name": "stdout",
     "output_type": "stream",
     "text": [
      "MF6 timeseries file ..\\temp_lr_prep\\rch.ts.in written to:\n",
      "..\\temp_lr_prep\\rch.ts.in\n",
      " Enter name of LR2SERIES control file:  \n",
      " - reading file rch.ts.in...\n",
      " \n",
      " - reading LUMPREM output file lr_lu1.out...\n",
      " - file lr_lu1.out read ok.\n",
      " - writing file rch.ts...\n",
      " - file rch.ts written ok.\n",
      " \n",
      " - file rch.ts.in read ok.\n",
      "\n"
     ]
    }
   ],
   "source": [
    "rch_ts.write_ts()"
   ]
  },
  {
   "cell_type": "markdown",
   "metadata": {},
   "source": [
    "Select non-ghb cells (cells can't both be rch and ghb):"
   ]
  },
  {
   "cell_type": "code",
   "execution_count": 34,
   "metadata": {},
   "outputs": [],
   "source": [
    "#ghb_cell_ids cells in ghb cant be part of rch (will cause fortran error)\n",
    "ghb_cell_ids = [i[0][1] for i in ghb.stress_period_data.data[0]]"
   ]
  },
  {
   "cell_type": "markdown",
   "metadata": {},
   "source": [
    "Create rch TS for all non-ghb cells:"
   ]
  },
  {
   "cell_type": "code",
   "execution_count": 35,
   "metadata": {},
   "outputs": [],
   "source": [
    "rchcells = np.array(list(range(disv.ncpl.data)), dtype=int)\n",
    "rchcells[ghb_cell_ids] = -1\n",
    "rch_spd = [\n",
    "    ((0, rchcells[i]), 'rch_lu1', 1, 'rch') for i in range(disv.ncpl.data) if rchcells[i] > 0\n",
    "]\n",
    "rch_spd = {0: rch_spd, 1: rch_spd}"
   ]
  },
  {
   "cell_type": "markdown",
   "metadata": {},
   "source": [
    "Display the data-structure of the old recharge package:"
   ]
  },
  {
   "cell_type": "code",
   "execution_count": 36,
   "metadata": {},
   "outputs": [
    {
     "data": {
      "text/plain": [
       "{0: rec.array([((0, 23), 0.00054795), ((0, 24), 0.00054795),\n",
       "            ((0, 25), 0.00054795), ..., ((0, 3069), 0.00054795),\n",
       "            ((0, 3070), 0.00054795), ((0, 3071), 0.00054795)],\n",
       "           dtype=[('cellid', 'O'), ('recharge', '<f8')]),\n",
       " 1: rec.array([((0, 23), 0.00054795), ((0, 24), 0.00054795),\n",
       "            ((0, 25), 0.00054795), ..., ((0, 3069), 0.00054795),\n",
       "            ((0, 3070), 0.00054795), ((0, 3071), 0.00054795)],\n",
       "           dtype=[('cellid', 'O'), ('recharge', '<f8')])}"
      ]
     },
     "execution_count": 36,
     "metadata": {},
     "output_type": "execute_result"
    }
   ],
   "source": [
    "rch.stress_period_data.data"
   ]
  },
  {
   "cell_type": "markdown",
   "metadata": {},
   "source": [
    "Let's take a more detailed look at one of the stress periods:"
   ]
  },
  {
   "cell_type": "code",
   "execution_count": 37,
   "metadata": {},
   "outputs": [
    {
     "data": {
      "text/plain": [
       "rec.array([((0, 23), 0.00054795), ((0, 24), 0.00054795),\n",
       "           ((0, 25), 0.00054795), ((0, 26), 0.00054795),\n",
       "           ((0, 27), 0.00054795), ((0, 28), 0.00054795),\n",
       "           ((0, 29), 0.00054795), ((0, 30), 0.00054795),\n",
       "           ((0, 31), 0.00054795), ((0, 32), 0.00054795)],\n",
       "          dtype=[('cellid', 'O'), ('recharge', '<f8')])"
      ]
     },
     "execution_count": 37,
     "metadata": {},
     "output_type": "execute_result"
    }
   ],
   "source": [
    "rch.stress_period_data.data[0][:10]\n",
    "# Current data structure is cellid, recharge"
   ]
  },
  {
   "cell_type": "markdown",
   "metadata": {},
   "source": [
    "Remove old recharge package:"
   ]
  },
  {
   "cell_type": "code",
   "execution_count": 38,
   "metadata": {},
   "outputs": [],
   "source": [
    "gwf.remove_package('rch')"
   ]
  },
  {
   "cell_type": "markdown",
   "metadata": {},
   "source": [
    "Instantiate new recharge package:"
   ]
  },
  {
   "cell_type": "code",
   "execution_count": 39,
   "metadata": {},
   "outputs": [],
   "source": [
    "rch = flopy.mf6.ModflowGwfrch(\n",
    "    gwf,\n",
    "    filename='{}.rch'.format(ml_name), \n",
    "    pname='rch',\n",
    "    fixed_cell=True,\n",
    "    auxiliary='MULTIPLIER',\n",
    "    auxmultname='MULTIPLIER',\n",
    "    print_input=True,\n",
    "    print_flows=True, \n",
    "    save_flows=True,\n",
    "    boundnames=True,\n",
    "    stress_period_data=rch_spd\n",
    ")"
   ]
  },
  {
   "cell_type": "markdown",
   "metadata": {},
   "source": [
    "Display the data-structure of the **new** recharge package, using TS-file and multiplier:"
   ]
  },
  {
   "cell_type": "code",
   "execution_count": 40,
   "metadata": {},
   "outputs": [
    {
     "data": {
      "text/plain": [
       "rec.array([((0, 23), 'rch_lu1', 1., 'rch'),\n",
       "           ((0, 24), 'rch_lu1', 1., 'rch'),\n",
       "           ((0, 25), 'rch_lu1', 1., 'rch'),\n",
       "           ((0, 26), 'rch_lu1', 1., 'rch'),\n",
       "           ((0, 27), 'rch_lu1', 1., 'rch'),\n",
       "           ((0, 28), 'rch_lu1', 1., 'rch'),\n",
       "           ((0, 29), 'rch_lu1', 1., 'rch'),\n",
       "           ((0, 30), 'rch_lu1', 1., 'rch'),\n",
       "           ((0, 31), 'rch_lu1', 1., 'rch'),\n",
       "           ((0, 32), 'rch_lu1', 1., 'rch')],\n",
       "          dtype=[('cellid', 'O'), ('recharge', 'O'), ('MULTIPLIER', '<f8'), ('boundname', 'O')])"
      ]
     },
     "execution_count": 40,
     "metadata": {},
     "output_type": "execute_result"
    }
   ],
   "source": [
    "rch.stress_period_data.data[0][:10]\n",
    "# Current data structure is cellid, recharge"
   ]
  },
  {
   "cell_type": "markdown",
   "metadata": {},
   "source": [
    "Initialize TS-file:"
   ]
  },
  {
   "cell_type": "code",
   "execution_count": 41,
   "metadata": {},
   "outputs": [],
   "source": [
    "# Initialize ts-file\n",
    "rch.ts.initialize(filename='rch.ts')"
   ]
  },
  {
   "cell_type": "markdown",
   "metadata": {},
   "source": [
    "## Prepare general head boundary (GHB) timeseries input"
   ]
  },
  {
   "cell_type": "markdown",
   "metadata": {},
   "source": [
    "Extend lumpyrem TimeSeries class (ugly hack but gets the job done):"
   ]
  },
  {
   "cell_type": "code",
   "execution_count": 42,
   "metadata": {},
   "outputs": [],
   "source": [
    "class GHB_TS(TimeSeries):\n",
    "    def write_ts(self):\n",
    "        \"\"\"Writes the MODFLOW6 timeseries file.\n",
    "\n",
    "        Parameters\n",
    "        ----------\n",
    "        \"\"\"\n",
    "        #number of columns to include in the ts file\n",
    "        count = len(self.ts_names)\n",
    "        ts_file = os.path.join(self.workspace, self.ts_file+'.in')\n",
    "\n",
    "        with open(ts_file, 'w') as f:\n",
    "            for model in self.lr_models:\n",
    "                model_name = model.lumprem_model_name\n",
    "                f.write('READ_LUMPREM_OUTPUT_FILE lr_'+model_name+'.out '+str(count)+'\\n')\n",
    "                f.write('#  my_name     LUMPREM_name      divide_by_delta_t?\\n\\n')\n",
    "\n",
    "                for col in range(count):\n",
    "                    f.write(\"\\t{0}\\t\\t{1}\\t\\t{2}\".format('ghb_'+model_name, self.lumprem_output_cols[col],self.div_delta[col]+'\\n'))\n",
    "                f.write('\\n\\n')\n",
    "\n",
    "            f.write('WRITE_MF6_TIME_SERIES_FILE '+self.ts_file+' '+str(count*len(self.lr_models))+' '+str(self.timeoffset)+'\\n')\n",
    "            f.write(\"#\\t{0}\\t\\t{1}\\t\\t{2}\\t\\t{3}\\t\\t{4}\".format('ts_name','scale','offset','mf6method','time_offset_method\\n\\n'))\n",
    "            for model in self.lr_models:\n",
    "                model_name = model.lumprem_model_name\n",
    "                for col in range(count):\n",
    "                        f.write(\"\\t{0}\\t\\t{1}\\t\\t{2}\\t\\t{3}\\t{4}\\t{5}\".format('ghb_'+model_name, self.scales[col],self.offsets[col],self.methods[col], self.time_offset_method[col], '#'+model_name+'\\n'))\n",
    "\n",
    "        f.close()\n",
    "        print('MF6 timeseries file '+ts_file+' written to:\\n'+ts_file)\n",
    "        \n",
    "        #write ts file\n",
    "        filename = self.ts_file\n",
    "        path = self.workspace\n",
    "        run.run_process('lr2series', commands=[filename+'.in'],path=path)"
   ]
  },
  {
   "cell_type": "markdown",
   "metadata": {},
   "source": [
    "Write TS-file:"
   ]
  },
  {
   "cell_type": "code",
   "execution_count": 43,
   "metadata": {},
   "outputs": [],
   "source": [
    "ghb_ts = GHB_TS(\n",
    "    ts_file='ghb.ts',\n",
    "    workspace=lr_ws,\n",
    "    lr_models=ghb_models,\n",
    "    ts_names=['ghb'],\n",
    "    lumprem_output_cols=['elevation'],\n",
    "    methods=['linear'],\n",
    "    div_delta_t=False\n",
    ")\n"
   ]
  },
  {
   "cell_type": "code",
   "execution_count": 44,
   "metadata": {},
   "outputs": [
    {
     "name": "stdout",
     "output_type": "stream",
     "text": [
      "MF6 timeseries file ..\\temp_lr_prep\\ghb.ts.in written to:\n",
      "..\\temp_lr_prep\\ghb.ts.in\n",
      " Enter name of LR2SERIES control file:  \n",
      " - reading file ghb.ts.in...\n",
      " \n",
      " - reading LUMPREM output file lr_red.out...\n",
      " - file lr_red.out read ok.\n",
      " - reading LUMPREM output file lr_orange.out...\n",
      " - file lr_orange.out read ok.\n",
      " - reading LUMPREM output file lr_yellow.out...\n",
      " - file lr_yellow.out read ok.\n",
      " - reading LUMPREM output file lr_limegreen.out...\n",
      " - file lr_limegreen.out read ok.\n",
      " - reading LUMPREM output file lr_royalblue.out...\n",
      " - file lr_royalblue.out read ok.\n",
      " - reading LUMPREM output file lr_blueviolet.out...\n",
      " - file lr_blueviolet.out read ok.\n",
      " - reading LUMPREM output file lr_magenta.out...\n",
      " - file lr_magenta.out read ok.\n",
      " - writing file ghb.ts...\n",
      " - file ghb.ts written ok.\n",
      " \n",
      " - file ghb.ts.in read ok.\n",
      "\n"
     ]
    }
   ],
   "source": [
    "ghb_ts.write_ts()"
   ]
  },
  {
   "cell_type": "markdown",
   "metadata": {},
   "source": [
    "Make elevation/bhead a multiplier of the TS-data...?????!?!?!?!?"
   ]
  },
  {
   "cell_type": "markdown",
   "metadata": {},
   "source": [
    "Display the data-structure of the old GHB package:"
   ]
  },
  {
   "cell_type": "code",
   "execution_count": 45,
   "metadata": {},
   "outputs": [
    {
     "data": {
      "text/plain": [
       "{0: rec.array([((0, 343), 142.5       , 86.4, 'red'),\n",
       "            ((0, 344), 142.5       , 86.4, 'red'),\n",
       "            ((0, 427), 142.5       , 86.4, 'red'),\n",
       "            ((0, 428), 142.5       , 86.4, 'red'),\n",
       "            ((0, 503), 142.5       , 86.4, 'red'),\n",
       "            ((0, 504), 142.5       , 86.4, 'red'),\n",
       "            ((0, 583), 142.5       , 86.4, 'red'),\n",
       "            ((0, 584), 142.5       , 86.4, 'red'),\n",
       "            ((0, 664), 142.5       , 86.4, 'red'),\n",
       "            ((0, 665), 142.5       , 86.4, 'red'),\n",
       "            ((0, 746), 142.5       , 86.4, 'red'),\n",
       "            ((0, 747), 142.5       , 86.4, 'red'),\n",
       "            ((0, 829), 142.5       , 86.4, 'red'),\n",
       "            ((0, 830), 142.5       , 86.4, 'red'),\n",
       "            ((0, 913), 142.5       , 86.4, 'red'),\n",
       "            ((0, 999), 142.5       , 86.4, 'red'),\n",
       "            ((0, 1081), 142.5       , 86.4, 'red'),\n",
       "            ((0, 1165), 142.5       , 86.4, 'red'),\n",
       "            ((0, 1257), 142.5       , 86.4, 'red'),\n",
       "            ((0, 1354), 142.5       , 86.4, 'red'),\n",
       "            ((0, 1444), 142.5       , 86.4, 'red'),\n",
       "            ((0, 1545), 142.5       , 86.4, 'red'),\n",
       "            ((0, 1645), 142.5       , 86.4, 'red'),\n",
       "            ((0, 1762), 142.5       , 86.4, 'red'),\n",
       "            ((0, 1845), 142.5       , 86.4, 'red'),\n",
       "            ((0, 1918), 142.5       , 86.4, 'red'),\n",
       "            ((0, 1993), 142.5       , 86.4, 'red'),\n",
       "            ((0, 2067), 142.5       , 86.4, 'red'),\n",
       "            ((0, 2140), 142.5       , 86.4, 'red'),\n",
       "            ((0, 2209), 142.5       , 86.4, 'red'),\n",
       "            ((0, 2280), 142.5       , 86.4, 'red'),\n",
       "            ((0, 2386), 142.5       , 86.4, 'red'),\n",
       "            ((0, 2386), 142.        , 86.4, 'orange'),\n",
       "            ((0, 2497), 142.        , 86.4, 'orange'),\n",
       "            ((0, 2583), 142.        , 86.4, 'orange'),\n",
       "            ((0, 2668), 142.        , 86.4, 'orange'),\n",
       "            ((0, 2669), 142.        , 86.4, 'orange'),\n",
       "            ((0, 2734), 142.        , 86.4, 'orange'),\n",
       "            ((0, 2735), 142.        , 86.4, 'orange'),\n",
       "            ((0, 2798), 142.        , 86.4, 'orange'),\n",
       "            ((0, 2799), 142.        , 86.4, 'orange'),\n",
       "            ((0, 2791), 141.        , 86.4, 'yellow'),\n",
       "            ((0, 2792), 141.        , 86.4, 'yellow'),\n",
       "            ((0, 2793), 141.        , 86.4, 'yellow'),\n",
       "            ((0, 2794), 141.        , 86.4, 'yellow'),\n",
       "            ((0, 2795), 141.        , 86.4, 'yellow'),\n",
       "            ((0, 2796), 141.        , 86.4, 'yellow'),\n",
       "            ((0, 2797), 141.        , 86.4, 'yellow'),\n",
       "            ((0, 2798), 141.        , 86.4, 'yellow'),\n",
       "            ((0, 2864), 141.        , 86.4, 'yellow'),\n",
       "            ((0, 2865), 141.        , 86.4, 'yellow'),\n",
       "            ((0, 2866), 141.        , 86.4, 'yellow'),\n",
       "            ((0, 2922), 141.        , 86.4, 'yellow'),\n",
       "            ((0, 2923), 141.        , 86.4, 'yellow'),\n",
       "            ((0, 2924), 141.        , 86.4, 'yellow'),\n",
       "            ((0, 2975), 141.        , 86.4, 'yellow'),\n",
       "            ((0, 2976), 141.        , 86.4, 'yellow'),\n",
       "            ((0, 3012), 141.        , 86.4, 'yellow'),\n",
       "            ((0, 3013), 141.        , 86.4, 'yellow'),\n",
       "            ((0, 3014), 141.        , 86.4, 'yellow'),\n",
       "            ((0, 3022), 141.        , 86.4, 'yellow'),\n",
       "            ((0, 3023), 141.        , 86.4, 'yellow'),\n",
       "            ((0, 3024), 141.        , 86.4, 'yellow'),\n",
       "            ((0, 3025), 141.        , 86.4, 'yellow'),\n",
       "            ((0, 3026), 141.        , 86.4, 'yellow'),\n",
       "            ((0, 3027), 141.        , 86.4, 'yellow'),\n",
       "            ((0, 3028), 141.        , 86.4, 'yellow'),\n",
       "            ((0, 3047), 141.        , 86.4, 'yellow'),\n",
       "            ((0, 3048), 141.        , 86.4, 'yellow'),\n",
       "            ((0, 3049), 141.        , 86.4, 'yellow'),\n",
       "            ((0, 3056), 141.        , 86.4, 'yellow'),\n",
       "            ((0, 3057), 141.        , 86.4, 'yellow'),\n",
       "            ((0, 3058), 141.        , 86.4, 'yellow'),\n",
       "            ((0, 3059), 141.        , 86.4, 'yellow'),\n",
       "            ((0, 3060), 141.        , 86.4, 'yellow'),\n",
       "            ((0, 3072), 141.        , 86.4, 'yellow'),\n",
       "            ((0, 3073), 141.        , 86.4, 'yellow'),\n",
       "            ((0, 3074), 141.        , 86.4, 'yellow'),\n",
       "            ((0, 3075), 141.        , 86.4, 'yellow'),\n",
       "            ((0, 3076), 141.        , 86.4, 'yellow'),\n",
       "            ((0, 3077), 141.        , 86.4, 'yellow'),\n",
       "            ((0, 3078), 141.        , 86.4, 'yellow'),\n",
       "            ((0, 3079), 141.        , 86.4, 'yellow'),\n",
       "            ((0, 3080), 141.        , 86.4, 'yellow'),\n",
       "            ((0, 3081), 141.        , 86.4, 'yellow'),\n",
       "            ((0, 3082), 141.        , 86.4, 'yellow'),\n",
       "            ((0, 3083), 141.        , 86.4, 'yellow'),\n",
       "            ((0, 3084), 141.        , 86.4, 'yellow'),\n",
       "            ((0, 3085), 141.        , 86.4, 'yellow'),\n",
       "            ((0, 3086), 141.        , 86.4, 'yellow'),\n",
       "            ((0, 3087), 141.        , 86.4, 'yellow'),\n",
       "            ((0, 3088), 141.        , 86.4, 'yellow'),\n",
       "            ((0, 3089), 141.        , 86.4, 'yellow'),\n",
       "            ((0, 2801), 138.5       , 86.4, 'limegreen'),\n",
       "            ((0, 2867), 138.5       , 86.4, 'limegreen'),\n",
       "            ((0, 2868), 138.5       , 86.4, 'limegreen'),\n",
       "            ((0, 2925), 138.5       , 86.4, 'limegreen'),\n",
       "            ((0, 2926), 138.5       , 86.4, 'limegreen'),\n",
       "            ((0, 2977), 138.5       , 86.4, 'limegreen'),\n",
       "            ((0, 2978), 138.5       , 86.4, 'limegreen'),\n",
       "            ((0, 3015), 138.5       , 86.4, 'limegreen'),\n",
       "            ((0, 3016), 138.5       , 86.4, 'limegreen'),\n",
       "            ((0, 3050), 138.5       , 86.4, 'limegreen'),\n",
       "            ((0, 3051), 138.5       , 86.4, 'limegreen'),\n",
       "            ((0, 3052), 138.5       , 86.4, 'limegreen'),\n",
       "            ((0, 3053), 138.5       , 86.4, 'limegreen'),\n",
       "            ((0, 3054), 138.61680603, 86.4, 'limegreen'),\n",
       "            ((0, 3055), 139.04679871, 86.4, 'limegreen'),\n",
       "            ((0, 3056), 139.42689514, 86.4, 'limegreen'),\n",
       "            ((0, 0), 135.        , 86.4, 'royalblue'),\n",
       "            ((0, 21), 135.        , 86.4, 'royalblue'),\n",
       "            ((0, 22), 135.        , 86.4, 'royalblue'),\n",
       "            ((0, 49), 135.        , 86.4, 'royalblue'),\n",
       "            ((0, 50), 135.        , 86.4, 'royalblue'),\n",
       "            ((0, 82), 135.        , 86.4, 'royalblue'),\n",
       "            ((0, 83), 135.        , 86.4, 'royalblue'),\n",
       "            ((0, 114), 135.        , 86.4, 'royalblue'),\n",
       "            ((0, 115), 135.        , 86.4, 'royalblue'),\n",
       "            ((0, 148), 135.        , 86.4, 'royalblue'),\n",
       "            ((0, 149), 135.        , 86.4, 'royalblue'),\n",
       "            ((0, 184), 135.        , 86.4, 'royalblue'),\n",
       "            ((0, 185), 135.        , 86.4, 'royalblue'),\n",
       "            ((0, 222), 135.        , 86.4, 'royalblue'),\n",
       "            ((0, 223), 135.        , 86.4, 'royalblue'),\n",
       "            ((0, 262), 135.        , 86.4, 'royalblue'),\n",
       "            ((0, 263), 135.        , 86.4, 'royalblue'),\n",
       "            ((0, 345), 135.        , 86.4, 'royalblue'),\n",
       "            ((0, 429), 135.        , 86.4, 'royalblue'),\n",
       "            ((0, 505), 135.        , 86.4, 'royalblue'),\n",
       "            ((0, 585), 135.        , 86.4, 'royalblue'),\n",
       "            ((0, 666), 135.        , 86.4, 'royalblue'),\n",
       "            ((0, 748), 135.        , 86.4, 'royalblue'),\n",
       "            ((0, 831), 135.        , 86.4, 'royalblue'),\n",
       "            ((0, 914), 135.        , 86.4, 'royalblue'),\n",
       "            ((0, 915), 135.        , 86.4, 'royalblue'),\n",
       "            ((0, 1000), 135.        , 86.4, 'royalblue'),\n",
       "            ((0, 1001), 135.        , 86.4, 'royalblue'),\n",
       "            ((0, 1082), 135.        , 86.4, 'royalblue'),\n",
       "            ((0, 1083), 135.        , 86.4, 'royalblue'),\n",
       "            ((0, 1166), 135.        , 86.4, 'royalblue'),\n",
       "            ((0, 1167), 135.        , 86.4, 'royalblue'),\n",
       "            ((0, 1258), 135.        , 86.4, 'royalblue'),\n",
       "            ((0, 1259), 135.        , 86.4, 'royalblue'),\n",
       "            ((0, 1355), 135.        , 86.4, 'royalblue'),\n",
       "            ((0, 1356), 135.        , 86.4, 'royalblue'),\n",
       "            ((0, 1445), 135.        , 86.4, 'royalblue'),\n",
       "            ((0, 1446), 135.        , 86.4, 'royalblue'),\n",
       "            ((0, 1546), 135.        , 86.4, 'royalblue'),\n",
       "            ((0, 1547), 135.        , 86.4, 'royalblue'),\n",
       "            ((0, 1646), 135.        , 86.4, 'royalblue'),\n",
       "            ((0, 1647), 135.        , 86.4, 'royalblue'),\n",
       "            ((0, 1763), 135.        , 86.4, 'royalblue'),\n",
       "            ((0, 1764), 135.        , 86.4, 'royalblue'),\n",
       "            ((0, 1846), 135.        , 86.4, 'royalblue'),\n",
       "            ((0, 1847), 135.        , 86.4, 'royalblue'),\n",
       "            ((0, 1919), 135.        , 86.4, 'royalblue'),\n",
       "            ((0, 1920), 135.        , 86.4, 'royalblue'),\n",
       "            ((0, 1994), 135.        , 86.4, 'royalblue'),\n",
       "            ((0, 1995), 135.        , 86.4, 'royalblue'),\n",
       "            ((0, 2068), 135.        , 86.4, 'royalblue'),\n",
       "            ((0, 2069), 135.        , 86.4, 'royalblue'),\n",
       "            ((0, 2141), 135.        , 86.4, 'royalblue'),\n",
       "            ((0, 2142), 135.        , 86.4, 'royalblue'),\n",
       "            ((0, 2210), 135.        , 86.4, 'royalblue'),\n",
       "            ((0, 2211), 135.        , 86.4, 'royalblue'),\n",
       "            ((0, 2281), 135.        , 86.4, 'royalblue'),\n",
       "            ((0, 2282), 135.        , 86.4, 'royalblue'),\n",
       "            ((0, 2387), 135.        , 86.4, 'royalblue'),\n",
       "            ((0, 2388), 135.        , 86.4, 'royalblue'),\n",
       "            ((0, 2498), 135.        , 86.4, 'royalblue'),\n",
       "            ((0, 2499), 135.        , 86.4, 'royalblue'),\n",
       "            ((0, 2584), 135.        , 86.4, 'royalblue'),\n",
       "            ((0, 2585), 135.        , 86.4, 'royalblue'),\n",
       "            ((0, 2670), 135.        , 86.4, 'royalblue'),\n",
       "            ((0, 2671), 135.        , 86.4, 'royalblue'),\n",
       "            ((0, 2736), 135.        , 86.4, 'royalblue'),\n",
       "            ((0, 2737), 135.        , 86.4, 'royalblue'),\n",
       "            ((0, 2800), 135.        , 86.4, 'royalblue'),\n",
       "            ((0, 2801), 135.        , 86.4, 'royalblue'),\n",
       "            ((0, 0), 136.5       , 86.4, 'blueviolet'),\n",
       "            ((0, 1), 136.5       , 86.4, 'blueviolet'),\n",
       "            ((0, 2), 136.5       , 86.4, 'blueviolet'),\n",
       "            ((0, 3), 136.5       , 86.4, 'blueviolet'),\n",
       "            ((0, 4), 136.5       , 86.4, 'blueviolet'),\n",
       "            ((0, 5), 136.5       , 86.4, 'blueviolet'),\n",
       "            ((0, 6), 136.5       , 86.4, 'blueviolet'),\n",
       "            ((0, 7), 136.5       , 86.4, 'blueviolet'),\n",
       "            ((0, 8), 136.5       , 86.4, 'blueviolet'),\n",
       "            ((0, 9), 136.5       , 86.4, 'blueviolet'),\n",
       "            ((0, 10), 136.5       , 86.4, 'blueviolet'),\n",
       "            ((0, 11), 136.5       , 86.4, 'blueviolet'),\n",
       "            ((0, 12), 136.5       , 86.4, 'blueviolet'),\n",
       "            ((0, 13), 136.5       , 86.4, 'blueviolet'),\n",
       "            ((0, 14), 136.5       , 86.4, 'blueviolet'),\n",
       "            ((0, 15), 136.5       , 86.4, 'blueviolet'),\n",
       "            ((0, 16), 136.5       , 86.4, 'blueviolet'),\n",
       "            ((0, 17), 136.5       , 86.4, 'blueviolet'),\n",
       "            ((0, 18), 136.5       , 86.4, 'blueviolet'),\n",
       "            ((0, 19), 136.5       , 86.4, 'blueviolet'),\n",
       "            ((0, 20), 136.5       , 86.4, 'blueviolet'),\n",
       "            ((0, 47), 136.5       , 86.4, 'blueviolet'),\n",
       "            ((0, 48), 136.5       , 86.4, 'blueviolet'),\n",
       "            ((0, 80), 136.5       , 86.4, 'blueviolet'),\n",
       "            ((0, 81), 136.5       , 86.4, 'blueviolet'),\n",
       "            ((0, 112), 136.5       , 86.4, 'blueviolet'),\n",
       "            ((0, 113), 136.5       , 86.4, 'blueviolet'),\n",
       "            ((0, 146), 136.5       , 86.4, 'blueviolet'),\n",
       "            ((0, 147), 136.5       , 86.4, 'blueviolet'),\n",
       "            ((0, 182), 136.5       , 86.4, 'blueviolet'),\n",
       "            ((0, 183), 136.5       , 86.4, 'blueviolet'),\n",
       "            ((0, 220), 136.5       , 86.4, 'blueviolet'),\n",
       "            ((0, 221), 136.5       , 86.4, 'blueviolet'),\n",
       "            ((0, 260), 136.5       , 86.4, 'blueviolet'),\n",
       "            ((0, 261), 136.5       , 86.4, 'blueviolet'),\n",
       "            ((0, 308), 136.5       , 86.4, 'blueviolet'),\n",
       "            ((0, 309), 136.5       , 86.4, 'blueviolet'),\n",
       "            ((0, 310), 136.5       , 86.4, 'blueviolet'),\n",
       "            ((0, 311), 136.5       , 86.4, 'blueviolet'),\n",
       "            ((0, 312), 136.5       , 86.4, 'blueviolet'),\n",
       "            ((0, 313), 136.5       , 86.4, 'blueviolet'),\n",
       "            ((0, 314), 136.5       , 86.4, 'blueviolet'),\n",
       "            ((0, 315), 136.5       , 86.4, 'blueviolet'),\n",
       "            ((0, 315), 139.5       , 86.4, 'magenta'),\n",
       "            ((0, 316), 139.5       , 86.4, 'magenta'),\n",
       "            ((0, 317), 139.5       , 86.4, 'magenta'),\n",
       "            ((0, 318), 139.5       , 86.4, 'magenta'),\n",
       "            ((0, 319), 139.5       , 86.4, 'magenta'),\n",
       "            ((0, 320), 139.5       , 86.4, 'magenta'),\n",
       "            ((0, 321), 139.5       , 86.4, 'magenta'),\n",
       "            ((0, 322), 139.5       , 86.4, 'magenta'),\n",
       "            ((0, 323), 139.5       , 86.4, 'magenta'),\n",
       "            ((0, 324), 139.5       , 86.4, 'magenta'),\n",
       "            ((0, 325), 139.5       , 86.4, 'magenta'),\n",
       "            ((0, 326), 139.5       , 86.4, 'magenta'),\n",
       "            ((0, 327), 139.5       , 86.4, 'magenta'),\n",
       "            ((0, 328), 139.5       , 86.4, 'magenta'),\n",
       "            ((0, 329), 139.5       , 86.4, 'magenta'),\n",
       "            ((0, 330), 139.5       , 86.4, 'magenta'),\n",
       "            ((0, 331), 139.5       , 86.4, 'magenta'),\n",
       "            ((0, 332), 139.5       , 86.4, 'magenta'),\n",
       "            ((0, 333), 139.5       , 86.4, 'magenta'),\n",
       "            ((0, 334), 139.5       , 86.4, 'magenta'),\n",
       "            ((0, 335), 139.5       , 86.4, 'magenta'),\n",
       "            ((0, 336), 139.5       , 86.4, 'magenta'),\n",
       "            ((0, 337), 139.5       , 86.4, 'magenta'),\n",
       "            ((0, 338), 139.5       , 86.4, 'magenta'),\n",
       "            ((0, 339), 139.5       , 86.4, 'magenta'),\n",
       "            ((0, 340), 139.5       , 86.4, 'magenta'),\n",
       "            ((0, 341), 139.5       , 86.4, 'magenta'),\n",
       "            ((0, 342), 139.5       , 86.4, 'magenta'),\n",
       "            ((0, 343), 139.5       , 86.4, 'magenta')],\n",
       "           dtype=[('cellid', 'O'), ('bhead', '<f8'), ('cond', '<f8'), ('boundname', 'O')])}"
      ]
     },
     "execution_count": 45,
     "metadata": {},
     "output_type": "execute_result"
    }
   ],
   "source": [
    "# Current data structure is cellid, bhead, cond, boundname\n",
    "ghb.stress_period_data.data"
   ]
  },
  {
   "cell_type": "markdown",
   "metadata": {},
   "source": [
    "Construct new GHB stress period data:"
   ]
  },
  {
   "cell_type": "code",
   "execution_count": 46,
   "metadata": {},
   "outputs": [],
   "source": [
    "bhead = ['ghb_'+i for i in ghb.stress_period_data.data[0].boundname]\n",
    "cond = [86.4 for i in ghb.stress_period_data.data[0].boundname]\n",
    "bname = [i for i in ghb.stress_period_data.data[0].boundname]"
   ]
  },
  {
   "cell_type": "code",
   "execution_count": 47,
   "metadata": {},
   "outputs": [],
   "source": [
    "# Kanske behöver vara tuple\n",
    "ghb_new_data = [[(0, cell_id), bhead, cond, bname] for cell_id, bhead, cond, bname in zip(ghb_cell_ids, bhead, cond, bname)]"
   ]
  },
  {
   "cell_type": "code",
   "execution_count": 48,
   "metadata": {},
   "outputs": [],
   "source": [
    "ghb_new_spd = {0: ghb_new_data}"
   ]
  },
  {
   "cell_type": "code",
   "execution_count": 49,
   "metadata": {},
   "outputs": [
    {
     "data": {
      "text/plain": [
       "{0: [[(0, 343), 'ghb_red', 86.4, 'red'],\n",
       "  [(0, 344), 'ghb_red', 86.4, 'red'],\n",
       "  [(0, 427), 'ghb_red', 86.4, 'red'],\n",
       "  [(0, 428), 'ghb_red', 86.4, 'red'],\n",
       "  [(0, 503), 'ghb_red', 86.4, 'red'],\n",
       "  [(0, 504), 'ghb_red', 86.4, 'red'],\n",
       "  [(0, 583), 'ghb_red', 86.4, 'red'],\n",
       "  [(0, 584), 'ghb_red', 86.4, 'red'],\n",
       "  [(0, 664), 'ghb_red', 86.4, 'red'],\n",
       "  [(0, 665), 'ghb_red', 86.4, 'red'],\n",
       "  [(0, 746), 'ghb_red', 86.4, 'red'],\n",
       "  [(0, 747), 'ghb_red', 86.4, 'red'],\n",
       "  [(0, 829), 'ghb_red', 86.4, 'red'],\n",
       "  [(0, 830), 'ghb_red', 86.4, 'red'],\n",
       "  [(0, 913), 'ghb_red', 86.4, 'red'],\n",
       "  [(0, 999), 'ghb_red', 86.4, 'red'],\n",
       "  [(0, 1081), 'ghb_red', 86.4, 'red'],\n",
       "  [(0, 1165), 'ghb_red', 86.4, 'red'],\n",
       "  [(0, 1257), 'ghb_red', 86.4, 'red'],\n",
       "  [(0, 1354), 'ghb_red', 86.4, 'red'],\n",
       "  [(0, 1444), 'ghb_red', 86.4, 'red'],\n",
       "  [(0, 1545), 'ghb_red', 86.4, 'red'],\n",
       "  [(0, 1645), 'ghb_red', 86.4, 'red'],\n",
       "  [(0, 1762), 'ghb_red', 86.4, 'red'],\n",
       "  [(0, 1845), 'ghb_red', 86.4, 'red'],\n",
       "  [(0, 1918), 'ghb_red', 86.4, 'red'],\n",
       "  [(0, 1993), 'ghb_red', 86.4, 'red'],\n",
       "  [(0, 2067), 'ghb_red', 86.4, 'red'],\n",
       "  [(0, 2140), 'ghb_red', 86.4, 'red'],\n",
       "  [(0, 2209), 'ghb_red', 86.4, 'red'],\n",
       "  [(0, 2280), 'ghb_red', 86.4, 'red'],\n",
       "  [(0, 2386), 'ghb_red', 86.4, 'red'],\n",
       "  [(0, 2386), 'ghb_orange', 86.4, 'orange'],\n",
       "  [(0, 2497), 'ghb_orange', 86.4, 'orange'],\n",
       "  [(0, 2583), 'ghb_orange', 86.4, 'orange'],\n",
       "  [(0, 2668), 'ghb_orange', 86.4, 'orange'],\n",
       "  [(0, 2669), 'ghb_orange', 86.4, 'orange'],\n",
       "  [(0, 2734), 'ghb_orange', 86.4, 'orange'],\n",
       "  [(0, 2735), 'ghb_orange', 86.4, 'orange'],\n",
       "  [(0, 2798), 'ghb_orange', 86.4, 'orange'],\n",
       "  [(0, 2799), 'ghb_orange', 86.4, 'orange'],\n",
       "  [(0, 2791), 'ghb_yellow', 86.4, 'yellow'],\n",
       "  [(0, 2792), 'ghb_yellow', 86.4, 'yellow'],\n",
       "  [(0, 2793), 'ghb_yellow', 86.4, 'yellow'],\n",
       "  [(0, 2794), 'ghb_yellow', 86.4, 'yellow'],\n",
       "  [(0, 2795), 'ghb_yellow', 86.4, 'yellow'],\n",
       "  [(0, 2796), 'ghb_yellow', 86.4, 'yellow'],\n",
       "  [(0, 2797), 'ghb_yellow', 86.4, 'yellow'],\n",
       "  [(0, 2798), 'ghb_yellow', 86.4, 'yellow'],\n",
       "  [(0, 2864), 'ghb_yellow', 86.4, 'yellow'],\n",
       "  [(0, 2865), 'ghb_yellow', 86.4, 'yellow'],\n",
       "  [(0, 2866), 'ghb_yellow', 86.4, 'yellow'],\n",
       "  [(0, 2922), 'ghb_yellow', 86.4, 'yellow'],\n",
       "  [(0, 2923), 'ghb_yellow', 86.4, 'yellow'],\n",
       "  [(0, 2924), 'ghb_yellow', 86.4, 'yellow'],\n",
       "  [(0, 2975), 'ghb_yellow', 86.4, 'yellow'],\n",
       "  [(0, 2976), 'ghb_yellow', 86.4, 'yellow'],\n",
       "  [(0, 3012), 'ghb_yellow', 86.4, 'yellow'],\n",
       "  [(0, 3013), 'ghb_yellow', 86.4, 'yellow'],\n",
       "  [(0, 3014), 'ghb_yellow', 86.4, 'yellow'],\n",
       "  [(0, 3022), 'ghb_yellow', 86.4, 'yellow'],\n",
       "  [(0, 3023), 'ghb_yellow', 86.4, 'yellow'],\n",
       "  [(0, 3024), 'ghb_yellow', 86.4, 'yellow'],\n",
       "  [(0, 3025), 'ghb_yellow', 86.4, 'yellow'],\n",
       "  [(0, 3026), 'ghb_yellow', 86.4, 'yellow'],\n",
       "  [(0, 3027), 'ghb_yellow', 86.4, 'yellow'],\n",
       "  [(0, 3028), 'ghb_yellow', 86.4, 'yellow'],\n",
       "  [(0, 3047), 'ghb_yellow', 86.4, 'yellow'],\n",
       "  [(0, 3048), 'ghb_yellow', 86.4, 'yellow'],\n",
       "  [(0, 3049), 'ghb_yellow', 86.4, 'yellow'],\n",
       "  [(0, 3056), 'ghb_yellow', 86.4, 'yellow'],\n",
       "  [(0, 3057), 'ghb_yellow', 86.4, 'yellow'],\n",
       "  [(0, 3058), 'ghb_yellow', 86.4, 'yellow'],\n",
       "  [(0, 3059), 'ghb_yellow', 86.4, 'yellow'],\n",
       "  [(0, 3060), 'ghb_yellow', 86.4, 'yellow'],\n",
       "  [(0, 3072), 'ghb_yellow', 86.4, 'yellow'],\n",
       "  [(0, 3073), 'ghb_yellow', 86.4, 'yellow'],\n",
       "  [(0, 3074), 'ghb_yellow', 86.4, 'yellow'],\n",
       "  [(0, 3075), 'ghb_yellow', 86.4, 'yellow'],\n",
       "  [(0, 3076), 'ghb_yellow', 86.4, 'yellow'],\n",
       "  [(0, 3077), 'ghb_yellow', 86.4, 'yellow'],\n",
       "  [(0, 3078), 'ghb_yellow', 86.4, 'yellow'],\n",
       "  [(0, 3079), 'ghb_yellow', 86.4, 'yellow'],\n",
       "  [(0, 3080), 'ghb_yellow', 86.4, 'yellow'],\n",
       "  [(0, 3081), 'ghb_yellow', 86.4, 'yellow'],\n",
       "  [(0, 3082), 'ghb_yellow', 86.4, 'yellow'],\n",
       "  [(0, 3083), 'ghb_yellow', 86.4, 'yellow'],\n",
       "  [(0, 3084), 'ghb_yellow', 86.4, 'yellow'],\n",
       "  [(0, 3085), 'ghb_yellow', 86.4, 'yellow'],\n",
       "  [(0, 3086), 'ghb_yellow', 86.4, 'yellow'],\n",
       "  [(0, 3087), 'ghb_yellow', 86.4, 'yellow'],\n",
       "  [(0, 3088), 'ghb_yellow', 86.4, 'yellow'],\n",
       "  [(0, 3089), 'ghb_yellow', 86.4, 'yellow'],\n",
       "  [(0, 2801), 'ghb_limegreen', 86.4, 'limegreen'],\n",
       "  [(0, 2867), 'ghb_limegreen', 86.4, 'limegreen'],\n",
       "  [(0, 2868), 'ghb_limegreen', 86.4, 'limegreen'],\n",
       "  [(0, 2925), 'ghb_limegreen', 86.4, 'limegreen'],\n",
       "  [(0, 2926), 'ghb_limegreen', 86.4, 'limegreen'],\n",
       "  [(0, 2977), 'ghb_limegreen', 86.4, 'limegreen'],\n",
       "  [(0, 2978), 'ghb_limegreen', 86.4, 'limegreen'],\n",
       "  [(0, 3015), 'ghb_limegreen', 86.4, 'limegreen'],\n",
       "  [(0, 3016), 'ghb_limegreen', 86.4, 'limegreen'],\n",
       "  [(0, 3050), 'ghb_limegreen', 86.4, 'limegreen'],\n",
       "  [(0, 3051), 'ghb_limegreen', 86.4, 'limegreen'],\n",
       "  [(0, 3052), 'ghb_limegreen', 86.4, 'limegreen'],\n",
       "  [(0, 3053), 'ghb_limegreen', 86.4, 'limegreen'],\n",
       "  [(0, 3054), 'ghb_limegreen', 86.4, 'limegreen'],\n",
       "  [(0, 3055), 'ghb_limegreen', 86.4, 'limegreen'],\n",
       "  [(0, 3056), 'ghb_limegreen', 86.4, 'limegreen'],\n",
       "  [(0, 0), 'ghb_royalblue', 86.4, 'royalblue'],\n",
       "  [(0, 21), 'ghb_royalblue', 86.4, 'royalblue'],\n",
       "  [(0, 22), 'ghb_royalblue', 86.4, 'royalblue'],\n",
       "  [(0, 49), 'ghb_royalblue', 86.4, 'royalblue'],\n",
       "  [(0, 50), 'ghb_royalblue', 86.4, 'royalblue'],\n",
       "  [(0, 82), 'ghb_royalblue', 86.4, 'royalblue'],\n",
       "  [(0, 83), 'ghb_royalblue', 86.4, 'royalblue'],\n",
       "  [(0, 114), 'ghb_royalblue', 86.4, 'royalblue'],\n",
       "  [(0, 115), 'ghb_royalblue', 86.4, 'royalblue'],\n",
       "  [(0, 148), 'ghb_royalblue', 86.4, 'royalblue'],\n",
       "  [(0, 149), 'ghb_royalblue', 86.4, 'royalblue'],\n",
       "  [(0, 184), 'ghb_royalblue', 86.4, 'royalblue'],\n",
       "  [(0, 185), 'ghb_royalblue', 86.4, 'royalblue'],\n",
       "  [(0, 222), 'ghb_royalblue', 86.4, 'royalblue'],\n",
       "  [(0, 223), 'ghb_royalblue', 86.4, 'royalblue'],\n",
       "  [(0, 262), 'ghb_royalblue', 86.4, 'royalblue'],\n",
       "  [(0, 263), 'ghb_royalblue', 86.4, 'royalblue'],\n",
       "  [(0, 345), 'ghb_royalblue', 86.4, 'royalblue'],\n",
       "  [(0, 429), 'ghb_royalblue', 86.4, 'royalblue'],\n",
       "  [(0, 505), 'ghb_royalblue', 86.4, 'royalblue'],\n",
       "  [(0, 585), 'ghb_royalblue', 86.4, 'royalblue'],\n",
       "  [(0, 666), 'ghb_royalblue', 86.4, 'royalblue'],\n",
       "  [(0, 748), 'ghb_royalblue', 86.4, 'royalblue'],\n",
       "  [(0, 831), 'ghb_royalblue', 86.4, 'royalblue'],\n",
       "  [(0, 914), 'ghb_royalblue', 86.4, 'royalblue'],\n",
       "  [(0, 915), 'ghb_royalblue', 86.4, 'royalblue'],\n",
       "  [(0, 1000), 'ghb_royalblue', 86.4, 'royalblue'],\n",
       "  [(0, 1001), 'ghb_royalblue', 86.4, 'royalblue'],\n",
       "  [(0, 1082), 'ghb_royalblue', 86.4, 'royalblue'],\n",
       "  [(0, 1083), 'ghb_royalblue', 86.4, 'royalblue'],\n",
       "  [(0, 1166), 'ghb_royalblue', 86.4, 'royalblue'],\n",
       "  [(0, 1167), 'ghb_royalblue', 86.4, 'royalblue'],\n",
       "  [(0, 1258), 'ghb_royalblue', 86.4, 'royalblue'],\n",
       "  [(0, 1259), 'ghb_royalblue', 86.4, 'royalblue'],\n",
       "  [(0, 1355), 'ghb_royalblue', 86.4, 'royalblue'],\n",
       "  [(0, 1356), 'ghb_royalblue', 86.4, 'royalblue'],\n",
       "  [(0, 1445), 'ghb_royalblue', 86.4, 'royalblue'],\n",
       "  [(0, 1446), 'ghb_royalblue', 86.4, 'royalblue'],\n",
       "  [(0, 1546), 'ghb_royalblue', 86.4, 'royalblue'],\n",
       "  [(0, 1547), 'ghb_royalblue', 86.4, 'royalblue'],\n",
       "  [(0, 1646), 'ghb_royalblue', 86.4, 'royalblue'],\n",
       "  [(0, 1647), 'ghb_royalblue', 86.4, 'royalblue'],\n",
       "  [(0, 1763), 'ghb_royalblue', 86.4, 'royalblue'],\n",
       "  [(0, 1764), 'ghb_royalblue', 86.4, 'royalblue'],\n",
       "  [(0, 1846), 'ghb_royalblue', 86.4, 'royalblue'],\n",
       "  [(0, 1847), 'ghb_royalblue', 86.4, 'royalblue'],\n",
       "  [(0, 1919), 'ghb_royalblue', 86.4, 'royalblue'],\n",
       "  [(0, 1920), 'ghb_royalblue', 86.4, 'royalblue'],\n",
       "  [(0, 1994), 'ghb_royalblue', 86.4, 'royalblue'],\n",
       "  [(0, 1995), 'ghb_royalblue', 86.4, 'royalblue'],\n",
       "  [(0, 2068), 'ghb_royalblue', 86.4, 'royalblue'],\n",
       "  [(0, 2069), 'ghb_royalblue', 86.4, 'royalblue'],\n",
       "  [(0, 2141), 'ghb_royalblue', 86.4, 'royalblue'],\n",
       "  [(0, 2142), 'ghb_royalblue', 86.4, 'royalblue'],\n",
       "  [(0, 2210), 'ghb_royalblue', 86.4, 'royalblue'],\n",
       "  [(0, 2211), 'ghb_royalblue', 86.4, 'royalblue'],\n",
       "  [(0, 2281), 'ghb_royalblue', 86.4, 'royalblue'],\n",
       "  [(0, 2282), 'ghb_royalblue', 86.4, 'royalblue'],\n",
       "  [(0, 2387), 'ghb_royalblue', 86.4, 'royalblue'],\n",
       "  [(0, 2388), 'ghb_royalblue', 86.4, 'royalblue'],\n",
       "  [(0, 2498), 'ghb_royalblue', 86.4, 'royalblue'],\n",
       "  [(0, 2499), 'ghb_royalblue', 86.4, 'royalblue'],\n",
       "  [(0, 2584), 'ghb_royalblue', 86.4, 'royalblue'],\n",
       "  [(0, 2585), 'ghb_royalblue', 86.4, 'royalblue'],\n",
       "  [(0, 2670), 'ghb_royalblue', 86.4, 'royalblue'],\n",
       "  [(0, 2671), 'ghb_royalblue', 86.4, 'royalblue'],\n",
       "  [(0, 2736), 'ghb_royalblue', 86.4, 'royalblue'],\n",
       "  [(0, 2737), 'ghb_royalblue', 86.4, 'royalblue'],\n",
       "  [(0, 2800), 'ghb_royalblue', 86.4, 'royalblue'],\n",
       "  [(0, 2801), 'ghb_royalblue', 86.4, 'royalblue'],\n",
       "  [(0, 0), 'ghb_blueviolet', 86.4, 'blueviolet'],\n",
       "  [(0, 1), 'ghb_blueviolet', 86.4, 'blueviolet'],\n",
       "  [(0, 2), 'ghb_blueviolet', 86.4, 'blueviolet'],\n",
       "  [(0, 3), 'ghb_blueviolet', 86.4, 'blueviolet'],\n",
       "  [(0, 4), 'ghb_blueviolet', 86.4, 'blueviolet'],\n",
       "  [(0, 5), 'ghb_blueviolet', 86.4, 'blueviolet'],\n",
       "  [(0, 6), 'ghb_blueviolet', 86.4, 'blueviolet'],\n",
       "  [(0, 7), 'ghb_blueviolet', 86.4, 'blueviolet'],\n",
       "  [(0, 8), 'ghb_blueviolet', 86.4, 'blueviolet'],\n",
       "  [(0, 9), 'ghb_blueviolet', 86.4, 'blueviolet'],\n",
       "  [(0, 10), 'ghb_blueviolet', 86.4, 'blueviolet'],\n",
       "  [(0, 11), 'ghb_blueviolet', 86.4, 'blueviolet'],\n",
       "  [(0, 12), 'ghb_blueviolet', 86.4, 'blueviolet'],\n",
       "  [(0, 13), 'ghb_blueviolet', 86.4, 'blueviolet'],\n",
       "  [(0, 14), 'ghb_blueviolet', 86.4, 'blueviolet'],\n",
       "  [(0, 15), 'ghb_blueviolet', 86.4, 'blueviolet'],\n",
       "  [(0, 16), 'ghb_blueviolet', 86.4, 'blueviolet'],\n",
       "  [(0, 17), 'ghb_blueviolet', 86.4, 'blueviolet'],\n",
       "  [(0, 18), 'ghb_blueviolet', 86.4, 'blueviolet'],\n",
       "  [(0, 19), 'ghb_blueviolet', 86.4, 'blueviolet'],\n",
       "  [(0, 20), 'ghb_blueviolet', 86.4, 'blueviolet'],\n",
       "  [(0, 47), 'ghb_blueviolet', 86.4, 'blueviolet'],\n",
       "  [(0, 48), 'ghb_blueviolet', 86.4, 'blueviolet'],\n",
       "  [(0, 80), 'ghb_blueviolet', 86.4, 'blueviolet'],\n",
       "  [(0, 81), 'ghb_blueviolet', 86.4, 'blueviolet'],\n",
       "  [(0, 112), 'ghb_blueviolet', 86.4, 'blueviolet'],\n",
       "  [(0, 113), 'ghb_blueviolet', 86.4, 'blueviolet'],\n",
       "  [(0, 146), 'ghb_blueviolet', 86.4, 'blueviolet'],\n",
       "  [(0, 147), 'ghb_blueviolet', 86.4, 'blueviolet'],\n",
       "  [(0, 182), 'ghb_blueviolet', 86.4, 'blueviolet'],\n",
       "  [(0, 183), 'ghb_blueviolet', 86.4, 'blueviolet'],\n",
       "  [(0, 220), 'ghb_blueviolet', 86.4, 'blueviolet'],\n",
       "  [(0, 221), 'ghb_blueviolet', 86.4, 'blueviolet'],\n",
       "  [(0, 260), 'ghb_blueviolet', 86.4, 'blueviolet'],\n",
       "  [(0, 261), 'ghb_blueviolet', 86.4, 'blueviolet'],\n",
       "  [(0, 308), 'ghb_blueviolet', 86.4, 'blueviolet'],\n",
       "  [(0, 309), 'ghb_blueviolet', 86.4, 'blueviolet'],\n",
       "  [(0, 310), 'ghb_blueviolet', 86.4, 'blueviolet'],\n",
       "  [(0, 311), 'ghb_blueviolet', 86.4, 'blueviolet'],\n",
       "  [(0, 312), 'ghb_blueviolet', 86.4, 'blueviolet'],\n",
       "  [(0, 313), 'ghb_blueviolet', 86.4, 'blueviolet'],\n",
       "  [(0, 314), 'ghb_blueviolet', 86.4, 'blueviolet'],\n",
       "  [(0, 315), 'ghb_blueviolet', 86.4, 'blueviolet'],\n",
       "  [(0, 315), 'ghb_magenta', 86.4, 'magenta'],\n",
       "  [(0, 316), 'ghb_magenta', 86.4, 'magenta'],\n",
       "  [(0, 317), 'ghb_magenta', 86.4, 'magenta'],\n",
       "  [(0, 318), 'ghb_magenta', 86.4, 'magenta'],\n",
       "  [(0, 319), 'ghb_magenta', 86.4, 'magenta'],\n",
       "  [(0, 320), 'ghb_magenta', 86.4, 'magenta'],\n",
       "  [(0, 321), 'ghb_magenta', 86.4, 'magenta'],\n",
       "  [(0, 322), 'ghb_magenta', 86.4, 'magenta'],\n",
       "  [(0, 323), 'ghb_magenta', 86.4, 'magenta'],\n",
       "  [(0, 324), 'ghb_magenta', 86.4, 'magenta'],\n",
       "  [(0, 325), 'ghb_magenta', 86.4, 'magenta'],\n",
       "  [(0, 326), 'ghb_magenta', 86.4, 'magenta'],\n",
       "  [(0, 327), 'ghb_magenta', 86.4, 'magenta'],\n",
       "  [(0, 328), 'ghb_magenta', 86.4, 'magenta'],\n",
       "  [(0, 329), 'ghb_magenta', 86.4, 'magenta'],\n",
       "  [(0, 330), 'ghb_magenta', 86.4, 'magenta'],\n",
       "  [(0, 331), 'ghb_magenta', 86.4, 'magenta'],\n",
       "  [(0, 332), 'ghb_magenta', 86.4, 'magenta'],\n",
       "  [(0, 333), 'ghb_magenta', 86.4, 'magenta'],\n",
       "  [(0, 334), 'ghb_magenta', 86.4, 'magenta'],\n",
       "  [(0, 335), 'ghb_magenta', 86.4, 'magenta'],\n",
       "  [(0, 336), 'ghb_magenta', 86.4, 'magenta'],\n",
       "  [(0, 337), 'ghb_magenta', 86.4, 'magenta'],\n",
       "  [(0, 338), 'ghb_magenta', 86.4, 'magenta'],\n",
       "  [(0, 339), 'ghb_magenta', 86.4, 'magenta'],\n",
       "  [(0, 340), 'ghb_magenta', 86.4, 'magenta'],\n",
       "  [(0, 341), 'ghb_magenta', 86.4, 'magenta'],\n",
       "  [(0, 342), 'ghb_magenta', 86.4, 'magenta'],\n",
       "  [(0, 343), 'ghb_magenta', 86.4, 'magenta']]}"
      ]
     },
     "execution_count": 49,
     "metadata": {},
     "output_type": "execute_result"
    }
   ],
   "source": [
    "ghb_new_spd"
   ]
  },
  {
   "cell_type": "markdown",
   "metadata": {},
   "source": [
    "Remove old GHB package:"
   ]
  },
  {
   "cell_type": "code",
   "execution_count": 50,
   "metadata": {},
   "outputs": [],
   "source": [
    "gwf.remove_package('ghb')"
   ]
  },
  {
   "cell_type": "markdown",
   "metadata": {},
   "source": [
    "Instantiate new GHB package:"
   ]
  },
  {
   "cell_type": "code",
   "execution_count": 51,
   "metadata": {},
   "outputs": [],
   "source": [
    "ghb = flopy.mf6.modflow.mfgwfghb.ModflowGwfghb(\n",
    "    gwf,\n",
    "    print_input=True,\n",
    "    print_flows=True,\n",
    "    save_flows=True,\n",
    "    boundnames=True, \n",
    "    pname='ghb',\n",
    "    stress_period_data=ghb_new_spd\n",
    ")"
   ]
  },
  {
   "cell_type": "markdown",
   "metadata": {},
   "source": [
    "Display the new data structure:"
   ]
  },
  {
   "cell_type": "code",
   "execution_count": 52,
   "metadata": {},
   "outputs": [
    {
     "data": {
      "text/plain": [
       "{0: rec.array([((0, 343), 'ghb_red', 86.4, 'red'),\n",
       "            ((0, 344), 'ghb_red', 86.4, 'red'),\n",
       "            ((0, 427), 'ghb_red', 86.4, 'red'),\n",
       "            ((0, 428), 'ghb_red', 86.4, 'red'),\n",
       "            ((0, 503), 'ghb_red', 86.4, 'red'),\n",
       "            ((0, 504), 'ghb_red', 86.4, 'red'),\n",
       "            ((0, 583), 'ghb_red', 86.4, 'red'),\n",
       "            ((0, 584), 'ghb_red', 86.4, 'red'),\n",
       "            ((0, 664), 'ghb_red', 86.4, 'red'),\n",
       "            ((0, 665), 'ghb_red', 86.4, 'red'),\n",
       "            ((0, 746), 'ghb_red', 86.4, 'red'),\n",
       "            ((0, 747), 'ghb_red', 86.4, 'red'),\n",
       "            ((0, 829), 'ghb_red', 86.4, 'red'),\n",
       "            ((0, 830), 'ghb_red', 86.4, 'red'),\n",
       "            ((0, 913), 'ghb_red', 86.4, 'red'),\n",
       "            ((0, 999), 'ghb_red', 86.4, 'red'),\n",
       "            ((0, 1081), 'ghb_red', 86.4, 'red'),\n",
       "            ((0, 1165), 'ghb_red', 86.4, 'red'),\n",
       "            ((0, 1257), 'ghb_red', 86.4, 'red'),\n",
       "            ((0, 1354), 'ghb_red', 86.4, 'red'),\n",
       "            ((0, 1444), 'ghb_red', 86.4, 'red'),\n",
       "            ((0, 1545), 'ghb_red', 86.4, 'red'),\n",
       "            ((0, 1645), 'ghb_red', 86.4, 'red'),\n",
       "            ((0, 1762), 'ghb_red', 86.4, 'red'),\n",
       "            ((0, 1845), 'ghb_red', 86.4, 'red'),\n",
       "            ((0, 1918), 'ghb_red', 86.4, 'red'),\n",
       "            ((0, 1993), 'ghb_red', 86.4, 'red'),\n",
       "            ((0, 2067), 'ghb_red', 86.4, 'red'),\n",
       "            ((0, 2140), 'ghb_red', 86.4, 'red'),\n",
       "            ((0, 2209), 'ghb_red', 86.4, 'red'),\n",
       "            ((0, 2280), 'ghb_red', 86.4, 'red'),\n",
       "            ((0, 2386), 'ghb_red', 86.4, 'red'),\n",
       "            ((0, 2386), 'ghb_orange', 86.4, 'orange'),\n",
       "            ((0, 2497), 'ghb_orange', 86.4, 'orange'),\n",
       "            ((0, 2583), 'ghb_orange', 86.4, 'orange'),\n",
       "            ((0, 2668), 'ghb_orange', 86.4, 'orange'),\n",
       "            ((0, 2669), 'ghb_orange', 86.4, 'orange'),\n",
       "            ((0, 2734), 'ghb_orange', 86.4, 'orange'),\n",
       "            ((0, 2735), 'ghb_orange', 86.4, 'orange'),\n",
       "            ((0, 2798), 'ghb_orange', 86.4, 'orange'),\n",
       "            ((0, 2799), 'ghb_orange', 86.4, 'orange'),\n",
       "            ((0, 2791), 'ghb_yellow', 86.4, 'yellow'),\n",
       "            ((0, 2792), 'ghb_yellow', 86.4, 'yellow'),\n",
       "            ((0, 2793), 'ghb_yellow', 86.4, 'yellow'),\n",
       "            ((0, 2794), 'ghb_yellow', 86.4, 'yellow'),\n",
       "            ((0, 2795), 'ghb_yellow', 86.4, 'yellow'),\n",
       "            ((0, 2796), 'ghb_yellow', 86.4, 'yellow'),\n",
       "            ((0, 2797), 'ghb_yellow', 86.4, 'yellow'),\n",
       "            ((0, 2798), 'ghb_yellow', 86.4, 'yellow'),\n",
       "            ((0, 2864), 'ghb_yellow', 86.4, 'yellow'),\n",
       "            ((0, 2865), 'ghb_yellow', 86.4, 'yellow'),\n",
       "            ((0, 2866), 'ghb_yellow', 86.4, 'yellow'),\n",
       "            ((0, 2922), 'ghb_yellow', 86.4, 'yellow'),\n",
       "            ((0, 2923), 'ghb_yellow', 86.4, 'yellow'),\n",
       "            ((0, 2924), 'ghb_yellow', 86.4, 'yellow'),\n",
       "            ((0, 2975), 'ghb_yellow', 86.4, 'yellow'),\n",
       "            ((0, 2976), 'ghb_yellow', 86.4, 'yellow'),\n",
       "            ((0, 3012), 'ghb_yellow', 86.4, 'yellow'),\n",
       "            ((0, 3013), 'ghb_yellow', 86.4, 'yellow'),\n",
       "            ((0, 3014), 'ghb_yellow', 86.4, 'yellow'),\n",
       "            ((0, 3022), 'ghb_yellow', 86.4, 'yellow'),\n",
       "            ((0, 3023), 'ghb_yellow', 86.4, 'yellow'),\n",
       "            ((0, 3024), 'ghb_yellow', 86.4, 'yellow'),\n",
       "            ((0, 3025), 'ghb_yellow', 86.4, 'yellow'),\n",
       "            ((0, 3026), 'ghb_yellow', 86.4, 'yellow'),\n",
       "            ((0, 3027), 'ghb_yellow', 86.4, 'yellow'),\n",
       "            ((0, 3028), 'ghb_yellow', 86.4, 'yellow'),\n",
       "            ((0, 3047), 'ghb_yellow', 86.4, 'yellow'),\n",
       "            ((0, 3048), 'ghb_yellow', 86.4, 'yellow'),\n",
       "            ((0, 3049), 'ghb_yellow', 86.4, 'yellow'),\n",
       "            ((0, 3056), 'ghb_yellow', 86.4, 'yellow'),\n",
       "            ((0, 3057), 'ghb_yellow', 86.4, 'yellow'),\n",
       "            ((0, 3058), 'ghb_yellow', 86.4, 'yellow'),\n",
       "            ((0, 3059), 'ghb_yellow', 86.4, 'yellow'),\n",
       "            ((0, 3060), 'ghb_yellow', 86.4, 'yellow'),\n",
       "            ((0, 3072), 'ghb_yellow', 86.4, 'yellow'),\n",
       "            ((0, 3073), 'ghb_yellow', 86.4, 'yellow'),\n",
       "            ((0, 3074), 'ghb_yellow', 86.4, 'yellow'),\n",
       "            ((0, 3075), 'ghb_yellow', 86.4, 'yellow'),\n",
       "            ((0, 3076), 'ghb_yellow', 86.4, 'yellow'),\n",
       "            ((0, 3077), 'ghb_yellow', 86.4, 'yellow'),\n",
       "            ((0, 3078), 'ghb_yellow', 86.4, 'yellow'),\n",
       "            ((0, 3079), 'ghb_yellow', 86.4, 'yellow'),\n",
       "            ((0, 3080), 'ghb_yellow', 86.4, 'yellow'),\n",
       "            ((0, 3081), 'ghb_yellow', 86.4, 'yellow'),\n",
       "            ((0, 3082), 'ghb_yellow', 86.4, 'yellow'),\n",
       "            ((0, 3083), 'ghb_yellow', 86.4, 'yellow'),\n",
       "            ((0, 3084), 'ghb_yellow', 86.4, 'yellow'),\n",
       "            ((0, 3085), 'ghb_yellow', 86.4, 'yellow'),\n",
       "            ((0, 3086), 'ghb_yellow', 86.4, 'yellow'),\n",
       "            ((0, 3087), 'ghb_yellow', 86.4, 'yellow'),\n",
       "            ((0, 3088), 'ghb_yellow', 86.4, 'yellow'),\n",
       "            ((0, 3089), 'ghb_yellow', 86.4, 'yellow'),\n",
       "            ((0, 2801), 'ghb_limegreen', 86.4, 'limegreen'),\n",
       "            ((0, 2867), 'ghb_limegreen', 86.4, 'limegreen'),\n",
       "            ((0, 2868), 'ghb_limegreen', 86.4, 'limegreen'),\n",
       "            ((0, 2925), 'ghb_limegreen', 86.4, 'limegreen'),\n",
       "            ((0, 2926), 'ghb_limegreen', 86.4, 'limegreen'),\n",
       "            ((0, 2977), 'ghb_limegreen', 86.4, 'limegreen'),\n",
       "            ((0, 2978), 'ghb_limegreen', 86.4, 'limegreen'),\n",
       "            ((0, 3015), 'ghb_limegreen', 86.4, 'limegreen'),\n",
       "            ((0, 3016), 'ghb_limegreen', 86.4, 'limegreen'),\n",
       "            ((0, 3050), 'ghb_limegreen', 86.4, 'limegreen'),\n",
       "            ((0, 3051), 'ghb_limegreen', 86.4, 'limegreen'),\n",
       "            ((0, 3052), 'ghb_limegreen', 86.4, 'limegreen'),\n",
       "            ((0, 3053), 'ghb_limegreen', 86.4, 'limegreen'),\n",
       "            ((0, 3054), 'ghb_limegreen', 86.4, 'limegreen'),\n",
       "            ((0, 3055), 'ghb_limegreen', 86.4, 'limegreen'),\n",
       "            ((0, 3056), 'ghb_limegreen', 86.4, 'limegreen'),\n",
       "            ((0, 0), 'ghb_royalblue', 86.4, 'royalblue'),\n",
       "            ((0, 21), 'ghb_royalblue', 86.4, 'royalblue'),\n",
       "            ((0, 22), 'ghb_royalblue', 86.4, 'royalblue'),\n",
       "            ((0, 49), 'ghb_royalblue', 86.4, 'royalblue'),\n",
       "            ((0, 50), 'ghb_royalblue', 86.4, 'royalblue'),\n",
       "            ((0, 82), 'ghb_royalblue', 86.4, 'royalblue'),\n",
       "            ((0, 83), 'ghb_royalblue', 86.4, 'royalblue'),\n",
       "            ((0, 114), 'ghb_royalblue', 86.4, 'royalblue'),\n",
       "            ((0, 115), 'ghb_royalblue', 86.4, 'royalblue'),\n",
       "            ((0, 148), 'ghb_royalblue', 86.4, 'royalblue'),\n",
       "            ((0, 149), 'ghb_royalblue', 86.4, 'royalblue'),\n",
       "            ((0, 184), 'ghb_royalblue', 86.4, 'royalblue'),\n",
       "            ((0, 185), 'ghb_royalblue', 86.4, 'royalblue'),\n",
       "            ((0, 222), 'ghb_royalblue', 86.4, 'royalblue'),\n",
       "            ((0, 223), 'ghb_royalblue', 86.4, 'royalblue'),\n",
       "            ((0, 262), 'ghb_royalblue', 86.4, 'royalblue'),\n",
       "            ((0, 263), 'ghb_royalblue', 86.4, 'royalblue'),\n",
       "            ((0, 345), 'ghb_royalblue', 86.4, 'royalblue'),\n",
       "            ((0, 429), 'ghb_royalblue', 86.4, 'royalblue'),\n",
       "            ((0, 505), 'ghb_royalblue', 86.4, 'royalblue'),\n",
       "            ((0, 585), 'ghb_royalblue', 86.4, 'royalblue'),\n",
       "            ((0, 666), 'ghb_royalblue', 86.4, 'royalblue'),\n",
       "            ((0, 748), 'ghb_royalblue', 86.4, 'royalblue'),\n",
       "            ((0, 831), 'ghb_royalblue', 86.4, 'royalblue'),\n",
       "            ((0, 914), 'ghb_royalblue', 86.4, 'royalblue'),\n",
       "            ((0, 915), 'ghb_royalblue', 86.4, 'royalblue'),\n",
       "            ((0, 1000), 'ghb_royalblue', 86.4, 'royalblue'),\n",
       "            ((0, 1001), 'ghb_royalblue', 86.4, 'royalblue'),\n",
       "            ((0, 1082), 'ghb_royalblue', 86.4, 'royalblue'),\n",
       "            ((0, 1083), 'ghb_royalblue', 86.4, 'royalblue'),\n",
       "            ((0, 1166), 'ghb_royalblue', 86.4, 'royalblue'),\n",
       "            ((0, 1167), 'ghb_royalblue', 86.4, 'royalblue'),\n",
       "            ((0, 1258), 'ghb_royalblue', 86.4, 'royalblue'),\n",
       "            ((0, 1259), 'ghb_royalblue', 86.4, 'royalblue'),\n",
       "            ((0, 1355), 'ghb_royalblue', 86.4, 'royalblue'),\n",
       "            ((0, 1356), 'ghb_royalblue', 86.4, 'royalblue'),\n",
       "            ((0, 1445), 'ghb_royalblue', 86.4, 'royalblue'),\n",
       "            ((0, 1446), 'ghb_royalblue', 86.4, 'royalblue'),\n",
       "            ((0, 1546), 'ghb_royalblue', 86.4, 'royalblue'),\n",
       "            ((0, 1547), 'ghb_royalblue', 86.4, 'royalblue'),\n",
       "            ((0, 1646), 'ghb_royalblue', 86.4, 'royalblue'),\n",
       "            ((0, 1647), 'ghb_royalblue', 86.4, 'royalblue'),\n",
       "            ((0, 1763), 'ghb_royalblue', 86.4, 'royalblue'),\n",
       "            ((0, 1764), 'ghb_royalblue', 86.4, 'royalblue'),\n",
       "            ((0, 1846), 'ghb_royalblue', 86.4, 'royalblue'),\n",
       "            ((0, 1847), 'ghb_royalblue', 86.4, 'royalblue'),\n",
       "            ((0, 1919), 'ghb_royalblue', 86.4, 'royalblue'),\n",
       "            ((0, 1920), 'ghb_royalblue', 86.4, 'royalblue'),\n",
       "            ((0, 1994), 'ghb_royalblue', 86.4, 'royalblue'),\n",
       "            ((0, 1995), 'ghb_royalblue', 86.4, 'royalblue'),\n",
       "            ((0, 2068), 'ghb_royalblue', 86.4, 'royalblue'),\n",
       "            ((0, 2069), 'ghb_royalblue', 86.4, 'royalblue'),\n",
       "            ((0, 2141), 'ghb_royalblue', 86.4, 'royalblue'),\n",
       "            ((0, 2142), 'ghb_royalblue', 86.4, 'royalblue'),\n",
       "            ((0, 2210), 'ghb_royalblue', 86.4, 'royalblue'),\n",
       "            ((0, 2211), 'ghb_royalblue', 86.4, 'royalblue'),\n",
       "            ((0, 2281), 'ghb_royalblue', 86.4, 'royalblue'),\n",
       "            ((0, 2282), 'ghb_royalblue', 86.4, 'royalblue'),\n",
       "            ((0, 2387), 'ghb_royalblue', 86.4, 'royalblue'),\n",
       "            ((0, 2388), 'ghb_royalblue', 86.4, 'royalblue'),\n",
       "            ((0, 2498), 'ghb_royalblue', 86.4, 'royalblue'),\n",
       "            ((0, 2499), 'ghb_royalblue', 86.4, 'royalblue'),\n",
       "            ((0, 2584), 'ghb_royalblue', 86.4, 'royalblue'),\n",
       "            ((0, 2585), 'ghb_royalblue', 86.4, 'royalblue'),\n",
       "            ((0, 2670), 'ghb_royalblue', 86.4, 'royalblue'),\n",
       "            ((0, 2671), 'ghb_royalblue', 86.4, 'royalblue'),\n",
       "            ((0, 2736), 'ghb_royalblue', 86.4, 'royalblue'),\n",
       "            ((0, 2737), 'ghb_royalblue', 86.4, 'royalblue'),\n",
       "            ((0, 2800), 'ghb_royalblue', 86.4, 'royalblue'),\n",
       "            ((0, 2801), 'ghb_royalblue', 86.4, 'royalblue'),\n",
       "            ((0, 0), 'ghb_blueviolet', 86.4, 'blueviolet'),\n",
       "            ((0, 1), 'ghb_blueviolet', 86.4, 'blueviolet'),\n",
       "            ((0, 2), 'ghb_blueviolet', 86.4, 'blueviolet'),\n",
       "            ((0, 3), 'ghb_blueviolet', 86.4, 'blueviolet'),\n",
       "            ((0, 4), 'ghb_blueviolet', 86.4, 'blueviolet'),\n",
       "            ((0, 5), 'ghb_blueviolet', 86.4, 'blueviolet'),\n",
       "            ((0, 6), 'ghb_blueviolet', 86.4, 'blueviolet'),\n",
       "            ((0, 7), 'ghb_blueviolet', 86.4, 'blueviolet'),\n",
       "            ((0, 8), 'ghb_blueviolet', 86.4, 'blueviolet'),\n",
       "            ((0, 9), 'ghb_blueviolet', 86.4, 'blueviolet'),\n",
       "            ((0, 10), 'ghb_blueviolet', 86.4, 'blueviolet'),\n",
       "            ((0, 11), 'ghb_blueviolet', 86.4, 'blueviolet'),\n",
       "            ((0, 12), 'ghb_blueviolet', 86.4, 'blueviolet'),\n",
       "            ((0, 13), 'ghb_blueviolet', 86.4, 'blueviolet'),\n",
       "            ((0, 14), 'ghb_blueviolet', 86.4, 'blueviolet'),\n",
       "            ((0, 15), 'ghb_blueviolet', 86.4, 'blueviolet'),\n",
       "            ((0, 16), 'ghb_blueviolet', 86.4, 'blueviolet'),\n",
       "            ((0, 17), 'ghb_blueviolet', 86.4, 'blueviolet'),\n",
       "            ((0, 18), 'ghb_blueviolet', 86.4, 'blueviolet'),\n",
       "            ((0, 19), 'ghb_blueviolet', 86.4, 'blueviolet'),\n",
       "            ((0, 20), 'ghb_blueviolet', 86.4, 'blueviolet'),\n",
       "            ((0, 47), 'ghb_blueviolet', 86.4, 'blueviolet'),\n",
       "            ((0, 48), 'ghb_blueviolet', 86.4, 'blueviolet'),\n",
       "            ((0, 80), 'ghb_blueviolet', 86.4, 'blueviolet'),\n",
       "            ((0, 81), 'ghb_blueviolet', 86.4, 'blueviolet'),\n",
       "            ((0, 112), 'ghb_blueviolet', 86.4, 'blueviolet'),\n",
       "            ((0, 113), 'ghb_blueviolet', 86.4, 'blueviolet'),\n",
       "            ((0, 146), 'ghb_blueviolet', 86.4, 'blueviolet'),\n",
       "            ((0, 147), 'ghb_blueviolet', 86.4, 'blueviolet'),\n",
       "            ((0, 182), 'ghb_blueviolet', 86.4, 'blueviolet'),\n",
       "            ((0, 183), 'ghb_blueviolet', 86.4, 'blueviolet'),\n",
       "            ((0, 220), 'ghb_blueviolet', 86.4, 'blueviolet'),\n",
       "            ((0, 221), 'ghb_blueviolet', 86.4, 'blueviolet'),\n",
       "            ((0, 260), 'ghb_blueviolet', 86.4, 'blueviolet'),\n",
       "            ((0, 261), 'ghb_blueviolet', 86.4, 'blueviolet'),\n",
       "            ((0, 308), 'ghb_blueviolet', 86.4, 'blueviolet'),\n",
       "            ((0, 309), 'ghb_blueviolet', 86.4, 'blueviolet'),\n",
       "            ((0, 310), 'ghb_blueviolet', 86.4, 'blueviolet'),\n",
       "            ((0, 311), 'ghb_blueviolet', 86.4, 'blueviolet'),\n",
       "            ((0, 312), 'ghb_blueviolet', 86.4, 'blueviolet'),\n",
       "            ((0, 313), 'ghb_blueviolet', 86.4, 'blueviolet'),\n",
       "            ((0, 314), 'ghb_blueviolet', 86.4, 'blueviolet'),\n",
       "            ((0, 315), 'ghb_blueviolet', 86.4, 'blueviolet'),\n",
       "            ((0, 315), 'ghb_magenta', 86.4, 'magenta'),\n",
       "            ((0, 316), 'ghb_magenta', 86.4, 'magenta'),\n",
       "            ((0, 317), 'ghb_magenta', 86.4, 'magenta'),\n",
       "            ((0, 318), 'ghb_magenta', 86.4, 'magenta'),\n",
       "            ((0, 319), 'ghb_magenta', 86.4, 'magenta'),\n",
       "            ((0, 320), 'ghb_magenta', 86.4, 'magenta'),\n",
       "            ((0, 321), 'ghb_magenta', 86.4, 'magenta'),\n",
       "            ((0, 322), 'ghb_magenta', 86.4, 'magenta'),\n",
       "            ((0, 323), 'ghb_magenta', 86.4, 'magenta'),\n",
       "            ((0, 324), 'ghb_magenta', 86.4, 'magenta'),\n",
       "            ((0, 325), 'ghb_magenta', 86.4, 'magenta'),\n",
       "            ((0, 326), 'ghb_magenta', 86.4, 'magenta'),\n",
       "            ((0, 327), 'ghb_magenta', 86.4, 'magenta'),\n",
       "            ((0, 328), 'ghb_magenta', 86.4, 'magenta'),\n",
       "            ((0, 329), 'ghb_magenta', 86.4, 'magenta'),\n",
       "            ((0, 330), 'ghb_magenta', 86.4, 'magenta'),\n",
       "            ((0, 331), 'ghb_magenta', 86.4, 'magenta'),\n",
       "            ((0, 332), 'ghb_magenta', 86.4, 'magenta'),\n",
       "            ((0, 333), 'ghb_magenta', 86.4, 'magenta'),\n",
       "            ((0, 334), 'ghb_magenta', 86.4, 'magenta'),\n",
       "            ((0, 335), 'ghb_magenta', 86.4, 'magenta'),\n",
       "            ((0, 336), 'ghb_magenta', 86.4, 'magenta'),\n",
       "            ((0, 337), 'ghb_magenta', 86.4, 'magenta'),\n",
       "            ((0, 338), 'ghb_magenta', 86.4, 'magenta'),\n",
       "            ((0, 339), 'ghb_magenta', 86.4, 'magenta'),\n",
       "            ((0, 340), 'ghb_magenta', 86.4, 'magenta'),\n",
       "            ((0, 341), 'ghb_magenta', 86.4, 'magenta'),\n",
       "            ((0, 342), 'ghb_magenta', 86.4, 'magenta'),\n",
       "            ((0, 343), 'ghb_magenta', 86.4, 'magenta')],\n",
       "           dtype=[('cellid', 'O'), ('bhead', 'O'), ('cond', '<f8'), ('boundname', 'O')])}"
      ]
     },
     "execution_count": 52,
     "metadata": {},
     "output_type": "execute_result"
    }
   ],
   "source": [
    "ghb.stress_period_data.data"
   ]
  },
  {
   "cell_type": "code",
   "execution_count": 53,
   "metadata": {},
   "outputs": [],
   "source": [
    "# Initialize ts-file\n",
    "ghb.ts.initialize(filename='ghb.ts')"
   ]
  },
  {
   "cell_type": "markdown",
   "metadata": {},
   "source": [
    "Write simulation files:"
   ]
  },
  {
   "cell_type": "code",
   "execution_count": 54,
   "metadata": {},
   "outputs": [
    {
     "name": "stdout",
     "output_type": "stream",
     "text": [
      "writing simulation...\n",
      "  writing simulation name file...\n",
      "  writing simulation tdis package...\n",
      "  writing ims package hagfors_1...\n",
      "  writing model hagfors_1...\n",
      "    writing model name file...\n",
      "    writing package disv...\n",
      "    writing package gwf_obs...\n",
      "    writing package sfr_obs...\n",
      "    writing package sfr...\n",
      "    writing package sto...\n",
      "    writing package oc...\n",
      "    writing package npf...\n",
      "    writing package ic...\n",
      "    writing package rch...\n",
      "INFORMATION: maxbound in ('gwf6', 'rch', 'dimensions') changed to 2846 based on size of stress_period_data\n",
      "    writing package ts_0...\n",
      "    writing package ghb...\n",
      "INFORMATION: maxbound in ('gwf6', 'ghb', 'dimensions') changed to 251 based on size of stress_period_data\n",
      "    writing package ts_1...\n"
     ]
    }
   ],
   "source": [
    "sim.write_simulation()"
   ]
  },
  {
   "cell_type": "markdown",
   "metadata": {},
   "source": [
    "Move TS files:"
   ]
  },
  {
   "cell_type": "code",
   "execution_count": 55,
   "metadata": {},
   "outputs": [],
   "source": [
    "ts_files = ['rch.ts', 'ghb.ts']\n",
    "for file in ts_files:\n",
    "    lumprem_ts = os.path.join(lr_ws, file)\n",
    "    flopy_ts = os.path.join(tmp_model_ws, file)\n",
    "    shutil.move(lumprem_ts, flopy_ts)"
   ]
  },
  {
   "cell_type": "markdown",
   "metadata": {},
   "source": [
    "Move template files:"
   ]
  },
  {
   "cell_type": "code",
   "execution_count": 56,
   "metadata": {},
   "outputs": [],
   "source": [
    "template_files = [i for i in os.listdir(lr_ws) if '.tpl' in i]"
   ]
  },
  {
   "cell_type": "code",
   "execution_count": 57,
   "metadata": {},
   "outputs": [],
   "source": [
    "for file in template_files:\n",
    "    lumprem_template = os.path.join(lr_ws, file)\n",
    "    flopy_template = os.path.join(tmp_model_ws, file)\n",
    "    shutil.move(lumprem_template, flopy_template)"
   ]
  },
  {
   "cell_type": "code",
   "execution_count": 58,
   "metadata": {},
   "outputs": [
    {
     "name": "stdout",
     "output_type": "stream",
     "text": [
      "FloPy is using the following executable to run the model: ..\\bins\\win\\mf6.exe\n",
      "                                   MODFLOW 6\n",
      "                U.S. GEOLOGICAL SURVEY MODULAR HYDROLOGIC MODEL\n",
      "                            VERSION 6.2.1 02/18/2021\n",
      "\n",
      "   MODFLOW 6 compiled Feb 18 2021 21:14:51 with IFORT compiler (ver. 19.10.3)\n",
      "\n",
      "This software has been approved for release by the U.S. Geological \n",
      "Survey (USGS). Although the software has been subjected to rigorous \n",
      "review, the USGS reserves the right to update the software as needed \n",
      "pursuant to further analysis and review. No warranty, expressed or \n",
      "implied, is made by the USGS or the U.S. Government as to the \n",
      "functionality of the software and related material nor shall the \n",
      "fact of release constitute any such warranty. Furthermore, the \n",
      "software is released on condition that neither the USGS nor the U.S. \n",
      "Government shall be held liable for any damages resulting from its \n",
      "authorized or unauthorized use. Also refer to the USGS Water \n",
      "Resources Software User Rights Notice for complete use, copyright, \n",
      "and distribution information.\n",
      "\n",
      " \n",
      " Run start date and time (yyyy/mm/dd hh:mm:ss): 2021/12/09  9:34:57\n",
      " \n",
      " Writing simulation list file: mfsim.lst\n",
      " Using Simulation name file: mfsim.nam\n",
      " \n",
      "    Solving:  Stress period:     1    Time step:     1\n",
      "    Solving:  Stress period:     2    Time step:     1\n",
      "    Solving:  Stress period:     2    Time step:     2\n",
      "    Solving:  Stress period:     2    Time step:     3\n",
      "    Solving:  Stress period:     2    Time step:     4\n",
      "    Solving:  Stress period:     2    Time step:     5\n",
      "    Solving:  Stress period:     2    Time step:     6\n",
      "    Solving:  Stress period:     2    Time step:     7\n",
      "    Solving:  Stress period:     2    Time step:     8\n",
      "    Solving:  Stress period:     2    Time step:     9\n",
      "    Solving:  Stress period:     2    Time step:    10\n",
      "    Solving:  Stress period:     2    Time step:    11\n",
      "    Solving:  Stress period:     2    Time step:    12\n",
      "    Solving:  Stress period:     2    Time step:    13\n",
      "    Solving:  Stress period:     2    Time step:    14\n",
      "    Solving:  Stress period:     2    Time step:    15\n",
      "    Solving:  Stress period:     2    Time step:    16\n",
      "    Solving:  Stress period:     2    Time step:    17\n",
      "    Solving:  Stress period:     2    Time step:    18\n",
      "    Solving:  Stress period:     2    Time step:    19\n",
      "    Solving:  Stress period:     2    Time step:    20\n",
      "    Solving:  Stress period:     2    Time step:    21\n",
      "    Solving:  Stress period:     2    Time step:    22\n",
      "    Solving:  Stress period:     2    Time step:    23\n",
      "    Solving:  Stress period:     2    Time step:    24\n",
      "    Solving:  Stress period:     2    Time step:    25\n",
      "    Solving:  Stress period:     2    Time step:    26\n",
      "    Solving:  Stress period:     2    Time step:    27\n",
      "    Solving:  Stress period:     2    Time step:    28\n",
      "    Solving:  Stress period:     2    Time step:    29\n",
      "    Solving:  Stress period:     2    Time step:    30\n",
      "    Solving:  Stress period:     2    Time step:    31\n",
      "    Solving:  Stress period:     2    Time step:    32\n",
      "    Solving:  Stress period:     2    Time step:    33\n",
      "    Solving:  Stress period:     2    Time step:    34\n",
      "    Solving:  Stress period:     2    Time step:    35\n",
      "    Solving:  Stress period:     2    Time step:    36\n",
      "    Solving:  Stress period:     2    Time step:    37\n",
      "    Solving:  Stress period:     2    Time step:    38\n",
      "    Solving:  Stress period:     2    Time step:    39\n",
      "    Solving:  Stress period:     2    Time step:    40\n",
      "    Solving:  Stress period:     2    Time step:    41\n",
      "    Solving:  Stress period:     2    Time step:    42\n",
      "    Solving:  Stress period:     2    Time step:    43\n",
      "    Solving:  Stress period:     2    Time step:    44\n",
      "    Solving:  Stress period:     2    Time step:    45\n",
      "    Solving:  Stress period:     2    Time step:    46\n",
      "    Solving:  Stress period:     2    Time step:    47\n",
      "    Solving:  Stress period:     2    Time step:    48\n",
      " \n",
      " Run end date and time (yyyy/mm/dd hh:mm:ss): 2021/12/09  9:35:14\n",
      " Elapsed run time: 16.689 Seconds\n",
      " \n",
      " Normal termination of simulation.\n"
     ]
    },
    {
     "data": {
      "text/plain": [
       "(True, [])"
      ]
     },
     "execution_count": 58,
     "metadata": {},
     "output_type": "execute_result"
    }
   ],
   "source": [
    "sim.run_simulation()"
   ]
  },
  {
   "cell_type": "code",
   "execution_count": null,
   "metadata": {},
   "outputs": [],
   "source": []
  },
  {
   "cell_type": "code",
   "execution_count": 59,
   "metadata": {},
   "outputs": [],
   "source": [
    "# check the output\n",
    "csv = os.path.join(tmp_model_ws,'head.obs.csv')\n",
    "df = pd.read_csv(csv)"
   ]
  },
  {
   "cell_type": "code",
   "execution_count": 60,
   "metadata": {},
   "outputs": [
    {
     "data": {
      "text/plain": [
       "Index(['time', 'B9-2', 'B10-2', 'B12-1', 'B16-1', 'B2-1', 'B22-1', 'B27',\n",
       "       'B29', 'KB1-1',\n",
       "       ...\n",
       "       'NI1609-3', 'NI1612-2', 'NI1701-1', 'NI1702-1', 'NI1704-2', 'NI1705-2',\n",
       "       'NI1706-2', 'NI1707-1', 'NI1708-1', 'NI1711-1'],\n",
       "      dtype='object', length=145)"
      ]
     },
     "execution_count": 60,
     "metadata": {},
     "output_type": "execute_result"
    }
   ],
   "source": [
    "df.columns"
   ]
  },
  {
   "cell_type": "code",
   "execution_count": 61,
   "metadata": {},
   "outputs": [
    {
     "data": {
      "text/plain": [
       "<AxesSubplot:>"
      ]
     },
     "execution_count": 61,
     "metadata": {},
     "output_type": "execute_result"
    },
    {
     "data": {
      "image/png": "[encoded data removed]",
      "text/plain": [
       "<Figure size 432x288 with 1 Axes>"
      ]
     },
     "metadata": {
      "needs_background": "light"
     },
     "output_type": "display_data"
    }
   ],
   "source": [
    "df['B10-2'].plot()"
   ]
  },
  {
   "cell_type": "code",
   "execution_count": 62,
   "metadata": {},
   "outputs": [],
   "source": [
    "headfile = '{}.hds'.format(ml_name)\n",
    "fname = os.path.join(tmp_model_ws, headfile)\n",
    "hds = flopy.utils.binaryfile.HeadFile(fname)\n",
    "h = hds.get_data()"
   ]
  },
  {
   "cell_type": "code",
   "execution_count": 63,
   "metadata": {},
   "outputs": [
    {
     "data": {
      "image/png": "[encoded data removed]",
      "text/plain": [
       "<Figure size 1296x360 with 2 Axes>"
      ]
     },
     "metadata": {
      "needs_background": "light"
     },
     "output_type": "display_data"
    }
   ],
   "source": [
    "fig = plt.figure(figsize=(18, 5))\n",
    "ax = fig.add_subplot(1, 1, 1)\n",
    "ax.set_title(\"Cross section plot\")\n",
    "\n",
    "xsection = np.array([(427000, 6654690), (427540, 6655230)])\n",
    "xsect = flopy.plot.PlotCrossSection(model=gwf, line={\"line\": xsection})\n",
    "patch_collection = xsect.plot_array(h, head=h, alpha=0.5)\n",
    "line_collection = xsect.plot_grid()\n",
    "cb = plt.colorbar(patch_collection, shrink=0.75)"
   ]
  },
  {
   "cell_type": "code",
   "execution_count": 64,
   "metadata": {},
   "outputs": [
    {
     "data": {
      "image/png": "[encoded data removed]",
      "text/plain": [
       "<Figure size 800x400 with 3 Axes>"
      ]
     },
     "metadata": {
      "needs_background": "light"
     },
     "output_type": "display_data"
    }
   ],
   "source": [
    "fig = plt.figure(figsize=(8,4), dpi=100)\n",
    "\n",
    "axs = fig.subplot_mosaic([['Left', 'TopRight'],['Left', 'BottomRight']],\n",
    "                          gridspec_kw={'width_ratios':[2, 1]})\n",
    "\n",
    "axs['Left'].set_title('Layer 1')\n",
    "axs['TopRight'].set_title('Layer 2')\n",
    "axs['BottomRight'].set_title('Layer 3')\n",
    "\n",
    "for index, ax in enumerate(axs):\n",
    "    modelmap = flopy.plot.PlotMapView(model=gwf, ax=axs[ax])\n",
    "    linecollection = modelmap.plot_grid(lw=0.25)\n",
    "    contours = modelmap.contour_array(h[index])\n",
    "    \n",
    "plt.tight_layout()\n",
    "plt.show()"
   ]
  },
  {
   "cell_type": "code",
   "execution_count": null,
   "metadata": {},
   "outputs": [],
   "source": [
    "#Check the budget\n",
    "mf_list = flopy.utils.Mf6ListBudget(os.path.join(tmp_model_ws, f\"{gwf.name}.lst\"), timeunit='days') #MF6ListBudget is different from MfListBudget...*sigh*\n",
    "incremental, cumulative = mf_list.get_budget()\n",
    "incrementaldf, cumulativedf = mf_list.get_dataframes(start_datetime=\"01-09-2017\")\n",
    "\n",
    "incrementaldf"
   ]
  },
  {
   "cell_type": "markdown",
   "metadata": {},
   "source": [
    "Delete LR to start over:"
   ]
  },
  {
   "cell_type": "code",
   "execution_count": null,
   "metadata": {},
   "outputs": [],
   "source": [
    "shutil.rmtree(lr_ws)"
   ]
  },
  {
   "cell_type": "code",
   "execution_count": null,
   "metadata": {},
   "outputs": [],
   "source": []
  }
 ],
 "metadata": {
  "kernelspec": {
   "display_name": "Python 3",
   "language": "python",
   "name": "python3"
  },
  "language_info": {
   "codemirror_mode": {
    "name": "ipython",
    "version": 3
   },
   "file_extension": ".py",
   "mimetype": "text/x-python",
   "name": "python",
   "nbconvert_exporter": "python",
   "pygments_lexer": "ipython3",
   "version": "3.8.6"
  }
 },
 "nbformat": 4,
 "nbformat_minor": 4
}
