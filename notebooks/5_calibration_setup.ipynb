{
 "cells": [
  {
   "cell_type": "code",
   "execution_count": null,
   "metadata": {},
   "outputs": [],
   "source": [
    "import os\n",
    "import shutil\n",
    "from lumpyrem import run\n",
    "\n",
    "import warnings\n",
    "warnings.filterwarnings(\"ignore\", category=DeprecationWarning) # Suppress deprecation warnings"
   ]
  },
  {
   "cell_type": "code",
   "execution_count": null,
   "metadata": {},
   "outputs": [],
   "source": [
    "org_model_ws = os.path.join('..', 'temp_ml_obs')\n",
    "os.listdir(org_model_ws)"
   ]
  },
  {
   "cell_type": "code",
   "execution_count": null,
   "metadata": {},
   "outputs": [],
   "source": [
    "tmp_model_ws = os.path.join('..', 'temp_ml_calib') # Safe to delete\n",
    "if os.path.exists(tmp_model_ws):\n",
    "    shutil.rmtree(tmp_model_ws)\n",
    "shutil.copytree(org_model_ws,tmp_model_ws)\n",
    "os.listdir(tmp_model_ws)"
   ]
  },
  {
   "cell_type": "code",
   "execution_count": null,
   "metadata": {},
   "outputs": [],
   "source": [
    "pest_ws = os.path.join(tmp_model_ws, 'pest')"
   ]
  },
  {
   "cell_type": "code",
   "execution_count": null,
   "metadata": {},
   "outputs": [],
   "source": [
    "def write_script(filename, lines):\n",
    "\n",
    "    with open(filename, 'a') as f:\n",
    "        for line in lines:\n",
    "            f.write(line)\n",
    "            f.write('\\n')"
   ]
  },
  {
   "cell_type": "code",
   "execution_count": null,
   "metadata": {},
   "outputs": [],
   "source": [
    "write_script(os.path.join(pest_ws, 'runmodel.bat'), [\n",
    "'''\n",
    "@echo off\n",
    "Rem ###################################\n",
    "Rem Some intermediate files are deleted as a precaution.\n",
    "Rem ###################################\n",
    "cd %~dp0..\\\\runmodel\\\\model\n",
    "del /s *.csv\n",
    "\n",
    "Rem ###################################\n",
    "Rem PLPROC assigns parameters from ppoints\n",
    "Rem ###################################\n",
    "cd %~dp0..\\\\runmodel\\\\preproc\\\\\n",
    "plproc plproc.dat\n",
    "plproc plproc_sfr.dat\n",
    "plproc plproc_ghb.dat\n",
    "\n",
    "Rem ###################################\n",
    "Rem The MF6 model is run\n",
    "Rem ###################################\n",
    "cd %~dp0..\\\\runmodel\\\\model\\\\\n",
    "mf6 mfsim.nam\n",
    "\n",
    "Rem ###################################\n",
    "Rem The observations are postprocessed\n",
    "Rem ###################################\n",
    "cd  %~dp0..\\\\runmodel\\\\postproc\\\\\n",
    "olproc olproc.in 1\n",
    "\n",
    "Rem ###################################\n",
    "Rem Return the command line to the working folder\n",
    "Rem ###################################\n",
    "cd %~dp0.\\\\\n",
    "'''\n",
    "])"
   ]
  },
  {
   "cell_type": "markdown",
   "metadata": {},
   "source": [
    "### Make copy of calibration file"
   ]
  },
  {
   "cell_type": "code",
   "execution_count": null,
   "metadata": {},
   "outputs": [],
   "source": [
    "os.listdir(tmp_model_ws)"
   ]
  },
  {
   "cell_type": "code",
   "execution_count": null,
   "metadata": {},
   "outputs": [],
   "source": [
    "with open(os.path.join(pest_ws, 'calib0.pst'), 'r') as file:\n",
    "    calib1 = file.readlines()"
   ]
  },
  {
   "cell_type": "markdown",
   "metadata": {},
   "source": [
    "### Change NOPTMAX from 50 to 0:"
   ]
  },
  {
   "cell_type": "code",
   "execution_count": null,
   "metadata": {},
   "outputs": [],
   "source": [
    "temp_row = calib1[8].split()\n",
    "display(temp_row)"
   ]
  },
  {
   "cell_type": "code",
   "execution_count": null,
   "metadata": {},
   "outputs": [],
   "source": [
    "temp_row[0] = '0'\n",
    "temp_row[-1] = f'{temp_row[-1]}\\n'\n",
    "display(temp_row)"
   ]
  },
  {
   "cell_type": "code",
   "execution_count": null,
   "metadata": {},
   "outputs": [],
   "source": [
    "new_row = ' '.join(temp_row)\n",
    "display(new_row)"
   ]
  },
  {
   "cell_type": "code",
   "execution_count": null,
   "metadata": {},
   "outputs": [],
   "source": [
    "calib1[8] = new_row"
   ]
  },
  {
   "cell_type": "markdown",
   "metadata": {},
   "source": [
    "### Add model command line"
   ]
  },
  {
   "cell_type": "code",
   "execution_count": null,
   "metadata": {},
   "outputs": [],
   "source": [
    "mlcl_strt = calib1.index('* model command line\\n') + 1\n",
    "mlcl_stop = calib1.index('* model input/output\\n')"
   ]
  },
  {
   "cell_type": "code",
   "execution_count": null,
   "metadata": {},
   "outputs": [],
   "source": [
    "calib1[mlcl_strt:mlcl_stop] = 'runmodel.bat\\n'"
   ]
  },
  {
   "cell_type": "markdown",
   "metadata": {},
   "source": [
    "### Write file"
   ]
  },
  {
   "cell_type": "code",
   "execution_count": null,
   "metadata": {},
   "outputs": [],
   "source": [
    "# Write the file out again\n",
    "with open(os.path.join(pest_ws, 'calib1.pst'), 'w') as file:\n",
    "    for line in calib1:\n",
    "        file.write(line)"
   ]
  },
  {
   "cell_type": "markdown",
   "metadata": {},
   "source": [
    "## Run model once manually (try to script) ##"
   ]
  },
  {
   "cell_type": "markdown",
   "metadata": {},
   "source": [
    "run process does not seem to work with tpl2pst, tempchek, pestchek, pest_hp, pwtadj1"
   ]
  },
  {
   "cell_type": "code",
   "execution_count": null,
   "metadata": {},
   "outputs": [],
   "source": [
    "import subprocess\n",
    "p = subprocess.run(['pwtadj1', 'calib1.pst', 'calib1-wt.pst', '1000'], cwd=pest_ws, stdout=subprocess.PIPE, text=True)\n",
    "for row in p.stdout.split('\\n'):\n",
    "    print(row)"
   ]
  },
  {
   "cell_type": "code",
   "execution_count": null,
   "metadata": {},
   "outputs": [],
   "source": []
  },
  {
   "cell_type": "code",
   "execution_count": null,
   "metadata": {},
   "outputs": [],
   "source": []
  },
  {
   "cell_type": "code",
   "execution_count": null,
   "metadata": {},
   "outputs": [],
   "source": []
  },
  {
   "cell_type": "markdown",
   "metadata": {},
   "source": [
    "### Adding Tikhonov Regularization"
   ]
  },
  {
   "cell_type": "code",
   "execution_count": null,
   "metadata": {},
   "outputs": [],
   "source": [
    "p = subprocess.run(['addreg1', 'calib1-wt.pst', 'calib1-wt-reg.pst'], cwd=pest_ws, stdout=subprocess.PIPE, text=True)"
   ]
  },
  {
   "cell_type": "code",
   "execution_count": null,
   "metadata": {},
   "outputs": [],
   "source": [
    "p.stdout.split('\\n')"
   ]
  },
  {
   "cell_type": "code",
   "execution_count": null,
   "metadata": {},
   "outputs": [],
   "source": [
    "p = subprocess.run(['pestchek', 'calib1-wt-reg.pst'], cwd=pest_ws, stdout=subprocess.PIPE, text=True)\n",
    "for row in p.stdout.split('\\n'):\n",
    "    print(row)"
   ]
  },
  {
   "cell_type": "markdown",
   "metadata": {},
   "source": [
    "#### Add covariance matrices"
   ]
  },
  {
   "cell_type": "code",
   "execution_count": null,
   "metadata": {},
   "outputs": [],
   "source": [
    "write_script(os.path.join(pest_ws, 'covmatfile.in'), [\n",
    "'''\n",
    "regul_kx1 ..\\runmodel\\preproc\\cov1.mat\n",
    "regul_kx2 ..\\runmodel\\preproc\\cov2.mat\n",
    "regul_kx3 ..\\runmodel\\preproc\\cov3.mat\n",
    "regul_rch ..\\runmodel\\preproc\\cov_rch.mat\n",
    "regul_strc ..\\runmodel\\preproc\\cov_stream.mat\n",
    "regul_ghb1 ..\\runmodel\\preproc\\cov_ghb.mat\n",
    "regul_ghb3 ..\\runmodel\\preproc\\cov_ghb.mat\n",
    "\n",
    "regul_ghbcbl\n",
    "regul_ghbcli\n",
    "regul_ghbcma\n",
    "regul_ghbcor\n",
    "regul_ghbcre\n",
    "regul_ghbcro\n",
    "regul_ghbcye\n",
    "regul_kh1pp\n",
    "regul_kh2pp\n",
    "regul_kh3pp\n",
    "regul_kv1pp\n",
    "regul_kv2pp\n",
    "regul_kv3pp\n",
    "regul_sfrpp\n",
    "regul_ss1pp\n",
    "regul_ss2pp\n",
    "regul_ss3pp\n",
    "regul_sy1pp\n",
    "regul_sy2pp\n",
    "regul_sy3pp\n",
    "'''\n",
    "])"
   ]
  },
  {
   "cell_type": "code",
   "execution_count": null,
   "metadata": {},
   "outputs": [],
   "source": [
    "p = subprocess.run(['addcovmat', 'calib1-wt-reg.pst', 'covmatfile.in', 'calib1-wt-cov.pst'], cwd=pest_ws, stdout=subprocess.PIPE, text=True)\n",
    "for row in p.stdout.split('\\n'):\n",
    "    print(row)"
   ]
  },
  {
   "cell_type": "code",
   "execution_count": null,
   "metadata": {},
   "outputs": [],
   "source": []
  },
  {
   "cell_type": "code",
   "execution_count": null,
   "metadata": {},
   "outputs": [],
   "source": []
  },
  {
   "cell_type": "markdown",
   "metadata": {},
   "source": [
    "### Set UPTESTMIN to 20\n",
    "When using PEST_HP it is recommended that the UPTESTMIN variable be set to 20 or higher. This ensures that PEST_HP carries out at least 20 model runs when testing parameter upgrades. If PEST_HP has more than 20 CPU cores at its disposal, it will automatically use all of them to carry out more lambda-testing model runs."
   ]
  },
  {
   "cell_type": "markdown",
   "metadata": {},
   "source": [
    "If iteration-specific inversion results are saved, a user can retrieve parameter values obtained at the end of the iteration at which the objective function started to flatten out, but at which the parameter field was more reasonable. Adding the PARSAVEITN and REISAVEITN variables to the “control data” section of a control file activates this behaviour"
   ]
  },
  {
   "cell_type": "code",
   "execution_count": null,
   "metadata": {},
   "outputs": [],
   "source": []
  },
  {
   "cell_type": "code",
   "execution_count": null,
   "metadata": {},
   "outputs": [],
   "source": []
  },
  {
   "cell_type": "code",
   "execution_count": null,
   "metadata": {},
   "outputs": [],
   "source": []
  },
  {
   "cell_type": "markdown",
   "metadata": {},
   "source": [
    "run process does not seem to work with tpl2pst, tempchek, pestchek, pest_hp, pwtadj1"
   ]
  },
  {
   "cell_type": "code",
   "execution_count": null,
   "metadata": {},
   "outputs": [],
   "source": []
  },
  {
   "cell_type": "code",
   "execution_count": null,
   "metadata": {},
   "outputs": [],
   "source": []
  },
  {
   "cell_type": "code",
   "execution_count": null,
   "metadata": {},
   "outputs": [],
   "source": []
  },
  {
   "cell_type": "code",
   "execution_count": null,
   "metadata": {},
   "outputs": [],
   "source": []
  },
  {
   "cell_type": "code",
   "execution_count": null,
   "metadata": {},
   "outputs": [],
   "source": []
  },
  {
   "cell_type": "code",
   "execution_count": null,
   "metadata": {},
   "outputs": [],
   "source": [
    "# Write the file out again\n",
    "with open(os.path.join(pest_ws, 'calib1.pst'), 'w') as file:\n",
    "    file.write(filedata)"
   ]
  }
 ],
 "metadata": {
  "kernelspec": {
   "display_name": "Python 3",
   "language": "python",
   "name": "python3"
  },
  "language_info": {
   "codemirror_mode": {
    "name": "ipython",
    "version": 3
   },
   "file_extension": ".py",
   "mimetype": "text/x-python",
   "name": "python",
   "nbconvert_exporter": "python",
   "pygments_lexer": "ipython3",
   "version": "3.8.6"
  }
 },
 "nbformat": 4,
 "nbformat_minor": 4
}
