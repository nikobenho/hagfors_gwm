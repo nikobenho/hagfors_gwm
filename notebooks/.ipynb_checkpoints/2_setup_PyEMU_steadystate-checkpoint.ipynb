{
 "cells": [
  {
   "cell_type": "markdown",
   "metadata": {},
   "source": [
    "Insert notebook description here"
   ]
  },
  {
   "cell_type": "code",
   "execution_count": 1,
   "metadata": {},
   "outputs": [],
   "source": [
    "import os\n",
    "import shutil\n",
    "import numpy as np\n",
    "import pandas as pd\n",
    "import matplotlib.pyplot as plt\n",
    "import pyemu\n",
    "import flopy\n",
    "import sys\n",
    "plt.rcParams['font.size'] = 14"
   ]
  },
  {
   "cell_type": "code",
   "execution_count": 2,
   "metadata": {},
   "outputs": [],
   "source": [
    "bins_pth = os.path.join('..', 'bins', 'win') if 'nt' in os.name else os.path.join('..', 'bins', 'linux') # Binaries"
   ]
  },
  {
   "cell_type": "code",
   "execution_count": 3,
   "metadata": {},
   "outputs": [
    {
     "data": {
      "text/plain": [
       "['hagfors.bhd',\n",
       " 'hagfors.cbc',\n",
       " 'hagfors.dis',\n",
       " 'hagfors.dis.grb',\n",
       " 'hagfors.dis_botm_layer1.txt',\n",
       " 'hagfors.dis_botm_layer2.txt',\n",
       " 'hagfors.dis_botm_layer3.txt',\n",
       " 'hagfors.dis_delc.txt',\n",
       " 'hagfors.dis_delr.txt',\n",
       " 'hagfors.dis_idomain_layer1.txt',\n",
       " 'hagfors.dis_idomain_layer2.txt',\n",
       " 'hagfors.dis_idomain_layer3.txt',\n",
       " 'hagfors.dis_top.txt',\n",
       " 'hagfors.ghb',\n",
       " 'hagfors.ghb_stress_period_data_1.txt',\n",
       " 'hagfors.ic',\n",
       " 'hagfors.ic_strt.txt',\n",
       " 'hagfors.ims',\n",
       " 'hagfors.lst',\n",
       " 'hagfors.nam',\n",
       " 'hagfors.npf',\n",
       " 'hagfors.npf_angle1_layer1.txt',\n",
       " 'hagfors.npf_angle1_layer2.txt',\n",
       " 'hagfors.npf_angle1_layer3.txt',\n",
       " 'hagfors.npf_angle2_layer1.txt',\n",
       " 'hagfors.npf_angle2_layer2.txt',\n",
       " 'hagfors.npf_angle2_layer3.txt',\n",
       " 'hagfors.npf_angle3_layer1.txt',\n",
       " 'hagfors.npf_angle3_layer2.txt',\n",
       " 'hagfors.npf_angle3_layer3.txt',\n",
       " 'hagfors.npf_icelltype_layer1.txt',\n",
       " 'hagfors.npf_icelltype_layer2.txt',\n",
       " 'hagfors.npf_icelltype_layer3.txt',\n",
       " 'hagfors.npf_k22_layer1.txt',\n",
       " 'hagfors.npf_k22_layer2.txt',\n",
       " 'hagfors.npf_k22_layer3.txt',\n",
       " 'hagfors.npf_k33_layer1.txt',\n",
       " 'hagfors.npf_k33_layer2.txt',\n",
       " 'hagfors.npf_k33_layer3.txt',\n",
       " 'hagfors.npf_k_layer1.txt',\n",
       " 'hagfors.npf_k_layer2.txt',\n",
       " 'hagfors.npf_k_layer3.txt',\n",
       " 'hagfors.obs',\n",
       " 'hagfors.oc',\n",
       " 'hagfors.rcha',\n",
       " 'hagfors.rcha_recharge_1.txt',\n",
       " 'hagfors.sfr',\n",
       " 'hagfors.sfr.obs',\n",
       " 'hagfors.sfr_budget',\n",
       " 'hagfors.sfr_connectiondata.txt',\n",
       " 'hagfors.sfr_packagedata.txt',\n",
       " 'hagfors.sfr_perioddata_1.txt',\n",
       " 'hagfors.stage',\n",
       " 'hagfors.tdis',\n",
       " 'head.obs.csv',\n",
       " 'mfsim.lst',\n",
       " 'mfsim.nam',\n",
       " 'sfr.obs.csv']"
      ]
     },
     "execution_count": 3,
     "metadata": {},
     "output_type": "execute_result"
    }
   ],
   "source": [
    "org_model_ws = os.path.join('..', 'hagfors_flopy_prep')\n",
    "os.listdir(org_model_ws)"
   ]
  },
  {
   "cell_type": "code",
   "execution_count": 4,
   "metadata": {},
   "outputs": [
    {
     "data": {
      "text/plain": [
       "'..\\\\temp_ss_pst_from'"
      ]
     },
     "execution_count": 4,
     "metadata": {},
     "output_type": "execute_result"
    }
   ],
   "source": [
    "tmp_model_ws = os.path.join('..', 'temp_ss_pst_from') #Temporary SteadyState pstfrom model\n",
    "if os.path.exists(tmp_model_ws):\n",
    "    shutil.rmtree(tmp_model_ws)\n",
    "shutil.copytree(org_model_ws,tmp_model_ws)"
   ]
  },
  {
   "cell_type": "code",
   "execution_count": 5,
   "metadata": {},
   "outputs": [
    {
     "name": "stdout",
     "output_type": "stream",
     "text": [
      "loading simulation...\n",
      "  loading simulation name file...\n",
      "  loading tdis package...\n",
      "  loading model gwf6...\n",
      "    loading package dis...\n",
      "    loading package ic...\n",
      "    loading package npf...\n",
      "    loading package oc...\n",
      "    loading package ghb...\n",
      "    loading package sfr...\n",
      "    loading package rch...\n",
      "    loading package obs...\n",
      "  loading ims package hagfors...\n"
     ]
    }
   ],
   "source": [
    "sim = flopy.mf6.MFSimulation.load(sim_ws=tmp_model_ws)\n",
    "m = sim.get_model('hagfors')"
   ]
  },
  {
   "cell_type": "code",
   "execution_count": 6,
   "metadata": {},
   "outputs": [
    {
     "data": {
      "text/plain": [
       "xul:426839.412; yul:6654846.416; rotation:45; proj4_str:+init=epsg:3006; units:meters; lenuni:2; length_multiplier:1.0"
      ]
     },
     "execution_count": 6,
     "metadata": {},
     "output_type": "execute_result"
    }
   ],
   "source": [
    "sr = pyemu.helpers.SpatialReference(\n",
    "    delr = m.dis.delr.array,\n",
    "    delc = m.dis.delc.array,\n",
    "    xll = m.dis.xorigin.array,\n",
    "    yll = m.dis.yorigin.array,\n",
    "    rotation = m.dis.angrot.array,\n",
    "    units = 'meters',\n",
    "    epsg = 3006\n",
    ")\n",
    "sr"
   ]
  },
  {
   "cell_type": "code",
   "execution_count": 7,
   "metadata": {},
   "outputs": [
    {
     "name": "stdout",
     "output_type": "stream",
     "text": [
      "2021-06-09 22:59:37.600326 starting: opening PstFrom.log for logging\n",
      "2021-06-09 22:59:37.600326 starting PstFrom process\n",
      "2021-06-09 22:59:37.606311 starting: setting up dirs\n",
      "2021-06-09 22:59:37.607307 starting: copying original_d '..\\temp_ss_pst_from' to new_d '..\\hagfors_ss_template'\n",
      "2021-06-09 22:59:37.774859 finished: copying original_d '..\\temp_ss_pst_from' to new_d '..\\hagfors_ss_template' took: 0:00:00.167552\n",
      "2021-06-09 22:59:37.776854 finished: setting up dirs took: 0:00:00.170543\n"
     ]
    }
   ],
   "source": [
    "template_ws = os.path.join('..', 'hagfors_ss_template') # steadystate template\n",
    "pf = pyemu.utils.PstFrom(\n",
    "    original_d = tmp_model_ws, # where to find reference model\n",
    "    new_d=template_ws, # where to build PEST\n",
    "    remove_existing=True, # Stomp in new_d, if it exists\n",
    "    longnames=True, # use PESTPP long paramter and observation names (handy storing metadata)\n",
    "    spatial_reference=sr, # model spatial reference info\n",
    "    zero_based=False, # model uses zero-based references\n",
    "    start_datetime='17-06-2016' # model start time reference\n",
    ")"
   ]
  },
  {
   "cell_type": "markdown",
   "metadata": {},
   "source": [
    "Can't really motivate argument values. I'm sure they could be fine-tuned."
   ]
  },
  {
   "cell_type": "code",
   "execution_count": 8,
   "metadata": {},
   "outputs": [],
   "source": [
    "# the geostruct object for grid-scale parameters\n",
    "grid_v = pyemu.geostats.ExpVario(contribution=1.0,a=8)\n",
    "grid_gs = pyemu.geostats.GeoStruct(variograms=grid_v)\n",
    "\n",
    "# the geostruct object for pilot-point-scale parameters\n",
    "pp_v = pyemu.geostats.ExpVario(contribution=1.0, a=32)\n",
    "pp_gs = pyemu.geostats.GeoStruct(variograms=pp_v)\n",
    "\n",
    "# the geostruct for recharge grid-scale parameters\n",
    "rch_v = pyemu.geostats.ExpVario(contribution=1.0, a=16)\n",
    "rch_gs = pyemu.geostats.GeoStruct(variograms=rch_v)"
   ]
  },
  {
   "cell_type": "code",
   "execution_count": 9,
   "metadata": {},
   "outputs": [
    {
     "name": "stdout",
     "output_type": "stream",
     "text": [
      "spatial variogram, grid-scale\n"
     ]
    },
    {
     "data": {
      "image/png": "[encoded data removed]",
      "text/plain": [
       "<Figure size 360x144 with 1 Axes>"
      ]
     },
     "metadata": {
      "needs_background": "light"
     },
     "output_type": "display_data"
    }
   ],
   "source": [
    "fig, ax = plt.subplots(1,1,figsize=(5,2))\n",
    "grid_gs.plot(ax=ax)\n",
    "print('spatial variogram, grid-scale')"
   ]
  },
  {
   "cell_type": "code",
   "execution_count": 10,
   "metadata": {},
   "outputs": [],
   "source": [
    "# import flopy as part of the forward run process\n",
    "pf.extra_py_imports.append('flopy')\n",
    "# use the idomain array for masking parameter locations\n",
    "ib = m.dis.idomain[0].array"
   ]
  },
  {
   "cell_type": "code",
   "execution_count": 11,
   "metadata": {},
   "outputs": [],
   "source": [
    "# define a dict that contains file name tags and lower/upper bound information\n",
    "tags = {\"npf_k_\":[0.1,10.],\"npf_k33_\":[.1,10],\"rcha_recharge\":[.5,1.5]}"
   ]
  },
  {
   "cell_type": "markdown",
   "metadata": {},
   "source": [
    "This takes a while, and can probably be done a bit smarter:"
   ]
  },
  {
   "cell_type": "code",
   "execution_count": null,
   "metadata": {},
   "outputs": [
    {
     "name": "stdout",
     "output_type": "stream",
     "text": [
      "2021-06-09 22:59:48.427138 starting: adding grid type multiplier style parameters for file(s) ['hagfors.npf_k_layer1.txt']\n",
      "2021-06-09 22:59:48.427138 WARNING: 0) Inconsistency between geostruct transform and partrans.\n",
      "2021-06-09 22:59:48.428135 WARNING: 1) Setting geostruct transform to log\n",
      "2021-06-09 22:59:48.428135 WARNING: -) Better to pass an appropriately transformed geostruct\n",
      "2021-06-09 22:59:48.428135 starting: loading array ..\\hagfors_ss_template\\hagfors.npf_k_layer1.txt\n",
      "2021-06-09 22:59:48.524877 finished: loading array ..\\hagfors_ss_template\\hagfors.npf_k_layer1.txt took: 0:00:00.096742\n",
      "2021-06-09 22:59:48.524877 loaded array '..\\temp_ss_pst_from\\hagfors.npf_k_layer1.txt' of shape (234, 380)\n",
      "2021-06-09 22:59:48.701404 starting: writing array-based template file '..\\hagfors_ss_template\\npf_k_layer1_gr_inst0_grid.csv.tpl'\n",
      "2021-06-09 22:59:48.701404 starting: writing template file ..\\hagfors_ss_template\\npf_k_layer1_gr_inst0_grid.csv.tpl for ['npf_k_layer1_gr_inst:0']\n",
      "2021-06-09 22:59:48.703399 WARNING: get_xy() warning: position of i and j in index_cols not specified, assume (i,j) are final two entries in index_cols.\n",
      "2021-06-09 22:59:50.094679 finished: writing template file ..\\hagfors_ss_template\\npf_k_layer1_gr_inst0_grid.csv.tpl for ['npf_k_layer1_gr_inst:0'] took: 0:00:01.393275\n",
      "2021-06-09 22:59:50.095676 finished: writing array-based template file '..\\hagfors_ss_template\\npf_k_layer1_gr_inst0_grid.csv.tpl' took: 0:00:01.394272\n",
      "2021-06-09 22:59:50.095676 saving zone array ..\\hagfors_ss_template\\npf_k_layer1_gr_inst0_grid.csv.zone for tpl file ..\\hagfors_ss_template\\npf_k_layer1_gr_inst0_grid.csv.tpl\n",
      "2021-06-09 22:59:50.301127 finished: adding grid type multiplier style parameters for file(s) ['hagfors.npf_k_layer1.txt'] took: 0:00:01.873989\n",
      "2021-06-09 22:59:50.301127 starting: adding pilotpoints type multiplier style parameters for file(s) ['hagfors.npf_k_layer1.txt']\n",
      "2021-06-09 22:59:50.301127 WARNING: 0) Inconsistency between geostruct transform and partrans.\n",
      "2021-06-09 22:59:50.301127 WARNING: 1) Setting geostruct transform to log\n",
      "2021-06-09 22:59:50.302123 WARNING: -) Better to pass an appropriately transformed geostruct\n",
      "2021-06-09 22:59:50.302123 starting: loading array ..\\hagfors_ss_template\\hagfors.npf_k_layer1.txt\n",
      "2021-06-09 22:59:50.400859 finished: loading array ..\\hagfors_ss_template\\hagfors.npf_k_layer1.txt took: 0:00:00.098736\n",
      "2021-06-09 22:59:50.400859 loaded array '..\\temp_ss_pst_from\\hagfors.npf_k_layer1.txt' of shape (234, 380)\n",
      "2021-06-09 22:59:50.577395 starting: writing array-based template file '..\\hagfors_ss_template\\npf_k_layer1_pp_inst0_pilotpoints.csv.tpl'\n",
      "2021-06-09 22:59:50.578385 starting: setting up pilot point parameters\n",
      "2021-06-09 22:59:50.579383 No spatial reference (containing cell spacing) passed.\n",
      "2021-06-09 22:59:50.580380 OK - using spatial reference in parent object.\n",
      "2021-06-09 22:59:52.631892 635 pilot point parameters created\n",
      "2021-06-09 22:59:52.632889 pilot point 'pargp':npf_k_layer1_pp_inst:0\n",
      "2021-06-09 22:59:52.633887 finished: setting up pilot point parameters took: 0:00:02.055502\n",
      "2021-06-09 22:59:52.953034 starting: calculating factors for pargp=npf_k_layer1_pp_inst:0\n",
      "2021-06-09 22:59:52.953034 saving krige variance file:..\\hagfors_ss_template\\npf_k_layer1_pp_inst0pp.var.dat\n",
      "2021-06-09 22:59:52.954030 saving krige factors file:..\\hagfors_ss_template\\npf_k_layer1_pp_inst0pp.fac\n",
      "starting interp point loop for 88920 points\n"
     ]
    }
   ],
   "source": [
    "# loop over each tag, bound info pair\n",
    "for tag,bnd in tags.items():\n",
    "    lb,ub = bnd[0],bnd[1]\n",
    "    # find all array based files that have the tag in the name\n",
    "    arr_files = [f for f in os.listdir(template_ws) if tag in f and f.endswith(\".txt\")]\n",
    "\n",
    "    if len(arr_files) == 0:\n",
    "        print(\"warning: no array files found for \",tag)\n",
    "        continue\n",
    "    \n",
    "    # make sure each array file in nrow X ncol dimensions (not wrapped, sigh)\n",
    "    for arr_file in arr_files:\n",
    "        arr = np.loadtxt(os.path.join(template_ws,arr_file)).reshape(ib.shape)\n",
    "        np.savetxt(os.path.join(template_ws,arr_file),arr,fmt=\"%15.6E\")\n",
    "        \n",
    "    for arr_file in arr_files:\n",
    "        pf.add_parameters(\n",
    "            filenames=arr_file,\n",
    "            par_type=\"grid\",\n",
    "            par_name_base=arr_file.split('.')[1]+\"_gr\",\n",
    "            pargp=arr_file.split('.')[1]+\"_gr\",\n",
    "            zone_array=ib,\n",
    "            upper_bound=ub,\n",
    "            lower_bound=lb,\n",
    "            geostruct=grid_gs\n",
    "        )\n",
    "        pf.add_parameters(\n",
    "            filenames=arr_file, \n",
    "            par_type=\"pilotpoints\",\n",
    "            par_name_base=arr_file.split('.')[1]+\"_pp\",\n",
    "            pargp=arr_file.split('.')[1]+\"_pp\",\n",
    "            zone_array=ib,\n",
    "            upper_bound=ub,\n",
    "            lower_bound=lb,\n",
    "            pp_space=int(10 * 1), # 5 * redis_fac (=1 in example)\n",
    "            geostruct=pp_gs\n",
    "        )"
   ]
  },
  {
   "cell_type": "code",
   "execution_count": null,
   "metadata": {},
   "outputs": [],
   "source": [
    "# add grid-scale parameters for SFR reach conductance.  \n",
    "# Use layer, row, col and reach number in the \n",
    "# parameter names\n",
    "pf.add_parameters(\n",
    "    filenames='hagfors.sfr_packagedata.txt', \n",
    "    par_name_base='sfr_rhk',\n",
    "    pargp='sfr_rhk',\n",
    "    index_cols=[0,1,2,3], \n",
    "    use_cols=[9],\n",
    "    upper_bound=10.,\n",
    "    lower_bound=0.1,\n",
    "    ult_ubound=100.,\n",
    "    ult_lbound=0.01,\n",
    "    par_type='grid'\n",
    ")"
   ]
  },
  {
   "cell_type": "markdown",
   "metadata": {},
   "source": [
    "List all template files:"
   ]
  },
  {
   "cell_type": "code",
   "execution_count": null,
   "metadata": {},
   "outputs": [],
   "source": [
    "[f for f in os.listdir(template_ws) if f.endswith('.tpl')]"
   ]
  },
  {
   "cell_type": "markdown",
   "metadata": {},
   "source": [
    "## Observations\n",
    "Lets only use heads in this example:"
   ]
  },
  {
   "cell_type": "code",
   "execution_count": null,
   "metadata": {},
   "outputs": [],
   "source": [
    "df = pd.read_csv(os.path.join(pf.new_d,\"head.obs.csv\"),index_col=0)"
   ]
  },
  {
   "cell_type": "code",
   "execution_count": null,
   "metadata": {},
   "outputs": [],
   "source": [
    "hds_df = pf.add_observations(\n",
    "    \"head.obs.csv\",  # model output file to use \n",
    "    insfile=\"head.obs.csv.ins\",  # optional, define name of PEST instruction file\n",
    "    index_cols=\"time\",  # column used to index observation/outputs\n",
    "    use_cols=list(df.columns.values),  # columns to setup observations for (can be multiple)\n",
    "    prefix=\"hds\",  # observation name prefix\n",
    ")"
   ]
  },
  {
   "cell_type": "markdown",
   "metadata": {},
   "source": [
    "`obsvals` are set to simulated outputs. This needs to be changed to field-measured counterparts (where applicable). All other obs (with no field-measured counterpart) should have a weight of 0. This is adjusted after calling `pf.build_pst()`"
   ]
  },
  {
   "cell_type": "code",
   "execution_count": null,
   "metadata": {},
   "outputs": [],
   "source": [
    "hds_df"
   ]
  },
  {
   "cell_type": "markdown",
   "metadata": {},
   "source": [
    "### Final bits\n",
    "Copy mf6 and pestpp-ies binaries to template directory:"
   ]
  },
  {
   "cell_type": "code",
   "execution_count": null,
   "metadata": {},
   "outputs": [],
   "source": [
    "for binary_file in os.listdir(bins_pth): # now supports both win & linux\n",
    "    shutil.copy2(os.path.join(bins_pth, binary_file), template_ws)"
   ]
  },
  {
   "cell_type": "code",
   "execution_count": null,
   "metadata": {},
   "outputs": [],
   "source": [
    "# add model run command (only run once!)\n",
    "pf.mod_sys_cmds.append('mf6')"
   ]
  },
  {
   "cell_type": "code",
   "execution_count": null,
   "metadata": {},
   "outputs": [],
   "source": [
    "# build pest control file\n",
    "pst = pf.build_pst('hagfors_ss.pst',version=2)"
   ]
  },
  {
   "cell_type": "markdown",
   "metadata": {},
   "source": [
    "Time to adjust the observation settings:"
   ]
  },
  {
   "cell_type": "code",
   "execution_count": null,
   "metadata": {},
   "outputs": [],
   "source": [
    "obs = pst.observation_data\n",
    "obs.loc[:,\"weight\"] = 0.0 # Set all weights to 0\n",
    "pset = set(pst.obs_names)\n",
    "display(obs)"
   ]
  },
  {
   "cell_type": "markdown",
   "metadata": {},
   "source": [
    "Read in field-measured values:"
   ]
  },
  {
   "cell_type": "code",
   "execution_count": null,
   "metadata": {},
   "outputs": [],
   "source": [
    "df = pd.read_excel(os.path.join('..', 'data', 'observations', 'heads_june16_steadystate.xlsx'))\n",
    "display(df)"
   ]
  },
  {
   "cell_type": "markdown",
   "metadata": {},
   "source": [
    "Column `measured_head` is self-explanatory. Column `hh_computed_head` and `hh_residual_head` refer to the structurally complex model previously developed of the site in 2018. Let's make a pointless flex just to show that we can acquire better residuals (and for me to get better acquainted with PyEMU).  \n",
    "\n",
    "Transform the dataframe so it can be used to assign `obsval` and `weight` to `pst.observation_data`:"
   ]
  },
  {
   "cell_type": "code",
   "execution_count": null,
   "metadata": {},
   "outputs": [],
   "source": [
    "df = df[['obs_name', 'measured_head']].T\n",
    "df.columns = df.iloc[0]\n",
    "df = df[1:]\n",
    "df.insert(loc=0, column='time', value=1)\n",
    "df.columns.name = None\n",
    "df.set_index('time', inplace=True)\n",
    "display(df)"
   ]
  },
  {
   "cell_type": "markdown",
   "metadata": {},
   "source": [
    "Overly complex way of constructing last part of the `obsnme`:"
   ]
  },
  {
   "cell_type": "code",
   "execution_count": null,
   "metadata": {},
   "outputs": [],
   "source": [
    "dt_str = df.index.map(lambda x: 'time:'+str(float(x))).values\n",
    "dt_str"
   ]
  },
  {
   "cell_type": "code",
   "execution_count": null,
   "metadata": {},
   "outputs": [],
   "source": [
    "for col in df.columns:\n",
    "    obsnme = 'hds_usecol:'+col.lower()+\"_\"+dt_str # Do these really need to be this ugly?\n",
    "    cset = set(obsnme)\n",
    "    missing = cset - pset\n",
    "    assert len(missing) == 0,missing\n",
    "    obs.loc[obsnme,\"obsval\"] = df.loc[:,col].values\n",
    "    obs.loc[obsnme,\"weight\"] = 1.0 # Assign a weight only to those obs that have field-measured counterparts\n",
    "print(pst.nnz_obs)\n",
    "pst.nnz_obs_groups"
   ]
  },
  {
   "cell_type": "markdown",
   "metadata": {},
   "source": [
    "These obs will be part in the history matching:"
   ]
  },
  {
   "cell_type": "code",
   "execution_count": null,
   "metadata": {},
   "outputs": [],
   "source": [
    "pst.observation_data.loc[pst.observation_data['weight'] > 0]"
   ]
  },
  {
   "cell_type": "markdown",
   "metadata": {},
   "source": [
    "These obs will **not** be part of the history matching:"
   ]
  },
  {
   "cell_type": "code",
   "execution_count": null,
   "metadata": {},
   "outputs": [],
   "source": [
    "pst.observation_data.loc[pst.observation_data['weight'] == 0]"
   ]
  },
  {
   "cell_type": "markdown",
   "metadata": {},
   "source": [
    "Forward run script. Obviously some stuff TODO (add head-differences, head-stage differences, secondary model outcomes...):"
   ]
  },
  {
   "cell_type": "code",
   "execution_count": null,
   "metadata": {},
   "outputs": [],
   "source": [
    "_ = [print(line.rstrip()) for line in open(os.path.join(pf.new_d,\"forward_run.py\"))]"
   ]
  },
  {
   "cell_type": "code",
   "execution_count": null,
   "metadata": {},
   "outputs": [],
   "source": [
    "# write the control file\n",
    "pst.write(os.path.join(pf.new_d, 'hagfors.pst'))"
   ]
  },
  {
   "cell_type": "code",
   "execution_count": null,
   "metadata": {},
   "outputs": [],
   "source": [
    "# draw from the prior and save the ensemble in binary format\n",
    "pe = pf.draw(50, use_specsim=True)\n",
    "pe.to_binary(os.path.join(template_ws, \"prior.jcb\"))"
   ]
  },
  {
   "cell_type": "code",
   "execution_count": null,
   "metadata": {},
   "outputs": [],
   "source": [
    "display(pe.loc[:,pst.adj_par_names[:5]])\n",
    "fig, ax = plt.subplots(1,1, figsize=(12,8))\n",
    "h = pe.loc[:,pst.adj_par_names[0]]._df.hist(bins=20)"
   ]
  },
  {
   "cell_type": "code",
   "execution_count": null,
   "metadata": {},
   "outputs": [],
   "source": [
    "# set some algorithmic controls\n",
    "pst.control_data.noptmax = 0\n",
    "pst.pestpp_options[\"additional_ins_delimiters\"] = \",\" # Will fix Exception: run() returned non-zero: -1073740791"
   ]
  },
  {
   "cell_type": "code",
   "execution_count": null,
   "metadata": {},
   "outputs": [],
   "source": [
    "# write the control file\n",
    "pst.write(os.path.join(pf.new_d, 'hagfors.pst'))"
   ]
  },
  {
   "cell_type": "code",
   "execution_count": null,
   "metadata": {},
   "outputs": [],
   "source": [
    "# run with noptmax = 0\n",
    "pyemu.os_utils.run(\"{0} hagfors.pst\".format('pestpp-ies'), cwd=pf.new_d)"
   ]
  },
  {
   "cell_type": "code",
   "execution_count": null,
   "metadata": {},
   "outputs": [],
   "source": [
    "# make sure it ran\n",
    "res_file = os.path.join(pf.new_d, 'hagfors.base.rei')\n",
    "assert os.path.exists(res_file), res_file\n",
    "pst.set_res(res_file)\n",
    "print(pst.phi)"
   ]
  },
  {
   "cell_type": "code",
   "execution_count": null,
   "metadata": {},
   "outputs": [],
   "source": [
    "# Let's see if it can be reduced\n",
    "pst.control_data.noptmax = 3\n",
    "\n",
    "# define what file has the prior parameter ensemble\n",
    "pst.pestpp_options['ies_par_en'] = 'prior.jcb'\n",
    "pst.pestpp_options['ies_num_reals'] = 50  # enough?\n",
    "\n",
    "# write the updated pest control file\n",
    "pst.write(os.path.join(pf.new_d, 'hagfors.pst'),version=2)"
   ]
  },
  {
   "cell_type": "code",
   "execution_count": null,
   "metadata": {},
   "outputs": [],
   "source": [
    "pyemu.os_utils.start_workers(\n",
    "    template_ws,\n",
    "    'pestpp-ies',\n",
    "    'hagfors.pst',\n",
    "    num_workers=1,\n",
    "    master_dir='../master_ss',\n",
    "    worker_root='..'\n",
    ")"
   ]
  },
  {
   "cell_type": "code",
   "execution_count": null,
   "metadata": {},
   "outputs": [],
   "source": []
  }
 ],
 "metadata": {
  "kernelspec": {
   "display_name": "Python 3",
   "language": "python",
   "name": "python3"
  },
  "language_info": {
   "codemirror_mode": {
    "name": "ipython",
    "version": 3
   },
   "file_extension": ".py",
   "mimetype": "text/x-python",
   "name": "python",
   "nbconvert_exporter": "python",
   "pygments_lexer": "ipython3",
   "version": "3.8.6"
  }
 },
 "nbformat": 4,
 "nbformat_minor": 4
}
