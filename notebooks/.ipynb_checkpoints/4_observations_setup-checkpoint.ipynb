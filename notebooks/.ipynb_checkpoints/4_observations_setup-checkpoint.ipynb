{
 "cells": [
  {
   "cell_type": "code",
   "execution_count": null,
   "metadata": {},
   "outputs": [],
   "source": [
    "import os\n",
    "import shutil\n",
    "\n",
    "from lumpyrem import run\n",
    "\n",
    "import warnings\n",
    "\n",
    "warnings.filterwarnings(\"ignore\", category=DeprecationWarning)"
   ]
  },
  {
   "cell_type": "code",
   "execution_count": null,
   "metadata": {},
   "outputs": [],
   "source": [
    "bins_pth = os.path.join('..', 'bins', 'win') if 'nt' in os.name else os.path.join('..', 'bins', 'linux') # Binaries\n",
    "olproc_input_pth = os.path.join('..', 'data', 'olproc_input') # Measured data (field obs)"
   ]
  },
  {
   "cell_type": "code",
   "execution_count": null,
   "metadata": {},
   "outputs": [],
   "source": [
    "org_model_ws = os.path.join('..', 'temp_ml_param')\n",
    "os.listdir(org_model_ws)"
   ]
  },
  {
   "cell_type": "code",
   "execution_count": null,
   "metadata": {},
   "outputs": [],
   "source": [
    "tmp_model_ws = os.path.join('..', 'temp_ml_obs') # Safe to delete\n",
    "if os.path.exists(tmp_model_ws):\n",
    "    shutil.rmtree(tmp_model_ws)\n",
    "shutil.copytree(org_model_ws,tmp_model_ws)\n",
    "os.listdir(tmp_model_ws)"
   ]
  },
  {
   "cell_type": "code",
   "execution_count": null,
   "metadata": {},
   "outputs": [],
   "source": [
    "postproc_ws = os.path.join(tmp_model_ws, 'runmodel', 'postproc')\n",
    "if not os.path.exists(postproc_ws):\n",
    "    os.mkdir(postproc_ws)"
   ]
  },
  {
   "cell_type": "code",
   "execution_count": null,
   "metadata": {},
   "outputs": [],
   "source": [
    "os.listdir(olproc_input_pth)"
   ]
  },
  {
   "cell_type": "code",
   "execution_count": null,
   "metadata": {},
   "outputs": [],
   "source": [
    "for file in os.listdir(olproc_input_pth):\n",
    "    if not 'readme' in file:\n",
    "        shutil.copyfile(os.path.join(olproc_input_pth, file), os.path.join(postproc_ws, file))"
   ]
  },
  {
   "cell_type": "code",
   "execution_count": null,
   "metadata": {},
   "outputs": [],
   "source": [
    "def write_script(filename, lines):\n",
    "\n",
    "    with open(filename, 'a') as f:\n",
    "        for line in lines:\n",
    "            f.write(line)\n",
    "            f.write('\\n')"
   ]
  },
  {
   "cell_type": "code",
   "execution_count": null,
   "metadata": {},
   "outputs": [],
   "source": [
    "write_script(os.path.join(postproc_ws, 'olproc.in'), [\n",
    "'''\n",
    "START GENERAL\n",
    "  date_format        = dd/mm/yyyy\n",
    "\n",
    "  # the 1st timestep is a 1-day steady state stress period\n",
    "  # the subsequent transient stress period starts on 01/01/2016 \n",
    "  model_start_date   = 31/12/2015\n",
    "  model_start_time   = 00:00:00\n",
    "  \n",
    "  # MODFLOW6 time-step units are setup as day.\n",
    "  model_time_units   = days\n",
    "\n",
    "  # Set the History Matching Window\n",
    "  history_match_start_date  = 01/01/2016\n",
    "END GENERAL\n",
    "\n",
    "START MEAS_SSF_FILES\n",
    "  # Read the head measurements for layers 1, 2 and 3\n",
    "  file = obs-head1.ssf     group=heads1   use_abs=yes  use_diff=yes\n",
    "  file = obs-head2.ssf     group=heads2   use_abs=yes  use_diff=yes\n",
    "  file = obs-head3.ssf     group=heads3   use_abs=yes  use_diff=yes\n",
    "  \n",
    "  # Read the stage measurements for creek Örbäcken in layer 1\n",
    "  file = obs-stage1.ssf     group=stage1   use_abs=yes  use_diff=yes\n",
    "  \n",
    "  # Read the gage measurements for creek Örbäcken in layer 1\n",
    "  file = obs-gage1.ssf     group=gage1   use_abs=yes  use_diff=yes\n",
    "  \n",
    "  # headstagediff is the difference between head and stage in layer 1 at the same site\n",
    "  file = dh-head-stage1.ssf   group=dh_hedstg use_abs=yes use_diff=yes\n",
    "END MEAS_SSF_FILES\n",
    "\n",
    "START MF6_OBS_FILES\n",
    "  file = ../model/head.obs.csv\n",
    "  file = ../model/sfr_stage.obs.csv\n",
    "  file = ../model/sfr_gage.obs.csv\n",
    "END MF6_OBS_FILES\n",
    "\n",
    "START OUTPUT\n",
    "  partial_pest_control_file = partial1.pst\n",
    "  model_batch_file          = runmodel.bat\n",
    "  obs_ssf_folder            = .\\obs_files\n",
    "END OUTPUT\n",
    "\n",
    "START SECONDARY_MODEL_OUTCOMES  \n",
    "  DH-NI15-O1 = \"NI15-O1\" - \"NI15-O1-STG\"\n",
    "  DH-NI15-O44 = \"NI15-O44\" - \"NI15-O44-STG\"\n",
    "  DH-NI15-O46 = \"NI15-O46\" - \"NI15-O46-STG\"\n",
    "  DH-NI15-O47 = \"NI15-O47\" - \"NI15-O47-STG\"\n",
    "  DH-NI15-O48 = \"NI15-O48\" - \"NI15-O48-STG\"\n",
    "END SECONDARY_MODEL_OUTCOMES \n",
    "'''\n",
    "])"
   ]
  },
  {
   "cell_type": "code",
   "execution_count": null,
   "metadata": {},
   "outputs": [],
   "source": [
    "obs_ssf_folder = os.path.join(postproc_ws, 'obs_files')\n",
    "if os.path.exists(obs_ssf_folder):\n",
    "    shutil.rmtree(obs_ssf_folder)\n",
    "    os.mkdir(obs_ssf_folder)\n",
    "else:\n",
    "    os.mkdir(obs_ssf_folder)"
   ]
  },
  {
   "cell_type": "markdown",
   "metadata": {},
   "source": [
    "Add a return statement to dynamically capture NOBS, NOBSGP, and NINSFILE:"
   ]
  },
  {
   "cell_type": "code",
   "execution_count": null,
   "metadata": {},
   "outputs": [],
   "source": [
    "def run_process_stdout(process, path=False, commands=[], print_output=True):\n",
    "    import os\n",
    "    import subprocess\n",
    "    \"\"\"This calls a process and then executes a list of commands.\n",
    "\n",
    "    Parameters\n",
    "    ----------\n",
    "    process : str\n",
    "        The name of the process to execute.\n",
    "    path : str, optional\n",
    "        path in which to execute commands. False (default) result sin commans being executed in current working directory.\n",
    "    commands : list of str\n",
    "        sequence of commands to pass to the process.\n",
    "    print_output : bool, optional\n",
    "            True, process output is printed. False, it is not.\n",
    "        \"\"\"\n",
    "\n",
    "    if path == False:\n",
    "        path = os.getcwd()\n",
    "\n",
    "    owd = os.getcwd()\n",
    "    os.chdir(path)\n",
    "\n",
    "    p = subprocess.run([process], stdout=subprocess.PIPE,\n",
    "            input='\\n'.join(map(str, commands))+'\\n', encoding='ascii')\n",
    "\n",
    "    if print_output==True:\n",
    "            print(p.stdout)\n",
    "    os.chdir(owd)\n",
    "    return p.stdout"
   ]
  },
  {
   "cell_type": "code",
   "execution_count": null,
   "metadata": {},
   "outputs": [],
   "source": [
    "# run OLPROC\n",
    "olp_construct = run_process_stdout(\n",
    "    'olproc',\n",
    "    path=postproc_ws,\n",
    "    commands=['olproc.in', 0] # Run OLPROC in postprocessor mode\n",
    ")"
   ]
  },
  {
   "cell_type": "code",
   "execution_count": null,
   "metadata": {},
   "outputs": [],
   "source": [
    "nobs = olp_construct.split('\\n')[-4].split()[-1]\n",
    "nobsgp = olp_construct.split('\\n')[-3].split()[-1]\n",
    "ninsfile = olp_construct.split('\\n')[-2].split()[-1]\n",
    "print(nobs)\n",
    "print(nobsgp)\n",
    "print(ninsfile)"
   ]
  },
  {
   "cell_type": "markdown",
   "metadata": {},
   "source": [
    "Copy all the instruction files to the pest\\instruction folder:"
   ]
  },
  {
   "cell_type": "code",
   "execution_count": null,
   "metadata": {},
   "outputs": [],
   "source": [
    "insfiles = [i for i in os.listdir(postproc_ws) if '.ins' in i]"
   ]
  },
  {
   "cell_type": "code",
   "execution_count": null,
   "metadata": {},
   "outputs": [],
   "source": [
    "instruction_ws = os.path.join(tmp_model_ws, 'pest', 'instruction')"
   ]
  },
  {
   "cell_type": "code",
   "execution_count": null,
   "metadata": {},
   "outputs": [],
   "source": [
    "for file in insfiles:\n",
    "    shutil.copyfile(os.path.join(postproc_ws, file), os.path.join(instruction_ws, file))"
   ]
  },
  {
   "cell_type": "markdown",
   "metadata": {},
   "source": [
    "### Concatenate pestfiles"
   ]
  },
  {
   "cell_type": "code",
   "execution_count": null,
   "metadata": {},
   "outputs": [],
   "source": [
    "pest_ws = os.path.join(tmp_model_ws, 'pest')"
   ]
  },
  {
   "cell_type": "code",
   "execution_count": null,
   "metadata": {},
   "outputs": [],
   "source": [
    "with open(os.path.join(pest_ws, 'calib0.pst'), 'r') as file:\n",
    "    calib0_pstfile = file.readlines()"
   ]
  },
  {
   "cell_type": "code",
   "execution_count": null,
   "metadata": {},
   "outputs": [],
   "source": [
    "display(calib0_pstfile)"
   ]
  },
  {
   "cell_type": "code",
   "execution_count": null,
   "metadata": {},
   "outputs": [],
   "source": [
    "with open(os.path.join(postproc_ws, 'partial1.pst'), 'r') as file:\n",
    "    partial_pstfile_obs = file.readlines()"
   ]
  },
  {
   "cell_type": "code",
   "execution_count": null,
   "metadata": {},
   "outputs": [],
   "source": [
    "display(partial_pstfile_obs)"
   ]
  },
  {
   "cell_type": "code",
   "execution_count": null,
   "metadata": {},
   "outputs": [],
   "source": [
    "ppf_obs_ogp_strt = partial_pstfile_obs.index('* observation groups\\n') + 1\n",
    "ppf_obs_ogp_stop = partial_pstfile_obs.index('* observation data\\n')"
   ]
  },
  {
   "cell_type": "code",
   "execution_count": null,
   "metadata": {},
   "outputs": [],
   "source": [
    "ppf_obs_ogp = partial_pstfile_obs[ppf_obs_ogp_strt:ppf_obs_ogp_stop] #partial pestfile obsgrp\n",
    "display(ppf_obs_ogp)"
   ]
  },
  {
   "cell_type": "markdown",
   "metadata": {},
   "source": [
    "make temp copy of `calib0.pst`:"
   ]
  },
  {
   "cell_type": "code",
   "execution_count": null,
   "metadata": {},
   "outputs": [],
   "source": [
    "calib0_pstfile_temp = calib0_pstfile[:]"
   ]
  },
  {
   "cell_type": "code",
   "execution_count": null,
   "metadata": {},
   "outputs": [],
   "source": [
    "ppf_calib_ogp_strt = calib0_pstfile_temp.index('* observation groups\\n') + 1\n",
    "ppf_calib_ogp_stop = calib0_pstfile_temp.index('* observation data\\n')"
   ]
  },
  {
   "cell_type": "code",
   "execution_count": null,
   "metadata": {},
   "outputs": [],
   "source": [
    "calib0_pstfile_temp[ppf_calib_ogp_strt:ppf_calib_ogp_stop] = ppf_obs_ogp"
   ]
  },
  {
   "cell_type": "markdown",
   "metadata": {},
   "source": [
    "obsgroups are now inserted at the correct location:"
   ]
  },
  {
   "cell_type": "code",
   "execution_count": null,
   "metadata": {},
   "outputs": [],
   "source": [
    "calib0_pstfile_temp[-25:]"
   ]
  },
  {
   "cell_type": "markdown",
   "metadata": {},
   "source": [
    "Moving on to obsdata:"
   ]
  },
  {
   "cell_type": "code",
   "execution_count": null,
   "metadata": {},
   "outputs": [],
   "source": [
    "ppf_obs_odt_strt = partial_pstfile_obs.index('* observation data\\n') + 1\n",
    "ppf_obs_odt_stop = partial_pstfile_obs.index('* model command line\\n')"
   ]
  },
  {
   "cell_type": "code",
   "execution_count": null,
   "metadata": {},
   "outputs": [],
   "source": [
    "ppf_obs_odt = partial_pstfile_obs[ppf_obs_odt_strt:ppf_obs_odt_stop]"
   ]
  },
  {
   "cell_type": "code",
   "execution_count": null,
   "metadata": {},
   "outputs": [],
   "source": [
    "ppf_calib_odt_strt = calib0_pstfile_temp.index('* observation data\\n') + 1\n",
    "ppf_calib_odt_stop = calib0_pstfile_temp.index('* model command line\\n')"
   ]
  },
  {
   "cell_type": "code",
   "execution_count": null,
   "metadata": {},
   "outputs": [],
   "source": [
    "calib0_pstfile_temp[ppf_calib_odt_strt:ppf_calib_odt_stop] = ppf_obs_odt"
   ]
  },
  {
   "cell_type": "markdown",
   "metadata": {},
   "source": [
    "### Update relative path names for each of the instruction and model output files"
   ]
  },
  {
   "cell_type": "code",
   "execution_count": null,
   "metadata": {},
   "outputs": [],
   "source": [
    "ml_io_start = partial_pstfile_obs.index('* model input/output\\n') + 2"
   ]
  },
  {
   "cell_type": "code",
   "execution_count": null,
   "metadata": {},
   "outputs": [],
   "source": [
    "prepend1, prepend2 = '.\\\\instruction\\\\', '..\\\\runmodel\\\\postproc\\\\'"
   ]
  },
  {
   "cell_type": "code",
   "execution_count": null,
   "metadata": {},
   "outputs": [],
   "source": [
    "new_ml_io = []\n",
    "for i in partial_pstfile_obs[ml_io_start:]:\n",
    "    for string, j in zip([prepend1, prepend2], i.split()):\n",
    "        new_ml_io.append(string + j)"
   ]
  },
  {
   "cell_type": "code",
   "execution_count": null,
   "metadata": {},
   "outputs": [],
   "source": [
    "new_ml_io = [' '.join(i) for i in zip(new_ml_io[0::2], new_ml_io[1::2])]"
   ]
  },
  {
   "cell_type": "code",
   "execution_count": null,
   "metadata": {},
   "outputs": [],
   "source": [
    "new_ml_io = [i+'\\n' for i in new_ml_io]"
   ]
  },
  {
   "cell_type": "code",
   "execution_count": null,
   "metadata": {},
   "outputs": [],
   "source": [
    "new_ml_io"
   ]
  },
  {
   "cell_type": "code",
   "execution_count": null,
   "metadata": {},
   "outputs": [],
   "source": [
    "calib0_pstfile_temp = calib0_pstfile_temp + new_ml_io"
   ]
  },
  {
   "cell_type": "code",
   "execution_count": null,
   "metadata": {},
   "outputs": [],
   "source": [
    "calib0_pstfile_temp[-50:]"
   ]
  },
  {
   "cell_type": "markdown",
   "metadata": {},
   "source": [
    "### Change NOBS, NOBSGP, NINSFLE"
   ]
  },
  {
   "cell_type": "code",
   "execution_count": null,
   "metadata": {},
   "outputs": [],
   "source": [
    "calib0_pstfile_temp"
   ]
  },
  {
   "cell_type": "code",
   "execution_count": null,
   "metadata": {},
   "outputs": [],
   "source": [
    "calib0_pstfile_temp[3]"
   ]
  },
  {
   "cell_type": "code",
   "execution_count": null,
   "metadata": {},
   "outputs": [],
   "source": [
    "temp_row = calib0_pstfile_temp[3].split()\n",
    "display(temp_row)"
   ]
  },
  {
   "cell_type": "code",
   "execution_count": null,
   "metadata": {},
   "outputs": [],
   "source": [
    "temp_row[1] = nobs\n",
    "temp_row[-1] = f'{nobsgp}\\n'\n",
    "display(temp_row)"
   ]
  },
  {
   "cell_type": "code",
   "execution_count": null,
   "metadata": {},
   "outputs": [],
   "source": [
    "new_row = ' '.join(temp_row)\n",
    "display(new_row)"
   ]
  },
  {
   "cell_type": "code",
   "execution_count": null,
   "metadata": {},
   "outputs": [],
   "source": [
    "calib0_pstfile_temp[3] = new_row"
   ]
  },
  {
   "cell_type": "code",
   "execution_count": null,
   "metadata": {},
   "outputs": [],
   "source": [
    "temp_row = calib0_pstfile_temp[4].split()\n",
    "display(temp_row)"
   ]
  },
  {
   "cell_type": "code",
   "execution_count": null,
   "metadata": {},
   "outputs": [],
   "source": [
    "temp_row[1] = ninsfile\n",
    "temp_row[-1] = f'{temp_row[-1]}\\n'\n",
    "display(temp_row)"
   ]
  },
  {
   "cell_type": "code",
   "execution_count": null,
   "metadata": {},
   "outputs": [],
   "source": [
    "new_row = ' '.join(temp_row)\n",
    "display(new_row)"
   ]
  },
  {
   "cell_type": "code",
   "execution_count": null,
   "metadata": {},
   "outputs": [],
   "source": [
    "calib0_pstfile_temp[4] = new_row"
   ]
  },
  {
   "cell_type": "code",
   "execution_count": null,
   "metadata": {},
   "outputs": [],
   "source": [
    "calib0_pstfile_temp[:10]"
   ]
  },
  {
   "cell_type": "code",
   "execution_count": null,
   "metadata": {},
   "outputs": [],
   "source": [
    "### Write new pestfile"
   ]
  },
  {
   "cell_type": "code",
   "execution_count": null,
   "metadata": {},
   "outputs": [],
   "source": [
    "with open(os.path.join(pest_ws, 'calib0.pst'), 'w') as file:\n",
    "    for line in calib0_pstfile_temp:\n",
    "        file.write(line)"
   ]
  },
  {
   "cell_type": "code",
   "execution_count": null,
   "metadata": {},
   "outputs": [],
   "source": []
  }
 ],
 "metadata": {
  "kernelspec": {
   "display_name": "Python 3",
   "language": "python",
   "name": "python3"
  },
  "language_info": {
   "codemirror_mode": {
    "name": "ipython",
    "version": 3
   },
   "file_extension": ".py",
   "mimetype": "text/x-python",
   "name": "python",
   "nbconvert_exporter": "python",
   "pygments_lexer": "ipython3",
   "version": "3.8.6"
  }
 },
 "nbformat": 4,
 "nbformat_minor": 4
}
