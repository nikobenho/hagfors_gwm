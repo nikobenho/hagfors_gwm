{
 "cells": [
  {
   "cell_type": "code",
   "execution_count": 1,
   "metadata": {},
   "outputs": [],
   "source": [
    "import os\n",
    "import shutil\n",
    "import subprocess\n",
    "import numpy as np\n",
    "import pandas as pd\n",
    "import flopy\n",
    "import pyemu\n",
    "import lumpyrem as lr\n",
    "from lumpyrem import run\n",
    "from lumpyrem.lr2series import TimeSeries\n",
    "import matplotlib.pyplot as plt\n",
    "\n",
    "import matplotlib.pyplot as plt\n",
    "plt.rcParams.update({'font.size': 12})"
   ]
  },
  {
   "cell_type": "code",
   "execution_count": 2,
   "metadata": {},
   "outputs": [
    {
     "name": "stderr",
     "output_type": "stream",
     "text": [
      "c:\\users\\nat12nho\\appdata\\local\\programs\\python\\python38\\lib\\site-packages\\ipykernel\\ipkernel.py:287: DeprecationWarning: `should_run_async` will not call `transform_cell` automatically in the future. Please pass the result to `transformed_cell` argument and any exception that happen during thetransform in `preprocessing_exc_tuple` in IPython 7.17 and above.\n",
      "  and should_run_async(code)\n"
     ]
    }
   ],
   "source": [
    "import warnings\n",
    "warnings.filterwarnings(\"ignore\", category=DeprecationWarning)"
   ]
  },
  {
   "cell_type": "code",
   "execution_count": 3,
   "metadata": {},
   "outputs": [],
   "source": [
    "bins_pth = os.path.join('..', 'bins', 'win') if 'nt' in os.name else os.path.join('..', 'bins', 'linux') # Binaries"
   ]
  },
  {
   "cell_type": "code",
   "execution_count": 5,
   "metadata": {},
   "outputs": [],
   "source": [
    "lr_ws = os.path.join('..', 'temp_lr_prep_2d') # Lumprem model workspace.  Safe to delete."
   ]
  },
  {
   "cell_type": "code",
   "execution_count": 6,
   "metadata": {},
   "outputs": [
    {
     "data": {
      "text/plain": [
       "['evapot.dat', 'rainfall.dat']"
      ]
     },
     "execution_count": 6,
     "metadata": {},
     "output_type": "execute_result"
    }
   ],
   "source": [
    "lumprem_input_pth = os.path.join('..', 'data', 'lumprem_input') # Input data curated in a previous notebook\n",
    "os.listdir(lumprem_input_pth)"
   ]
  },
  {
   "cell_type": "code",
   "execution_count": 7,
   "metadata": {},
   "outputs": [],
   "source": [
    "if os.path.exists(lr_ws):\n",
    "    shutil.rmtree(lr_ws)\n",
    "os.mkdir(lr_ws)"
   ]
  },
  {
   "cell_type": "code",
   "execution_count": 8,
   "metadata": {},
   "outputs": [],
   "source": [
    "for file in os.listdir(lumprem_input_pth):\n",
    "    shutil.copyfile(lumprem_input_pth+'\\\\'+file, lr_ws+'\\\\'+file) #Works for Windows. Does it work for Linux?"
   ]
  },
  {
   "cell_type": "code",
   "execution_count": 9,
   "metadata": {},
   "outputs": [
    {
     "data": {
      "text/plain": [
       "['evapot.dat', 'rainfall.dat']"
      ]
     },
     "execution_count": 9,
     "metadata": {},
     "output_type": "execute_result"
    }
   ],
   "source": [
    "os.listdir(lr_ws)"
   ]
  },
  {
   "cell_type": "markdown",
   "metadata": {},
   "source": [
    "## Setup recharge model\n",
    "What about EVT?"
   ]
  },
  {
   "cell_type": "code",
   "execution_count": 14,
   "metadata": {},
   "outputs": [],
   "source": [
    "lr_lu1.write_model??"
   ]
  },
  {
   "cell_type": "code",
   "execution_count": 12,
   "metadata": {},
   "outputs": [],
   "source": [
    "# initiate the model and write the in files. What about rbuf & mbuf?\n",
    "# landuse model for recharge, evap\n",
    "lr_lu1 = lr.lumprem.Model(\n",
    "    model_name = 'lu1',\n",
    "    workspace = lr_ws,\n",
    "    irrigvolfrac = 0.0,\n",
    "    rainfile = 'rainfall.dat',\n",
    "    epotfile = 'evapot.dat',\n",
    "    maxvol = 0.5, # Varför valde jag 0.2 istället för 0.5 som är default?\n",
    "    vol = 0.1,\n",
    "    ks = 43.2 # 43.2 m/day = 0.0005 m/s ≈ reasonable initial guess considering local geology\n",
    ")"
   ]
  },
  {
   "cell_type": "code",
   "execution_count": 13,
   "metadata": {},
   "outputs": [
    {
     "name": "stdout",
     "output_type": "stream",
     "text": [
      "LUMPREM model input file written to: \n",
      "..\\temp_lr_prep_2d\\lr_lu1.in\n",
      "PEST template file written to: \n",
      "..\\temp_lr_prep_2d\\lr_lu1.tpl\n",
      "\n",
      " Enter name of LUMPREM input file:  Enter name for LUMPREM tabular output file:  Enter name for CSV output file (<Enter> if none):  \n",
      " - file lr_lu1.in read ok.\n",
      " - file lumprem_variables.rec written ok.\n",
      " - file rainfall.dat read ok.\n",
      " - file evapot.dat read ok.\n",
      " - file lr_lu1.out written ok.\n",
      " - file lr_lu1.csv written ok.\n",
      "\n"
     ]
    }
   ],
   "source": [
    "lr_lu1.write_model(\n",
    "    start_date = '01/01/2016',\n",
    "    end_date = '01/01/2020',\n",
    "    noutdays = 'monthly',\n",
    "    nstep = 5,\n",
    "    mxiter = 1000,\n",
    "    tol = 1e-7,\n",
    "    ssf_var = [['ks', 'lr_lu1', 1.0, 0.0, 8.640E-04, 8640]], # Does this do anything?\n",
    ")\n",
    "lr_lu1.run_model(version=2)"
   ]
  },
  {
   "cell_type": "code",
   "execution_count": 15,
   "metadata": {},
   "outputs": [
    {
     "data": {
      "text/html": [
       "<div>\n",
       "<style scoped>\n",
       "    .dataframe tbody tr th:only-of-type {\n",
       "        vertical-align: middle;\n",
       "    }\n",
       "\n",
       "    .dataframe tbody tr th {\n",
       "        vertical-align: top;\n",
       "    }\n",
       "\n",
       "    .dataframe thead th {\n",
       "        text-align: right;\n",
       "    }\n",
       "</style>\n",
       "<table border=\"1\" class=\"dataframe\">\n",
       "  <thead>\n",
       "    <tr style=\"text-align: right;\">\n",
       "      <th></th>\n",
       "      <th>days</th>\n",
       "      <th>vol_upper</th>\n",
       "      <th>vol_lower</th>\n",
       "      <th>vol_drain</th>\n",
       "      <th>vol_macro</th>\n",
       "      <th>del_vol_upper</th>\n",
       "      <th>del_vol_lower</th>\n",
       "      <th>del_vol_drain</th>\n",
       "      <th>del_vol_macro</th>\n",
       "      <th>rainfall</th>\n",
       "      <th>...</th>\n",
       "      <th>workspace</th>\n",
       "      <th>maxvol_br</th>\n",
       "      <th>extravol_br</th>\n",
       "      <th>gamma_br</th>\n",
       "      <th>ks_br</th>\n",
       "      <th>m_br</th>\n",
       "      <th>l_br</th>\n",
       "      <th>vol_br</th>\n",
       "      <th>epotfile_br</th>\n",
       "      <th>epot_br_all</th>\n",
       "    </tr>\n",
       "  </thead>\n",
       "  <tbody>\n",
       "    <tr>\n",
       "      <th>0</th>\n",
       "      <td>0</td>\n",
       "      <td>0.100000</td>\n",
       "      <td>0.0</td>\n",
       "      <td>0.000000</td>\n",
       "      <td>0.0</td>\n",
       "      <td>0.000000</td>\n",
       "      <td>0.0</td>\n",
       "      <td>0.000000</td>\n",
       "      <td>0.0</td>\n",
       "      <td>0.0000</td>\n",
       "      <td>...</td>\n",
       "      <td>..\\temp_lr_prep_2d</td>\n",
       "      <td>NaN</td>\n",
       "      <td>NaN</td>\n",
       "      <td>NaN</td>\n",
       "      <td>NaN</td>\n",
       "      <td>NaN</td>\n",
       "      <td>NaN</td>\n",
       "      <td>NaN</td>\n",
       "      <td>NaN</td>\n",
       "      <td>NaN</td>\n",
       "    </tr>\n",
       "    <tr>\n",
       "      <th>1</th>\n",
       "      <td>31</td>\n",
       "      <td>0.072061</td>\n",
       "      <td>0.0</td>\n",
       "      <td>0.008777</td>\n",
       "      <td>0.0</td>\n",
       "      <td>-0.027939</td>\n",
       "      <td>0.0</td>\n",
       "      <td>0.008777</td>\n",
       "      <td>0.0</td>\n",
       "      <td>0.0367</td>\n",
       "      <td>...</td>\n",
       "      <td>..\\temp_lr_prep_2d</td>\n",
       "      <td>NaN</td>\n",
       "      <td>NaN</td>\n",
       "      <td>NaN</td>\n",
       "      <td>NaN</td>\n",
       "      <td>NaN</td>\n",
       "      <td>NaN</td>\n",
       "      <td>NaN</td>\n",
       "      <td>NaN</td>\n",
       "      <td>NaN</td>\n",
       "    </tr>\n",
       "    <tr>\n",
       "      <th>2</th>\n",
       "      <td>60</td>\n",
       "      <td>0.058729</td>\n",
       "      <td>0.0</td>\n",
       "      <td>0.004137</td>\n",
       "      <td>0.0</td>\n",
       "      <td>-0.013333</td>\n",
       "      <td>0.0</td>\n",
       "      <td>-0.004640</td>\n",
       "      <td>0.0</td>\n",
       "      <td>0.0285</td>\n",
       "      <td>...</td>\n",
       "      <td>..\\temp_lr_prep_2d</td>\n",
       "      <td>NaN</td>\n",
       "      <td>NaN</td>\n",
       "      <td>NaN</td>\n",
       "      <td>NaN</td>\n",
       "      <td>NaN</td>\n",
       "      <td>NaN</td>\n",
       "      <td>NaN</td>\n",
       "      <td>NaN</td>\n",
       "      <td>NaN</td>\n",
       "    </tr>\n",
       "    <tr>\n",
       "      <th>3</th>\n",
       "      <td>91</td>\n",
       "      <td>0.065980</td>\n",
       "      <td>0.0</td>\n",
       "      <td>0.004325</td>\n",
       "      <td>0.0</td>\n",
       "      <td>0.007252</td>\n",
       "      <td>0.0</td>\n",
       "      <td>0.000188</td>\n",
       "      <td>0.0</td>\n",
       "      <td>0.0354</td>\n",
       "      <td>...</td>\n",
       "      <td>..\\temp_lr_prep_2d</td>\n",
       "      <td>NaN</td>\n",
       "      <td>NaN</td>\n",
       "      <td>NaN</td>\n",
       "      <td>NaN</td>\n",
       "      <td>NaN</td>\n",
       "      <td>NaN</td>\n",
       "      <td>NaN</td>\n",
       "      <td>NaN</td>\n",
       "      <td>NaN</td>\n",
       "    </tr>\n",
       "    <tr>\n",
       "      <th>4</th>\n",
       "      <td>121</td>\n",
       "      <td>0.078143</td>\n",
       "      <td>0.0</td>\n",
       "      <td>0.009604</td>\n",
       "      <td>0.0</td>\n",
       "      <td>0.012162</td>\n",
       "      <td>0.0</td>\n",
       "      <td>0.005280</td>\n",
       "      <td>0.0</td>\n",
       "      <td>0.0651</td>\n",
       "      <td>...</td>\n",
       "      <td>..\\temp_lr_prep_2d</td>\n",
       "      <td>NaN</td>\n",
       "      <td>NaN</td>\n",
       "      <td>NaN</td>\n",
       "      <td>NaN</td>\n",
       "      <td>NaN</td>\n",
       "      <td>NaN</td>\n",
       "      <td>NaN</td>\n",
       "      <td>NaN</td>\n",
       "      <td>NaN</td>\n",
       "    </tr>\n",
       "  </tbody>\n",
       "</table>\n",
       "<p>5 rows × 58 columns</p>\n",
       "</div>"
      ],
      "text/plain": [
       "   days  vol_upper  vol_lower  vol_drain  vol_macro  del_vol_upper  \\\n",
       "0     0   0.100000        0.0   0.000000        0.0       0.000000   \n",
       "1    31   0.072061        0.0   0.008777        0.0      -0.027939   \n",
       "2    60   0.058729        0.0   0.004137        0.0      -0.013333   \n",
       "3    91   0.065980        0.0   0.004325        0.0       0.007252   \n",
       "4   121   0.078143        0.0   0.009604        0.0       0.012162   \n",
       "\n",
       "   del_vol_lower  del_vol_drain  del_vol_macro  rainfall  ...  \\\n",
       "0            0.0       0.000000            0.0    0.0000  ...   \n",
       "1            0.0       0.008777            0.0    0.0367  ...   \n",
       "2            0.0      -0.004640            0.0    0.0285  ...   \n",
       "3            0.0       0.000188            0.0    0.0354  ...   \n",
       "4            0.0       0.005280            0.0    0.0651  ...   \n",
       "\n",
       "            workspace  maxvol_br  extravol_br  gamma_br  ks_br  m_br  l_br  \\\n",
       "0  ..\\temp_lr_prep_2d        NaN          NaN       NaN    NaN   NaN   NaN   \n",
       "1  ..\\temp_lr_prep_2d        NaN          NaN       NaN    NaN   NaN   NaN   \n",
       "2  ..\\temp_lr_prep_2d        NaN          NaN       NaN    NaN   NaN   NaN   \n",
       "3  ..\\temp_lr_prep_2d        NaN          NaN       NaN    NaN   NaN   NaN   \n",
       "4  ..\\temp_lr_prep_2d        NaN          NaN       NaN    NaN   NaN   NaN   \n",
       "\n",
       "   vol_br  epotfile_br  epot_br_all  \n",
       "0     NaN          NaN          NaN  \n",
       "1     NaN          NaN          NaN  \n",
       "2     NaN          NaN          NaN  \n",
       "3     NaN          NaN          NaN  \n",
       "4     NaN          NaN          NaN  \n",
       "\n",
       "[5 rows x 58 columns]"
      ]
     },
     "metadata": {},
     "output_type": "display_data"
    }
   ],
   "source": [
    "# get model results\n",
    "results = lr_lu1.get_results()\n",
    "display(results.head())"
   ]
  },
  {
   "cell_type": "code",
   "execution_count": 16,
   "metadata": {},
   "outputs": [
    {
     "data": {
      "text/html": [
       "<div>\n",
       "<style scoped>\n",
       "    .dataframe tbody tr th:only-of-type {\n",
       "        vertical-align: middle;\n",
       "    }\n",
       "\n",
       "    .dataframe tbody tr th {\n",
       "        vertical-align: top;\n",
       "    }\n",
       "\n",
       "    .dataframe thead th {\n",
       "        text-align: right;\n",
       "    }\n",
       "</style>\n",
       "<table border=\"1\" class=\"dataframe\">\n",
       "  <thead>\n",
       "    <tr style=\"text-align: right;\">\n",
       "      <th></th>\n",
       "      <th>days</th>\n",
       "      <th>vol_upper</th>\n",
       "      <th>vol_lower</th>\n",
       "      <th>vol_drain</th>\n",
       "      <th>vol_macro</th>\n",
       "      <th>del_vol_upper</th>\n",
       "      <th>del_vol_lower</th>\n",
       "      <th>del_vol_drain</th>\n",
       "      <th>del_vol_macro</th>\n",
       "      <th>rainfall</th>\n",
       "      <th>...</th>\n",
       "      <th>workspace</th>\n",
       "      <th>maxvol_br</th>\n",
       "      <th>extravol_br</th>\n",
       "      <th>gamma_br</th>\n",
       "      <th>ks_br</th>\n",
       "      <th>m_br</th>\n",
       "      <th>l_br</th>\n",
       "      <th>vol_br</th>\n",
       "      <th>epotfile_br</th>\n",
       "      <th>epot_br_all</th>\n",
       "    </tr>\n",
       "  </thead>\n",
       "  <tbody>\n",
       "    <tr>\n",
       "      <th>44</th>\n",
       "      <td>1339</td>\n",
       "      <td>0.076706</td>\n",
       "      <td>0.0</td>\n",
       "      <td>0.013524</td>\n",
       "      <td>0.0</td>\n",
       "      <td>0.002954</td>\n",
       "      <td>0.0</td>\n",
       "      <td>0.005050</td>\n",
       "      <td>0.0</td>\n",
       "      <td>0.1049</td>\n",
       "      <td>...</td>\n",
       "      <td>..\\temp_lr_prep_2d</td>\n",
       "      <td>NaN</td>\n",
       "      <td>NaN</td>\n",
       "      <td>NaN</td>\n",
       "      <td>NaN</td>\n",
       "      <td>NaN</td>\n",
       "      <td>NaN</td>\n",
       "      <td>NaN</td>\n",
       "      <td>NaN</td>\n",
       "      <td>NaN</td>\n",
       "    </tr>\n",
       "    <tr>\n",
       "      <th>45</th>\n",
       "      <td>1369</td>\n",
       "      <td>0.079189</td>\n",
       "      <td>0.0</td>\n",
       "      <td>0.009881</td>\n",
       "      <td>0.0</td>\n",
       "      <td>0.002484</td>\n",
       "      <td>0.0</td>\n",
       "      <td>-0.003643</td>\n",
       "      <td>0.0</td>\n",
       "      <td>0.1053</td>\n",
       "      <td>...</td>\n",
       "      <td>..\\temp_lr_prep_2d</td>\n",
       "      <td>NaN</td>\n",
       "      <td>NaN</td>\n",
       "      <td>NaN</td>\n",
       "      <td>NaN</td>\n",
       "      <td>NaN</td>\n",
       "      <td>NaN</td>\n",
       "      <td>NaN</td>\n",
       "      <td>NaN</td>\n",
       "      <td>NaN</td>\n",
       "    </tr>\n",
       "    <tr>\n",
       "      <th>46</th>\n",
       "      <td>1400</td>\n",
       "      <td>0.066624</td>\n",
       "      <td>0.0</td>\n",
       "      <td>0.008155</td>\n",
       "      <td>0.0</td>\n",
       "      <td>-0.012565</td>\n",
       "      <td>0.0</td>\n",
       "      <td>-0.001726</td>\n",
       "      <td>0.0</td>\n",
       "      <td>0.0686</td>\n",
       "      <td>...</td>\n",
       "      <td>..\\temp_lr_prep_2d</td>\n",
       "      <td>NaN</td>\n",
       "      <td>NaN</td>\n",
       "      <td>NaN</td>\n",
       "      <td>NaN</td>\n",
       "      <td>NaN</td>\n",
       "      <td>NaN</td>\n",
       "      <td>NaN</td>\n",
       "      <td>NaN</td>\n",
       "      <td>NaN</td>\n",
       "    </tr>\n",
       "    <tr>\n",
       "      <th>47</th>\n",
       "      <td>1430</td>\n",
       "      <td>0.080872</td>\n",
       "      <td>0.0</td>\n",
       "      <td>0.019100</td>\n",
       "      <td>0.0</td>\n",
       "      <td>0.014248</td>\n",
       "      <td>0.0</td>\n",
       "      <td>0.010945</td>\n",
       "      <td>0.0</td>\n",
       "      <td>0.0734</td>\n",
       "      <td>...</td>\n",
       "      <td>..\\temp_lr_prep_2d</td>\n",
       "      <td>NaN</td>\n",
       "      <td>NaN</td>\n",
       "      <td>NaN</td>\n",
       "      <td>NaN</td>\n",
       "      <td>NaN</td>\n",
       "      <td>NaN</td>\n",
       "      <td>NaN</td>\n",
       "      <td>NaN</td>\n",
       "      <td>NaN</td>\n",
       "    </tr>\n",
       "    <tr>\n",
       "      <th>48</th>\n",
       "      <td>1461</td>\n",
       "      <td>0.066832</td>\n",
       "      <td>0.0</td>\n",
       "      <td>0.007411</td>\n",
       "      <td>0.0</td>\n",
       "      <td>-0.014040</td>\n",
       "      <td>0.0</td>\n",
       "      <td>-0.011689</td>\n",
       "      <td>0.0</td>\n",
       "      <td>0.0654</td>\n",
       "      <td>...</td>\n",
       "      <td>..\\temp_lr_prep_2d</td>\n",
       "      <td>NaN</td>\n",
       "      <td>NaN</td>\n",
       "      <td>NaN</td>\n",
       "      <td>NaN</td>\n",
       "      <td>NaN</td>\n",
       "      <td>NaN</td>\n",
       "      <td>NaN</td>\n",
       "      <td>NaN</td>\n",
       "      <td>NaN</td>\n",
       "    </tr>\n",
       "  </tbody>\n",
       "</table>\n",
       "<p>5 rows × 58 columns</p>\n",
       "</div>"
      ],
      "text/plain": [
       "    days  vol_upper  vol_lower  vol_drain  vol_macro  del_vol_upper  \\\n",
       "44  1339   0.076706        0.0   0.013524        0.0       0.002954   \n",
       "45  1369   0.079189        0.0   0.009881        0.0       0.002484   \n",
       "46  1400   0.066624        0.0   0.008155        0.0      -0.012565   \n",
       "47  1430   0.080872        0.0   0.019100        0.0       0.014248   \n",
       "48  1461   0.066832        0.0   0.007411        0.0      -0.014040   \n",
       "\n",
       "    del_vol_lower  del_vol_drain  del_vol_macro  rainfall  ...  \\\n",
       "44            0.0       0.005050            0.0    0.1049  ...   \n",
       "45            0.0      -0.003643            0.0    0.1053  ...   \n",
       "46            0.0      -0.001726            0.0    0.0686  ...   \n",
       "47            0.0       0.010945            0.0    0.0734  ...   \n",
       "48            0.0      -0.011689            0.0    0.0654  ...   \n",
       "\n",
       "             workspace  maxvol_br  extravol_br  gamma_br  ks_br  m_br  l_br  \\\n",
       "44  ..\\temp_lr_prep_2d        NaN          NaN       NaN    NaN   NaN   NaN   \n",
       "45  ..\\temp_lr_prep_2d        NaN          NaN       NaN    NaN   NaN   NaN   \n",
       "46  ..\\temp_lr_prep_2d        NaN          NaN       NaN    NaN   NaN   NaN   \n",
       "47  ..\\temp_lr_prep_2d        NaN          NaN       NaN    NaN   NaN   NaN   \n",
       "48  ..\\temp_lr_prep_2d        NaN          NaN       NaN    NaN   NaN   NaN   \n",
       "\n",
       "    vol_br  epotfile_br  epot_br_all  \n",
       "44     NaN          NaN          NaN  \n",
       "45     NaN          NaN          NaN  \n",
       "46     NaN          NaN          NaN  \n",
       "47     NaN          NaN          NaN  \n",
       "48     NaN          NaN          NaN  \n",
       "\n",
       "[5 rows x 58 columns]"
      ]
     },
     "metadata": {},
     "output_type": "display_data"
    }
   ],
   "source": [
    "display(results.tail())"
   ]
  },
  {
   "cell_type": "code",
   "execution_count": 17,
   "metadata": {},
   "outputs": [
    {
     "data": {
      "text/plain": [
       "Index(['days', 'vol_upper', 'vol_lower', 'vol_drain', 'vol_macro',\n",
       "       'del_vol_upper', 'del_vol_lower', 'del_vol_drain', 'del_vol_macro',\n",
       "       'rainfall', 'irrigation', 'drain_upper', 'macro_upper', 'drain_lower',\n",
       "       'overflow_lower', 'total_rech', 'gw_withdrawal', 'net_recharge',\n",
       "       'runoff', 'pot_evap_upper', 'evap_upper', 'pot_evap_lower',\n",
       "       'evap_lower', 'gw_pot_evap', 'balance', 'elevation', 'depth-to-water',\n",
       "       'lumprem_model_name', 'rainfile', 'epotfile', 'vegfile', 'irrigfile',\n",
       "       'maxvol', 'irrigvolfrac', 'rdelay', 'mdelay', 'ks', 'M', 'L',\n",
       "       'mflowmax', 'offset', 'factor1', 'factor2', 'power', 'elevmin',\n",
       "       'elevmax', 'surface', 'vol', 'workspace', 'maxvol_br', 'extravol_br',\n",
       "       'gamma_br', 'ks_br', 'm_br', 'l_br', 'vol_br', 'epotfile_br',\n",
       "       'epot_br_all'],\n",
       "      dtype='object')"
      ]
     },
     "metadata": {},
     "output_type": "display_data"
    }
   ],
   "source": [
    "display(results.columns)"
   ]
  },
  {
   "cell_type": "code",
   "execution_count": 19,
   "metadata": {},
   "outputs": [
    {
     "data": {
      "image/png": "[encoded data removed]",
      "text/plain": [
       "<Figure size 500x300 with 1 Axes>"
      ]
     },
     "metadata": {
      "needs_background": "light"
     },
     "output_type": "display_data"
    }
   ],
   "source": [
    "fig = plt.figure(figsize=(10, 6), dpi=50)\n",
    "ax = fig.add_subplot(1, 1, 1)\n",
    "plt.ticklabel_format(axis='both', style='plain', useOffset=False) #Show coordinates\n",
    "ax.set_title('lr_lu1 model', fontsize=18)\n",
    "\n",
    "results.plot('days','net_recharge', ax=ax)\n",
    "results.plot('days', 'gw_pot_evap', ax=ax)\n",
    "\n",
    "plt.legend()\n",
    "plt.show()"
   ]
  },
  {
   "cell_type": "markdown",
   "metadata": {},
   "source": [
    "## Setup GHB models"
   ]
  },
  {
   "cell_type": "markdown",
   "metadata": {},
   "source": [
    "GHB Models:"
   ]
  },
  {
   "cell_type": "code",
   "execution_count": 20,
   "metadata": {},
   "outputs": [],
   "source": [
    "initial_ghb_bheads = {\n",
    "    'red': 142.5,\n",
    "    'yellow': 141.,\n",
    "    'green': 135.,\n",
    "    'blue': 136.5,\n",
    "    'magenta': 139.5,\n",
    "}"
   ]
  },
  {
   "cell_type": "code",
   "execution_count": 21,
   "metadata": {},
   "outputs": [],
   "source": [
    "lr_ghb_red = lr.lumprem.Model(\n",
    "    model_name = 'red',\n",
    "    workspace = lr_ws,\n",
    "    factor1 = 30,\n",
    "    factor2 = 20,\n",
    "    power = 2,\n",
    "    offset = initial_ghb_bheads['red'],\n",
    "    maxvol = 0.5,\n",
    "    vol = 0.08,\n",
    "    surface = 200,\n",
    "    ks = 43.2,\n",
    "    irrigvolfrac=0.0,\n",
    "    rainfile = 'rainfall.dat',\n",
    "    epotfile = 'evapot.dat',\n",
    ")"
   ]
  },
  {
   "cell_type": "code",
   "execution_count": 22,
   "metadata": {},
   "outputs": [],
   "source": [
    "lr_ghb_yellow = lr.lumprem.Model(\n",
    "    model_name = 'yellow',\n",
    "    workspace = lr_ws,\n",
    "    factor1 = 30,\n",
    "    factor2 = 20,\n",
    "    power = 2,\n",
    "    offset = initial_ghb_bheads['yellow'],\n",
    "    maxvol = 0.5,\n",
    "    vol = 0.08,\n",
    "    surface = 200,\n",
    "    ks = 43.2,\n",
    "    irrigvolfrac=0.0,\n",
    "    rainfile = 'rainfall.dat',\n",
    "    epotfile = 'evapot.dat',\n",
    ")"
   ]
  },
  {
   "cell_type": "code",
   "execution_count": 23,
   "metadata": {},
   "outputs": [],
   "source": [
    "lr_ghb_green = lr.lumprem.Model(\n",
    "    model_name = 'green',\n",
    "    workspace = lr_ws,\n",
    "    factor1 = 30,\n",
    "    factor2 = 20,\n",
    "    power = 2,\n",
    "    offset = initial_ghb_bheads['green'],\n",
    "    maxvol = 0.5,\n",
    "    vol = 0.08,\n",
    "    surface = 200,\n",
    "    ks = 43.2,\n",
    "    irrigvolfrac=0.0,\n",
    "    rainfile = 'rainfall.dat',\n",
    "    epotfile = 'evapot.dat',\n",
    ")"
   ]
  },
  {
   "cell_type": "code",
   "execution_count": 24,
   "metadata": {},
   "outputs": [],
   "source": [
    "lr_ghb_blue = lr.lumprem.Model(\n",
    "    model_name = 'blue',\n",
    "    workspace = lr_ws,\n",
    "    factor1 = 30,\n",
    "    factor2 = 20,\n",
    "    power = 2,\n",
    "    offset = initial_ghb_bheads['blue'],\n",
    "    maxvol = 0.5,\n",
    "    vol = 0.08,\n",
    "    surface = 200,\n",
    "    ks = 43.2,\n",
    "    irrigvolfrac=0.0,\n",
    "    rainfile = 'rainfall.dat',\n",
    "    epotfile = 'evapot.dat',\n",
    ")"
   ]
  },
  {
   "cell_type": "code",
   "execution_count": 25,
   "metadata": {},
   "outputs": [],
   "source": [
    "lr_ghb_magenta = lr.lumprem.Model(\n",
    "    model_name = 'magenta',\n",
    "    workspace = lr_ws,\n",
    "    factor1 = 30,\n",
    "    factor2 = 20,\n",
    "    power = 2,\n",
    "    offset = initial_ghb_bheads['magenta'],\n",
    "    maxvol = 0.5,\n",
    "    vol = 0.08,\n",
    "    surface = 200,\n",
    "    ks = 43.2,\n",
    "    irrigvolfrac=0.0,\n",
    "    rainfile = 'rainfall.dat',\n",
    "    epotfile = 'evapot.dat',\n",
    ")"
   ]
  },
  {
   "cell_type": "code",
   "execution_count": 26,
   "metadata": {},
   "outputs": [
    {
     "name": "stdout",
     "output_type": "stream",
     "text": [
      "LUMPREM model input file written to: \n",
      "..\\temp_lr_prep_2d\\lr_red.in\n",
      "PEST template file written to: \n",
      "..\\temp_lr_prep_2d\\lr_red.tpl\n",
      "\n",
      " Enter name of LUMPREM input file:  Enter name for LUMPREM tabular output file:  Enter name for CSV output file (<Enter> if none):  \n",
      " - file lr_red.in read ok.\n",
      " - file lumprem_variables.rec written ok.\n",
      " - file rainfall.dat read ok.\n",
      " - file evapot.dat read ok.\n",
      " - file lr_red.out written ok.\n",
      " - file lr_red.csv written ok.\n",
      "\n",
      "LUMPREM model input file written to: \n",
      "..\\temp_lr_prep_2d\\lr_yellow.in\n",
      "PEST template file written to: \n",
      "..\\temp_lr_prep_2d\\lr_yellow.tpl\n",
      "\n",
      " Enter name of LUMPREM input file:  Enter name for LUMPREM tabular output file:  Enter name for CSV output file (<Enter> if none):  \n",
      " - file lr_yellow.in read ok.\n",
      " - file lumprem_variables.rec written ok.\n",
      " - file rainfall.dat read ok.\n",
      " - file evapot.dat read ok.\n",
      " - file lr_yellow.out written ok.\n",
      " - file lr_yellow.csv written ok.\n",
      "\n",
      "LUMPREM model input file written to: \n",
      "..\\temp_lr_prep_2d\\lr_green.in\n",
      "PEST template file written to: \n",
      "..\\temp_lr_prep_2d\\lr_green.tpl\n",
      "\n",
      " Enter name of LUMPREM input file:  Enter name for LUMPREM tabular output file:  Enter name for CSV output file (<Enter> if none):  \n",
      " - file lr_green.in read ok.\n",
      " - file lumprem_variables.rec written ok.\n",
      " - file rainfall.dat read ok.\n",
      " - file evapot.dat read ok.\n",
      " - file lr_green.out written ok.\n",
      " - file lr_green.csv written ok.\n",
      "\n",
      "LUMPREM model input file written to: \n",
      "..\\temp_lr_prep_2d\\lr_blue.in\n",
      "PEST template file written to: \n",
      "..\\temp_lr_prep_2d\\lr_blue.tpl\n",
      "\n",
      " Enter name of LUMPREM input file:  Enter name for LUMPREM tabular output file:  Enter name for CSV output file (<Enter> if none):  \n",
      " - file lr_blue.in read ok.\n",
      " - file lumprem_variables.rec written ok.\n",
      " - file rainfall.dat read ok.\n",
      " - file evapot.dat read ok.\n",
      " - file lr_blue.out written ok.\n",
      " - file lr_blue.csv written ok.\n",
      "\n",
      "LUMPREM model input file written to: \n",
      "..\\temp_lr_prep_2d\\lr_magenta.in\n",
      "PEST template file written to: \n",
      "..\\temp_lr_prep_2d\\lr_magenta.tpl\n",
      "\n",
      " Enter name of LUMPREM input file:  Enter name for LUMPREM tabular output file:  Enter name for CSV output file (<Enter> if none):  \n",
      " - file lr_magenta.in read ok.\n",
      " - file lumprem_variables.rec written ok.\n",
      " - file rainfall.dat read ok.\n",
      " - file evapot.dat read ok.\n",
      " - file lr_magenta.out written ok.\n",
      " - file lr_magenta.csv written ok.\n",
      "\n"
     ]
    }
   ],
   "source": [
    "ghb_models = [lr_ghb_red, lr_ghb_yellow, lr_ghb_green, lr_ghb_blue, lr_ghb_magenta]\n",
    "for model in ghb_models:\n",
    "    model.write_model(\n",
    "        start_date = '01/01/2016',\n",
    "        end_date = '01/01/2020',\n",
    "        noutdays='monthly',\n",
    "        nstep = 5,\n",
    "        mxiter = 1000,\n",
    "        tol = 1e-7,\n",
    "    )\n",
    "    model.run_model(version=2)"
   ]
  },
  {
   "cell_type": "code",
   "execution_count": 27,
   "metadata": {},
   "outputs": [],
   "source": [
    "lr_ghb_red_df = lr_ghb_red.get_results()"
   ]
  },
  {
   "cell_type": "code",
   "execution_count": 28,
   "metadata": {},
   "outputs": [
    {
     "data": {
      "image/png": "[encoded data removed]",
      "text/plain": [
       "<Figure size 432x288 with 1 Axes>"
      ]
     },
     "metadata": {
      "needs_background": "light"
     },
     "output_type": "display_data"
    }
   ],
   "source": [
    "# plot the model results\n",
    "import seaborn as sb\n",
    "sb.lineplot(data=lr_ghb_red_df, x='days',y='elevation', hue='lumprem_model_name', alpha=0.5);"
   ]
  },
  {
   "cell_type": "markdown",
   "metadata": {},
   "source": [
    "# load the simulation"
   ]
  },
  {
   "cell_type": "code",
   "execution_count": 29,
   "metadata": {},
   "outputs": [
    {
     "data": {
      "text/plain": [
       "['ghbpp.dat',\n",
       " 'ghbpp.tpl',\n",
       " 'hagfors_1.cbb',\n",
       " 'hagfors_1.disv',\n",
       " 'hagfors_1.disv.grb',\n",
       " 'hagfors_1.ghb',\n",
       " 'hagfors_1.hds',\n",
       " 'hagfors_1.ic',\n",
       " 'hagfors_1.ims',\n",
       " 'hagfors_1.lst',\n",
       " 'hagfors_1.nam',\n",
       " 'hagfors_1.npf',\n",
       " 'hagfors_1.obs',\n",
       " 'hagfors_1.oc',\n",
       " 'hagfors_1.rch',\n",
       " 'hagfors_1.sfr',\n",
       " 'hagfors_1.sfr.bud',\n",
       " 'hagfors_1.sfr.obs',\n",
       " 'hagfors_1.sto',\n",
       " 'hagfors_1.tdis',\n",
       " 'head.obs.csv',\n",
       " 'mfsim.lst',\n",
       " 'mfsim.nam',\n",
       " 'sfr_gage.obs.csv',\n",
       " 'sfr_pred_leak.obs.csv',\n",
       " 'sfr_pred_leak_pt1.obs.csv',\n",
       " 'sfr_pred_leak_pt2.obs.csv',\n",
       " 'sfr_reach1_inflow.ts',\n",
       " 'sfr_segfile.dat',\n",
       " 'sfr_stage.obs.csv']"
      ]
     },
     "execution_count": 29,
     "metadata": {},
     "output_type": "execute_result"
    }
   ],
   "source": [
    "org_model_ws = os.path.join('..', 'base_model_files_2d')\n",
    "os.listdir(org_model_ws)"
   ]
  },
  {
   "cell_type": "code",
   "execution_count": 30,
   "metadata": {},
   "outputs": [
    {
     "data": {
      "text/plain": [
       "['ghbpp.dat',\n",
       " 'ghbpp.tpl',\n",
       " 'hagfors_1.cbb',\n",
       " 'hagfors_1.disv',\n",
       " 'hagfors_1.disv.grb',\n",
       " 'hagfors_1.ghb',\n",
       " 'hagfors_1.hds',\n",
       " 'hagfors_1.ic',\n",
       " 'hagfors_1.ims',\n",
       " 'hagfors_1.lst',\n",
       " 'hagfors_1.nam',\n",
       " 'hagfors_1.npf',\n",
       " 'hagfors_1.obs',\n",
       " 'hagfors_1.oc',\n",
       " 'hagfors_1.rch',\n",
       " 'hagfors_1.sfr',\n",
       " 'hagfors_1.sfr.bud',\n",
       " 'hagfors_1.sfr.obs',\n",
       " 'hagfors_1.sto',\n",
       " 'hagfors_1.tdis',\n",
       " 'head.obs.csv',\n",
       " 'mfsim.lst',\n",
       " 'mfsim.nam',\n",
       " 'sfr_gage.obs.csv',\n",
       " 'sfr_pred_leak.obs.csv',\n",
       " 'sfr_pred_leak_pt1.obs.csv',\n",
       " 'sfr_pred_leak_pt2.obs.csv',\n",
       " 'sfr_reach1_inflow.ts',\n",
       " 'sfr_segfile.dat',\n",
       " 'sfr_stage.obs.csv']"
      ]
     },
     "execution_count": 30,
     "metadata": {},
     "output_type": "execute_result"
    }
   ],
   "source": [
    "tmp_model_ws = os.path.join('..', 'temp_flopy_lumprem_2d') # Safe to delete\n",
    "if os.path.exists(tmp_model_ws):\n",
    "    shutil.rmtree(tmp_model_ws)\n",
    "shutil.copytree(org_model_ws,tmp_model_ws)\n",
    "os.listdir(tmp_model_ws)"
   ]
  },
  {
   "cell_type": "code",
   "execution_count": 31,
   "metadata": {},
   "outputs": [],
   "source": [
    "ml_name = 'hagfors_1'"
   ]
  },
  {
   "cell_type": "code",
   "execution_count": 32,
   "metadata": {},
   "outputs": [
    {
     "name": "stdout",
     "output_type": "stream",
     "text": [
      "loading simulation...\n",
      "  loading simulation name file...\n",
      "  loading tdis package...\n",
      "  loading model gwf6...\n",
      "    loading package disv...\n",
      "WARNING: Unable to resolve dimension of ('gwf6', 'disv', 'cell2d', 'cell2d', 'icvert') based on shape \"ncvert\".\n",
      "    loading package ic...\n",
      "    loading package npf...\n",
      "    loading package oc...\n",
      "    loading package sto...\n",
      "    loading package ghb...\n",
      "    loading package rch...\n",
      "    loading package sfr...\n",
      "    loading package obs...\n",
      "  loading ims package hagfors_1...\n"
     ]
    }
   ],
   "source": [
    "sim = flopy.mf6.MFSimulation.load(ml_name, 'mf6', os.path.join(bins_pth, 'mf6'), tmp_model_ws)"
   ]
  },
  {
   "cell_type": "code",
   "execution_count": 33,
   "metadata": {},
   "outputs": [
    {
     "name": "stdout",
     "output_type": "stream",
     "text": [
      "FloPy is using the following executable to run the model: ..\\bins\\win\\mf6.exe\n",
      "                                   MODFLOW 6\n",
      "                U.S. GEOLOGICAL SURVEY MODULAR HYDROLOGIC MODEL\n",
      "                            VERSION 6.2.1 02/18/2021\n",
      "\n",
      "   MODFLOW 6 compiled Feb 18 2021 21:14:51 with IFORT compiler (ver. 19.10.3)\n",
      "\n",
      "This software has been approved for release by the U.S. Geological \n",
      "Survey (USGS). Although the software has been subjected to rigorous \n",
      "review, the USGS reserves the right to update the software as needed \n",
      "pursuant to further analysis and review. No warranty, expressed or \n",
      "implied, is made by the USGS or the U.S. Government as to the \n",
      "functionality of the software and related material nor shall the \n",
      "fact of release constitute any such warranty. Furthermore, the \n",
      "software is released on condition that neither the USGS nor the U.S. \n",
      "Government shall be held liable for any damages resulting from its \n",
      "authorized or unauthorized use. Also refer to the USGS Water \n",
      "Resources Software User Rights Notice for complete use, copyright, \n",
      "and distribution information.\n",
      "\n",
      " \n",
      " Run start date and time (yyyy/mm/dd hh:mm:ss): 2022/01/14 16:00:14\n",
      " \n",
      " Writing simulation list file: mfsim.lst\n",
      " Using Simulation name file: mfsim.nam\n",
      " \n",
      "    Solving:  Stress period:     1    Time step:     1\n",
      "    Solving:  Stress period:     2    Time step:     1\n",
      "    Solving:  Stress period:     2    Time step:     2\n",
      "    Solving:  Stress period:     2    Time step:     3\n",
      "    Solving:  Stress period:     2    Time step:     4\n",
      "    Solving:  Stress period:     2    Time step:     5\n",
      "    Solving:  Stress period:     2    Time step:     6\n",
      "    Solving:  Stress period:     2    Time step:     7\n",
      "    Solving:  Stress period:     2    Time step:     8\n",
      "    Solving:  Stress period:     2    Time step:     9\n",
      "    Solving:  Stress period:     2    Time step:    10\n",
      "    Solving:  Stress period:     2    Time step:    11\n",
      "    Solving:  Stress period:     2    Time step:    12\n",
      "    Solving:  Stress period:     2    Time step:    13\n",
      "    Solving:  Stress period:     2    Time step:    14\n",
      "    Solving:  Stress period:     2    Time step:    15\n",
      "    Solving:  Stress period:     2    Time step:    16\n",
      "    Solving:  Stress period:     2    Time step:    17\n",
      "    Solving:  Stress period:     2    Time step:    18\n",
      "    Solving:  Stress period:     2    Time step:    19\n",
      "    Solving:  Stress period:     2    Time step:    20\n",
      "    Solving:  Stress period:     2    Time step:    21\n",
      "    Solving:  Stress period:     2    Time step:    22\n",
      "    Solving:  Stress period:     2    Time step:    23\n",
      "    Solving:  Stress period:     2    Time step:    24\n",
      "    Solving:  Stress period:     2    Time step:    25\n",
      "    Solving:  Stress period:     2    Time step:    26\n",
      "    Solving:  Stress period:     2    Time step:    27\n",
      "    Solving:  Stress period:     2    Time step:    28\n",
      "    Solving:  Stress period:     2    Time step:    29\n",
      "    Solving:  Stress period:     2    Time step:    30\n",
      "    Solving:  Stress period:     2    Time step:    31\n",
      "    Solving:  Stress period:     2    Time step:    32\n",
      "    Solving:  Stress period:     2    Time step:    33\n",
      "    Solving:  Stress period:     2    Time step:    34\n",
      "    Solving:  Stress period:     2    Time step:    35\n",
      "    Solving:  Stress period:     2    Time step:    36\n",
      "    Solving:  Stress period:     2    Time step:    37\n",
      "    Solving:  Stress period:     2    Time step:    38\n",
      "    Solving:  Stress period:     2    Time step:    39\n",
      "    Solving:  Stress period:     2    Time step:    40\n",
      "    Solving:  Stress period:     2    Time step:    41\n",
      "    Solving:  Stress period:     2    Time step:    42\n",
      "    Solving:  Stress period:     2    Time step:    43\n",
      "    Solving:  Stress period:     2    Time step:    44\n",
      "    Solving:  Stress period:     2    Time step:    45\n",
      "    Solving:  Stress period:     2    Time step:    46\n",
      "    Solving:  Stress period:     2    Time step:    47\n",
      "    Solving:  Stress period:     2    Time step:    48\n",
      " \n",
      " Run end date and time (yyyy/mm/dd hh:mm:ss): 2022/01/14 16:00:17\n",
      " Elapsed run time:  2.567 Seconds\n",
      " \n",
      " Normal termination of simulation.\n"
     ]
    },
    {
     "data": {
      "text/plain": [
       "(True, [])"
      ]
     },
     "execution_count": 33,
     "metadata": {},
     "output_type": "execute_result"
    }
   ],
   "source": [
    "sim.run_simulation()"
   ]
  },
  {
   "cell_type": "code",
   "execution_count": 34,
   "metadata": {},
   "outputs": [],
   "source": [
    "gwf = sim.get_model(ml_name)"
   ]
  },
  {
   "cell_type": "code",
   "execution_count": 35,
   "metadata": {},
   "outputs": [],
   "source": [
    "disv = gwf.get_package('disv')\n",
    "rch = gwf.get_package('rch')\n",
    "ghb = gwf.get_package('ghb')"
   ]
  },
  {
   "cell_type": "markdown",
   "metadata": {},
   "source": [
    "## Prepare recharge (RCH) timeseries input"
   ]
  },
  {
   "cell_type": "code",
   "execution_count": 36,
   "metadata": {},
   "outputs": [],
   "source": [
    "rch_ts = lr.lr2series.TimeSeries(\n",
    "    ts_file='rch.ts',\n",
    "    workspace=lr_ws,\n",
    "    lr_models=[lr_lu1],\n",
    "    ts_names=['rch'],\n",
    "    lumprem_output_cols=['net_recharge'],\n",
    "    methods=['linearend'],\n",
    "    div_delta_t=True\n",
    ")\n"
   ]
  },
  {
   "cell_type": "code",
   "execution_count": 37,
   "metadata": {},
   "outputs": [
    {
     "name": "stdout",
     "output_type": "stream",
     "text": [
      "MF6 timeseries file ..\\temp_lr_prep_2d\\rch.ts.in written to:\n",
      "..\\temp_lr_prep_2d\\rch.ts.in\n",
      " Enter name of LR2SERIES control file:  \n",
      " - reading file rch.ts.in...\n",
      " \n",
      " - reading LUMPREM output file lr_lu1.out...\n",
      " - file lr_lu1.out read ok.\n",
      " - writing file rch.ts...\n",
      " - file rch.ts written ok.\n",
      " \n",
      " - file rch.ts.in read ok.\n",
      "\n"
     ]
    }
   ],
   "source": [
    "rch_ts.write_ts()"
   ]
  },
  {
   "cell_type": "markdown",
   "metadata": {},
   "source": [
    "### Manipulate RCH ts-file to time-average the first (steady state) output using TS6PROC"
   ]
  },
  {
   "cell_type": "code",
   "execution_count": 38,
   "metadata": {},
   "outputs": [],
   "source": [
    "def write_script(filename, lines):\n",
    "\n",
    "    with open(filename, 'a') as f:\n",
    "        for line in lines:\n",
    "            f.write(line)\n",
    "            f.write('\\n')"
   ]
  },
  {
   "cell_type": "code",
   "execution_count": 39,
   "metadata": {},
   "outputs": [],
   "source": [
    "write_script(os.path.join(lr_ws, 'ts6rch.in'), [\n",
    "'''\n",
    "# Here is a comment\n",
    "\n",
    "BEGIN FILES\n",
    "  FILEIN  rch.ts\n",
    "  FILEOUT rch_new.ts\n",
    "END FILES\n",
    "\n",
    "BEGIN PARAMETERS\n",
    "END PARAMETERS\n",
    "\n",
    "BEGIN PROCESSING\n",
    "\n",
    "  avg = time_average_over_interval(rch_lu1,none,1.0,99999.0)\n",
    "  \n",
    "  rch_lu1 = assign_terms(rch_lu1, avg, 0.0, 0.0)\n",
    "\n",
    "END PROCESSING\n",
    "\n",
    "'''\n",
    "])"
   ]
  },
  {
   "cell_type": "code",
   "execution_count": 40,
   "metadata": {},
   "outputs": [
    {
     "name": "stdout",
     "output_type": "stream",
     "text": [
      "\n",
      " TS6PROC Version 1.00. Watermark Numerical Computing.\n",
      "\n",
      " - reading file rch.ts...\n",
      " - file rch.ts read ok.\n",
      " \n",
      " Processing: avg = time_average_over_interval(rch_...\n",
      " Processing: rch_lu1 = assign_terms(rch_lu1, avg, ...\n",
      " \n",
      " - writing file rch_new.ts...\n",
      " - file rch_new.ts written ok.\n",
      "\n"
     ]
    }
   ],
   "source": [
    "p = subprocess.run(['ts6proc', 'ts6rch.in'], cwd=lr_ws, stdout=subprocess.PIPE, text=True)\n",
    "for row in p.stdout.split('\\n'):\n",
    "    print(row)"
   ]
  },
  {
   "cell_type": "markdown",
   "metadata": {},
   "source": [
    "Select non-ghb cells (cells can't both be rch and ghb):"
   ]
  },
  {
   "cell_type": "code",
   "execution_count": 41,
   "metadata": {},
   "outputs": [],
   "source": [
    "#ghb_cell_ids cells in ghb cant be part of rch (will cause fortran error)\n",
    "ghb_cell_ids = [i[0][1] for i in ghb.stress_period_data.data[0]]"
   ]
  },
  {
   "cell_type": "markdown",
   "metadata": {},
   "source": [
    "Create rch TS for all non-ghb cells:"
   ]
  },
  {
   "cell_type": "code",
   "execution_count": 42,
   "metadata": {},
   "outputs": [],
   "source": [
    "rchcells = np.array(list(range(disv.ncpl.data)), dtype=int)\n",
    "rchcells[ghb_cell_ids] = -1\n",
    "rch_spd = [\n",
    "    ((0, rchcells[i]), 'rch_lu1', 1, 'rch') for i in range(disv.ncpl.data) if rchcells[i] > 0\n",
    "]\n",
    "rch_spd = {0: rch_spd, 1: rch_spd}"
   ]
  },
  {
   "cell_type": "markdown",
   "metadata": {},
   "source": [
    "Display the data-structure of the old recharge package:"
   ]
  },
  {
   "cell_type": "code",
   "execution_count": 43,
   "metadata": {},
   "outputs": [
    {
     "data": {
      "text/plain": [
       "{0: rec.array([((0, 23), 0.00054795, 1., 'rch'),\n",
       "            ((0, 24), 0.00054795, 1., 'rch'),\n",
       "            ((0, 25), 0.00054795, 1., 'rch'), ...,\n",
       "            ((0, 3069), 0.00054795, 1., 'rch'),\n",
       "            ((0, 3070), 0.00054795, 1., 'rch'),\n",
       "            ((0, 3071), 0.00054795, 1., 'rch')],\n",
       "           dtype=[('cellid', 'O'), ('recharge', '<f8'), ('multiplier', '<f8'), ('boundname', 'O')]),\n",
       " 1: rec.array([((0, 23), 0.00054795, 1., 'rch'),\n",
       "            ((0, 24), 0.00054795, 1., 'rch'),\n",
       "            ((0, 25), 0.00054795, 1., 'rch'), ...,\n",
       "            ((0, 3069), 0.00054795, 1., 'rch'),\n",
       "            ((0, 3070), 0.00054795, 1., 'rch'),\n",
       "            ((0, 3071), 0.00054795, 1., 'rch')],\n",
       "           dtype=[('cellid', 'O'), ('recharge', '<f8'), ('multiplier', '<f8'), ('boundname', 'O')])}"
      ]
     },
     "execution_count": 43,
     "metadata": {},
     "output_type": "execute_result"
    }
   ],
   "source": [
    "rch.stress_period_data.data"
   ]
  },
  {
   "cell_type": "markdown",
   "metadata": {},
   "source": [
    "Let's take a more detailed look at one of the stress periods:"
   ]
  },
  {
   "cell_type": "code",
   "execution_count": 44,
   "metadata": {},
   "outputs": [
    {
     "data": {
      "text/plain": [
       "rec.array([((0, 23), 0.00054795, 1., 'rch'),\n",
       "           ((0, 24), 0.00054795, 1., 'rch'),\n",
       "           ((0, 25), 0.00054795, 1., 'rch'),\n",
       "           ((0, 26), 0.00054795, 1., 'rch'),\n",
       "           ((0, 27), 0.00054795, 1., 'rch'),\n",
       "           ((0, 28), 0.00054795, 1., 'rch'),\n",
       "           ((0, 29), 0.00054795, 1., 'rch'),\n",
       "           ((0, 30), 0.00054795, 1., 'rch'),\n",
       "           ((0, 31), 0.00054795, 1., 'rch'),\n",
       "           ((0, 32), 0.00054795, 1., 'rch')],\n",
       "          dtype=[('cellid', 'O'), ('recharge', '<f8'), ('multiplier', '<f8'), ('boundname', 'O')])"
      ]
     },
     "execution_count": 44,
     "metadata": {},
     "output_type": "execute_result"
    }
   ],
   "source": [
    "rch.stress_period_data.data[0][:10]\n",
    "# Current data structure is cellid, recharge"
   ]
  },
  {
   "cell_type": "markdown",
   "metadata": {},
   "source": [
    "Remove old recharge package:"
   ]
  },
  {
   "cell_type": "code",
   "execution_count": 45,
   "metadata": {},
   "outputs": [],
   "source": [
    "gwf.remove_package('rch')"
   ]
  },
  {
   "cell_type": "markdown",
   "metadata": {},
   "source": [
    "Instantiate new recharge package:"
   ]
  },
  {
   "cell_type": "code",
   "execution_count": 46,
   "metadata": {},
   "outputs": [],
   "source": [
    "rch = flopy.mf6.ModflowGwfrch(\n",
    "    gwf,\n",
    "    filename='{}.rch'.format(ml_name), \n",
    "    pname='rch',\n",
    "    fixed_cell=True,\n",
    "    auxiliary='MULTIPLIER',\n",
    "    auxmultname='MULTIPLIER',\n",
    "    print_input=True,\n",
    "    print_flows=True, \n",
    "    save_flows=True,\n",
    "    boundnames=True,\n",
    "    stress_period_data=rch_spd\n",
    ")"
   ]
  },
  {
   "cell_type": "markdown",
   "metadata": {},
   "source": [
    "Display the data-structure of the **new** recharge package, using TS-file and multiplier:"
   ]
  },
  {
   "cell_type": "code",
   "execution_count": 47,
   "metadata": {},
   "outputs": [
    {
     "data": {
      "text/plain": [
       "rec.array([((0, 23), 'rch_lu1', 1., 'rch'),\n",
       "           ((0, 24), 'rch_lu1', 1., 'rch'),\n",
       "           ((0, 25), 'rch_lu1', 1., 'rch'),\n",
       "           ((0, 26), 'rch_lu1', 1., 'rch'),\n",
       "           ((0, 27), 'rch_lu1', 1., 'rch'),\n",
       "           ((0, 28), 'rch_lu1', 1., 'rch'),\n",
       "           ((0, 29), 'rch_lu1', 1., 'rch'),\n",
       "           ((0, 30), 'rch_lu1', 1., 'rch'),\n",
       "           ((0, 31), 'rch_lu1', 1., 'rch'),\n",
       "           ((0, 32), 'rch_lu1', 1., 'rch')],\n",
       "          dtype=[('cellid', 'O'), ('recharge', 'O'), ('MULTIPLIER', '<f8'), ('boundname', 'O')])"
      ]
     },
     "execution_count": 47,
     "metadata": {},
     "output_type": "execute_result"
    }
   ],
   "source": [
    "rch.stress_period_data.data[0][:10]\n",
    "# Current data structure is cellid, recharge"
   ]
  },
  {
   "cell_type": "markdown",
   "metadata": {},
   "source": [
    "Initialize TS-file:"
   ]
  },
  {
   "cell_type": "code",
   "execution_count": 48,
   "metadata": {},
   "outputs": [],
   "source": [
    "# Initialize ts-file\n",
    "rch.ts.initialize(filename='rch_new.ts')"
   ]
  },
  {
   "cell_type": "markdown",
   "metadata": {},
   "source": [
    "## Prepare general head boundary (GHB) timeseries input"
   ]
  },
  {
   "cell_type": "markdown",
   "metadata": {},
   "source": [
    "Extend lumpyrem TimeSeries class (ugly hack but gets the job done):"
   ]
  },
  {
   "cell_type": "code",
   "execution_count": 49,
   "metadata": {},
   "outputs": [],
   "source": [
    "class GHB_TS(TimeSeries):\n",
    "    def write_ts(self):\n",
    "        \"\"\"Writes the MODFLOW6 timeseries file.\n",
    "\n",
    "        Parameters\n",
    "        ----------\n",
    "        \"\"\"\n",
    "        #number of columns to include in the ts file\n",
    "        count = len(self.ts_names)\n",
    "        ts_file = os.path.join(self.workspace, self.ts_file+'.in')\n",
    "\n",
    "        with open(ts_file, 'w') as f:\n",
    "            for model in self.lr_models:\n",
    "                model_name = model.lumprem_model_name\n",
    "                f.write('READ_LUMPREM_OUTPUT_FILE lr_'+model_name+'.out '+str(count)+'\\n')\n",
    "                f.write('#  my_name     LUMPREM_name      divide_by_delta_t?\\n\\n')\n",
    "\n",
    "                for col in range(count):\n",
    "                    f.write(\"\\t{0}\\t\\t{1}\\t\\t{2}\".format('ghb_'+model_name, self.lumprem_output_cols[col],self.div_delta[col]+'\\n'))\n",
    "                f.write('\\n\\n')\n",
    "\n",
    "            f.write('WRITE_MF6_TIME_SERIES_FILE '+self.ts_file+' '+str(count*len(self.lr_models))+' '+str(self.timeoffset)+'\\n')\n",
    "            f.write(\"#\\t{0}\\t\\t{1}\\t\\t{2}\\t\\t{3}\\t\\t{4}\".format('ts_name','scale','offset','mf6method','time_offset_method\\n\\n'))\n",
    "            for model in self.lr_models:\n",
    "                model_name = model.lumprem_model_name\n",
    "                for col in range(count):\n",
    "                        f.write(\"\\t{0}\\t\\t{1}\\t\\t{2}\\t\\t{3}\\t{4}\\t{5}\".format('ghb_'+model_name, self.scales[col],self.offsets[col],self.methods[col], self.time_offset_method[col], '#'+model_name+'\\n'))\n",
    "\n",
    "        f.close()\n",
    "        print('MF6 timeseries file '+ts_file+' written to:\\n'+ts_file)\n",
    "        \n",
    "        #write ts file\n",
    "        filename = self.ts_file\n",
    "        path = self.workspace\n",
    "        run.run_process('lr2series', commands=[filename+'.in'],path=path)"
   ]
  },
  {
   "cell_type": "markdown",
   "metadata": {},
   "source": [
    "Write TS-file:"
   ]
  },
  {
   "cell_type": "code",
   "execution_count": 50,
   "metadata": {},
   "outputs": [],
   "source": [
    "ghb_ts = GHB_TS(\n",
    "    ts_file='ghb.ts',\n",
    "    workspace=lr_ws,\n",
    "    lr_models=ghb_models,\n",
    "    ts_names=['ghb'],\n",
    "    lumprem_output_cols=['elevation'],\n",
    "    methods=['linear'],\n",
    "    div_delta_t=False\n",
    ")\n"
   ]
  },
  {
   "cell_type": "code",
   "execution_count": 51,
   "metadata": {},
   "outputs": [
    {
     "name": "stdout",
     "output_type": "stream",
     "text": [
      "MF6 timeseries file ..\\temp_lr_prep_2d\\ghb.ts.in written to:\n",
      "..\\temp_lr_prep_2d\\ghb.ts.in\n",
      " Enter name of LR2SERIES control file:  \n",
      " - reading file ghb.ts.in...\n",
      " \n",
      " - reading LUMPREM output file lr_red.out...\n",
      " - file lr_red.out read ok.\n",
      " - reading LUMPREM output file lr_yellow.out...\n",
      " - file lr_yellow.out read ok.\n",
      " - reading LUMPREM output file lr_green.out...\n",
      " - file lr_green.out read ok.\n",
      " - reading LUMPREM output file lr_blue.out...\n",
      " - file lr_blue.out read ok.\n",
      " - reading LUMPREM output file lr_magenta.out...\n",
      " - file lr_magenta.out read ok.\n",
      " - writing file ghb.ts...\n",
      " - file ghb.ts written ok.\n",
      " \n",
      " - file ghb.ts.in read ok.\n",
      "\n"
     ]
    }
   ],
   "source": [
    "ghb_ts.write_ts()"
   ]
  },
  {
   "cell_type": "markdown",
   "metadata": {},
   "source": [
    "### Manipulate GHB ts-file to time-average the first (steady state) output using TS6PROC"
   ]
  },
  {
   "cell_type": "code",
   "execution_count": 54,
   "metadata": {},
   "outputs": [],
   "source": [
    "write_script(os.path.join(lr_ws, 'ts6ghb.in'), [\n",
    "'''\n",
    "# Here is a comment\n",
    "\n",
    "BEGIN FILES\n",
    "  FILEIN  ghb.ts\n",
    "  FILEOUT ghb_new.ts\n",
    "END FILES\n",
    "\n",
    "BEGIN PARAMETERS\n",
    "END PARAMETERS\n",
    "\n",
    "BEGIN PROCESSING\n",
    "\n",
    "  avg_red = time_average_over_interval(ghb_red,none,1.0,99999.0)\n",
    "  avg_yellow = time_average_over_interval(ghb_yellow,none,1.0,99999.0)\n",
    "  avg_green = time_average_over_interval(ghb_green,none,1.0,99999.0)\n",
    "  avg_blue = time_average_over_interval(ghb_blue,none,1.0,99999.0)\n",
    "  avg_magenta = time_average_over_interval(ghb_magenta,none,1.0,99999.0)\n",
    "  \n",
    "  ghb_red = assign_terms(ghb_red, avg_red, 0.0, 0.0)\n",
    "  ghb_yellow = assign_terms(ghb_yellow, avg_yellow, 0.0, 0.0)\n",
    "  ghb_green = assign_terms(ghb_green, avg_green, 0.0, 0.0)\n",
    "  ghb_blue = assign_terms(ghb_blue, avg_blue, 0.0, 0.0)\n",
    "  ghb_magenta = assign_terms(ghb_magenta, avg_magenta, 0.0, 0.0)\n",
    "\n",
    "END PROCESSING\n",
    "\n",
    "'''\n",
    "])"
   ]
  },
  {
   "cell_type": "code",
   "execution_count": 55,
   "metadata": {},
   "outputs": [
    {
     "name": "stdout",
     "output_type": "stream",
     "text": [
      "\n",
      " TS6PROC Version 1.00. Watermark Numerical Computing.\n",
      "\n",
      " - reading file ghb.ts...\n",
      " - file ghb.ts read ok.\n",
      " \n",
      " Processing: avg_red = time_average_over_interval(...\n",
      " Processing: avg_yellow = time_average_over_interv...\n",
      " Processing: avg_green = time_average_over_interva...\n",
      " Processing: avg_blue = time_average_over_interval...\n",
      " Processing: avg_magenta = time_average_over_inter...\n",
      " Processing: ghb_red = assign_terms(ghb_red, avg_r...\n",
      " Processing: ghb_yellow = assign_terms(ghb_yellow,...\n",
      " Processing: ghb_green = assign_terms(ghb_green, a...\n",
      " Processing: ghb_blue = assign_terms(ghb_blue, avg...\n",
      " Processing: ghb_magenta = assign_terms(ghb_magent...\n",
      " \n",
      " - writing file ghb_new.ts...\n",
      " - file ghb_new.ts written ok.\n",
      "\n"
     ]
    }
   ],
   "source": [
    "p = subprocess.run(['ts6proc', 'ts6ghb.in'], cwd=lr_ws, stdout=subprocess.PIPE, text=True)\n",
    "for row in p.stdout.split('\\n'):\n",
    "    print(row)"
   ]
  },
  {
   "cell_type": "markdown",
   "metadata": {},
   "source": [
    "Make elevation/bhead a multiplier of the TS-data...?????!?!?!?!?"
   ]
  },
  {
   "cell_type": "markdown",
   "metadata": {},
   "source": [
    "Display the data-structure of the old GHB package:"
   ]
  },
  {
   "cell_type": "code",
   "execution_count": 56,
   "metadata": {},
   "outputs": [
    {
     "data": {
      "text/plain": [
       "{0: rec.array([((0, 343), 142.5, 86.4, 1., 'red'),\n",
       "            ((0, 344), 142.5, 86.4, 1., 'red'),\n",
       "            ((0, 427), 142.5, 86.4, 1., 'red'),\n",
       "            ((0, 428), 142.5, 86.4, 1., 'red'),\n",
       "            ((0, 503), 142.5, 86.4, 1., 'red'),\n",
       "            ((0, 504), 142.5, 86.4, 1., 'red'),\n",
       "            ((0, 583), 142.5, 86.4, 1., 'red'),\n",
       "            ((0, 584), 142.5, 86.4, 1., 'red'),\n",
       "            ((0, 664), 142.5, 86.4, 1., 'red'),\n",
       "            ((0, 665), 142.5, 86.4, 1., 'red'),\n",
       "            ((0, 746), 142.5, 86.4, 1., 'red'),\n",
       "            ((0, 747), 142.5, 86.4, 1., 'red'),\n",
       "            ((0, 829), 142.5, 86.4, 1., 'red'),\n",
       "            ((0, 830), 142.5, 86.4, 1., 'red'),\n",
       "            ((0, 913), 142.5, 86.4, 1., 'red'),\n",
       "            ((0, 999), 142.5, 86.4, 1., 'red'),\n",
       "            ((0, 1081), 142.5, 86.4, 1., 'red'),\n",
       "            ((0, 1165), 142.5, 86.4, 1., 'red'),\n",
       "            ((0, 1257), 142.5, 86.4, 1., 'red'),\n",
       "            ((0, 1354), 142.5, 86.4, 1., 'red'),\n",
       "            ((0, 1444), 142.5, 86.4, 1., 'red'),\n",
       "            ((0, 1545), 142.5, 86.4, 1., 'red'),\n",
       "            ((0, 1645), 142.5, 86.4, 1., 'red'),\n",
       "            ((0, 1762), 142.5, 86.4, 1., 'red'),\n",
       "            ((0, 1845), 142.5, 86.4, 1., 'red'),\n",
       "            ((0, 1918), 142.5, 86.4, 1., 'red'),\n",
       "            ((0, 1993), 142.5, 86.4, 1., 'red'),\n",
       "            ((0, 2067), 142.5, 86.4, 1., 'red'),\n",
       "            ((0, 2140), 142.5, 86.4, 1., 'red'),\n",
       "            ((0, 2209), 142.5, 86.4, 1., 'red'),\n",
       "            ((0, 2280), 142.5, 86.4, 1., 'red'),\n",
       "            ((0, 2386), 142.5, 86.4, 1., 'red'),\n",
       "            ((0, 2497), 142.5, 86.4, 1., 'red'),\n",
       "            ((0, 2583), 142.5, 86.4, 1., 'red'),\n",
       "            ((0, 2668), 142.5, 86.4, 1., 'red'),\n",
       "            ((0, 2669), 142.5, 86.4, 1., 'red'),\n",
       "            ((0, 2734), 142.5, 86.4, 1., 'red'),\n",
       "            ((0, 2735), 142.5, 86.4, 1., 'red'),\n",
       "            ((0, 2798), 142.5, 86.4, 1., 'red'),\n",
       "            ((0, 2799), 142.5, 86.4, 1., 'red'),\n",
       "            ((0, 2791), 141. , 86.4, 1., 'yellow'),\n",
       "            ((0, 2792), 141. , 86.4, 1., 'yellow'),\n",
       "            ((0, 2793), 141. , 86.4, 1., 'yellow'),\n",
       "            ((0, 2794), 141. , 86.4, 1., 'yellow'),\n",
       "            ((0, 2795), 141. , 86.4, 1., 'yellow'),\n",
       "            ((0, 2796), 141. , 86.4, 1., 'yellow'),\n",
       "            ((0, 2797), 141. , 86.4, 1., 'yellow'),\n",
       "            ((0, 2798), 141. , 86.4, 1., 'yellow'),\n",
       "            ((0, 2864), 141. , 86.4, 1., 'yellow'),\n",
       "            ((0, 2865), 141. , 86.4, 1., 'yellow'),\n",
       "            ((0, 2866), 141. , 86.4, 1., 'yellow'),\n",
       "            ((0, 2922), 141. , 86.4, 1., 'yellow'),\n",
       "            ((0, 2923), 141. , 86.4, 1., 'yellow'),\n",
       "            ((0, 2924), 141. , 86.4, 1., 'yellow'),\n",
       "            ((0, 2926), 141. , 86.4, 1., 'yellow'),\n",
       "            ((0, 2975), 141. , 86.4, 1., 'yellow'),\n",
       "            ((0, 2976), 141. , 86.4, 1., 'yellow'),\n",
       "            ((0, 2977), 141. , 86.4, 1., 'yellow'),\n",
       "            ((0, 2978), 141. , 86.4, 1., 'yellow'),\n",
       "            ((0, 3012), 141. , 86.4, 1., 'yellow'),\n",
       "            ((0, 3013), 141. , 86.4, 1., 'yellow'),\n",
       "            ((0, 3014), 141. , 86.4, 1., 'yellow'),\n",
       "            ((0, 3015), 141. , 86.4, 1., 'yellow'),\n",
       "            ((0, 3016), 141. , 86.4, 1., 'yellow'),\n",
       "            ((0, 3022), 141. , 86.4, 1., 'yellow'),\n",
       "            ((0, 3023), 141. , 86.4, 1., 'yellow'),\n",
       "            ((0, 3024), 141. , 86.4, 1., 'yellow'),\n",
       "            ((0, 3025), 141. , 86.4, 1., 'yellow'),\n",
       "            ((0, 3026), 141. , 86.4, 1., 'yellow'),\n",
       "            ((0, 3027), 141. , 86.4, 1., 'yellow'),\n",
       "            ((0, 3028), 141. , 86.4, 1., 'yellow'),\n",
       "            ((0, 3047), 141. , 86.4, 1., 'yellow'),\n",
       "            ((0, 3048), 141. , 86.4, 1., 'yellow'),\n",
       "            ((0, 3049), 141. , 86.4, 1., 'yellow'),\n",
       "            ((0, 3050), 141. , 86.4, 1., 'yellow'),\n",
       "            ((0, 3051), 141. , 86.4, 1., 'yellow'),\n",
       "            ((0, 3052), 141. , 86.4, 1., 'yellow'),\n",
       "            ((0, 3053), 141. , 86.4, 1., 'yellow'),\n",
       "            ((0, 3054), 141. , 86.4, 1., 'yellow'),\n",
       "            ((0, 3055), 141. , 86.4, 1., 'yellow'),\n",
       "            ((0, 3056), 141. , 86.4, 1., 'yellow'),\n",
       "            ((0, 3057), 141. , 86.4, 1., 'yellow'),\n",
       "            ((0, 3058), 141. , 86.4, 1., 'yellow'),\n",
       "            ((0, 3059), 141. , 86.4, 1., 'yellow'),\n",
       "            ((0, 3060), 141. , 86.4, 1., 'yellow'),\n",
       "            ((0, 3072), 141. , 86.4, 1., 'yellow'),\n",
       "            ((0, 3073), 141. , 86.4, 1., 'yellow'),\n",
       "            ((0, 3074), 141. , 86.4, 1., 'yellow'),\n",
       "            ((0, 3075), 141. , 86.4, 1., 'yellow'),\n",
       "            ((0, 3076), 141. , 86.4, 1., 'yellow'),\n",
       "            ((0, 3077), 141. , 86.4, 1., 'yellow'),\n",
       "            ((0, 3078), 141. , 86.4, 1., 'yellow'),\n",
       "            ((0, 3079), 141. , 86.4, 1., 'yellow'),\n",
       "            ((0, 3080), 141. , 86.4, 1., 'yellow'),\n",
       "            ((0, 3081), 141. , 86.4, 1., 'yellow'),\n",
       "            ((0, 3082), 141. , 86.4, 1., 'yellow'),\n",
       "            ((0, 3083), 141. , 86.4, 1., 'yellow'),\n",
       "            ((0, 3084), 141. , 86.4, 1., 'yellow'),\n",
       "            ((0, 3085), 141. , 86.4, 1., 'yellow'),\n",
       "            ((0, 3086), 141. , 86.4, 1., 'yellow'),\n",
       "            ((0, 3087), 141. , 86.4, 1., 'yellow'),\n",
       "            ((0, 3088), 141. , 86.4, 1., 'yellow'),\n",
       "            ((0, 3089), 141. , 86.4, 1., 'yellow'),\n",
       "            ((0, 0), 135. , 86.4, 1., 'green'),\n",
       "            ((0, 21), 135. , 86.4, 1., 'green'),\n",
       "            ((0, 22), 135. , 86.4, 1., 'green'),\n",
       "            ((0, 49), 135. , 86.4, 1., 'green'),\n",
       "            ((0, 50), 135. , 86.4, 1., 'green'),\n",
       "            ((0, 82), 135. , 86.4, 1., 'green'),\n",
       "            ((0, 83), 135. , 86.4, 1., 'green'),\n",
       "            ((0, 114), 135. , 86.4, 1., 'green'),\n",
       "            ((0, 115), 135. , 86.4, 1., 'green'),\n",
       "            ((0, 148), 135. , 86.4, 1., 'green'),\n",
       "            ((0, 149), 135. , 86.4, 1., 'green'),\n",
       "            ((0, 184), 135. , 86.4, 1., 'green'),\n",
       "            ((0, 185), 135. , 86.4, 1., 'green'),\n",
       "            ((0, 222), 135. , 86.4, 1., 'green'),\n",
       "            ((0, 223), 135. , 86.4, 1., 'green'),\n",
       "            ((0, 262), 135. , 86.4, 1., 'green'),\n",
       "            ((0, 263), 135. , 86.4, 1., 'green'),\n",
       "            ((0, 345), 135. , 86.4, 1., 'green'),\n",
       "            ((0, 429), 135. , 86.4, 1., 'green'),\n",
       "            ((0, 505), 135. , 86.4, 1., 'green'),\n",
       "            ((0, 585), 135. , 86.4, 1., 'green'),\n",
       "            ((0, 666), 135. , 86.4, 1., 'green'),\n",
       "            ((0, 748), 135. , 86.4, 1., 'green'),\n",
       "            ((0, 831), 135. , 86.4, 1., 'green'),\n",
       "            ((0, 914), 135. , 86.4, 1., 'green'),\n",
       "            ((0, 915), 135. , 86.4, 1., 'green'),\n",
       "            ((0, 1000), 135. , 86.4, 1., 'green'),\n",
       "            ((0, 1001), 135. , 86.4, 1., 'green'),\n",
       "            ((0, 1082), 135. , 86.4, 1., 'green'),\n",
       "            ((0, 1083), 135. , 86.4, 1., 'green'),\n",
       "            ((0, 1166), 135. , 86.4, 1., 'green'),\n",
       "            ((0, 1167), 135. , 86.4, 1., 'green'),\n",
       "            ((0, 1258), 135. , 86.4, 1., 'green'),\n",
       "            ((0, 1259), 135. , 86.4, 1., 'green'),\n",
       "            ((0, 1355), 135. , 86.4, 1., 'green'),\n",
       "            ((0, 1356), 135. , 86.4, 1., 'green'),\n",
       "            ((0, 1445), 135. , 86.4, 1., 'green'),\n",
       "            ((0, 1446), 135. , 86.4, 1., 'green'),\n",
       "            ((0, 1546), 135. , 86.4, 1., 'green'),\n",
       "            ((0, 1547), 135. , 86.4, 1., 'green'),\n",
       "            ((0, 1646), 135. , 86.4, 1., 'green'),\n",
       "            ((0, 1647), 135. , 86.4, 1., 'green'),\n",
       "            ((0, 1763), 135. , 86.4, 1., 'green'),\n",
       "            ((0, 1764), 135. , 86.4, 1., 'green'),\n",
       "            ((0, 1846), 135. , 86.4, 1., 'green'),\n",
       "            ((0, 1847), 135. , 86.4, 1., 'green'),\n",
       "            ((0, 1919), 135. , 86.4, 1., 'green'),\n",
       "            ((0, 1920), 135. , 86.4, 1., 'green'),\n",
       "            ((0, 1994), 135. , 86.4, 1., 'green'),\n",
       "            ((0, 1995), 135. , 86.4, 1., 'green'),\n",
       "            ((0, 2068), 135. , 86.4, 1., 'green'),\n",
       "            ((0, 2069), 135. , 86.4, 1., 'green'),\n",
       "            ((0, 2141), 135. , 86.4, 1., 'green'),\n",
       "            ((0, 2142), 135. , 86.4, 1., 'green'),\n",
       "            ((0, 2210), 135. , 86.4, 1., 'green'),\n",
       "            ((0, 2211), 135. , 86.4, 1., 'green'),\n",
       "            ((0, 2281), 135. , 86.4, 1., 'green'),\n",
       "            ((0, 2282), 135. , 86.4, 1., 'green'),\n",
       "            ((0, 2387), 135. , 86.4, 1., 'green'),\n",
       "            ((0, 2388), 135. , 86.4, 1., 'green'),\n",
       "            ((0, 2498), 135. , 86.4, 1., 'green'),\n",
       "            ((0, 2499), 135. , 86.4, 1., 'green'),\n",
       "            ((0, 2584), 135. , 86.4, 1., 'green'),\n",
       "            ((0, 2585), 135. , 86.4, 1., 'green'),\n",
       "            ((0, 2670), 135. , 86.4, 1., 'green'),\n",
       "            ((0, 2671), 135. , 86.4, 1., 'green'),\n",
       "            ((0, 2736), 135. , 86.4, 1., 'green'),\n",
       "            ((0, 2737), 135. , 86.4, 1., 'green'),\n",
       "            ((0, 2800), 135. , 86.4, 1., 'green'),\n",
       "            ((0, 2801), 135. , 86.4, 1., 'green'),\n",
       "            ((0, 2867), 135. , 86.4, 1., 'green'),\n",
       "            ((0, 2868), 135. , 86.4, 1., 'green'),\n",
       "            ((0, 2925), 135. , 86.4, 1., 'green'),\n",
       "            ((0, 2926), 135. , 86.4, 1., 'green'),\n",
       "            ((0, 0), 136.5, 86.4, 1., 'blue'),\n",
       "            ((0, 1), 136.5, 86.4, 1., 'blue'),\n",
       "            ((0, 2), 136.5, 86.4, 1., 'blue'),\n",
       "            ((0, 3), 136.5, 86.4, 1., 'blue'),\n",
       "            ((0, 4), 136.5, 86.4, 1., 'blue'),\n",
       "            ((0, 5), 136.5, 86.4, 1., 'blue'),\n",
       "            ((0, 6), 136.5, 86.4, 1., 'blue'),\n",
       "            ((0, 7), 136.5, 86.4, 1., 'blue'),\n",
       "            ((0, 8), 136.5, 86.4, 1., 'blue'),\n",
       "            ((0, 9), 136.5, 86.4, 1., 'blue'),\n",
       "            ((0, 10), 136.5, 86.4, 1., 'blue'),\n",
       "            ((0, 11), 136.5, 86.4, 1., 'blue'),\n",
       "            ((0, 12), 136.5, 86.4, 1., 'blue'),\n",
       "            ((0, 13), 136.5, 86.4, 1., 'blue'),\n",
       "            ((0, 14), 136.5, 86.4, 1., 'blue'),\n",
       "            ((0, 15), 136.5, 86.4, 1., 'blue'),\n",
       "            ((0, 16), 136.5, 86.4, 1., 'blue'),\n",
       "            ((0, 17), 136.5, 86.4, 1., 'blue'),\n",
       "            ((0, 18), 136.5, 86.4, 1., 'blue'),\n",
       "            ((0, 19), 136.5, 86.4, 1., 'blue'),\n",
       "            ((0, 20), 136.5, 86.4, 1., 'blue'),\n",
       "            ((0, 47), 136.5, 86.4, 1., 'blue'),\n",
       "            ((0, 48), 136.5, 86.4, 1., 'blue'),\n",
       "            ((0, 80), 136.5, 86.4, 1., 'blue'),\n",
       "            ((0, 81), 136.5, 86.4, 1., 'blue'),\n",
       "            ((0, 112), 136.5, 86.4, 1., 'blue'),\n",
       "            ((0, 113), 136.5, 86.4, 1., 'blue'),\n",
       "            ((0, 146), 136.5, 86.4, 1., 'blue'),\n",
       "            ((0, 147), 136.5, 86.4, 1., 'blue'),\n",
       "            ((0, 182), 136.5, 86.4, 1., 'blue'),\n",
       "            ((0, 183), 136.5, 86.4, 1., 'blue'),\n",
       "            ((0, 220), 136.5, 86.4, 1., 'blue'),\n",
       "            ((0, 221), 136.5, 86.4, 1., 'blue'),\n",
       "            ((0, 260), 136.5, 86.4, 1., 'blue'),\n",
       "            ((0, 261), 136.5, 86.4, 1., 'blue'),\n",
       "            ((0, 308), 136.5, 86.4, 1., 'blue'),\n",
       "            ((0, 309), 136.5, 86.4, 1., 'blue'),\n",
       "            ((0, 310), 136.5, 86.4, 1., 'blue'),\n",
       "            ((0, 311), 136.5, 86.4, 1., 'blue'),\n",
       "            ((0, 312), 136.5, 86.4, 1., 'blue'),\n",
       "            ((0, 313), 136.5, 86.4, 1., 'blue'),\n",
       "            ((0, 314), 136.5, 86.4, 1., 'blue'),\n",
       "            ((0, 315), 136.5, 86.4, 1., 'blue'),\n",
       "            ((0, 315), 139.5, 86.4, 1., 'magenta'),\n",
       "            ((0, 316), 139.5, 86.4, 1., 'magenta'),\n",
       "            ((0, 317), 139.5, 86.4, 1., 'magenta'),\n",
       "            ((0, 318), 139.5, 86.4, 1., 'magenta'),\n",
       "            ((0, 319), 139.5, 86.4, 1., 'magenta'),\n",
       "            ((0, 320), 139.5, 86.4, 1., 'magenta'),\n",
       "            ((0, 321), 139.5, 86.4, 1., 'magenta'),\n",
       "            ((0, 322), 139.5, 86.4, 1., 'magenta'),\n",
       "            ((0, 323), 139.5, 86.4, 1., 'magenta'),\n",
       "            ((0, 324), 139.5, 86.4, 1., 'magenta'),\n",
       "            ((0, 325), 139.5, 86.4, 1., 'magenta'),\n",
       "            ((0, 326), 139.5, 86.4, 1., 'magenta'),\n",
       "            ((0, 327), 139.5, 86.4, 1., 'magenta'),\n",
       "            ((0, 328), 139.5, 86.4, 1., 'magenta'),\n",
       "            ((0, 329), 139.5, 86.4, 1., 'magenta'),\n",
       "            ((0, 330), 139.5, 86.4, 1., 'magenta'),\n",
       "            ((0, 331), 139.5, 86.4, 1., 'magenta'),\n",
       "            ((0, 332), 139.5, 86.4, 1., 'magenta'),\n",
       "            ((0, 333), 139.5, 86.4, 1., 'magenta'),\n",
       "            ((0, 334), 139.5, 86.4, 1., 'magenta'),\n",
       "            ((0, 335), 139.5, 86.4, 1., 'magenta'),\n",
       "            ((0, 336), 139.5, 86.4, 1., 'magenta'),\n",
       "            ((0, 337), 139.5, 86.4, 1., 'magenta'),\n",
       "            ((0, 338), 139.5, 86.4, 1., 'magenta'),\n",
       "            ((0, 339), 139.5, 86.4, 1., 'magenta'),\n",
       "            ((0, 340), 139.5, 86.4, 1., 'magenta'),\n",
       "            ((0, 341), 139.5, 86.4, 1., 'magenta'),\n",
       "            ((0, 342), 139.5, 86.4, 1., 'magenta'),\n",
       "            ((0, 343), 139.5, 86.4, 1., 'magenta')],\n",
       "           dtype=[('cellid', 'O'), ('bhead', '<f8'), ('cond', '<f8'), ('multiplier', '<f8'), ('boundname', 'O')])}"
      ]
     },
     "execution_count": 56,
     "metadata": {},
     "output_type": "execute_result"
    }
   ],
   "source": [
    "# Current data structure is cellid, bhead, cond, boundname\n",
    "ghb.stress_period_data.data"
   ]
  },
  {
   "cell_type": "markdown",
   "metadata": {},
   "source": [
    "Construct new GHB stress period data:"
   ]
  },
  {
   "cell_type": "code",
   "execution_count": 57,
   "metadata": {},
   "outputs": [],
   "source": [
    "bhead = ['ghb_'+i for i in ghb.stress_period_data.data[0].boundname]\n",
    "cond = [86.4 for i in ghb.stress_period_data.data[0].boundname]\n",
    "bname = [i for i in ghb.stress_period_data.data[0].boundname]"
   ]
  },
  {
   "cell_type": "code",
   "execution_count": 58,
   "metadata": {},
   "outputs": [],
   "source": [
    "# Kanske behöver vara tuple\n",
    "ghb_new_data = [[(0, cell_id), bhead, cond, bname] for cell_id, bhead, cond, bname in zip(ghb_cell_ids, bhead, cond, bname)]"
   ]
  },
  {
   "cell_type": "code",
   "execution_count": 59,
   "metadata": {},
   "outputs": [],
   "source": [
    "ghb_new_spd = {0: ghb_new_data}"
   ]
  },
  {
   "cell_type": "code",
   "execution_count": 60,
   "metadata": {},
   "outputs": [
    {
     "data": {
      "text/plain": [
       "{0: [[(0, 343), 'ghb_red', 86.4, 'red'],\n",
       "  [(0, 344), 'ghb_red', 86.4, 'red'],\n",
       "  [(0, 427), 'ghb_red', 86.4, 'red'],\n",
       "  [(0, 428), 'ghb_red', 86.4, 'red'],\n",
       "  [(0, 503), 'ghb_red', 86.4, 'red'],\n",
       "  [(0, 504), 'ghb_red', 86.4, 'red'],\n",
       "  [(0, 583), 'ghb_red', 86.4, 'red'],\n",
       "  [(0, 584), 'ghb_red', 86.4, 'red'],\n",
       "  [(0, 664), 'ghb_red', 86.4, 'red'],\n",
       "  [(0, 665), 'ghb_red', 86.4, 'red'],\n",
       "  [(0, 746), 'ghb_red', 86.4, 'red'],\n",
       "  [(0, 747), 'ghb_red', 86.4, 'red'],\n",
       "  [(0, 829), 'ghb_red', 86.4, 'red'],\n",
       "  [(0, 830), 'ghb_red', 86.4, 'red'],\n",
       "  [(0, 913), 'ghb_red', 86.4, 'red'],\n",
       "  [(0, 999), 'ghb_red', 86.4, 'red'],\n",
       "  [(0, 1081), 'ghb_red', 86.4, 'red'],\n",
       "  [(0, 1165), 'ghb_red', 86.4, 'red'],\n",
       "  [(0, 1257), 'ghb_red', 86.4, 'red'],\n",
       "  [(0, 1354), 'ghb_red', 86.4, 'red'],\n",
       "  [(0, 1444), 'ghb_red', 86.4, 'red'],\n",
       "  [(0, 1545), 'ghb_red', 86.4, 'red'],\n",
       "  [(0, 1645), 'ghb_red', 86.4, 'red'],\n",
       "  [(0, 1762), 'ghb_red', 86.4, 'red'],\n",
       "  [(0, 1845), 'ghb_red', 86.4, 'red'],\n",
       "  [(0, 1918), 'ghb_red', 86.4, 'red'],\n",
       "  [(0, 1993), 'ghb_red', 86.4, 'red'],\n",
       "  [(0, 2067), 'ghb_red', 86.4, 'red'],\n",
       "  [(0, 2140), 'ghb_red', 86.4, 'red'],\n",
       "  [(0, 2209), 'ghb_red', 86.4, 'red'],\n",
       "  [(0, 2280), 'ghb_red', 86.4, 'red'],\n",
       "  [(0, 2386), 'ghb_red', 86.4, 'red'],\n",
       "  [(0, 2497), 'ghb_red', 86.4, 'red'],\n",
       "  [(0, 2583), 'ghb_red', 86.4, 'red'],\n",
       "  [(0, 2668), 'ghb_red', 86.4, 'red'],\n",
       "  [(0, 2669), 'ghb_red', 86.4, 'red'],\n",
       "  [(0, 2734), 'ghb_red', 86.4, 'red'],\n",
       "  [(0, 2735), 'ghb_red', 86.4, 'red'],\n",
       "  [(0, 2798), 'ghb_red', 86.4, 'red'],\n",
       "  [(0, 2799), 'ghb_red', 86.4, 'red'],\n",
       "  [(0, 2791), 'ghb_yellow', 86.4, 'yellow'],\n",
       "  [(0, 2792), 'ghb_yellow', 86.4, 'yellow'],\n",
       "  [(0, 2793), 'ghb_yellow', 86.4, 'yellow'],\n",
       "  [(0, 2794), 'ghb_yellow', 86.4, 'yellow'],\n",
       "  [(0, 2795), 'ghb_yellow', 86.4, 'yellow'],\n",
       "  [(0, 2796), 'ghb_yellow', 86.4, 'yellow'],\n",
       "  [(0, 2797), 'ghb_yellow', 86.4, 'yellow'],\n",
       "  [(0, 2798), 'ghb_yellow', 86.4, 'yellow'],\n",
       "  [(0, 2864), 'ghb_yellow', 86.4, 'yellow'],\n",
       "  [(0, 2865), 'ghb_yellow', 86.4, 'yellow'],\n",
       "  [(0, 2866), 'ghb_yellow', 86.4, 'yellow'],\n",
       "  [(0, 2922), 'ghb_yellow', 86.4, 'yellow'],\n",
       "  [(0, 2923), 'ghb_yellow', 86.4, 'yellow'],\n",
       "  [(0, 2924), 'ghb_yellow', 86.4, 'yellow'],\n",
       "  [(0, 2926), 'ghb_yellow', 86.4, 'yellow'],\n",
       "  [(0, 2975), 'ghb_yellow', 86.4, 'yellow'],\n",
       "  [(0, 2976), 'ghb_yellow', 86.4, 'yellow'],\n",
       "  [(0, 2977), 'ghb_yellow', 86.4, 'yellow'],\n",
       "  [(0, 2978), 'ghb_yellow', 86.4, 'yellow'],\n",
       "  [(0, 3012), 'ghb_yellow', 86.4, 'yellow'],\n",
       "  [(0, 3013), 'ghb_yellow', 86.4, 'yellow'],\n",
       "  [(0, 3014), 'ghb_yellow', 86.4, 'yellow'],\n",
       "  [(0, 3015), 'ghb_yellow', 86.4, 'yellow'],\n",
       "  [(0, 3016), 'ghb_yellow', 86.4, 'yellow'],\n",
       "  [(0, 3022), 'ghb_yellow', 86.4, 'yellow'],\n",
       "  [(0, 3023), 'ghb_yellow', 86.4, 'yellow'],\n",
       "  [(0, 3024), 'ghb_yellow', 86.4, 'yellow'],\n",
       "  [(0, 3025), 'ghb_yellow', 86.4, 'yellow'],\n",
       "  [(0, 3026), 'ghb_yellow', 86.4, 'yellow'],\n",
       "  [(0, 3027), 'ghb_yellow', 86.4, 'yellow'],\n",
       "  [(0, 3028), 'ghb_yellow', 86.4, 'yellow'],\n",
       "  [(0, 3047), 'ghb_yellow', 86.4, 'yellow'],\n",
       "  [(0, 3048), 'ghb_yellow', 86.4, 'yellow'],\n",
       "  [(0, 3049), 'ghb_yellow', 86.4, 'yellow'],\n",
       "  [(0, 3050), 'ghb_yellow', 86.4, 'yellow'],\n",
       "  [(0, 3051), 'ghb_yellow', 86.4, 'yellow'],\n",
       "  [(0, 3052), 'ghb_yellow', 86.4, 'yellow'],\n",
       "  [(0, 3053), 'ghb_yellow', 86.4, 'yellow'],\n",
       "  [(0, 3054), 'ghb_yellow', 86.4, 'yellow'],\n",
       "  [(0, 3055), 'ghb_yellow', 86.4, 'yellow'],\n",
       "  [(0, 3056), 'ghb_yellow', 86.4, 'yellow'],\n",
       "  [(0, 3057), 'ghb_yellow', 86.4, 'yellow'],\n",
       "  [(0, 3058), 'ghb_yellow', 86.4, 'yellow'],\n",
       "  [(0, 3059), 'ghb_yellow', 86.4, 'yellow'],\n",
       "  [(0, 3060), 'ghb_yellow', 86.4, 'yellow'],\n",
       "  [(0, 3072), 'ghb_yellow', 86.4, 'yellow'],\n",
       "  [(0, 3073), 'ghb_yellow', 86.4, 'yellow'],\n",
       "  [(0, 3074), 'ghb_yellow', 86.4, 'yellow'],\n",
       "  [(0, 3075), 'ghb_yellow', 86.4, 'yellow'],\n",
       "  [(0, 3076), 'ghb_yellow', 86.4, 'yellow'],\n",
       "  [(0, 3077), 'ghb_yellow', 86.4, 'yellow'],\n",
       "  [(0, 3078), 'ghb_yellow', 86.4, 'yellow'],\n",
       "  [(0, 3079), 'ghb_yellow', 86.4, 'yellow'],\n",
       "  [(0, 3080), 'ghb_yellow', 86.4, 'yellow'],\n",
       "  [(0, 3081), 'ghb_yellow', 86.4, 'yellow'],\n",
       "  [(0, 3082), 'ghb_yellow', 86.4, 'yellow'],\n",
       "  [(0, 3083), 'ghb_yellow', 86.4, 'yellow'],\n",
       "  [(0, 3084), 'ghb_yellow', 86.4, 'yellow'],\n",
       "  [(0, 3085), 'ghb_yellow', 86.4, 'yellow'],\n",
       "  [(0, 3086), 'ghb_yellow', 86.4, 'yellow'],\n",
       "  [(0, 3087), 'ghb_yellow', 86.4, 'yellow'],\n",
       "  [(0, 3088), 'ghb_yellow', 86.4, 'yellow'],\n",
       "  [(0, 3089), 'ghb_yellow', 86.4, 'yellow'],\n",
       "  [(0, 0), 'ghb_green', 86.4, 'green'],\n",
       "  [(0, 21), 'ghb_green', 86.4, 'green'],\n",
       "  [(0, 22), 'ghb_green', 86.4, 'green'],\n",
       "  [(0, 49), 'ghb_green', 86.4, 'green'],\n",
       "  [(0, 50), 'ghb_green', 86.4, 'green'],\n",
       "  [(0, 82), 'ghb_green', 86.4, 'green'],\n",
       "  [(0, 83), 'ghb_green', 86.4, 'green'],\n",
       "  [(0, 114), 'ghb_green', 86.4, 'green'],\n",
       "  [(0, 115), 'ghb_green', 86.4, 'green'],\n",
       "  [(0, 148), 'ghb_green', 86.4, 'green'],\n",
       "  [(0, 149), 'ghb_green', 86.4, 'green'],\n",
       "  [(0, 184), 'ghb_green', 86.4, 'green'],\n",
       "  [(0, 185), 'ghb_green', 86.4, 'green'],\n",
       "  [(0, 222), 'ghb_green', 86.4, 'green'],\n",
       "  [(0, 223), 'ghb_green', 86.4, 'green'],\n",
       "  [(0, 262), 'ghb_green', 86.4, 'green'],\n",
       "  [(0, 263), 'ghb_green', 86.4, 'green'],\n",
       "  [(0, 345), 'ghb_green', 86.4, 'green'],\n",
       "  [(0, 429), 'ghb_green', 86.4, 'green'],\n",
       "  [(0, 505), 'ghb_green', 86.4, 'green'],\n",
       "  [(0, 585), 'ghb_green', 86.4, 'green'],\n",
       "  [(0, 666), 'ghb_green', 86.4, 'green'],\n",
       "  [(0, 748), 'ghb_green', 86.4, 'green'],\n",
       "  [(0, 831), 'ghb_green', 86.4, 'green'],\n",
       "  [(0, 914), 'ghb_green', 86.4, 'green'],\n",
       "  [(0, 915), 'ghb_green', 86.4, 'green'],\n",
       "  [(0, 1000), 'ghb_green', 86.4, 'green'],\n",
       "  [(0, 1001), 'ghb_green', 86.4, 'green'],\n",
       "  [(0, 1082), 'ghb_green', 86.4, 'green'],\n",
       "  [(0, 1083), 'ghb_green', 86.4, 'green'],\n",
       "  [(0, 1166), 'ghb_green', 86.4, 'green'],\n",
       "  [(0, 1167), 'ghb_green', 86.4, 'green'],\n",
       "  [(0, 1258), 'ghb_green', 86.4, 'green'],\n",
       "  [(0, 1259), 'ghb_green', 86.4, 'green'],\n",
       "  [(0, 1355), 'ghb_green', 86.4, 'green'],\n",
       "  [(0, 1356), 'ghb_green', 86.4, 'green'],\n",
       "  [(0, 1445), 'ghb_green', 86.4, 'green'],\n",
       "  [(0, 1446), 'ghb_green', 86.4, 'green'],\n",
       "  [(0, 1546), 'ghb_green', 86.4, 'green'],\n",
       "  [(0, 1547), 'ghb_green', 86.4, 'green'],\n",
       "  [(0, 1646), 'ghb_green', 86.4, 'green'],\n",
       "  [(0, 1647), 'ghb_green', 86.4, 'green'],\n",
       "  [(0, 1763), 'ghb_green', 86.4, 'green'],\n",
       "  [(0, 1764), 'ghb_green', 86.4, 'green'],\n",
       "  [(0, 1846), 'ghb_green', 86.4, 'green'],\n",
       "  [(0, 1847), 'ghb_green', 86.4, 'green'],\n",
       "  [(0, 1919), 'ghb_green', 86.4, 'green'],\n",
       "  [(0, 1920), 'ghb_green', 86.4, 'green'],\n",
       "  [(0, 1994), 'ghb_green', 86.4, 'green'],\n",
       "  [(0, 1995), 'ghb_green', 86.4, 'green'],\n",
       "  [(0, 2068), 'ghb_green', 86.4, 'green'],\n",
       "  [(0, 2069), 'ghb_green', 86.4, 'green'],\n",
       "  [(0, 2141), 'ghb_green', 86.4, 'green'],\n",
       "  [(0, 2142), 'ghb_green', 86.4, 'green'],\n",
       "  [(0, 2210), 'ghb_green', 86.4, 'green'],\n",
       "  [(0, 2211), 'ghb_green', 86.4, 'green'],\n",
       "  [(0, 2281), 'ghb_green', 86.4, 'green'],\n",
       "  [(0, 2282), 'ghb_green', 86.4, 'green'],\n",
       "  [(0, 2387), 'ghb_green', 86.4, 'green'],\n",
       "  [(0, 2388), 'ghb_green', 86.4, 'green'],\n",
       "  [(0, 2498), 'ghb_green', 86.4, 'green'],\n",
       "  [(0, 2499), 'ghb_green', 86.4, 'green'],\n",
       "  [(0, 2584), 'ghb_green', 86.4, 'green'],\n",
       "  [(0, 2585), 'ghb_green', 86.4, 'green'],\n",
       "  [(0, 2670), 'ghb_green', 86.4, 'green'],\n",
       "  [(0, 2671), 'ghb_green', 86.4, 'green'],\n",
       "  [(0, 2736), 'ghb_green', 86.4, 'green'],\n",
       "  [(0, 2737), 'ghb_green', 86.4, 'green'],\n",
       "  [(0, 2800), 'ghb_green', 86.4, 'green'],\n",
       "  [(0, 2801), 'ghb_green', 86.4, 'green'],\n",
       "  [(0, 2867), 'ghb_green', 86.4, 'green'],\n",
       "  [(0, 2868), 'ghb_green', 86.4, 'green'],\n",
       "  [(0, 2925), 'ghb_green', 86.4, 'green'],\n",
       "  [(0, 2926), 'ghb_green', 86.4, 'green'],\n",
       "  [(0, 0), 'ghb_blue', 86.4, 'blue'],\n",
       "  [(0, 1), 'ghb_blue', 86.4, 'blue'],\n",
       "  [(0, 2), 'ghb_blue', 86.4, 'blue'],\n",
       "  [(0, 3), 'ghb_blue', 86.4, 'blue'],\n",
       "  [(0, 4), 'ghb_blue', 86.4, 'blue'],\n",
       "  [(0, 5), 'ghb_blue', 86.4, 'blue'],\n",
       "  [(0, 6), 'ghb_blue', 86.4, 'blue'],\n",
       "  [(0, 7), 'ghb_blue', 86.4, 'blue'],\n",
       "  [(0, 8), 'ghb_blue', 86.4, 'blue'],\n",
       "  [(0, 9), 'ghb_blue', 86.4, 'blue'],\n",
       "  [(0, 10), 'ghb_blue', 86.4, 'blue'],\n",
       "  [(0, 11), 'ghb_blue', 86.4, 'blue'],\n",
       "  [(0, 12), 'ghb_blue', 86.4, 'blue'],\n",
       "  [(0, 13), 'ghb_blue', 86.4, 'blue'],\n",
       "  [(0, 14), 'ghb_blue', 86.4, 'blue'],\n",
       "  [(0, 15), 'ghb_blue', 86.4, 'blue'],\n",
       "  [(0, 16), 'ghb_blue', 86.4, 'blue'],\n",
       "  [(0, 17), 'ghb_blue', 86.4, 'blue'],\n",
       "  [(0, 18), 'ghb_blue', 86.4, 'blue'],\n",
       "  [(0, 19), 'ghb_blue', 86.4, 'blue'],\n",
       "  [(0, 20), 'ghb_blue', 86.4, 'blue'],\n",
       "  [(0, 47), 'ghb_blue', 86.4, 'blue'],\n",
       "  [(0, 48), 'ghb_blue', 86.4, 'blue'],\n",
       "  [(0, 80), 'ghb_blue', 86.4, 'blue'],\n",
       "  [(0, 81), 'ghb_blue', 86.4, 'blue'],\n",
       "  [(0, 112), 'ghb_blue', 86.4, 'blue'],\n",
       "  [(0, 113), 'ghb_blue', 86.4, 'blue'],\n",
       "  [(0, 146), 'ghb_blue', 86.4, 'blue'],\n",
       "  [(0, 147), 'ghb_blue', 86.4, 'blue'],\n",
       "  [(0, 182), 'ghb_blue', 86.4, 'blue'],\n",
       "  [(0, 183), 'ghb_blue', 86.4, 'blue'],\n",
       "  [(0, 220), 'ghb_blue', 86.4, 'blue'],\n",
       "  [(0, 221), 'ghb_blue', 86.4, 'blue'],\n",
       "  [(0, 260), 'ghb_blue', 86.4, 'blue'],\n",
       "  [(0, 261), 'ghb_blue', 86.4, 'blue'],\n",
       "  [(0, 308), 'ghb_blue', 86.4, 'blue'],\n",
       "  [(0, 309), 'ghb_blue', 86.4, 'blue'],\n",
       "  [(0, 310), 'ghb_blue', 86.4, 'blue'],\n",
       "  [(0, 311), 'ghb_blue', 86.4, 'blue'],\n",
       "  [(0, 312), 'ghb_blue', 86.4, 'blue'],\n",
       "  [(0, 313), 'ghb_blue', 86.4, 'blue'],\n",
       "  [(0, 314), 'ghb_blue', 86.4, 'blue'],\n",
       "  [(0, 315), 'ghb_blue', 86.4, 'blue'],\n",
       "  [(0, 315), 'ghb_magenta', 86.4, 'magenta'],\n",
       "  [(0, 316), 'ghb_magenta', 86.4, 'magenta'],\n",
       "  [(0, 317), 'ghb_magenta', 86.4, 'magenta'],\n",
       "  [(0, 318), 'ghb_magenta', 86.4, 'magenta'],\n",
       "  [(0, 319), 'ghb_magenta', 86.4, 'magenta'],\n",
       "  [(0, 320), 'ghb_magenta', 86.4, 'magenta'],\n",
       "  [(0, 321), 'ghb_magenta', 86.4, 'magenta'],\n",
       "  [(0, 322), 'ghb_magenta', 86.4, 'magenta'],\n",
       "  [(0, 323), 'ghb_magenta', 86.4, 'magenta'],\n",
       "  [(0, 324), 'ghb_magenta', 86.4, 'magenta'],\n",
       "  [(0, 325), 'ghb_magenta', 86.4, 'magenta'],\n",
       "  [(0, 326), 'ghb_magenta', 86.4, 'magenta'],\n",
       "  [(0, 327), 'ghb_magenta', 86.4, 'magenta'],\n",
       "  [(0, 328), 'ghb_magenta', 86.4, 'magenta'],\n",
       "  [(0, 329), 'ghb_magenta', 86.4, 'magenta'],\n",
       "  [(0, 330), 'ghb_magenta', 86.4, 'magenta'],\n",
       "  [(0, 331), 'ghb_magenta', 86.4, 'magenta'],\n",
       "  [(0, 332), 'ghb_magenta', 86.4, 'magenta'],\n",
       "  [(0, 333), 'ghb_magenta', 86.4, 'magenta'],\n",
       "  [(0, 334), 'ghb_magenta', 86.4, 'magenta'],\n",
       "  [(0, 335), 'ghb_magenta', 86.4, 'magenta'],\n",
       "  [(0, 336), 'ghb_magenta', 86.4, 'magenta'],\n",
       "  [(0, 337), 'ghb_magenta', 86.4, 'magenta'],\n",
       "  [(0, 338), 'ghb_magenta', 86.4, 'magenta'],\n",
       "  [(0, 339), 'ghb_magenta', 86.4, 'magenta'],\n",
       "  [(0, 340), 'ghb_magenta', 86.4, 'magenta'],\n",
       "  [(0, 341), 'ghb_magenta', 86.4, 'magenta'],\n",
       "  [(0, 342), 'ghb_magenta', 86.4, 'magenta'],\n",
       "  [(0, 343), 'ghb_magenta', 86.4, 'magenta']]}"
      ]
     },
     "execution_count": 60,
     "metadata": {},
     "output_type": "execute_result"
    }
   ],
   "source": [
    "ghb_new_spd"
   ]
  },
  {
   "cell_type": "markdown",
   "metadata": {},
   "source": [
    "Remove old GHB package:"
   ]
  },
  {
   "cell_type": "code",
   "execution_count": 61,
   "metadata": {},
   "outputs": [],
   "source": [
    "gwf.remove_package('ghb')"
   ]
  },
  {
   "cell_type": "markdown",
   "metadata": {},
   "source": [
    "Instantiate new GHB package:"
   ]
  },
  {
   "cell_type": "code",
   "execution_count": 62,
   "metadata": {},
   "outputs": [],
   "source": [
    "ghb = flopy.mf6.modflow.mfgwfghb.ModflowGwfghb(\n",
    "    gwf,\n",
    "    print_input=True,\n",
    "    print_flows=True,\n",
    "    save_flows=True,\n",
    "    boundnames=True, \n",
    "    pname='ghb',\n",
    "    stress_period_data=ghb_new_spd\n",
    ")"
   ]
  },
  {
   "cell_type": "markdown",
   "metadata": {},
   "source": [
    "Display the new data structure:"
   ]
  },
  {
   "cell_type": "code",
   "execution_count": 63,
   "metadata": {},
   "outputs": [
    {
     "data": {
      "text/plain": [
       "{0: rec.array([((0, 343), 'ghb_red', 86.4, 'red'),\n",
       "            ((0, 344), 'ghb_red', 86.4, 'red'),\n",
       "            ((0, 427), 'ghb_red', 86.4, 'red'),\n",
       "            ((0, 428), 'ghb_red', 86.4, 'red'),\n",
       "            ((0, 503), 'ghb_red', 86.4, 'red'),\n",
       "            ((0, 504), 'ghb_red', 86.4, 'red'),\n",
       "            ((0, 583), 'ghb_red', 86.4, 'red'),\n",
       "            ((0, 584), 'ghb_red', 86.4, 'red'),\n",
       "            ((0, 664), 'ghb_red', 86.4, 'red'),\n",
       "            ((0, 665), 'ghb_red', 86.4, 'red'),\n",
       "            ((0, 746), 'ghb_red', 86.4, 'red'),\n",
       "            ((0, 747), 'ghb_red', 86.4, 'red'),\n",
       "            ((0, 829), 'ghb_red', 86.4, 'red'),\n",
       "            ((0, 830), 'ghb_red', 86.4, 'red'),\n",
       "            ((0, 913), 'ghb_red', 86.4, 'red'),\n",
       "            ((0, 999), 'ghb_red', 86.4, 'red'),\n",
       "            ((0, 1081), 'ghb_red', 86.4, 'red'),\n",
       "            ((0, 1165), 'ghb_red', 86.4, 'red'),\n",
       "            ((0, 1257), 'ghb_red', 86.4, 'red'),\n",
       "            ((0, 1354), 'ghb_red', 86.4, 'red'),\n",
       "            ((0, 1444), 'ghb_red', 86.4, 'red'),\n",
       "            ((0, 1545), 'ghb_red', 86.4, 'red'),\n",
       "            ((0, 1645), 'ghb_red', 86.4, 'red'),\n",
       "            ((0, 1762), 'ghb_red', 86.4, 'red'),\n",
       "            ((0, 1845), 'ghb_red', 86.4, 'red'),\n",
       "            ((0, 1918), 'ghb_red', 86.4, 'red'),\n",
       "            ((0, 1993), 'ghb_red', 86.4, 'red'),\n",
       "            ((0, 2067), 'ghb_red', 86.4, 'red'),\n",
       "            ((0, 2140), 'ghb_red', 86.4, 'red'),\n",
       "            ((0, 2209), 'ghb_red', 86.4, 'red'),\n",
       "            ((0, 2280), 'ghb_red', 86.4, 'red'),\n",
       "            ((0, 2386), 'ghb_red', 86.4, 'red'),\n",
       "            ((0, 2497), 'ghb_red', 86.4, 'red'),\n",
       "            ((0, 2583), 'ghb_red', 86.4, 'red'),\n",
       "            ((0, 2668), 'ghb_red', 86.4, 'red'),\n",
       "            ((0, 2669), 'ghb_red', 86.4, 'red'),\n",
       "            ((0, 2734), 'ghb_red', 86.4, 'red'),\n",
       "            ((0, 2735), 'ghb_red', 86.4, 'red'),\n",
       "            ((0, 2798), 'ghb_red', 86.4, 'red'),\n",
       "            ((0, 2799), 'ghb_red', 86.4, 'red'),\n",
       "            ((0, 2791), 'ghb_yellow', 86.4, 'yellow'),\n",
       "            ((0, 2792), 'ghb_yellow', 86.4, 'yellow'),\n",
       "            ((0, 2793), 'ghb_yellow', 86.4, 'yellow'),\n",
       "            ((0, 2794), 'ghb_yellow', 86.4, 'yellow'),\n",
       "            ((0, 2795), 'ghb_yellow', 86.4, 'yellow'),\n",
       "            ((0, 2796), 'ghb_yellow', 86.4, 'yellow'),\n",
       "            ((0, 2797), 'ghb_yellow', 86.4, 'yellow'),\n",
       "            ((0, 2798), 'ghb_yellow', 86.4, 'yellow'),\n",
       "            ((0, 2864), 'ghb_yellow', 86.4, 'yellow'),\n",
       "            ((0, 2865), 'ghb_yellow', 86.4, 'yellow'),\n",
       "            ((0, 2866), 'ghb_yellow', 86.4, 'yellow'),\n",
       "            ((0, 2922), 'ghb_yellow', 86.4, 'yellow'),\n",
       "            ((0, 2923), 'ghb_yellow', 86.4, 'yellow'),\n",
       "            ((0, 2924), 'ghb_yellow', 86.4, 'yellow'),\n",
       "            ((0, 2926), 'ghb_yellow', 86.4, 'yellow'),\n",
       "            ((0, 2975), 'ghb_yellow', 86.4, 'yellow'),\n",
       "            ((0, 2976), 'ghb_yellow', 86.4, 'yellow'),\n",
       "            ((0, 2977), 'ghb_yellow', 86.4, 'yellow'),\n",
       "            ((0, 2978), 'ghb_yellow', 86.4, 'yellow'),\n",
       "            ((0, 3012), 'ghb_yellow', 86.4, 'yellow'),\n",
       "            ((0, 3013), 'ghb_yellow', 86.4, 'yellow'),\n",
       "            ((0, 3014), 'ghb_yellow', 86.4, 'yellow'),\n",
       "            ((0, 3015), 'ghb_yellow', 86.4, 'yellow'),\n",
       "            ((0, 3016), 'ghb_yellow', 86.4, 'yellow'),\n",
       "            ((0, 3022), 'ghb_yellow', 86.4, 'yellow'),\n",
       "            ((0, 3023), 'ghb_yellow', 86.4, 'yellow'),\n",
       "            ((0, 3024), 'ghb_yellow', 86.4, 'yellow'),\n",
       "            ((0, 3025), 'ghb_yellow', 86.4, 'yellow'),\n",
       "            ((0, 3026), 'ghb_yellow', 86.4, 'yellow'),\n",
       "            ((0, 3027), 'ghb_yellow', 86.4, 'yellow'),\n",
       "            ((0, 3028), 'ghb_yellow', 86.4, 'yellow'),\n",
       "            ((0, 3047), 'ghb_yellow', 86.4, 'yellow'),\n",
       "            ((0, 3048), 'ghb_yellow', 86.4, 'yellow'),\n",
       "            ((0, 3049), 'ghb_yellow', 86.4, 'yellow'),\n",
       "            ((0, 3050), 'ghb_yellow', 86.4, 'yellow'),\n",
       "            ((0, 3051), 'ghb_yellow', 86.4, 'yellow'),\n",
       "            ((0, 3052), 'ghb_yellow', 86.4, 'yellow'),\n",
       "            ((0, 3053), 'ghb_yellow', 86.4, 'yellow'),\n",
       "            ((0, 3054), 'ghb_yellow', 86.4, 'yellow'),\n",
       "            ((0, 3055), 'ghb_yellow', 86.4, 'yellow'),\n",
       "            ((0, 3056), 'ghb_yellow', 86.4, 'yellow'),\n",
       "            ((0, 3057), 'ghb_yellow', 86.4, 'yellow'),\n",
       "            ((0, 3058), 'ghb_yellow', 86.4, 'yellow'),\n",
       "            ((0, 3059), 'ghb_yellow', 86.4, 'yellow'),\n",
       "            ((0, 3060), 'ghb_yellow', 86.4, 'yellow'),\n",
       "            ((0, 3072), 'ghb_yellow', 86.4, 'yellow'),\n",
       "            ((0, 3073), 'ghb_yellow', 86.4, 'yellow'),\n",
       "            ((0, 3074), 'ghb_yellow', 86.4, 'yellow'),\n",
       "            ((0, 3075), 'ghb_yellow', 86.4, 'yellow'),\n",
       "            ((0, 3076), 'ghb_yellow', 86.4, 'yellow'),\n",
       "            ((0, 3077), 'ghb_yellow', 86.4, 'yellow'),\n",
       "            ((0, 3078), 'ghb_yellow', 86.4, 'yellow'),\n",
       "            ((0, 3079), 'ghb_yellow', 86.4, 'yellow'),\n",
       "            ((0, 3080), 'ghb_yellow', 86.4, 'yellow'),\n",
       "            ((0, 3081), 'ghb_yellow', 86.4, 'yellow'),\n",
       "            ((0, 3082), 'ghb_yellow', 86.4, 'yellow'),\n",
       "            ((0, 3083), 'ghb_yellow', 86.4, 'yellow'),\n",
       "            ((0, 3084), 'ghb_yellow', 86.4, 'yellow'),\n",
       "            ((0, 3085), 'ghb_yellow', 86.4, 'yellow'),\n",
       "            ((0, 3086), 'ghb_yellow', 86.4, 'yellow'),\n",
       "            ((0, 3087), 'ghb_yellow', 86.4, 'yellow'),\n",
       "            ((0, 3088), 'ghb_yellow', 86.4, 'yellow'),\n",
       "            ((0, 3089), 'ghb_yellow', 86.4, 'yellow'),\n",
       "            ((0, 0), 'ghb_green', 86.4, 'green'),\n",
       "            ((0, 21), 'ghb_green', 86.4, 'green'),\n",
       "            ((0, 22), 'ghb_green', 86.4, 'green'),\n",
       "            ((0, 49), 'ghb_green', 86.4, 'green'),\n",
       "            ((0, 50), 'ghb_green', 86.4, 'green'),\n",
       "            ((0, 82), 'ghb_green', 86.4, 'green'),\n",
       "            ((0, 83), 'ghb_green', 86.4, 'green'),\n",
       "            ((0, 114), 'ghb_green', 86.4, 'green'),\n",
       "            ((0, 115), 'ghb_green', 86.4, 'green'),\n",
       "            ((0, 148), 'ghb_green', 86.4, 'green'),\n",
       "            ((0, 149), 'ghb_green', 86.4, 'green'),\n",
       "            ((0, 184), 'ghb_green', 86.4, 'green'),\n",
       "            ((0, 185), 'ghb_green', 86.4, 'green'),\n",
       "            ((0, 222), 'ghb_green', 86.4, 'green'),\n",
       "            ((0, 223), 'ghb_green', 86.4, 'green'),\n",
       "            ((0, 262), 'ghb_green', 86.4, 'green'),\n",
       "            ((0, 263), 'ghb_green', 86.4, 'green'),\n",
       "            ((0, 345), 'ghb_green', 86.4, 'green'),\n",
       "            ((0, 429), 'ghb_green', 86.4, 'green'),\n",
       "            ((0, 505), 'ghb_green', 86.4, 'green'),\n",
       "            ((0, 585), 'ghb_green', 86.4, 'green'),\n",
       "            ((0, 666), 'ghb_green', 86.4, 'green'),\n",
       "            ((0, 748), 'ghb_green', 86.4, 'green'),\n",
       "            ((0, 831), 'ghb_green', 86.4, 'green'),\n",
       "            ((0, 914), 'ghb_green', 86.4, 'green'),\n",
       "            ((0, 915), 'ghb_green', 86.4, 'green'),\n",
       "            ((0, 1000), 'ghb_green', 86.4, 'green'),\n",
       "            ((0, 1001), 'ghb_green', 86.4, 'green'),\n",
       "            ((0, 1082), 'ghb_green', 86.4, 'green'),\n",
       "            ((0, 1083), 'ghb_green', 86.4, 'green'),\n",
       "            ((0, 1166), 'ghb_green', 86.4, 'green'),\n",
       "            ((0, 1167), 'ghb_green', 86.4, 'green'),\n",
       "            ((0, 1258), 'ghb_green', 86.4, 'green'),\n",
       "            ((0, 1259), 'ghb_green', 86.4, 'green'),\n",
       "            ((0, 1355), 'ghb_green', 86.4, 'green'),\n",
       "            ((0, 1356), 'ghb_green', 86.4, 'green'),\n",
       "            ((0, 1445), 'ghb_green', 86.4, 'green'),\n",
       "            ((0, 1446), 'ghb_green', 86.4, 'green'),\n",
       "            ((0, 1546), 'ghb_green', 86.4, 'green'),\n",
       "            ((0, 1547), 'ghb_green', 86.4, 'green'),\n",
       "            ((0, 1646), 'ghb_green', 86.4, 'green'),\n",
       "            ((0, 1647), 'ghb_green', 86.4, 'green'),\n",
       "            ((0, 1763), 'ghb_green', 86.4, 'green'),\n",
       "            ((0, 1764), 'ghb_green', 86.4, 'green'),\n",
       "            ((0, 1846), 'ghb_green', 86.4, 'green'),\n",
       "            ((0, 1847), 'ghb_green', 86.4, 'green'),\n",
       "            ((0, 1919), 'ghb_green', 86.4, 'green'),\n",
       "            ((0, 1920), 'ghb_green', 86.4, 'green'),\n",
       "            ((0, 1994), 'ghb_green', 86.4, 'green'),\n",
       "            ((0, 1995), 'ghb_green', 86.4, 'green'),\n",
       "            ((0, 2068), 'ghb_green', 86.4, 'green'),\n",
       "            ((0, 2069), 'ghb_green', 86.4, 'green'),\n",
       "            ((0, 2141), 'ghb_green', 86.4, 'green'),\n",
       "            ((0, 2142), 'ghb_green', 86.4, 'green'),\n",
       "            ((0, 2210), 'ghb_green', 86.4, 'green'),\n",
       "            ((0, 2211), 'ghb_green', 86.4, 'green'),\n",
       "            ((0, 2281), 'ghb_green', 86.4, 'green'),\n",
       "            ((0, 2282), 'ghb_green', 86.4, 'green'),\n",
       "            ((0, 2387), 'ghb_green', 86.4, 'green'),\n",
       "            ((0, 2388), 'ghb_green', 86.4, 'green'),\n",
       "            ((0, 2498), 'ghb_green', 86.4, 'green'),\n",
       "            ((0, 2499), 'ghb_green', 86.4, 'green'),\n",
       "            ((0, 2584), 'ghb_green', 86.4, 'green'),\n",
       "            ((0, 2585), 'ghb_green', 86.4, 'green'),\n",
       "            ((0, 2670), 'ghb_green', 86.4, 'green'),\n",
       "            ((0, 2671), 'ghb_green', 86.4, 'green'),\n",
       "            ((0, 2736), 'ghb_green', 86.4, 'green'),\n",
       "            ((0, 2737), 'ghb_green', 86.4, 'green'),\n",
       "            ((0, 2800), 'ghb_green', 86.4, 'green'),\n",
       "            ((0, 2801), 'ghb_green', 86.4, 'green'),\n",
       "            ((0, 2867), 'ghb_green', 86.4, 'green'),\n",
       "            ((0, 2868), 'ghb_green', 86.4, 'green'),\n",
       "            ((0, 2925), 'ghb_green', 86.4, 'green'),\n",
       "            ((0, 2926), 'ghb_green', 86.4, 'green'),\n",
       "            ((0, 0), 'ghb_blue', 86.4, 'blue'),\n",
       "            ((0, 1), 'ghb_blue', 86.4, 'blue'),\n",
       "            ((0, 2), 'ghb_blue', 86.4, 'blue'),\n",
       "            ((0, 3), 'ghb_blue', 86.4, 'blue'),\n",
       "            ((0, 4), 'ghb_blue', 86.4, 'blue'),\n",
       "            ((0, 5), 'ghb_blue', 86.4, 'blue'),\n",
       "            ((0, 6), 'ghb_blue', 86.4, 'blue'),\n",
       "            ((0, 7), 'ghb_blue', 86.4, 'blue'),\n",
       "            ((0, 8), 'ghb_blue', 86.4, 'blue'),\n",
       "            ((0, 9), 'ghb_blue', 86.4, 'blue'),\n",
       "            ((0, 10), 'ghb_blue', 86.4, 'blue'),\n",
       "            ((0, 11), 'ghb_blue', 86.4, 'blue'),\n",
       "            ((0, 12), 'ghb_blue', 86.4, 'blue'),\n",
       "            ((0, 13), 'ghb_blue', 86.4, 'blue'),\n",
       "            ((0, 14), 'ghb_blue', 86.4, 'blue'),\n",
       "            ((0, 15), 'ghb_blue', 86.4, 'blue'),\n",
       "            ((0, 16), 'ghb_blue', 86.4, 'blue'),\n",
       "            ((0, 17), 'ghb_blue', 86.4, 'blue'),\n",
       "            ((0, 18), 'ghb_blue', 86.4, 'blue'),\n",
       "            ((0, 19), 'ghb_blue', 86.4, 'blue'),\n",
       "            ((0, 20), 'ghb_blue', 86.4, 'blue'),\n",
       "            ((0, 47), 'ghb_blue', 86.4, 'blue'),\n",
       "            ((0, 48), 'ghb_blue', 86.4, 'blue'),\n",
       "            ((0, 80), 'ghb_blue', 86.4, 'blue'),\n",
       "            ((0, 81), 'ghb_blue', 86.4, 'blue'),\n",
       "            ((0, 112), 'ghb_blue', 86.4, 'blue'),\n",
       "            ((0, 113), 'ghb_blue', 86.4, 'blue'),\n",
       "            ((0, 146), 'ghb_blue', 86.4, 'blue'),\n",
       "            ((0, 147), 'ghb_blue', 86.4, 'blue'),\n",
       "            ((0, 182), 'ghb_blue', 86.4, 'blue'),\n",
       "            ((0, 183), 'ghb_blue', 86.4, 'blue'),\n",
       "            ((0, 220), 'ghb_blue', 86.4, 'blue'),\n",
       "            ((0, 221), 'ghb_blue', 86.4, 'blue'),\n",
       "            ((0, 260), 'ghb_blue', 86.4, 'blue'),\n",
       "            ((0, 261), 'ghb_blue', 86.4, 'blue'),\n",
       "            ((0, 308), 'ghb_blue', 86.4, 'blue'),\n",
       "            ((0, 309), 'ghb_blue', 86.4, 'blue'),\n",
       "            ((0, 310), 'ghb_blue', 86.4, 'blue'),\n",
       "            ((0, 311), 'ghb_blue', 86.4, 'blue'),\n",
       "            ((0, 312), 'ghb_blue', 86.4, 'blue'),\n",
       "            ((0, 313), 'ghb_blue', 86.4, 'blue'),\n",
       "            ((0, 314), 'ghb_blue', 86.4, 'blue'),\n",
       "            ((0, 315), 'ghb_blue', 86.4, 'blue'),\n",
       "            ((0, 315), 'ghb_magenta', 86.4, 'magenta'),\n",
       "            ((0, 316), 'ghb_magenta', 86.4, 'magenta'),\n",
       "            ((0, 317), 'ghb_magenta', 86.4, 'magenta'),\n",
       "            ((0, 318), 'ghb_magenta', 86.4, 'magenta'),\n",
       "            ((0, 319), 'ghb_magenta', 86.4, 'magenta'),\n",
       "            ((0, 320), 'ghb_magenta', 86.4, 'magenta'),\n",
       "            ((0, 321), 'ghb_magenta', 86.4, 'magenta'),\n",
       "            ((0, 322), 'ghb_magenta', 86.4, 'magenta'),\n",
       "            ((0, 323), 'ghb_magenta', 86.4, 'magenta'),\n",
       "            ((0, 324), 'ghb_magenta', 86.4, 'magenta'),\n",
       "            ((0, 325), 'ghb_magenta', 86.4, 'magenta'),\n",
       "            ((0, 326), 'ghb_magenta', 86.4, 'magenta'),\n",
       "            ((0, 327), 'ghb_magenta', 86.4, 'magenta'),\n",
       "            ((0, 328), 'ghb_magenta', 86.4, 'magenta'),\n",
       "            ((0, 329), 'ghb_magenta', 86.4, 'magenta'),\n",
       "            ((0, 330), 'ghb_magenta', 86.4, 'magenta'),\n",
       "            ((0, 331), 'ghb_magenta', 86.4, 'magenta'),\n",
       "            ((0, 332), 'ghb_magenta', 86.4, 'magenta'),\n",
       "            ((0, 333), 'ghb_magenta', 86.4, 'magenta'),\n",
       "            ((0, 334), 'ghb_magenta', 86.4, 'magenta'),\n",
       "            ((0, 335), 'ghb_magenta', 86.4, 'magenta'),\n",
       "            ((0, 336), 'ghb_magenta', 86.4, 'magenta'),\n",
       "            ((0, 337), 'ghb_magenta', 86.4, 'magenta'),\n",
       "            ((0, 338), 'ghb_magenta', 86.4, 'magenta'),\n",
       "            ((0, 339), 'ghb_magenta', 86.4, 'magenta'),\n",
       "            ((0, 340), 'ghb_magenta', 86.4, 'magenta'),\n",
       "            ((0, 341), 'ghb_magenta', 86.4, 'magenta'),\n",
       "            ((0, 342), 'ghb_magenta', 86.4, 'magenta'),\n",
       "            ((0, 343), 'ghb_magenta', 86.4, 'magenta')],\n",
       "           dtype=[('cellid', 'O'), ('bhead', 'O'), ('cond', '<f8'), ('boundname', 'O')])}"
      ]
     },
     "execution_count": 63,
     "metadata": {},
     "output_type": "execute_result"
    }
   ],
   "source": [
    "ghb.stress_period_data.data"
   ]
  },
  {
   "cell_type": "code",
   "execution_count": 64,
   "metadata": {},
   "outputs": [],
   "source": [
    "# Initialize ts-file\n",
    "ghb.ts.initialize(filename='ghb_new.ts')"
   ]
  },
  {
   "cell_type": "markdown",
   "metadata": {},
   "source": [
    "Write simulation files:"
   ]
  },
  {
   "cell_type": "code",
   "execution_count": 65,
   "metadata": {},
   "outputs": [
    {
     "name": "stdout",
     "output_type": "stream",
     "text": [
      "writing simulation...\n",
      "  writing simulation name file...\n",
      "  writing simulation tdis package...\n",
      "  writing ims package hagfors_1...\n",
      "  writing model hagfors_1...\n",
      "    writing model name file...\n",
      "    writing package disv...\n",
      "    writing package ic...\n",
      "    writing package npf...\n",
      "    writing package oc...\n",
      "    writing package sto...\n",
      "    writing package sfr_ts...\n",
      "    writing package sfr_obs...\n",
      "    writing package sfr...\n",
      "    writing package gwf_obs...\n",
      "    writing package rch...\n",
      "INFORMATION: maxbound in ('gwf6', 'rch', 'dimensions') changed to 2846 based on size of stress_period_data\n",
      "    writing package ts_0...\n",
      "    writing package ghb...\n",
      "INFORMATION: maxbound in ('gwf6', 'ghb', 'dimensions') changed to 249 based on size of stress_period_data\n",
      "    writing package ts_1...\n"
     ]
    }
   ],
   "source": [
    "sim.write_simulation()"
   ]
  },
  {
   "cell_type": "markdown",
   "metadata": {},
   "source": [
    "Move TS files:"
   ]
  },
  {
   "cell_type": "code",
   "execution_count": 66,
   "metadata": {},
   "outputs": [],
   "source": [
    "ts_files = ['rch_new.ts', 'ghb_new.ts']\n",
    "for file in ts_files:\n",
    "    lumprem_ts = os.path.join(lr_ws, file)\n",
    "    flopy_ts = os.path.join(tmp_model_ws, file)\n",
    "    shutil.move(lumprem_ts, flopy_ts)"
   ]
  },
  {
   "cell_type": "markdown",
   "metadata": {},
   "source": [
    "Move template files:"
   ]
  },
  {
   "cell_type": "code",
   "execution_count": 67,
   "metadata": {},
   "outputs": [],
   "source": [
    "template_files = [i for i in os.listdir(lr_ws) if '.tpl' in i]"
   ]
  },
  {
   "cell_type": "code",
   "execution_count": 68,
   "metadata": {},
   "outputs": [],
   "source": [
    "for file in template_files:\n",
    "    lumprem_template = os.path.join(lr_ws, file)\n",
    "    flopy_template = os.path.join(tmp_model_ws, file)\n",
    "    shutil.move(lumprem_template, flopy_template)"
   ]
  },
  {
   "cell_type": "markdown",
   "metadata": {},
   "source": [
    "One last thing before running the simulation. Current version of Flopy appends `.\\` to components in the .nam-file. This will cause problems when the model is transferred onto a linux environment. For this reason any line in the .nam file appended with `.\\` will have to be edited. Might as well do it during this step:"
   ]
  },
  {
   "cell_type": "code",
   "execution_count": 69,
   "metadata": {},
   "outputs": [],
   "source": [
    "def replace_in_file(path, input_file, original_str, replacement_str):\n",
    "    # Read in the file\n",
    "    with open(os.path.join(path, input_file), 'r') as file :\n",
    "        filedata = file.read()\n",
    "\n",
    "    # Replace the target string\n",
    "    filedata = filedata.replace(original_str, replacement_str)\n",
    "\n",
    "    # Write the file out again\n",
    "    with open(os.path.join(path, input_file), 'w') as file:\n",
    "        file.write(filedata)"
   ]
  },
  {
   "cell_type": "code",
   "execution_count": 70,
   "metadata": {},
   "outputs": [],
   "source": [
    "# Comment out kriging factors\n",
    "replace_in_file(tmp_model_ws, f'{ml_name}.nam', '.\\\\', '')"
   ]
  },
  {
   "cell_type": "code",
   "execution_count": 71,
   "metadata": {},
   "outputs": [
    {
     "name": "stdout",
     "output_type": "stream",
     "text": [
      "FloPy is using the following executable to run the model: ..\\bins\\win\\mf6.exe\n",
      "                                   MODFLOW 6\n",
      "                U.S. GEOLOGICAL SURVEY MODULAR HYDROLOGIC MODEL\n",
      "                            VERSION 6.2.1 02/18/2021\n",
      "\n",
      "   MODFLOW 6 compiled Feb 18 2021 21:14:51 with IFORT compiler (ver. 19.10.3)\n",
      "\n",
      "This software has been approved for release by the U.S. Geological \n",
      "Survey (USGS). Although the software has been subjected to rigorous \n",
      "review, the USGS reserves the right to update the software as needed \n",
      "pursuant to further analysis and review. No warranty, expressed or \n",
      "implied, is made by the USGS or the U.S. Government as to the \n",
      "functionality of the software and related material nor shall the \n",
      "fact of release constitute any such warranty. Furthermore, the \n",
      "software is released on condition that neither the USGS nor the U.S. \n",
      "Government shall be held liable for any damages resulting from its \n",
      "authorized or unauthorized use. Also refer to the USGS Water \n",
      "Resources Software User Rights Notice for complete use, copyright, \n",
      "and distribution information.\n",
      "\n",
      " \n",
      " Run start date and time (yyyy/mm/dd hh:mm:ss): 2022/01/14 16:04:48\n",
      " \n",
      " Writing simulation list file: mfsim.lst\n",
      " Using Simulation name file: mfsim.nam\n",
      " \n",
      "    Solving:  Stress period:     1    Time step:     1\n",
      "    Solving:  Stress period:     2    Time step:     1\n",
      "    Solving:  Stress period:     2    Time step:     2\n",
      "    Solving:  Stress period:     2    Time step:     3\n",
      "    Solving:  Stress period:     2    Time step:     4\n",
      "    Solving:  Stress period:     2    Time step:     5\n",
      "    Solving:  Stress period:     2    Time step:     6\n",
      "    Solving:  Stress period:     2    Time step:     7\n",
      "    Solving:  Stress period:     2    Time step:     8\n",
      "    Solving:  Stress period:     2    Time step:     9\n",
      "    Solving:  Stress period:     2    Time step:    10\n",
      "    Solving:  Stress period:     2    Time step:    11\n",
      "    Solving:  Stress period:     2    Time step:    12\n",
      "    Solving:  Stress period:     2    Time step:    13\n",
      "    Solving:  Stress period:     2    Time step:    14\n",
      "    Solving:  Stress period:     2    Time step:    15\n",
      "    Solving:  Stress period:     2    Time step:    16\n",
      "    Solving:  Stress period:     2    Time step:    17\n",
      "    Solving:  Stress period:     2    Time step:    18\n",
      "    Solving:  Stress period:     2    Time step:    19\n",
      "    Solving:  Stress period:     2    Time step:    20\n",
      "    Solving:  Stress period:     2    Time step:    21\n",
      "    Solving:  Stress period:     2    Time step:    22\n",
      "    Solving:  Stress period:     2    Time step:    23\n",
      "    Solving:  Stress period:     2    Time step:    24\n",
      "    Solving:  Stress period:     2    Time step:    25\n",
      "    Solving:  Stress period:     2    Time step:    26\n",
      "    Solving:  Stress period:     2    Time step:    27\n",
      "    Solving:  Stress period:     2    Time step:    28\n",
      "    Solving:  Stress period:     2    Time step:    29\n",
      "    Solving:  Stress period:     2    Time step:    30\n",
      "    Solving:  Stress period:     2    Time step:    31\n",
      "    Solving:  Stress period:     2    Time step:    32\n",
      "    Solving:  Stress period:     2    Time step:    33\n",
      "    Solving:  Stress period:     2    Time step:    34\n",
      "    Solving:  Stress period:     2    Time step:    35\n",
      "    Solving:  Stress period:     2    Time step:    36\n",
      "    Solving:  Stress period:     2    Time step:    37\n",
      "    Solving:  Stress period:     2    Time step:    38\n",
      "    Solving:  Stress period:     2    Time step:    39\n",
      "    Solving:  Stress period:     2    Time step:    40\n",
      "    Solving:  Stress period:     2    Time step:    41\n",
      "    Solving:  Stress period:     2    Time step:    42\n",
      "    Solving:  Stress period:     2    Time step:    43\n",
      "    Solving:  Stress period:     2    Time step:    44\n",
      "    Solving:  Stress period:     2    Time step:    45\n",
      "    Solving:  Stress period:     2    Time step:    46\n",
      "    Solving:  Stress period:     2    Time step:    47\n",
      "    Solving:  Stress period:     2    Time step:    48\n",
      " \n",
      " Run end date and time (yyyy/mm/dd hh:mm:ss): 2022/01/14 16:04:56\n",
      " Elapsed run time:  7.940 Seconds\n",
      " \n",
      " Normal termination of simulation.\n"
     ]
    },
    {
     "data": {
      "text/plain": [
       "(True, [])"
      ]
     },
     "execution_count": 71,
     "metadata": {},
     "output_type": "execute_result"
    }
   ],
   "source": [
    "sim.run_simulation()"
   ]
  },
  {
   "cell_type": "code",
   "execution_count": 72,
   "metadata": {},
   "outputs": [],
   "source": [
    "# check the output\n",
    "csv = os.path.join(tmp_model_ws,'head.obs.csv')\n",
    "df = pd.read_csv(csv)"
   ]
  },
  {
   "cell_type": "code",
   "execution_count": 73,
   "metadata": {},
   "outputs": [
    {
     "data": {
      "text/plain": [
       "Index(['time', 'B9-2', 'B10-2', 'B12-1', 'B16-1', 'B2-1', 'B22-1', 'B27',\n",
       "       'B29', 'KB1-1', 'KB4-3', 'NI1301-1', 'NI1302-1', 'NI1403-1', 'NI1405-1',\n",
       "       'NI1407-1', 'NI1408-1', 'NI1409-1', 'NI1410-1', 'NI1411-1', 'NI1412-1',\n",
       "       'NI1413-1', 'NI1501-1', 'NI1502-2', 'NI1503-2', 'NI1504-2', 'NI1505-1',\n",
       "       'NI1506-1', 'NI15-O1', 'NI15-O44', 'NI15-O46', 'NI15-O47', 'NI15-O48',\n",
       "       'NI1601-1', 'NI1602-1', 'NI1603-1', 'NI1605-1', 'NI1606-1', 'NI1607-1',\n",
       "       'NI1608-1', 'NI1609-2', 'NI1610-2', 'NI1611-1', 'NI1612-1', 'NI1613-1',\n",
       "       'NI1703-1', 'NI1704-1', 'NI1705-1', 'NI1712-1', 'NI1801-1', 'NI1802-1',\n",
       "       'NI1803-1', 'NI1804-1'],\n",
       "      dtype='object')"
      ]
     },
     "execution_count": 73,
     "metadata": {},
     "output_type": "execute_result"
    }
   ],
   "source": [
    "df.columns"
   ]
  },
  {
   "cell_type": "code",
   "execution_count": 74,
   "metadata": {},
   "outputs": [
    {
     "data": {
      "text/plain": [
       "<AxesSubplot:>"
      ]
     },
     "execution_count": 74,
     "metadata": {},
     "output_type": "execute_result"
    },
    {
     "data": {
      "image/png": "[encoded data removed]",
      "text/plain": [
       "<Figure size 432x288 with 1 Axes>"
      ]
     },
     "metadata": {
      "needs_background": "light"
     },
     "output_type": "display_data"
    }
   ],
   "source": [
    "df['B10-2'].plot()"
   ]
  },
  {
   "cell_type": "code",
   "execution_count": 75,
   "metadata": {},
   "outputs": [],
   "source": [
    "headfile = '{}.hds'.format(ml_name)\n",
    "fname = os.path.join(tmp_model_ws, headfile)\n",
    "hds = flopy.utils.binaryfile.HeadFile(fname)\n",
    "h = hds.get_data()"
   ]
  },
  {
   "cell_type": "code",
   "execution_count": 76,
   "metadata": {},
   "outputs": [
    {
     "data": {
      "image/png": "[encoded data removed]",
      "text/plain": [
       "<Figure size 1296x360 with 2 Axes>"
      ]
     },
     "metadata": {
      "needs_background": "light"
     },
     "output_type": "display_data"
    }
   ],
   "source": [
    "fig = plt.figure(figsize=(18, 5))\n",
    "ax = fig.add_subplot(1, 1, 1)\n",
    "ax.set_title(\"Cross section plot\")\n",
    "\n",
    "xsection = np.array([(427000, 6654690), (427540, 6655230)])\n",
    "xsect = flopy.plot.PlotCrossSection(model=gwf, line={\"line\": xsection})\n",
    "patch_collection = xsect.plot_array(h, head=h, alpha=0.5)\n",
    "line_collection = xsect.plot_grid()\n",
    "cb = plt.colorbar(patch_collection, shrink=0.75)"
   ]
  },
  {
   "cell_type": "code",
   "execution_count": 78,
   "metadata": {},
   "outputs": [
    {
     "data": {
      "image/png": "[encoded data removed]",
      "text/plain": [
       "<Figure size 800x400 with 1 Axes>"
      ]
     },
     "metadata": {
      "needs_background": "light"
     },
     "output_type": "display_data"
    }
   ],
   "source": [
    "fig = plt.figure(figsize=(8,4), dpi=100)\n",
    "\n",
    "modelmap = flopy.plot.PlotMapView(model=gwf)\n",
    "linecollection = modelmap.plot_grid(lw=0.25)\n",
    "contours = modelmap.contour_array(h)\n",
    "    \n",
    "plt.tight_layout()\n",
    "plt.show()"
   ]
  },
  {
   "cell_type": "code",
   "execution_count": 79,
   "metadata": {},
   "outputs": [
    {
     "data": {
      "text/html": [
       "<div>\n",
       "<style scoped>\n",
       "    .dataframe tbody tr th:only-of-type {\n",
       "        vertical-align: middle;\n",
       "    }\n",
       "\n",
       "    .dataframe tbody tr th {\n",
       "        vertical-align: top;\n",
       "    }\n",
       "\n",
       "    .dataframe thead th {\n",
       "        text-align: right;\n",
       "    }\n",
       "</style>\n",
       "<table border=\"1\" class=\"dataframe\">\n",
       "  <thead>\n",
       "    <tr style=\"text-align: right;\">\n",
       "      <th></th>\n",
       "      <th>STO-SS_IN</th>\n",
       "      <th>STO-SY_IN</th>\n",
       "      <th>GHB_IN</th>\n",
       "      <th>RCH_IN</th>\n",
       "      <th>SFR_IN</th>\n",
       "      <th>TOTAL_IN</th>\n",
       "      <th>STO-SS_OUT</th>\n",
       "      <th>STO-SY_OUT</th>\n",
       "      <th>GHB_OUT</th>\n",
       "      <th>RCH_OUT</th>\n",
       "      <th>SFR_OUT</th>\n",
       "      <th>TOTAL_OUT</th>\n",
       "      <th>IN-OUT</th>\n",
       "      <th>PERCENT_DISCREPANCY</th>\n",
       "    </tr>\n",
       "  </thead>\n",
       "  <tbody>\n",
       "    <tr>\n",
       "      <th>2017-01-09</th>\n",
       "      <td>0.0</td>\n",
       "      <td>0.0</td>\n",
       "      <td>31595.785156</td>\n",
       "      <td>399.733704</td>\n",
       "      <td>4497.386230</td>\n",
       "      <td>36492.906250</td>\n",
       "      <td>0.000000</td>\n",
       "      <td>0.000000</td>\n",
       "      <td>930.410278</td>\n",
       "      <td>0.0</td>\n",
       "      <td>35482.601562</td>\n",
       "      <td>36413.011719</td>\n",
       "      <td>79.893600</td>\n",
       "      <td>0.22</td>\n",
       "    </tr>\n",
       "    <tr>\n",
       "      <th>2021-01-08</th>\n",
       "      <td>0.0</td>\n",
       "      <td>0.0</td>\n",
       "      <td>32745.484375</td>\n",
       "      <td>650.756714</td>\n",
       "      <td>4259.911133</td>\n",
       "      <td>37656.152344</td>\n",
       "      <td>0.016084</td>\n",
       "      <td>20.855499</td>\n",
       "      <td>858.504089</td>\n",
       "      <td>0.0</td>\n",
       "      <td>36776.777344</td>\n",
       "      <td>37656.152344</td>\n",
       "      <td>0.000479</td>\n",
       "      <td>0.00</td>\n",
       "    </tr>\n",
       "  </tbody>\n",
       "</table>\n",
       "</div>"
      ],
      "text/plain": [
       "            STO-SS_IN  STO-SY_IN        GHB_IN      RCH_IN       SFR_IN  \\\n",
       "2017-01-09        0.0        0.0  31595.785156  399.733704  4497.386230   \n",
       "2021-01-08        0.0        0.0  32745.484375  650.756714  4259.911133   \n",
       "\n",
       "                TOTAL_IN  STO-SS_OUT  STO-SY_OUT     GHB_OUT  RCH_OUT  \\\n",
       "2017-01-09  36492.906250    0.000000    0.000000  930.410278      0.0   \n",
       "2021-01-08  37656.152344    0.016084   20.855499  858.504089      0.0   \n",
       "\n",
       "                 SFR_OUT     TOTAL_OUT     IN-OUT  PERCENT_DISCREPANCY  \n",
       "2017-01-09  35482.601562  36413.011719  79.893600                 0.22  \n",
       "2021-01-08  36776.777344  37656.152344   0.000479                 0.00  "
      ]
     },
     "execution_count": 79,
     "metadata": {},
     "output_type": "execute_result"
    }
   ],
   "source": [
    "#Check the budget\n",
    "mf_list = flopy.utils.Mf6ListBudget(os.path.join(tmp_model_ws, f\"{gwf.name}.lst\"), timeunit='days') #MF6ListBudget is different from MfListBudget...*sigh*\n",
    "incremental, cumulative = mf_list.get_budget()\n",
    "incrementaldf, cumulativedf = mf_list.get_dataframes(start_datetime=\"01-09-2017\")\n",
    "\n",
    "incrementaldf"
   ]
  },
  {
   "cell_type": "markdown",
   "metadata": {},
   "source": [
    "---"
   ]
  },
  {
   "cell_type": "markdown",
   "metadata": {},
   "source": [
    "End of notebook"
   ]
  },
  {
   "cell_type": "markdown",
   "metadata": {},
   "source": [
    "---"
   ]
  },
  {
   "cell_type": "markdown",
   "metadata": {},
   "source": [
    "Delete LR to start over:"
   ]
  },
  {
   "cell_type": "code",
   "execution_count": null,
   "metadata": {},
   "outputs": [],
   "source": [
    "#shutil.rmtree(lr_ws)"
   ]
  }
 ],
 "metadata": {
  "kernelspec": {
   "display_name": "Python 3",
   "language": "python",
   "name": "python3"
  },
  "language_info": {
   "codemirror_mode": {
    "name": "ipython",
    "version": 3
   },
   "file_extension": ".py",
   "mimetype": "text/x-python",
   "name": "python",
   "nbconvert_exporter": "python",
   "pygments_lexer": "ipython3",
   "version": "3.8.6"
  }
 },
 "nbformat": 4,
 "nbformat_minor": 4
}
