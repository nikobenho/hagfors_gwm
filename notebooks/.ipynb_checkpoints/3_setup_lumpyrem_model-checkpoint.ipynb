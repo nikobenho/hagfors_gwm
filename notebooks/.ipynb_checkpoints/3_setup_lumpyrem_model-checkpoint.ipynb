{
 "cells": [
  {
   "cell_type": "code",
   "execution_count": 1,
   "metadata": {},
   "outputs": [],
   "source": [
    "import os\n",
    "import lumpyrem as lr # cloned from github (pip package does not yet support lr2)\n",
    "from shutil import copyfile\n",
    "# Fråga Rui hur göra med första datumet (steady state)"
   ]
  },
  {
   "cell_type": "markdown",
   "metadata": {},
   "source": [
    "Setup directories:"
   ]
  },
  {
   "cell_type": "code",
   "execution_count": 2,
   "metadata": {},
   "outputs": [],
   "source": [
    "bins_pth = os.path.join('..', 'bins', 'win') if 'nt' in os.name else os.path.join('..', 'bins', 'linux') # Binaries\n",
    "\n",
    "lumprem_input_pth = os.path.join('..', 'data', 'lumprem_input') # Input data curated in a previous notebook\n",
    "\n",
    "workspace = os.path.join('..', 'hagfors_lumprem_prep') # Workspace where model will be stored"
   ]
  },
  {
   "cell_type": "markdown",
   "metadata": {},
   "source": [
    "Create workspace:"
   ]
  },
  {
   "cell_type": "code",
   "execution_count": 3,
   "metadata": {},
   "outputs": [],
   "source": [
    "if not os.path.exists(workspace):\n",
    "    os.mkdir(workspace)"
   ]
  },
  {
   "cell_type": "markdown",
   "metadata": {},
   "source": [
    "Copy input-data to workspace:"
   ]
  },
  {
   "cell_type": "code",
   "execution_count": 4,
   "metadata": {},
   "outputs": [
    {
     "data": {
      "text/plain": [
       "['evapot.dat', 'rainfall.dat']"
      ]
     },
     "execution_count": 4,
     "metadata": {},
     "output_type": "execute_result"
    }
   ],
   "source": [
    "os.listdir(lumprem_input_pth)"
   ]
  },
  {
   "cell_type": "code",
   "execution_count": 5,
   "metadata": {},
   "outputs": [],
   "source": [
    "for file in os.listdir(lumprem_input_pth):\n",
    "    copyfile(lumprem_input_pth+'\\\\'+file, workspace+'\\\\'+file) #Works for Windows. Does it work for Linux?"
   ]
  },
  {
   "cell_type": "code",
   "execution_count": 6,
   "metadata": {},
   "outputs": [
    {
     "data": {
      "text/plain": [
       "['evapot.dat',\n",
       " 'lr_hagfors.csv',\n",
       " 'lr_hagfors.in',\n",
       " 'lr_hagfors.out',\n",
       " 'lr_hagfors.tpl',\n",
       " 'lumprem_variables.rec',\n",
       " 'rainfall.dat',\n",
       " 'rch.ts',\n",
       " 'rch.ts.in']"
      ]
     },
     "execution_count": 6,
     "metadata": {},
     "output_type": "execute_result"
    }
   ],
   "source": [
    "os.listdir(workspace)"
   ]
  },
  {
   "cell_type": "markdown",
   "metadata": {},
   "source": [
    "## Setup LUMPREM and run model\n",
    "\n",
    "### Create rch and evt:"
   ]
  },
  {
   "cell_type": "code",
   "execution_count": 7,
   "metadata": {},
   "outputs": [],
   "source": [
    "# initiate the model and write the in files. What about rbuf & mbuf?\n",
    "rch_evap = lr.lumprem.Model(\n",
    "    model_name ='hagfors',\n",
    "    workspace = workspace,\n",
    "    irrigvolfrac = 0.0,\n",
    "    rainfile = 'rainfall.dat',\n",
    "    epotfile = 'evapot.dat',\n",
    "    maxvol = 0.2, # Varför valde jag 0.2 istället för 0.5 som är default?\n",
    "    vol = 0.1,\n",
    "    ks = 43.2 # 43.2 m/day = 0.0005 m/s ≈ reasonable initial guess considering local geology\n",
    ")"
   ]
  },
  {
   "cell_type": "code",
   "execution_count": 8,
   "metadata": {},
   "outputs": [
    {
     "name": "stdout",
     "output_type": "stream",
     "text": [
      "LUMPREM model input file written to: \n",
      "..\\hagfors_lumprem_prep\\lr_hagfors.in\n",
      "PEST template file written to: \n",
      "..\\hagfors_lumprem_prep\\lr_hagfors.tpl\n",
      "\n"
     ]
    }
   ],
   "source": [
    "# For some reason this results in 1461 rather than 1462 rows. Will this cause a problem?\n",
    "rch_evap.write_model(\n",
    "    start_date = '01/01/2016',\n",
    "    end_date = '01/01/2020',\n",
    "    nstep = 4,\n",
    "    mxiter = 500,\n",
    ")"
   ]
  },
  {
   "cell_type": "code",
   "execution_count": 9,
   "metadata": {},
   "outputs": [
    {
     "name": "stdout",
     "output_type": "stream",
     "text": [
      " Enter name of LUMPREM input file:  Enter name for LUMPREM tabular output file:  Enter name for CSV output file (<Enter> if none):  \n",
      " - file lr_hagfors.in read ok.\n",
      " - file lumprem_variables.rec written ok.\n",
      " - file rainfall.dat read ok.\n",
      " - file evapot.dat read ok.\n",
      " RECHMOD upper bucket: call   1 day   1 step   1: iteration limit exceeded\n",
      " RECHMOD upper bucket: call   1 day   1 step   2: iteration limit exceeded\n",
      " RECHMOD upper bucket: call   1 day   1 step   3: iteration limit exceeded\n",
      " - file lr_hagfors.out written ok.\n",
      " - file lr_hagfors.csv written ok.\n",
      "\n"
     ]
    }
   ],
   "source": [
    "# run themodel\n",
    "rch_evap.run_model(version=2)"
   ]
  },
  {
   "cell_type": "code",
   "execution_count": 10,
   "metadata": {},
   "outputs": [
    {
     "data": {
      "text/plain": [
       "Index(['days', 'vol_upper', 'vol_lower', 'vol_drain', 'vol_macro',\n",
       "       'del_vol_upper', 'del_vol_lower', 'del_vol_drain', 'del_vol_macro',\n",
       "       'rainfall', 'irrigation', 'drain_upper', 'macro_upper', 'drain_lower',\n",
       "       'overflow_lower', 'total_rech', 'gw_withdrawal', 'net_recharge',\n",
       "       'runoff', 'pot_evap_upper', 'evap_upper', 'pot_evap_lower',\n",
       "       'evap_lower', 'gw_pot_evap', 'balance', 'elevation', 'depth-to-water',\n",
       "       'lumprem_model_name', 'rainfile', 'epotfile', 'vegfile', 'irrigfile',\n",
       "       'maxvol', 'irrigvolfrac', 'rdelay', 'mdelay', 'ks', 'M', 'L',\n",
       "       'mflowmax', 'offset', 'factor1', 'factor2', 'power', 'elevmin',\n",
       "       'elevmax', 'surface', 'vol', 'workspace', 'maxvol_br', 'extravol_br',\n",
       "       'gamma_br', 'ks_br', 'm_br', 'l_br', 'vol_br', 'epotfile_br',\n",
       "       'epot_br_all'],\n",
       "      dtype='object')"
      ]
     },
     "execution_count": 10,
     "metadata": {},
     "output_type": "execute_result"
    }
   ],
   "source": [
    "# get model results\n",
    "results = rch_evap.get_results()\n",
    "results.columns"
   ]
  },
  {
   "cell_type": "code",
   "execution_count": 11,
   "metadata": {},
   "outputs": [
    {
     "data": {
      "text/html": [
       "<div>\n",
       "<style scoped>\n",
       "    .dataframe tbody tr th:only-of-type {\n",
       "        vertical-align: middle;\n",
       "    }\n",
       "\n",
       "    .dataframe tbody tr th {\n",
       "        vertical-align: top;\n",
       "    }\n",
       "\n",
       "    .dataframe thead th {\n",
       "        text-align: right;\n",
       "    }\n",
       "</style>\n",
       "<table border=\"1\" class=\"dataframe\">\n",
       "  <thead>\n",
       "    <tr style=\"text-align: right;\">\n",
       "      <th></th>\n",
       "      <th>days</th>\n",
       "      <th>vol_upper</th>\n",
       "      <th>vol_lower</th>\n",
       "      <th>vol_drain</th>\n",
       "      <th>vol_macro</th>\n",
       "      <th>del_vol_upper</th>\n",
       "      <th>del_vol_lower</th>\n",
       "      <th>del_vol_drain</th>\n",
       "      <th>del_vol_macro</th>\n",
       "      <th>rainfall</th>\n",
       "      <th>...</th>\n",
       "      <th>workspace</th>\n",
       "      <th>maxvol_br</th>\n",
       "      <th>extravol_br</th>\n",
       "      <th>gamma_br</th>\n",
       "      <th>ks_br</th>\n",
       "      <th>m_br</th>\n",
       "      <th>l_br</th>\n",
       "      <th>vol_br</th>\n",
       "      <th>epotfile_br</th>\n",
       "      <th>epot_br_all</th>\n",
       "    </tr>\n",
       "  </thead>\n",
       "  <tbody>\n",
       "    <tr>\n",
       "      <th>0</th>\n",
       "      <td>0</td>\n",
       "      <td>0.100000</td>\n",
       "      <td>0.0</td>\n",
       "      <td>0.000000</td>\n",
       "      <td>0.0</td>\n",
       "      <td>0.000000</td>\n",
       "      <td>0.0</td>\n",
       "      <td>0.000000</td>\n",
       "      <td>0.0</td>\n",
       "      <td>0.0000</td>\n",
       "      <td>...</td>\n",
       "      <td>..\\hagfors_lumprem_prep</td>\n",
       "      <td>NaN</td>\n",
       "      <td>NaN</td>\n",
       "      <td>NaN</td>\n",
       "      <td>NaN</td>\n",
       "      <td>NaN</td>\n",
       "      <td>NaN</td>\n",
       "      <td>NaN</td>\n",
       "      <td>NaN</td>\n",
       "      <td>NaN</td>\n",
       "    </tr>\n",
       "    <tr>\n",
       "      <th>1</th>\n",
       "      <td>14</td>\n",
       "      <td>0.025464</td>\n",
       "      <td>0.0</td>\n",
       "      <td>0.007949</td>\n",
       "      <td>0.0</td>\n",
       "      <td>-0.074536</td>\n",
       "      <td>0.0</td>\n",
       "      <td>0.007949</td>\n",
       "      <td>0.0</td>\n",
       "      <td>0.0134</td>\n",
       "      <td>...</td>\n",
       "      <td>..\\hagfors_lumprem_prep</td>\n",
       "      <td>NaN</td>\n",
       "      <td>NaN</td>\n",
       "      <td>NaN</td>\n",
       "      <td>NaN</td>\n",
       "      <td>NaN</td>\n",
       "      <td>NaN</td>\n",
       "      <td>NaN</td>\n",
       "      <td>NaN</td>\n",
       "      <td>NaN</td>\n",
       "    </tr>\n",
       "    <tr>\n",
       "      <th>2</th>\n",
       "      <td>29</td>\n",
       "      <td>0.031558</td>\n",
       "      <td>0.0</td>\n",
       "      <td>0.008485</td>\n",
       "      <td>0.0</td>\n",
       "      <td>0.006094</td>\n",
       "      <td>0.0</td>\n",
       "      <td>0.000535</td>\n",
       "      <td>0.0</td>\n",
       "      <td>0.0204</td>\n",
       "      <td>...</td>\n",
       "      <td>..\\hagfors_lumprem_prep</td>\n",
       "      <td>NaN</td>\n",
       "      <td>NaN</td>\n",
       "      <td>NaN</td>\n",
       "      <td>NaN</td>\n",
       "      <td>NaN</td>\n",
       "      <td>NaN</td>\n",
       "      <td>NaN</td>\n",
       "      <td>NaN</td>\n",
       "      <td>NaN</td>\n",
       "    </tr>\n",
       "    <tr>\n",
       "      <th>3</th>\n",
       "      <td>43</td>\n",
       "      <td>0.028511</td>\n",
       "      <td>0.0</td>\n",
       "      <td>0.010384</td>\n",
       "      <td>0.0</td>\n",
       "      <td>-0.003048</td>\n",
       "      <td>0.0</td>\n",
       "      <td>0.001899</td>\n",
       "      <td>0.0</td>\n",
       "      <td>0.0253</td>\n",
       "      <td>...</td>\n",
       "      <td>..\\hagfors_lumprem_prep</td>\n",
       "      <td>NaN</td>\n",
       "      <td>NaN</td>\n",
       "      <td>NaN</td>\n",
       "      <td>NaN</td>\n",
       "      <td>NaN</td>\n",
       "      <td>NaN</td>\n",
       "      <td>NaN</td>\n",
       "      <td>NaN</td>\n",
       "      <td>NaN</td>\n",
       "    </tr>\n",
       "    <tr>\n",
       "      <th>4</th>\n",
       "      <td>58</td>\n",
       "      <td>0.021387</td>\n",
       "      <td>0.0</td>\n",
       "      <td>0.003143</td>\n",
       "      <td>0.0</td>\n",
       "      <td>-0.007123</td>\n",
       "      <td>0.0</td>\n",
       "      <td>-0.007241</td>\n",
       "      <td>0.0</td>\n",
       "      <td>0.0061</td>\n",
       "      <td>...</td>\n",
       "      <td>..\\hagfors_lumprem_prep</td>\n",
       "      <td>NaN</td>\n",
       "      <td>NaN</td>\n",
       "      <td>NaN</td>\n",
       "      <td>NaN</td>\n",
       "      <td>NaN</td>\n",
       "      <td>NaN</td>\n",
       "      <td>NaN</td>\n",
       "      <td>NaN</td>\n",
       "      <td>NaN</td>\n",
       "    </tr>\n",
       "  </tbody>\n",
       "</table>\n",
       "<p>5 rows × 58 columns</p>\n",
       "</div>"
      ],
      "text/plain": [
       "   days  vol_upper  vol_lower  vol_drain  vol_macro  del_vol_upper  \\\n",
       "0     0   0.100000        0.0   0.000000        0.0       0.000000   \n",
       "1    14   0.025464        0.0   0.007949        0.0      -0.074536   \n",
       "2    29   0.031558        0.0   0.008485        0.0       0.006094   \n",
       "3    43   0.028511        0.0   0.010384        0.0      -0.003048   \n",
       "4    58   0.021387        0.0   0.003143        0.0      -0.007123   \n",
       "\n",
       "   del_vol_lower  del_vol_drain  del_vol_macro  rainfall  ...  \\\n",
       "0            0.0       0.000000            0.0    0.0000  ...   \n",
       "1            0.0       0.007949            0.0    0.0134  ...   \n",
       "2            0.0       0.000535            0.0    0.0204  ...   \n",
       "3            0.0       0.001899            0.0    0.0253  ...   \n",
       "4            0.0      -0.007241            0.0    0.0061  ...   \n",
       "\n",
       "                 workspace  maxvol_br  extravol_br  gamma_br  ks_br  m_br  \\\n",
       "0  ..\\hagfors_lumprem_prep        NaN          NaN       NaN    NaN   NaN   \n",
       "1  ..\\hagfors_lumprem_prep        NaN          NaN       NaN    NaN   NaN   \n",
       "2  ..\\hagfors_lumprem_prep        NaN          NaN       NaN    NaN   NaN   \n",
       "3  ..\\hagfors_lumprem_prep        NaN          NaN       NaN    NaN   NaN   \n",
       "4  ..\\hagfors_lumprem_prep        NaN          NaN       NaN    NaN   NaN   \n",
       "\n",
       "   l_br  vol_br  epotfile_br  epot_br_all  \n",
       "0   NaN     NaN          NaN          NaN  \n",
       "1   NaN     NaN          NaN          NaN  \n",
       "2   NaN     NaN          NaN          NaN  \n",
       "3   NaN     NaN          NaN          NaN  \n",
       "4   NaN     NaN          NaN          NaN  \n",
       "\n",
       "[5 rows x 58 columns]"
      ]
     },
     "execution_count": 11,
     "metadata": {},
     "output_type": "execute_result"
    }
   ],
   "source": [
    "results.head()"
   ]
  },
  {
   "cell_type": "code",
   "execution_count": 12,
   "metadata": {},
   "outputs": [
    {
     "data": {
      "text/plain": [
       "<AxesSubplot:xlabel='days'>"
      ]
     },
     "execution_count": 12,
     "metadata": {},
     "output_type": "execute_result"
    },
    {
     "data": {
      "image/png": "[encoded data removed]",
      "text/plain": [
       "<Figure size 432x288 with 1 Axes>"
      ]
     },
     "metadata": {
      "needs_background": "light"
     },
     "output_type": "display_data"
    },
    {
     "data": {
      "image/png": "[encoded data removed]",
      "text/plain": [
       "<Figure size 432x288 with 1 Axes>"
      ]
     },
     "metadata": {
      "needs_background": "light"
     },
     "output_type": "display_data"
    }
   ],
   "source": [
    "results.plot('days','net_recharge')\n",
    "results.plot('days', 'gw_pot_evap')"
   ]
  },
  {
   "cell_type": "markdown",
   "metadata": {},
   "source": [
    "### Create GHB timeseries:"
   ]
  },
  {
   "cell_type": "code",
   "execution_count": null,
   "metadata": {},
   "outputs": [],
   "source": [
    "ghb = lr.lumprem.Model(\n",
    "    'ghb',\n",
    "    workspace=workspace,\n",
    "    factor1=30,\n",
    "    factor2=20,\n",
    "    power=2,\n",
    "    offset=136.0,\n",
    "    maxvol=0.5,\n",
    "    vol = 0.07,\n",
    "    surface=152.2,\n",
    "    elevmin = -9999.0,\n",
    "    elevmax = 9999.0,\n",
    "    ks=43.2,\n",
    "    irrigvolfrac=0.0,\n",
    "    vegfile=(0.8,1.0),\n",
    "    rainfile = 'rainfall.dat',\n",
    "    epotfile = 'evapot.dat',\n",
    "    irrigfile = (0, 0.0)\n",
    ")"
   ]
  },
  {
   "cell_type": "code",
   "execution_count": null,
   "metadata": {},
   "outputs": [],
   "source": [
    "ghb.write_model(\n",
    "    start_date = '01/01/2016',\n",
    "    end_date = '01/01/2020',\n",
    "    nstep = 4,\n",
    "    mxiter = 500,\n",
    ")\n",
    "ghb.run_model(version=2)\n",
    "df=ghb.get_results()"
   ]
  },
  {
   "cell_type": "code",
   "execution_count": null,
   "metadata": {},
   "outputs": [],
   "source": [
    "# plot the model results\n",
    "import seaborn as sb\n",
    "sb.lineplot(data=df, x='days',y='elevation', hue='lumprem_model_name', alpha=0.5);"
   ]
  },
  {
   "cell_type": "markdown",
   "metadata": {},
   "source": [
    "## Use LR2SERIES to generate MODFLOW6 timeseries files from LUMPREM model outputs"
   ]
  },
  {
   "cell_type": "code",
   "execution_count": null,
   "metadata": {},
   "outputs": [],
   "source": [
    "# use LR2SERIES to create the ts file\n",
    "rch_ts = lr.lr2series.TimeSeries(\n",
    "    ts_file='rch.ts',\n",
    "    workspace=workspace,\n",
    "    lr_models=[rch_evap],\n",
    "    ts_names=['rch'],\n",
    "    lumprem_output_cols=['net_recharge'],\n",
    "    methods=['linearend'],\n",
    "    div_delta_t=True\n",
    ")\n",
    "\n",
    "rch_ts.write_ts()"
   ]
  },
  {
   "cell_type": "code",
   "execution_count": null,
   "metadata": {},
   "outputs": [],
   "source": [
    "# use LR2SERIES to create the ts file\n",
    "evp_ts = lr.lr2series.TimeSeries(\n",
    "    ts_file='evp.ts',\n",
    "    workspace=workspace,\n",
    "    lr_models=[rch_evap],\n",
    "    ts_names=['evp'],\n",
    "    lumprem_output_cols=['gw_pot_evap'],\n",
    "    methods=['linearend'],\n",
    "    div_delta_t=True\n",
    ")\n",
    "\n",
    "evp_ts.write_ts()"
   ]
  },
  {
   "cell_type": "code",
   "execution_count": null,
   "metadata": {},
   "outputs": [],
   "source": [
    "# use LR2SERIES to create the ts file\n",
    "ghb_ts = lr.lr2series.TimeSeries(\n",
    "    ts_file='ghb.ts',\n",
    "    workspace=workspace,\n",
    "    lr_models=[ghb],\n",
    "    ts_names=['evp'],\n",
    "    lumprem_output_cols=['gw_pot_evap'],\n",
    "    methods=['linearend'],\n",
    "    div_delta_t=True\n",
    ")\n",
    "\n",
    "evp_ts.write_ts()"
   ]
  },
  {
   "cell_type": "code",
   "execution_count": null,
   "metadata": {},
   "outputs": [],
   "source": [
    "os.listdir(workspace)"
   ]
  }
 ],
 "metadata": {
  "kernelspec": {
   "display_name": "Python 3",
   "language": "python",
   "name": "python3"
  },
  "language_info": {
   "codemirror_mode": {
    "name": "ipython",
    "version": 3
   },
   "file_extension": ".py",
   "mimetype": "text/x-python",
   "name": "python",
   "nbconvert_exporter": "python",
   "pygments_lexer": "ipython3",
   "version": "3.8.6"
  }
 },
 "nbformat": 4,
 "nbformat_minor": 4
}
