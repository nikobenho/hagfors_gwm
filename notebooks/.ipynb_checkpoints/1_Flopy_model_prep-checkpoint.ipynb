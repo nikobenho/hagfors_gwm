{
 "cells": [
  {
   "cell_type": "markdown",
   "metadata": {},
   "source": [
    "Insert notebook description here"
   ]
  },
  {
   "cell_type": "code",
   "execution_count": 12,
   "metadata": {},
   "outputs": [],
   "source": [
    "import os\n",
    "import shutil\n",
    "import numpy as np\n",
    "import pandas as pd\n",
    "import matplotlib.pyplot as plt\n",
    "import flopy\n",
    "from flopy.utils.gridintersect import GridIntersect\n",
    "from shapely.geometry import Point\n",
    "plt.rcParams['font.size']=12"
   ]
  },
  {
   "cell_type": "code",
   "execution_count": 13,
   "metadata": {},
   "outputs": [
    {
     "data": {
      "text/plain": [
       "['hagfors.dis',\n",
       " 'hagfors.dis.grb',\n",
       " 'hagfors.ghb',\n",
       " 'hagfors.ic',\n",
       " 'hagfors.ims',\n",
       " 'hagfors.nam',\n",
       " 'hagfors.npf',\n",
       " 'hagfors.oc',\n",
       " 'hagfors.sfr',\n",
       " 'hagfors.tdis',\n",
       " 'mfsim.lst',\n",
       " 'mfsim.nam']"
      ]
     },
     "execution_count": 13,
     "metadata": {},
     "output_type": "execute_result"
    }
   ],
   "source": [
    "bins_pth = os.path.join('..', 'bins', 'win') if 'nt' in os.name else os.path.join('..', 'bins', 'linux') # Binaries\n",
    "observations_pth = os.path.join(\"..\", \"data\", \"observations\") # Measured data (field obs)\n",
    "org_model_ws = os.path.join('..', 'base_model_files') # Exported from ModelMuse\n",
    "os.listdir(org_model_ws)"
   ]
  },
  {
   "cell_type": "markdown",
   "metadata": {},
   "source": [
    "Copy files to new working dir:"
   ]
  },
  {
   "cell_type": "code",
   "execution_count": 14,
   "metadata": {},
   "outputs": [
    {
     "data": {
      "text/plain": [
       "['hagfors.dis',\n",
       " 'hagfors.dis.grb',\n",
       " 'hagfors.ghb',\n",
       " 'hagfors.ic',\n",
       " 'hagfors.ims',\n",
       " 'hagfors.nam',\n",
       " 'hagfors.npf',\n",
       " 'hagfors.oc',\n",
       " 'hagfors.sfr',\n",
       " 'hagfors.tdis',\n",
       " 'mfsim.lst',\n",
       " 'mfsim.nam']"
      ]
     },
     "execution_count": 14,
     "metadata": {},
     "output_type": "execute_result"
    }
   ],
   "source": [
    "tmp_model_ws = os.path.join('..', 'hagfors_flopy_prep')\n",
    "if os.path.exists(tmp_model_ws):\n",
    "    shutil.rmtree(tmp_model_ws)\n",
    "shutil.copytree(org_model_ws,tmp_model_ws)\n",
    "os.listdir(tmp_model_ws)"
   ]
  },
  {
   "cell_type": "markdown",
   "metadata": {},
   "source": [
    "Load model:"
   ]
  },
  {
   "cell_type": "code",
   "execution_count": 15,
   "metadata": {},
   "outputs": [
    {
     "name": "stdout",
     "output_type": "stream",
     "text": [
      "loading simulation...\n",
      "  loading simulation name file...\n",
      "  loading tdis package...\n",
      "  loading model gwf6...\n",
      "    loading package dis...\n",
      "    loading package ic...\n",
      "WARNING: Block \"options\" is not a valid block name for file type ic.\n",
      "    loading package npf...\n",
      "    loading package oc...\n",
      "    loading package ghb...\n",
      "    loading package sfr...\n",
      "  loading ims package hagfors...\n"
     ]
    }
   ],
   "source": [
    "sim_name = 'hagfors'\n",
    "sim = flopy.mf6.MFSimulation.load(sim_name, 'mf6', os.path.join(bins_pth, 'mf6'), tmp_model_ws)"
   ]
  },
  {
   "cell_type": "code",
   "execution_count": 16,
   "metadata": {},
   "outputs": [],
   "source": [
    "# Get model object\n",
    "m = sim.get_model('hagfors')"
   ]
  },
  {
   "cell_type": "markdown",
   "metadata": {},
   "source": [
    "Reset IMS & TDIS packages:"
   ]
  },
  {
   "cell_type": "code",
   "execution_count": 17,
   "metadata": {},
   "outputs": [],
   "source": [
    "ims = sim.ims\n",
    "sim.remove_package(ims)\n",
    "ims = flopy.mf6.ModflowIms( # The following settings allow SFR to converge (default settings won't)\n",
    "    sim,                    # Settings could possibly be tuned to allow faster convergence though.\n",
    "    pname='hagfors.ims',\n",
    "    print_option='SUMMARY',\n",
    "    complexity='SIMPLE',\n",
    "    outer_dvclose = 1e-2,\n",
    "    outer_maximum = 750,\n",
    "    inner_maximum = 50,\n",
    "    linear_acceleration = 'bicgstab'  \n",
    ")\n",
    "sim.register_ims_package(ims, ['hagfors'])"
   ]
  },
  {
   "cell_type": "markdown",
   "metadata": {},
   "source": [
    "start_date_time is the date representing data used for in previous modeling study. Doing a fast steadystate using the same data allow for a quick demonstration of difference in structural complexity (16 layers) vs a highly parameterized approach:"
   ]
  },
  {
   "cell_type": "code",
   "execution_count": 18,
   "metadata": {},
   "outputs": [],
   "source": [
    "tdis = sim.tdis\n",
    "sim.remove_package(tdis)\n",
    "\n",
    "tdis = flopy.mf6.modflow.mftdis.ModflowTdis(\n",
    "    sim,\n",
    "    pname='hagfors.tdis',\n",
    "    time_units='DAYS',\n",
    "    start_date_time = '17-06-2016',\n",
    "    nper=1,\n",
    "    perioddata=[(1.0, 1, 1.0)]\n",
    ")"
   ]
  },
  {
   "cell_type": "markdown",
   "metadata": {},
   "source": [
    "Adding recharge:"
   ]
  },
  {
   "cell_type": "code",
   "execution_count": 19,
   "metadata": {},
   "outputs": [],
   "source": [
    "recharge_initial_guess = 200 / 1000 / 365 # 200mm/year ≈ 5.48e-4 m/day\n",
    "\n",
    "rch = flopy.mf6.ModflowGwfrcha(\n",
    "    model = m,\n",
    "    pname = 'rch',\n",
    "    recharge = recharge_initial_guess,\n",
    "    save_flows = True, # Is this necessary?\n",
    ")"
   ]
  },
  {
   "cell_type": "markdown",
   "metadata": {},
   "source": [
    "Assigning initial conditions:"
   ]
  },
  {
   "cell_type": "code",
   "execution_count": 20,
   "metadata": {},
   "outputs": [],
   "source": [
    "ic = m.get_package('ic') # Get IC package\n",
    "ic.strt = 138 # Set initial heads to 138 masl"
   ]
  },
  {
   "cell_type": "markdown",
   "metadata": {},
   "source": [
    "Load the SFR-package:"
   ]
  },
  {
   "cell_type": "code",
   "execution_count": 21,
   "metadata": {},
   "outputs": [],
   "source": [
    "sfr = m.get_package('sfr')"
   ]
  },
  {
   "cell_type": "markdown",
   "metadata": {},
   "source": [
    "Plot the streambed elevation (elevation sampled from digital elevation map):"
   ]
  },
  {
   "cell_type": "code",
   "execution_count": 22,
   "metadata": {},
   "outputs": [
    {
     "data": {
      "text/plain": [
       "[<matplotlib.lines.Line2D at 0x122401f4700>]"
      ]
     },
     "execution_count": 22,
     "metadata": {},
     "output_type": "execute_result"
    },
    {
     "data": {
      "image/png": "[encoded data removed]",
      "text/plain": [
       "<Figure size 432x288 with 1 Axes>"
      ]
     },
     "metadata": {
      "needs_background": "light"
     },
     "output_type": "display_data"
    }
   ],
   "source": [
    "plt.plot(sfr.packagedata.array.rtp)"
   ]
  },
  {
   "cell_type": "markdown",
   "metadata": {},
   "source": [
    "Streambed elevation is not allowed to increase in the downstream direction. Because of this, let's smoothen the elevation similar to how it's done using the SFRmaker package:"
   ]
  },
  {
   "cell_type": "code",
   "execution_count": 23,
   "metadata": {},
   "outputs": [],
   "source": [
    "# This can probably be handled with more grace, but it gets the job done\n",
    "smoothed_sfr_elevation = []\n",
    "current_min = 0\n",
    "for count, element in enumerate(sfr.packagedata.array.rtp):\n",
    "    if count == 0:\n",
    "        smoothed_sfr_elevation.append(element)\n",
    "        current_min = element\n",
    "    else:\n",
    "        if element > current_min:\n",
    "            new_min = current_min - 0.0001\n",
    "            smoothed_sfr_elevation.append(new_min)\n",
    "            current_min = new_min\n",
    "        else:\n",
    "            smoothed_sfr_elevation.append(element)\n",
    "            current_min = element"
   ]
  },
  {
   "cell_type": "markdown",
   "metadata": {},
   "source": [
    "Plot the original streambed elevation (blue) and smoothened streambed elevation (orange):"
   ]
  },
  {
   "cell_type": "code",
   "execution_count": 24,
   "metadata": {},
   "outputs": [
    {
     "data": {
      "text/plain": [
       "[<matplotlib.lines.Line2D at 0x12240a5fb50>]"
      ]
     },
     "execution_count": 24,
     "metadata": {},
     "output_type": "execute_result"
    },
    {
     "data": {
      "image/png": "[encoded data removed]",
      "text/plain": [
       "<Figure size 432x288 with 1 Axes>"
      ]
     },
     "metadata": {
      "needs_background": "light"
     },
     "output_type": "display_data"
    }
   ],
   "source": [
    "plt.plot(sfr.packagedata.array.rtp)\n",
    "plt.plot(smoothed_sfr_elevation)"
   ]
  },
  {
   "cell_type": "markdown",
   "metadata": {},
   "source": [
    "Replace streambeds with smoothed version:"
   ]
  },
  {
   "cell_type": "code",
   "execution_count": 25,
   "metadata": {},
   "outputs": [],
   "source": [
    "sfr.packagedata.array.rtp = np.array(smoothed_sfr_elevation)"
   ]
  },
  {
   "cell_type": "markdown",
   "metadata": {},
   "source": [
    "## Setup model-output observations (computed values)"
   ]
  },
  {
   "cell_type": "code",
   "execution_count": 26,
   "metadata": {},
   "outputs": [],
   "source": [
    "ix = GridIntersect(m.modelgrid)"
   ]
  },
  {
   "cell_type": "markdown",
   "metadata": {},
   "source": [
    "### SFR observations\n",
    "These are the cells representing locations where field measured data is collected (stage and streamflow):"
   ]
  },
  {
   "cell_type": "code",
   "execution_count": 27,
   "metadata": {},
   "outputs": [
    {
     "data": {
      "text/html": [
       "<div>\n",
       "<style scoped>\n",
       "    .dataframe tbody tr th:only-of-type {\n",
       "        vertical-align: middle;\n",
       "    }\n",
       "\n",
       "    .dataframe tbody tr th {\n",
       "        vertical-align: top;\n",
       "    }\n",
       "\n",
       "    .dataframe thead th {\n",
       "        text-align: right;\n",
       "    }\n",
       "</style>\n",
       "<table border=\"1\" class=\"dataframe\">\n",
       "  <thead>\n",
       "    <tr style=\"text-align: right;\">\n",
       "      <th></th>\n",
       "      <th>NAME</th>\n",
       "      <th>POINT_X</th>\n",
       "      <th>POINT_Y</th>\n",
       "      <th>TYPE</th>\n",
       "      <th>shapely_point</th>\n",
       "      <th>row_col</th>\n",
       "      <th>row</th>\n",
       "      <th>col</th>\n",
       "    </tr>\n",
       "  </thead>\n",
       "  <tbody>\n",
       "    <tr>\n",
       "      <th>0</th>\n",
       "      <td>NI15-O1-STG</td>\n",
       "      <td>427391.988166</td>\n",
       "      <td>6.654917e+06</td>\n",
       "      <td>STAGE</td>\n",
       "      <td>POINT (427391.988166 6654917.31795)</td>\n",
       "      <td>(170, 220)</td>\n",
       "      <td>170</td>\n",
       "      <td>220</td>\n",
       "    </tr>\n",
       "    <tr>\n",
       "      <th>1</th>\n",
       "      <td>NI15-O44-STG</td>\n",
       "      <td>427385.272148</td>\n",
       "      <td>6.654938e+06</td>\n",
       "      <td>STAGE</td>\n",
       "      <td>POINT (427385.272148 6654938.18864)</td>\n",
       "      <td>(160, 225)</td>\n",
       "      <td>160</td>\n",
       "      <td>225</td>\n",
       "    </tr>\n",
       "    <tr>\n",
       "      <th>2</th>\n",
       "      <td>NI15-O46-STG</td>\n",
       "      <td>427316.293421</td>\n",
       "      <td>6.655000e+06</td>\n",
       "      <td>STAGE</td>\n",
       "      <td>POINT (427316.293421 6655000.15848)</td>\n",
       "      <td>(114, 222)</td>\n",
       "      <td>114</td>\n",
       "      <td>222</td>\n",
       "    </tr>\n",
       "    <tr>\n",
       "      <th>3</th>\n",
       "      <td>NI15-O47-STG</td>\n",
       "      <td>427294.946661</td>\n",
       "      <td>6.654962e+06</td>\n",
       "      <td>STAGE</td>\n",
       "      <td>POINT (427294.946661 6654962.31574)</td>\n",
       "      <td>(120, 202)</td>\n",
       "      <td>120</td>\n",
       "      <td>202</td>\n",
       "    </tr>\n",
       "    <tr>\n",
       "      <th>4</th>\n",
       "      <td>NI15-O48-STG</td>\n",
       "      <td>427166.670722</td>\n",
       "      <td>6.654947e+06</td>\n",
       "      <td>STAGE</td>\n",
       "      <td>POINT (427166.670722 6654946.6169)</td>\n",
       "      <td>(80, 151)</td>\n",
       "      <td>80</td>\n",
       "      <td>151</td>\n",
       "    </tr>\n",
       "    <tr>\n",
       "      <th>5</th>\n",
       "      <td>GAGE-1</td>\n",
       "      <td>427030.760000</td>\n",
       "      <td>6.654934e+06</td>\n",
       "      <td>INFLOW</td>\n",
       "      <td>POINT (427030.76 6654934.26)</td>\n",
       "      <td>(36, 98)</td>\n",
       "      <td>36</td>\n",
       "      <td>98</td>\n",
       "    </tr>\n",
       "  </tbody>\n",
       "</table>\n",
       "</div>"
      ],
      "text/plain": [
       "           NAME        POINT_X       POINT_Y    TYPE  \\\n",
       "0   NI15-O1-STG  427391.988166  6.654917e+06   STAGE   \n",
       "1  NI15-O44-STG  427385.272148  6.654938e+06   STAGE   \n",
       "2  NI15-O46-STG  427316.293421  6.655000e+06   STAGE   \n",
       "3  NI15-O47-STG  427294.946661  6.654962e+06   STAGE   \n",
       "4  NI15-O48-STG  427166.670722  6.654947e+06   STAGE   \n",
       "5        GAGE-1  427030.760000  6.654934e+06  INFLOW   \n",
       "\n",
       "                         shapely_point     row_col  row  col  \n",
       "0  POINT (427391.988166 6654917.31795)  (170, 220)  170  220  \n",
       "1  POINT (427385.272148 6654938.18864)  (160, 225)  160  225  \n",
       "2  POINT (427316.293421 6655000.15848)  (114, 222)  114  222  \n",
       "3  POINT (427294.946661 6654962.31574)  (120, 202)  120  202  \n",
       "4   POINT (427166.670722 6654946.6169)   (80, 151)   80  151  \n",
       "5         POINT (427030.76 6654934.26)    (36, 98)   36   98  "
      ]
     },
     "metadata": {},
     "output_type": "display_data"
    }
   ],
   "source": [
    "sfrobs = pd.read_excel(os.path.join(observations_pth, 'obs_flow_and_stage.xlsx'))\n",
    "sfrobs['shapely_point'] = [Point(row['POINT_X'], row['POINT_Y']) for index, row in sfrobs.iterrows()]\n",
    "sfrobs['row_col'] = [ix.intersect(i).cellids[0] for i in sfrobs['shapely_point']]\n",
    "sfrobs[['row', 'col']] = pd.DataFrame(sfrobs['row_col'].tolist(), index=sfrobs.index)\n",
    "display(sfrobs)"
   ]
  },
  {
   "cell_type": "code",
   "execution_count": 28,
   "metadata": {},
   "outputs": [
    {
     "data": {
      "text/html": [
       "<div>\n",
       "<style scoped>\n",
       "    .dataframe tbody tr th:only-of-type {\n",
       "        vertical-align: middle;\n",
       "    }\n",
       "\n",
       "    .dataframe tbody tr th {\n",
       "        vertical-align: top;\n",
       "    }\n",
       "\n",
       "    .dataframe thead th {\n",
       "        text-align: right;\n",
       "    }\n",
       "</style>\n",
       "<table border=\"1\" class=\"dataframe\">\n",
       "  <thead>\n",
       "    <tr style=\"text-align: right;\">\n",
       "      <th></th>\n",
       "      <th>rno</th>\n",
       "      <th>cellid</th>\n",
       "      <th>rlen</th>\n",
       "      <th>rwid</th>\n",
       "      <th>rgrd</th>\n",
       "      <th>rtp</th>\n",
       "      <th>rbth</th>\n",
       "      <th>rhk</th>\n",
       "      <th>man</th>\n",
       "      <th>ncon</th>\n",
       "      <th>ustrf</th>\n",
       "      <th>ndv</th>\n",
       "      <th>boundname</th>\n",
       "      <th>layer</th>\n",
       "      <th>row</th>\n",
       "      <th>col</th>\n",
       "    </tr>\n",
       "  </thead>\n",
       "  <tbody>\n",
       "    <tr>\n",
       "      <th>0</th>\n",
       "      <td>0</td>\n",
       "      <td>(0, 176, 379)</td>\n",
       "      <td>1.768878</td>\n",
       "      <td>2.0</td>\n",
       "      <td>0.001</td>\n",
       "      <td>142.6419</td>\n",
       "      <td>1.0</td>\n",
       "      <td>86.4</td>\n",
       "      <td>3.000000000000e-002</td>\n",
       "      <td>1</td>\n",
       "      <td>1.0</td>\n",
       "      <td>0</td>\n",
       "      <td>orbacken_sfr_1</td>\n",
       "      <td>0</td>\n",
       "      <td>176</td>\n",
       "      <td>379</td>\n",
       "    </tr>\n",
       "    <tr>\n",
       "      <th>1</th>\n",
       "      <td>1</td>\n",
       "      <td>(0, 176, 378)</td>\n",
       "      <td>2.273218</td>\n",
       "      <td>2.0</td>\n",
       "      <td>0.001</td>\n",
       "      <td>142.5888</td>\n",
       "      <td>1.0</td>\n",
       "      <td>86.4</td>\n",
       "      <td>3.000000000000e-002</td>\n",
       "      <td>2</td>\n",
       "      <td>1.0</td>\n",
       "      <td>0</td>\n",
       "      <td>orbacken_sfr_1</td>\n",
       "      <td>0</td>\n",
       "      <td>176</td>\n",
       "      <td>378</td>\n",
       "    </tr>\n",
       "    <tr>\n",
       "      <th>2</th>\n",
       "      <td>2</td>\n",
       "      <td>(0, 176, 377)</td>\n",
       "      <td>0.069087</td>\n",
       "      <td>2.0</td>\n",
       "      <td>0.001</td>\n",
       "      <td>142.5533</td>\n",
       "      <td>1.0</td>\n",
       "      <td>86.4</td>\n",
       "      <td>3.000000000000e-002</td>\n",
       "      <td>2</td>\n",
       "      <td>1.0</td>\n",
       "      <td>0</td>\n",
       "      <td>orbacken_sfr_1</td>\n",
       "      <td>0</td>\n",
       "      <td>176</td>\n",
       "      <td>377</td>\n",
       "    </tr>\n",
       "    <tr>\n",
       "      <th>3</th>\n",
       "      <td>3</td>\n",
       "      <td>(0, 175, 377)</td>\n",
       "      <td>2.204131</td>\n",
       "      <td>2.0</td>\n",
       "      <td>0.001</td>\n",
       "      <td>142.5138</td>\n",
       "      <td>1.0</td>\n",
       "      <td>86.4</td>\n",
       "      <td>3.000000000000e-002</td>\n",
       "      <td>2</td>\n",
       "      <td>1.0</td>\n",
       "      <td>0</td>\n",
       "      <td>orbacken_sfr_1</td>\n",
       "      <td>0</td>\n",
       "      <td>175</td>\n",
       "      <td>377</td>\n",
       "    </tr>\n",
       "    <tr>\n",
       "      <th>4</th>\n",
       "      <td>4</td>\n",
       "      <td>(0, 175, 376)</td>\n",
       "      <td>2.062961</td>\n",
       "      <td>2.0</td>\n",
       "      <td>0.001</td>\n",
       "      <td>142.4699</td>\n",
       "      <td>1.0</td>\n",
       "      <td>86.4</td>\n",
       "      <td>3.000000000000e-002</td>\n",
       "      <td>2</td>\n",
       "      <td>1.0</td>\n",
       "      <td>0</td>\n",
       "      <td>orbacken_sfr_1</td>\n",
       "      <td>0</td>\n",
       "      <td>175</td>\n",
       "      <td>376</td>\n",
       "    </tr>\n",
       "    <tr>\n",
       "      <th>...</th>\n",
       "      <td>...</td>\n",
       "      <td>...</td>\n",
       "      <td>...</td>\n",
       "      <td>...</td>\n",
       "      <td>...</td>\n",
       "      <td>...</td>\n",
       "      <td>...</td>\n",
       "      <td>...</td>\n",
       "      <td>...</td>\n",
       "      <td>...</td>\n",
       "      <td>...</td>\n",
       "      <td>...</td>\n",
       "      <td>...</td>\n",
       "      <td>...</td>\n",
       "      <td>...</td>\n",
       "      <td>...</td>\n",
       "    </tr>\n",
       "    <tr>\n",
       "      <th>693</th>\n",
       "      <td>693</td>\n",
       "      <td>(0, 2, 60)</td>\n",
       "      <td>1.439392</td>\n",
       "      <td>2.0</td>\n",
       "      <td>0.001</td>\n",
       "      <td>132.0557</td>\n",
       "      <td>1.0</td>\n",
       "      <td>86.4</td>\n",
       "      <td>3.000000000000e-002</td>\n",
       "      <td>2</td>\n",
       "      <td>1.0</td>\n",
       "      <td>0</td>\n",
       "      <td>orbacken_sfr_13</td>\n",
       "      <td>0</td>\n",
       "      <td>2</td>\n",
       "      <td>60</td>\n",
       "    </tr>\n",
       "    <tr>\n",
       "      <th>694</th>\n",
       "      <td>694</td>\n",
       "      <td>(0, 1, 60)</td>\n",
       "      <td>1.266846</td>\n",
       "      <td>2.0</td>\n",
       "      <td>0.001</td>\n",
       "      <td>132.0556</td>\n",
       "      <td>1.0</td>\n",
       "      <td>86.4</td>\n",
       "      <td>3.000000000000e-002</td>\n",
       "      <td>2</td>\n",
       "      <td>1.0</td>\n",
       "      <td>0</td>\n",
       "      <td>orbacken_sfr_13</td>\n",
       "      <td>0</td>\n",
       "      <td>1</td>\n",
       "      <td>60</td>\n",
       "    </tr>\n",
       "    <tr>\n",
       "      <th>695</th>\n",
       "      <td>695</td>\n",
       "      <td>(0, 1, 59)</td>\n",
       "      <td>1.701972</td>\n",
       "      <td>2.0</td>\n",
       "      <td>0.001</td>\n",
       "      <td>132.0555</td>\n",
       "      <td>1.0</td>\n",
       "      <td>86.4</td>\n",
       "      <td>3.000000000000e-002</td>\n",
       "      <td>2</td>\n",
       "      <td>1.0</td>\n",
       "      <td>0</td>\n",
       "      <td>orbacken_sfr_13</td>\n",
       "      <td>0</td>\n",
       "      <td>1</td>\n",
       "      <td>59</td>\n",
       "    </tr>\n",
       "    <tr>\n",
       "      <th>696</th>\n",
       "      <td>696</td>\n",
       "      <td>(0, 0, 59)</td>\n",
       "      <td>1.004265</td>\n",
       "      <td>2.0</td>\n",
       "      <td>0.001</td>\n",
       "      <td>132.0554</td>\n",
       "      <td>1.0</td>\n",
       "      <td>86.4</td>\n",
       "      <td>3.000000000000e-002</td>\n",
       "      <td>2</td>\n",
       "      <td>1.0</td>\n",
       "      <td>0</td>\n",
       "      <td>orbacken_sfr_13</td>\n",
       "      <td>0</td>\n",
       "      <td>0</td>\n",
       "      <td>59</td>\n",
       "    </tr>\n",
       "    <tr>\n",
       "      <th>697</th>\n",
       "      <td>697</td>\n",
       "      <td>(0, 0, 58)</td>\n",
       "      <td>1.696065</td>\n",
       "      <td>2.0</td>\n",
       "      <td>0.001</td>\n",
       "      <td>132.0553</td>\n",
       "      <td>1.0</td>\n",
       "      <td>86.4</td>\n",
       "      <td>3.000000000000e-002</td>\n",
       "      <td>1</td>\n",
       "      <td>1.0</td>\n",
       "      <td>0</td>\n",
       "      <td>orbacken_sfr_13</td>\n",
       "      <td>0</td>\n",
       "      <td>0</td>\n",
       "      <td>58</td>\n",
       "    </tr>\n",
       "  </tbody>\n",
       "</table>\n",
       "<p>698 rows × 16 columns</p>\n",
       "</div>"
      ],
      "text/plain": [
       "     rno         cellid      rlen  rwid   rgrd       rtp  rbth   rhk  \\\n",
       "0      0  (0, 176, 379)  1.768878   2.0  0.001  142.6419   1.0  86.4   \n",
       "1      1  (0, 176, 378)  2.273218   2.0  0.001  142.5888   1.0  86.4   \n",
       "2      2  (0, 176, 377)  0.069087   2.0  0.001  142.5533   1.0  86.4   \n",
       "3      3  (0, 175, 377)  2.204131   2.0  0.001  142.5138   1.0  86.4   \n",
       "4      4  (0, 175, 376)  2.062961   2.0  0.001  142.4699   1.0  86.4   \n",
       "..   ...            ...       ...   ...    ...       ...   ...   ...   \n",
       "693  693     (0, 2, 60)  1.439392   2.0  0.001  132.0557   1.0  86.4   \n",
       "694  694     (0, 1, 60)  1.266846   2.0  0.001  132.0556   1.0  86.4   \n",
       "695  695     (0, 1, 59)  1.701972   2.0  0.001  132.0555   1.0  86.4   \n",
       "696  696     (0, 0, 59)  1.004265   2.0  0.001  132.0554   1.0  86.4   \n",
       "697  697     (0, 0, 58)  1.696065   2.0  0.001  132.0553   1.0  86.4   \n",
       "\n",
       "                     man  ncon  ustrf  ndv        boundname  layer  row  col  \n",
       "0    3.000000000000e-002     1    1.0    0   orbacken_sfr_1      0  176  379  \n",
       "1    3.000000000000e-002     2    1.0    0   orbacken_sfr_1      0  176  378  \n",
       "2    3.000000000000e-002     2    1.0    0   orbacken_sfr_1      0  176  377  \n",
       "3    3.000000000000e-002     2    1.0    0   orbacken_sfr_1      0  175  377  \n",
       "4    3.000000000000e-002     2    1.0    0   orbacken_sfr_1      0  175  376  \n",
       "..                   ...   ...    ...  ...              ...    ...  ...  ...  \n",
       "693  3.000000000000e-002     2    1.0    0  orbacken_sfr_13      0    2   60  \n",
       "694  3.000000000000e-002     2    1.0    0  orbacken_sfr_13      0    1   60  \n",
       "695  3.000000000000e-002     2    1.0    0  orbacken_sfr_13      0    1   59  \n",
       "696  3.000000000000e-002     2    1.0    0  orbacken_sfr_13      0    0   59  \n",
       "697  3.000000000000e-002     1    1.0    0  orbacken_sfr_13      0    0   58  \n",
       "\n",
       "[698 rows x 16 columns]"
      ]
     },
     "metadata": {},
     "output_type": "display_data"
    }
   ],
   "source": [
    "sfr_pkgdata = pd.DataFrame(sfr.packagedata.get_data())\n",
    "sfr_pkgdata[['layer', 'row', 'col']] = pd.DataFrame(sfr_pkgdata['cellid'].tolist(), index=sfr_pkgdata.index)\n",
    "display(sfr_pkgdata)"
   ]
  },
  {
   "cell_type": "code",
   "execution_count": 29,
   "metadata": {},
   "outputs": [
    {
     "data": {
      "text/html": [
       "<div>\n",
       "<style scoped>\n",
       "    .dataframe tbody tr th:only-of-type {\n",
       "        vertical-align: middle;\n",
       "    }\n",
       "\n",
       "    .dataframe tbody tr th {\n",
       "        vertical-align: top;\n",
       "    }\n",
       "\n",
       "    .dataframe thead th {\n",
       "        text-align: right;\n",
       "    }\n",
       "</style>\n",
       "<table border=\"1\" class=\"dataframe\">\n",
       "  <thead>\n",
       "    <tr style=\"text-align: right;\">\n",
       "      <th></th>\n",
       "      <th>NAME</th>\n",
       "      <th>POINT_X</th>\n",
       "      <th>POINT_Y</th>\n",
       "      <th>TYPE</th>\n",
       "      <th>shapely_point</th>\n",
       "      <th>row_col</th>\n",
       "      <th>row</th>\n",
       "      <th>col</th>\n",
       "      <th>rno</th>\n",
       "      <th>cellid</th>\n",
       "      <th>...</th>\n",
       "      <th>rgrd</th>\n",
       "      <th>rtp</th>\n",
       "      <th>rbth</th>\n",
       "      <th>rhk</th>\n",
       "      <th>man</th>\n",
       "      <th>ncon</th>\n",
       "      <th>ustrf</th>\n",
       "      <th>ndv</th>\n",
       "      <th>boundname</th>\n",
       "      <th>layer</th>\n",
       "    </tr>\n",
       "  </thead>\n",
       "  <tbody>\n",
       "    <tr>\n",
       "      <th>0</th>\n",
       "      <td>NI15-O1-STG</td>\n",
       "      <td>427391.988166</td>\n",
       "      <td>6.654917e+06</td>\n",
       "      <td>STAGE</td>\n",
       "      <td>POINT (427391.988166 6654917.31795)</td>\n",
       "      <td>(170, 220)</td>\n",
       "      <td>170</td>\n",
       "      <td>220</td>\n",
       "      <td>264</td>\n",
       "      <td>(0, 170, 220)</td>\n",
       "      <td>...</td>\n",
       "      <td>0.001</td>\n",
       "      <td>135.5608</td>\n",
       "      <td>1.0</td>\n",
       "      <td>86.4</td>\n",
       "      <td>3.000000000000e-002</td>\n",
       "      <td>2</td>\n",
       "      <td>1.0</td>\n",
       "      <td>0</td>\n",
       "      <td>orbacken_sfr_6</td>\n",
       "      <td>0</td>\n",
       "    </tr>\n",
       "    <tr>\n",
       "      <th>1</th>\n",
       "      <td>NI15-O44-STG</td>\n",
       "      <td>427385.272148</td>\n",
       "      <td>6.654938e+06</td>\n",
       "      <td>STAGE</td>\n",
       "      <td>POINT (427385.272148 6654938.18864)</td>\n",
       "      <td>(160, 225)</td>\n",
       "      <td>160</td>\n",
       "      <td>225</td>\n",
       "      <td>280</td>\n",
       "      <td>(0, 160, 225)</td>\n",
       "      <td>...</td>\n",
       "      <td>0.001</td>\n",
       "      <td>135.5592</td>\n",
       "      <td>1.0</td>\n",
       "      <td>86.4</td>\n",
       "      <td>3.000000000000e-002</td>\n",
       "      <td>2</td>\n",
       "      <td>1.0</td>\n",
       "      <td>0</td>\n",
       "      <td>orbacken_sfr_7</td>\n",
       "      <td>0</td>\n",
       "    </tr>\n",
       "    <tr>\n",
       "      <th>2</th>\n",
       "      <td>NI15-O46-STG</td>\n",
       "      <td>427316.293421</td>\n",
       "      <td>6.655000e+06</td>\n",
       "      <td>STAGE</td>\n",
       "      <td>POINT (427316.293421 6655000.15848)</td>\n",
       "      <td>(114, 222)</td>\n",
       "      <td>114</td>\n",
       "      <td>222</td>\n",
       "      <td>376</td>\n",
       "      <td>(0, 114, 222)</td>\n",
       "      <td>...</td>\n",
       "      <td>0.001</td>\n",
       "      <td>134.2803</td>\n",
       "      <td>1.0</td>\n",
       "      <td>86.4</td>\n",
       "      <td>3.000000000000e-002</td>\n",
       "      <td>2</td>\n",
       "      <td>1.0</td>\n",
       "      <td>0</td>\n",
       "      <td>orbacken_sfr_8</td>\n",
       "      <td>0</td>\n",
       "    </tr>\n",
       "    <tr>\n",
       "      <th>3</th>\n",
       "      <td>NI15-O47-STG</td>\n",
       "      <td>427294.946661</td>\n",
       "      <td>6.654962e+06</td>\n",
       "      <td>STAGE</td>\n",
       "      <td>POINT (427294.946661 6654962.31574)</td>\n",
       "      <td>(120, 202)</td>\n",
       "      <td>120</td>\n",
       "      <td>202</td>\n",
       "      <td>415</td>\n",
       "      <td>(0, 120, 202)</td>\n",
       "      <td>...</td>\n",
       "      <td>0.001</td>\n",
       "      <td>134.0639</td>\n",
       "      <td>1.0</td>\n",
       "      <td>86.4</td>\n",
       "      <td>3.000000000000e-002</td>\n",
       "      <td>2</td>\n",
       "      <td>1.0</td>\n",
       "      <td>0</td>\n",
       "      <td>orbacken_sfr_9</td>\n",
       "      <td>0</td>\n",
       "    </tr>\n",
       "    <tr>\n",
       "      <th>4</th>\n",
       "      <td>NI15-O48-STG</td>\n",
       "      <td>427166.670722</td>\n",
       "      <td>6.654947e+06</td>\n",
       "      <td>STAGE</td>\n",
       "      <td>POINT (427166.670722 6654946.6169)</td>\n",
       "      <td>(80, 151)</td>\n",
       "      <td>80</td>\n",
       "      <td>151</td>\n",
       "      <td>522</td>\n",
       "      <td>(0, 80, 151)</td>\n",
       "      <td>...</td>\n",
       "      <td>0.001</td>\n",
       "      <td>133.0733</td>\n",
       "      <td>1.0</td>\n",
       "      <td>86.4</td>\n",
       "      <td>3.000000000000e-002</td>\n",
       "      <td>2</td>\n",
       "      <td>1.0</td>\n",
       "      <td>0</td>\n",
       "      <td>orbacken_sfr_11</td>\n",
       "      <td>0</td>\n",
       "    </tr>\n",
       "    <tr>\n",
       "      <th>5</th>\n",
       "      <td>GAGE-1</td>\n",
       "      <td>427030.760000</td>\n",
       "      <td>6.654934e+06</td>\n",
       "      <td>INFLOW</td>\n",
       "      <td>POINT (427030.76 6654934.26)</td>\n",
       "      <td>(36, 98)</td>\n",
       "      <td>36</td>\n",
       "      <td>98</td>\n",
       "      <td>620</td>\n",
       "      <td>(0, 36, 98)</td>\n",
       "      <td>...</td>\n",
       "      <td>0.001</td>\n",
       "      <td>132.8466</td>\n",
       "      <td>1.0</td>\n",
       "      <td>86.4</td>\n",
       "      <td>3.000000000000e-002</td>\n",
       "      <td>2</td>\n",
       "      <td>1.0</td>\n",
       "      <td>0</td>\n",
       "      <td>orbacken_sfr_12</td>\n",
       "      <td>0</td>\n",
       "    </tr>\n",
       "  </tbody>\n",
       "</table>\n",
       "<p>6 rows × 22 columns</p>\n",
       "</div>"
      ],
      "text/plain": [
       "           NAME        POINT_X       POINT_Y    TYPE  \\\n",
       "0   NI15-O1-STG  427391.988166  6.654917e+06   STAGE   \n",
       "1  NI15-O44-STG  427385.272148  6.654938e+06   STAGE   \n",
       "2  NI15-O46-STG  427316.293421  6.655000e+06   STAGE   \n",
       "3  NI15-O47-STG  427294.946661  6.654962e+06   STAGE   \n",
       "4  NI15-O48-STG  427166.670722  6.654947e+06   STAGE   \n",
       "5        GAGE-1  427030.760000  6.654934e+06  INFLOW   \n",
       "\n",
       "                         shapely_point     row_col  row  col  rno  \\\n",
       "0  POINT (427391.988166 6654917.31795)  (170, 220)  170  220  264   \n",
       "1  POINT (427385.272148 6654938.18864)  (160, 225)  160  225  280   \n",
       "2  POINT (427316.293421 6655000.15848)  (114, 222)  114  222  376   \n",
       "3  POINT (427294.946661 6654962.31574)  (120, 202)  120  202  415   \n",
       "4   POINT (427166.670722 6654946.6169)   (80, 151)   80  151  522   \n",
       "5         POINT (427030.76 6654934.26)    (36, 98)   36   98  620   \n",
       "\n",
       "          cellid  ...   rgrd       rtp  rbth   rhk                  man  ncon  \\\n",
       "0  (0, 170, 220)  ...  0.001  135.5608   1.0  86.4  3.000000000000e-002     2   \n",
       "1  (0, 160, 225)  ...  0.001  135.5592   1.0  86.4  3.000000000000e-002     2   \n",
       "2  (0, 114, 222)  ...  0.001  134.2803   1.0  86.4  3.000000000000e-002     2   \n",
       "3  (0, 120, 202)  ...  0.001  134.0639   1.0  86.4  3.000000000000e-002     2   \n",
       "4   (0, 80, 151)  ...  0.001  133.0733   1.0  86.4  3.000000000000e-002     2   \n",
       "5    (0, 36, 98)  ...  0.001  132.8466   1.0  86.4  3.000000000000e-002     2   \n",
       "\n",
       "  ustrf  ndv        boundname  layer  \n",
       "0   1.0    0   orbacken_sfr_6      0  \n",
       "1   1.0    0   orbacken_sfr_7      0  \n",
       "2   1.0    0   orbacken_sfr_8      0  \n",
       "3   1.0    0   orbacken_sfr_9      0  \n",
       "4   1.0    0  orbacken_sfr_11      0  \n",
       "5   1.0    0  orbacken_sfr_12      0  \n",
       "\n",
       "[6 rows x 22 columns]"
      ]
     },
     "metadata": {},
     "output_type": "display_data"
    }
   ],
   "source": [
    "merged_sfr_obs = pd.merge(sfrobs, sfr_pkgdata, on=['row', 'col'], how='inner')\n",
    "display(merged_sfr_obs)"
   ]
  },
  {
   "cell_type": "markdown",
   "metadata": {},
   "source": [
    "Extract reach number for corresponding SFR observation:"
   ]
  },
  {
   "cell_type": "code",
   "execution_count": 30,
   "metadata": {},
   "outputs": [
    {
     "data": {
      "text/plain": [
       "[('NI15-O1-STG', 'STAGE', 264),\n",
       " ('NI15-O44-STG', 'STAGE', 280),\n",
       " ('NI15-O46-STG', 'STAGE', 376),\n",
       " ('NI15-O47-STG', 'STAGE', 415),\n",
       " ('NI15-O48-STG', 'STAGE', 522),\n",
       " ('GAGE-1', 'INFLOW', 620)]"
      ]
     },
     "execution_count": 30,
     "metadata": {},
     "output_type": "execute_result"
    }
   ],
   "source": [
    "sfrobs_input = [(row['NAME'], row['TYPE'], row['rno']) for index, row in merged_sfr_obs.iterrows()]\n",
    "sfrobs_input"
   ]
  },
  {
   "cell_type": "markdown",
   "metadata": {},
   "source": [
    "Initialize SFR observations:"
   ]
  },
  {
   "cell_type": "code",
   "execution_count": 31,
   "metadata": {},
   "outputs": [],
   "source": [
    "sfr_obs_recarray = {'{}.obs.csv'.format('sfr'): sfrobs_input}\n",
    "sfr.obs.initialize(\n",
    "    filename = '{}.sfr.obs'.format(sim_name),\n",
    "    digits = 10,\n",
    "    print_input = True,\n",
    "    continuous = sfr_obs_recarray\n",
    ")"
   ]
  },
  {
   "cell_type": "markdown",
   "metadata": {},
   "source": [
    "### Head observations\n",
    "These are the locations where field measured data is collected (head) using piezometers and manual measurements:"
   ]
  },
  {
   "cell_type": "code",
   "execution_count": 32,
   "metadata": {},
   "outputs": [
    {
     "data": {
      "text/html": [
       "<div>\n",
       "<style scoped>\n",
       "    .dataframe tbody tr th:only-of-type {\n",
       "        vertical-align: middle;\n",
       "    }\n",
       "\n",
       "    .dataframe tbody tr th {\n",
       "        vertical-align: top;\n",
       "    }\n",
       "\n",
       "    .dataframe thead th {\n",
       "        text-align: right;\n",
       "    }\n",
       "</style>\n",
       "<table border=\"1\" class=\"dataframe\">\n",
       "  <thead>\n",
       "    <tr style=\"text-align: right;\">\n",
       "      <th></th>\n",
       "      <th>NAME</th>\n",
       "      <th>POINT_X</th>\n",
       "      <th>POINT_Y</th>\n",
       "      <th>LAYER</th>\n",
       "      <th>shapely_point</th>\n",
       "      <th>row_col</th>\n",
       "      <th>row</th>\n",
       "      <th>col</th>\n",
       "    </tr>\n",
       "  </thead>\n",
       "  <tbody>\n",
       "    <tr>\n",
       "      <th>0</th>\n",
       "      <td>B9-2</td>\n",
       "      <td>426918.374000</td>\n",
       "      <td>6.654803e+06</td>\n",
       "      <td>1</td>\n",
       "      <td>POINT (426918.374 6654803.298)</td>\n",
       "      <td>(43, 12)</td>\n",
       "      <td>43</td>\n",
       "      <td>12</td>\n",
       "    </tr>\n",
       "    <tr>\n",
       "      <th>1</th>\n",
       "      <td>B10-2</td>\n",
       "      <td>427074.709423</td>\n",
       "      <td>6.654805e+06</td>\n",
       "      <td>1</td>\n",
       "      <td>POINT (427074.709423 6654805.17421)</td>\n",
       "      <td>(97, 68)</td>\n",
       "      <td>97</td>\n",
       "      <td>68</td>\n",
       "    </tr>\n",
       "    <tr>\n",
       "      <th>2</th>\n",
       "      <td>B12-1</td>\n",
       "      <td>427448.188505</td>\n",
       "      <td>6.655156e+06</td>\n",
       "      <td>1</td>\n",
       "      <td>POINT (427448.188505 6655156.014)</td>\n",
       "      <td>(105, 324)</td>\n",
       "      <td>105</td>\n",
       "      <td>324</td>\n",
       "    </tr>\n",
       "    <tr>\n",
       "      <th>3</th>\n",
       "      <td>B16-1</td>\n",
       "      <td>427409.547301</td>\n",
       "      <td>6.655023e+06</td>\n",
       "      <td>1</td>\n",
       "      <td>POINT (427409.547301 6655023.27117)</td>\n",
       "      <td>(139, 264)</td>\n",
       "      <td>139</td>\n",
       "      <td>264</td>\n",
       "    </tr>\n",
       "    <tr>\n",
       "      <th>4</th>\n",
       "      <td>B2-1</td>\n",
       "      <td>427384.172044</td>\n",
       "      <td>6.655037e+06</td>\n",
       "      <td>1</td>\n",
       "      <td>POINT (427384.172044 6655037.1887)</td>\n",
       "      <td>(125, 260)</td>\n",
       "      <td>125</td>\n",
       "      <td>260</td>\n",
       "    </tr>\n",
       "    <tr>\n",
       "      <th>...</th>\n",
       "      <td>...</td>\n",
       "      <td>...</td>\n",
       "      <td>...</td>\n",
       "      <td>...</td>\n",
       "      <td>...</td>\n",
       "      <td>...</td>\n",
       "      <td>...</td>\n",
       "      <td>...</td>\n",
       "    </tr>\n",
       "    <tr>\n",
       "      <th>139</th>\n",
       "      <td>NI1705-2</td>\n",
       "      <td>427215.444386</td>\n",
       "      <td>6.654958e+06</td>\n",
       "      <td>3</td>\n",
       "      <td>POINT (427215.444386 6654957.96958)</td>\n",
       "      <td>(93, 172)</td>\n",
       "      <td>93</td>\n",
       "      <td>172</td>\n",
       "    </tr>\n",
       "    <tr>\n",
       "      <th>140</th>\n",
       "      <td>NI1706-2</td>\n",
       "      <td>427250.038227</td>\n",
       "      <td>6.654940e+06</td>\n",
       "      <td>3</td>\n",
       "      <td>POINT (427250.038227 6654940.18623)</td>\n",
       "      <td>(112, 178)</td>\n",
       "      <td>112</td>\n",
       "      <td>178</td>\n",
       "    </tr>\n",
       "    <tr>\n",
       "      <th>141</th>\n",
       "      <td>NI1707-1</td>\n",
       "      <td>427229.096032</td>\n",
       "      <td>6.654943e+06</td>\n",
       "      <td>3</td>\n",
       "      <td>POINT (427229.096032 6654942.66111)</td>\n",
       "      <td>(103, 171)</td>\n",
       "      <td>103</td>\n",
       "      <td>171</td>\n",
       "    </tr>\n",
       "    <tr>\n",
       "      <th>142</th>\n",
       "      <td>NI1708-1</td>\n",
       "      <td>427447.873358</td>\n",
       "      <td>6.654978e+06</td>\n",
       "      <td>3</td>\n",
       "      <td>POINT (427447.873358 6654977.69539)</td>\n",
       "      <td>(168, 261)</td>\n",
       "      <td>168</td>\n",
       "      <td>261</td>\n",
       "    </tr>\n",
       "    <tr>\n",
       "      <th>143</th>\n",
       "      <td>NI1711-1</td>\n",
       "      <td>427468.749218</td>\n",
       "      <td>6.654986e+06</td>\n",
       "      <td>3</td>\n",
       "      <td>POINT (427468.749218 6654985.52119)</td>\n",
       "      <td>(173, 271)</td>\n",
       "      <td>173</td>\n",
       "      <td>271</td>\n",
       "    </tr>\n",
       "  </tbody>\n",
       "</table>\n",
       "<p>144 rows × 8 columns</p>\n",
       "</div>"
      ],
      "text/plain": [
       "         NAME        POINT_X       POINT_Y  LAYER  \\\n",
       "0        B9-2  426918.374000  6.654803e+06      1   \n",
       "1       B10-2  427074.709423  6.654805e+06      1   \n",
       "2       B12-1  427448.188505  6.655156e+06      1   \n",
       "3       B16-1  427409.547301  6.655023e+06      1   \n",
       "4        B2-1  427384.172044  6.655037e+06      1   \n",
       "..        ...            ...           ...    ...   \n",
       "139  NI1705-2  427215.444386  6.654958e+06      3   \n",
       "140  NI1706-2  427250.038227  6.654940e+06      3   \n",
       "141  NI1707-1  427229.096032  6.654943e+06      3   \n",
       "142  NI1708-1  427447.873358  6.654978e+06      3   \n",
       "143  NI1711-1  427468.749218  6.654986e+06      3   \n",
       "\n",
       "                           shapely_point     row_col  row  col  \n",
       "0         POINT (426918.374 6654803.298)    (43, 12)   43   12  \n",
       "1    POINT (427074.709423 6654805.17421)    (97, 68)   97   68  \n",
       "2      POINT (427448.188505 6655156.014)  (105, 324)  105  324  \n",
       "3    POINT (427409.547301 6655023.27117)  (139, 264)  139  264  \n",
       "4     POINT (427384.172044 6655037.1887)  (125, 260)  125  260  \n",
       "..                                   ...         ...  ...  ...  \n",
       "139  POINT (427215.444386 6654957.96958)   (93, 172)   93  172  \n",
       "140  POINT (427250.038227 6654940.18623)  (112, 178)  112  178  \n",
       "141  POINT (427229.096032 6654942.66111)  (103, 171)  103  171  \n",
       "142  POINT (427447.873358 6654977.69539)  (168, 261)  168  261  \n",
       "143  POINT (427468.749218 6654985.52119)  (173, 271)  173  271  \n",
       "\n",
       "[144 rows x 8 columns]"
      ]
     },
     "metadata": {},
     "output_type": "display_data"
    }
   ],
   "source": [
    "headobs = pd.read_excel(os.path.join(observations_pth, 'obs_head_per_layer.xlsx'))\n",
    "headobs['shapely_point'] = [Point(row['POINT_X'], row['POINT_Y']) for index, row in headobs.iterrows()]\n",
    "headobs['row_col'] = [ix.intersect(i).cellids[0] for i in headobs['shapely_point']]\n",
    "headobs[['row', 'col']] = pd.DataFrame(headobs['row_col'].tolist(), index=headobs.index)\n",
    "display(headobs)"
   ]
  },
  {
   "cell_type": "code",
   "execution_count": 33,
   "metadata": {},
   "outputs": [
    {
     "data": {
      "text/plain": [
       "[('B9-2', 'HEAD', (0, 43, 12), (0, 43, 13)),\n",
       " ('B10-2', 'HEAD', (0, 97, 68), (0, 97, 69)),\n",
       " ('B12-1', 'HEAD', (0, 105, 324), (0, 105, 325)),\n",
       " ('B16-1', 'HEAD', (0, 139, 264), (0, 139, 265)),\n",
       " ('B2-1', 'HEAD', (0, 125, 260), (0, 125, 261)),\n",
       " ('B22-1', 'HEAD', (0, 110, 320), (0, 110, 321)),\n",
       " ('B27', 'HEAD', (0, 106, 329), (0, 106, 330)),\n",
       " ('B29', 'HEAD', (0, 115, 263), (0, 115, 264)),\n",
       " ('KB1-1', 'HEAD', (0, 165, 235), (0, 165, 236)),\n",
       " ('KB4-3', 'HEAD', (0, 98, 177), (0, 98, 178)),\n",
       " ('NI1301-1', 'HEAD', (0, 111, 328), (0, 111, 329)),\n",
       " ('NI1302-1', 'HEAD', (0, 108, 324), (0, 108, 325)),\n",
       " ('NI1403-1', 'HEAD', (0, 164, 281), (0, 164, 282)),\n",
       " ('NI1405-1', 'HEAD', (0, 156, 289), (0, 156, 290)),\n",
       " ('NI1407-1', 'HEAD', (0, 111, 310), (0, 111, 311)),\n",
       " ('NI1408-1', 'HEAD', (0, 105, 310), (0, 105, 311)),\n",
       " ('NI1409-1', 'HEAD', (0, 121, 310), (0, 121, 311)),\n",
       " ('NI1410-1', 'HEAD', (0, 120, 320), (0, 120, 321)),\n",
       " ('NI1411-1', 'HEAD', (0, 115, 326), (0, 115, 327)),\n",
       " ('NI1412-1', 'HEAD', (0, 164, 277), (0, 164, 278)),\n",
       " ('NI1413-1', 'HEAD', (0, 168, 267), (0, 168, 268)),\n",
       " ('NI1501-1', 'HEAD', (0, 101, 269), (0, 101, 270)),\n",
       " ('NI1502-2', 'HEAD', (0, 91, 335), (0, 91, 336)),\n",
       " ('NI1503-2', 'HEAD', (0, 93, 338), (0, 93, 339)),\n",
       " ('NI1504-2', 'HEAD', (0, 98, 335), (0, 98, 336)),\n",
       " ('NI1505-1', 'HEAD', (0, 100, 326), (0, 100, 327)),\n",
       " ('NI1506-1', 'HEAD', (0, 104, 324), (0, 104, 325)),\n",
       " ('NI15-O1', 'HEAD', (0, 170, 220), (0, 170, 221)),\n",
       " ('NI15-O44', 'HEAD', (0, 160, 225), (0, 160, 226)),\n",
       " ('NI15-O46', 'HEAD', (0, 114, 222), (0, 114, 223)),\n",
       " ('NI15-O47', 'HEAD', (0, 120, 202), (0, 120, 203)),\n",
       " ('NI15-O48', 'HEAD', (0, 80, 151), (0, 80, 152)),\n",
       " ('NI1601-1', 'HEAD', (0, 159, 244), (0, 159, 245)),\n",
       " ('NI1602-1', 'HEAD', (0, 150, 209), (0, 150, 210)),\n",
       " ('NI1603-1', 'HEAD', (0, 146, 220), (0, 146, 221)),\n",
       " ('NI1605b-1', 'HEAD', (0, 163, 286), (0, 163, 287)),\n",
       " ('NI1606-1', 'HEAD', (0, 134, 198), (0, 134, 199)),\n",
       " ('NI1607-1', 'HEAD', (0, 172, 222), (0, 172, 223)),\n",
       " ('NI1608-1', 'HEAD', (0, 175, 216), (0, 175, 217)),\n",
       " ('NI1609-2', 'HEAD', (0, 175, 220), (0, 175, 221)),\n",
       " ('NI1610-2', 'HEAD', (0, 173, 221), (0, 173, 222)),\n",
       " ('NI1611-1', 'HEAD', (0, 173, 225), (0, 173, 226)),\n",
       " ('NI1612-1', 'HEAD', (0, 163, 213), (0, 163, 214)),\n",
       " ('NI1613-1', 'HEAD', (0, 147, 220), (0, 147, 221)),\n",
       " ('NI1703-1', 'HEAD', (0, 167, 226), (0, 167, 227)),\n",
       " ('NI1704-1', 'HEAD', (0, 82, 166), (0, 82, 167)),\n",
       " ('NI1705-1', 'HEAD', (0, 93, 172), (0, 93, 173)),\n",
       " ('NI1801-1', 'HEAD', (0, 89, 165), (0, 89, 166)),\n",
       " ('NI1802-1', 'HEAD', (0, 91, 167), (0, 91, 168)),\n",
       " ('NI1803-1', 'HEAD', (0, 94, 168), (0, 94, 169)),\n",
       " ('NI1804-1', 'HEAD', (0, 97, 170), (0, 97, 171)),\n",
       " ('B9-4', 'HEAD', (1, 43, 12), (1, 43, 13)),\n",
       " ('B10-4', 'HEAD', (1, 97, 68), (1, 97, 69)),\n",
       " ('B13-1', 'HEAD', (1, 111, 330), (1, 111, 331)),\n",
       " ('B14-1', 'HEAD', (1, 117, 331), (1, 117, 332)),\n",
       " ('B15-1', 'HEAD', (1, 107, 346), (1, 107, 347)),\n",
       " ('B20-1', 'HEAD', (1, 101, 327), (1, 101, 328)),\n",
       " ('B21-1', 'HEAD', (1, 108, 326), (1, 108, 327)),\n",
       " ('B2-2', 'HEAD', (1, 125, 260), (1, 125, 261)),\n",
       " ('B22-2', 'HEAD', (1, 110, 320), (1, 110, 321)),\n",
       " ('B26', 'HEAD', (1, 108, 333), (1, 108, 334)),\n",
       " ('B35', 'HEAD', (1, 160, 270), (1, 160, 271)),\n",
       " ('B36', 'HEAD', (1, 163, 266), (1, 163, 267)),\n",
       " ('B37', 'HEAD', (1, 166, 273), (1, 166, 274)),\n",
       " ('B8-1', 'HEAD', (1, 145, 82), (1, 145, 83)),\n",
       " ('KB4-4', 'HEAD', (1, 98, 177), (1, 98, 178)),\n",
       " ('NI1301-2', 'HEAD', (1, 111, 328), (1, 111, 329)),\n",
       " ('NI1302-2', 'HEAD', (1, 108, 324), (1, 108, 325)),\n",
       " ('NI1401-1', 'HEAD', (1, 113, 321), (1, 113, 322)),\n",
       " ('NI1402b-1', 'HEAD', (1, 107, 325), (1, 107, 326)),\n",
       " ('NI1404-1', 'HEAD', (1, 109, 329), (1, 109, 330)),\n",
       " ('NI1407-2', 'HEAD', (1, 111, 310), (1, 111, 311)),\n",
       " ('NI1408-2', 'HEAD', (1, 105, 310), (1, 105, 311)),\n",
       " ('NI1409-2', 'HEAD', (1, 121, 310), (1, 121, 311)),\n",
       " ('NI1410-2', 'HEAD', (1, 120, 320), (1, 120, 321)),\n",
       " ('NI1411-2', 'HEAD', (1, 115, 326), (1, 115, 327)),\n",
       " ('NI1413-2', 'HEAD', (1, 168, 267), (1, 168, 268)),\n",
       " ('NI1501-2', 'HEAD', (1, 101, 269), (1, 101, 270)),\n",
       " ('NI1505-2', 'HEAD', (1, 100, 326), (1, 100, 327)),\n",
       " ('NI1506-2', 'HEAD', (1, 104, 324), (1, 104, 325)),\n",
       " ('NI1507-2', 'HEAD', (1, 93, 315), (1, 93, 316)),\n",
       " ('NI1601-2', 'HEAD', (1, 159, 244), (1, 159, 245)),\n",
       " ('NI1604-1', 'HEAD', (1, 166, 271), (1, 166, 272)),\n",
       " ('NI1606-2', 'HEAD', (1, 134, 198), (1, 134, 199)),\n",
       " ('NI1607-2', 'HEAD', (1, 172, 222), (1, 172, 223)),\n",
       " ('NI1608-2', 'HEAD', (1, 175, 216), (1, 175, 217)),\n",
       " ('NI1703-2', 'HEAD', (1, 167, 226), (1, 167, 227)),\n",
       " ('NI1706-1', 'HEAD', (1, 112, 178), (1, 112, 179)),\n",
       " ('NI1709-1', 'HEAD', (1, 158, 300), (1, 158, 301)),\n",
       " ('NI1712-1', 'HEAD', (1, 174, 234), (1, 174, 235)),\n",
       " ('NI1801-3', 'HEAD', (1, 89, 165), (1, 89, 166)),\n",
       " ('NI1803-3', 'HEAD', (1, 94, 168), (1, 94, 169)),\n",
       " ('NI1804-3', 'HEAD', (1, 97, 170), (1, 97, 171)),\n",
       " ('B9-5', 'HEAD', (2, 43, 12), (2, 43, 13)),\n",
       " ('B10-5', 'HEAD', (2, 97, 68), (2, 97, 69)),\n",
       " ('B16-2', 'HEAD', (2, 139, 264), (2, 139, 265)),\n",
       " ('B19-4', 'HEAD', (2, 165, 282), (2, 165, 283)),\n",
       " ('B21-3', 'HEAD', (2, 108, 326), (2, 108, 327)),\n",
       " ('B22-4', 'HEAD', (2, 110, 320), (2, 110, 321)),\n",
       " ('B2-3', 'HEAD', (2, 125, 260), (2, 125, 261)),\n",
       " ('B30', 'HEAD', (2, 99, 263), (2, 99, 264)),\n",
       " ('B34', 'HEAD', (2, 158, 263), (2, 158, 264)),\n",
       " ('B4', 'HEAD', (2, 79, 369), (2, 79, 370)),\n",
       " ('B8-2', 'HEAD', (2, 145, 82), (2, 145, 83)),\n",
       " ('NI1301-3', 'HEAD', (2, 111, 328), (2, 111, 329)),\n",
       " ('NI1302-3', 'HEAD', (2, 108, 324), (2, 108, 325)),\n",
       " ('NI1401-2', 'HEAD', (2, 113, 321), (2, 113, 322)),\n",
       " ('NI1402b-2', 'HEAD', (2, 107, 325), (2, 107, 326)),\n",
       " ('NI1403-2', 'HEAD', (2, 164, 281), (2, 164, 282)),\n",
       " ('NI1404-2', 'HEAD', (2, 109, 329), (2, 109, 330)),\n",
       " ('NI1405-2', 'HEAD', (2, 156, 289), (2, 156, 290)),\n",
       " ('NI1406-1', 'HEAD', (2, 108, 322), (2, 108, 323)),\n",
       " ('NI1407-3', 'HEAD', (2, 111, 310), (2, 111, 311)),\n",
       " ('NI1408-3', 'HEAD', (2, 105, 310), (2, 105, 311)),\n",
       " ('NI1409-3', 'HEAD', (2, 121, 310), (2, 121, 311)),\n",
       " ('NI1410-3', 'HEAD', (2, 120, 320), (2, 120, 321)),\n",
       " ('NI1411-3', 'HEAD', (2, 115, 326), (2, 115, 327)),\n",
       " ('NI1412-3', 'HEAD', (2, 164, 277), (2, 164, 278)),\n",
       " ('NI1413-3', 'HEAD', (2, 168, 267), (2, 168, 268)),\n",
       " ('NI1501-3', 'HEAD', (2, 101, 269), (2, 101, 270)),\n",
       " ('NI1502-3', 'HEAD', (2, 91, 335), (2, 91, 336)),\n",
       " ('NI1503-3', 'HEAD', (2, 93, 338), (2, 93, 339)),\n",
       " ('NI1504-3', 'HEAD', (2, 98, 335), (2, 98, 336)),\n",
       " ('NI1505-3', 'HEAD', (2, 100, 326), (2, 100, 327)),\n",
       " ('NI1506-3', 'HEAD', (2, 104, 324), (2, 104, 325)),\n",
       " ('NI1507-3', 'HEAD', (2, 93, 315), (2, 93, 316)),\n",
       " ('NI1601-3', 'HEAD', (2, 159, 244), (2, 159, 245)),\n",
       " ('NI1602-2', 'HEAD', (2, 150, 209), (2, 150, 210)),\n",
       " ('NI1603-2', 'HEAD', (2, 146, 220), (2, 146, 221)),\n",
       " ('NI1604-3', 'HEAD', (2, 166, 271), (2, 166, 272)),\n",
       " ('NI1605b-3', 'HEAD', (2, 163, 286), (2, 163, 287)),\n",
       " ('NI1606-3', 'HEAD', (2, 134, 198), (2, 134, 199)),\n",
       " ('NI1607-3', 'HEAD', (2, 172, 222), (2, 172, 223)),\n",
       " ('NI1608-3', 'HEAD', (2, 175, 216), (2, 175, 217)),\n",
       " ('NI1609-3', 'HEAD', (2, 175, 220), (2, 175, 221)),\n",
       " ('NI1612-2', 'HEAD', (2, 163, 213), (2, 163, 214)),\n",
       " ('NI1701-1', 'HEAD', (2, 160, 230), (2, 160, 231)),\n",
       " ('NI1702-1', 'HEAD', (2, 155, 231), (2, 155, 232)),\n",
       " ('NI1704-2', 'HEAD', (2, 82, 166), (2, 82, 167)),\n",
       " ('NI1705-2', 'HEAD', (2, 93, 172), (2, 93, 173)),\n",
       " ('NI1706-2', 'HEAD', (2, 112, 178), (2, 112, 179)),\n",
       " ('NI1707-1', 'HEAD', (2, 103, 171), (2, 103, 172)),\n",
       " ('NI1708-1', 'HEAD', (2, 168, 261), (2, 168, 262)),\n",
       " ('NI1711-1', 'HEAD', (2, 173, 271), (2, 173, 272))]"
      ]
     },
     "execution_count": 33,
     "metadata": {},
     "output_type": "execute_result"
    }
   ],
   "source": [
    "headobs_input = [(row['NAME'], 'HEAD', (row['LAYER'] - 1, row['row'], row['col']), (row['LAYER'] - 1, row['row'], row['col'] + 1)) for index, row in headobs.iterrows()]\n",
    "headobs_input"
   ]
  },
  {
   "cell_type": "markdown",
   "metadata": {},
   "source": [
    "Initialize head observations:"
   ]
  },
  {
   "cell_type": "code",
   "execution_count": 34,
   "metadata": {},
   "outputs": [],
   "source": [
    "# observations\n",
    "obs_recarray = {'{}.obs.csv'.format('head'): headobs_input}\n",
    "obs = flopy.mf6.ModflowUtlobs(\n",
    "    m,\n",
    "    pname = 'gwf_obs',\n",
    "    filename = '{}.obs'.format(sim_name),\n",
    "    digits = 10,\n",
    "    print_input = True,\n",
    "    continuous = obs_recarray\n",
    ")"
   ]
  },
  {
   "cell_type": "markdown",
   "metadata": {},
   "source": [
    "## Last preparations"
   ]
  },
  {
   "cell_type": "code",
   "execution_count": 35,
   "metadata": {},
   "outputs": [],
   "source": [
    "sim.simulation_data.max_columns_of_data = m.dis.ncol # Is this required to get the model to play nice with PyEMU?"
   ]
  },
  {
   "cell_type": "markdown",
   "metadata": {},
   "source": [
    "Set all data external (required by PEST):"
   ]
  },
  {
   "cell_type": "code",
   "execution_count": 36,
   "metadata": {},
   "outputs": [],
   "source": [
    "sim.set_all_data_external(True)"
   ]
  },
  {
   "cell_type": "code",
   "execution_count": 37,
   "metadata": {},
   "outputs": [
    {
     "name": "stdout",
     "output_type": "stream",
     "text": [
      "writing simulation...\n",
      "  writing simulation name file...\n",
      "  writing simulation tdis package...\n",
      "  writing ims package hagfors.ims...\n",
      "  writing model hagfors...\n",
      "    writing model name file...\n",
      "    writing package dis...\n",
      "    writing package ic...\n",
      "    writing package npf...\n",
      "    writing package oc...\n",
      "    writing package ghb_0...\n",
      "    writing package sfr_0...\n",
      "    writing package rch...\n",
      "    writing package obs_0...\n",
      "    writing package gwf_obs...\n"
     ]
    }
   ],
   "source": [
    "sim.write_simulation()"
   ]
  },
  {
   "cell_type": "markdown",
   "metadata": {},
   "source": [
    "Run the simulation:"
   ]
  },
  {
   "cell_type": "code",
   "execution_count": 38,
   "metadata": {},
   "outputs": [
    {
     "name": "stdout",
     "output_type": "stream",
     "text": [
      "FloPy is using the following  executable to run the model: ..\\bins\\win\\mf6.exe\n",
      "                                   MODFLOW 6\n",
      "                U.S. GEOLOGICAL SURVEY MODULAR HYDROLOGIC MODEL\n",
      "                            VERSION 6.2.1 02/18/2021\n",
      "\n",
      "   MODFLOW 6 compiled Feb 18 2021 21:14:51 with IFORT compiler (ver. 19.10.3)\n",
      "\n",
      "This software has been approved for release by the U.S. Geological \n",
      "Survey (USGS). Although the software has been subjected to rigorous \n",
      "review, the USGS reserves the right to update the software as needed \n",
      "pursuant to further analysis and review. No warranty, expressed or \n",
      "implied, is made by the USGS or the U.S. Government as to the \n",
      "functionality of the software and related material nor shall the \n",
      "fact of release constitute any such warranty. Furthermore, the \n",
      "software is released on condition that neither the USGS nor the U.S. \n",
      "Government shall be held liable for any damages resulting from its \n",
      "authorized or unauthorized use. Also refer to the USGS Water \n",
      "Resources Software User Rights Notice for complete use, copyright, \n",
      "and distribution information.\n",
      "\n",
      " \n",
      " Run start date and time (yyyy/mm/dd hh:mm:ss): 2021/06/05 19:36:51\n",
      " \n",
      " Writing simulation list file: mfsim.lst\n",
      " Using Simulation name file: mfsim.nam\n",
      " \n",
      "    Solving:  Stress period:     1    Time step:     1\n",
      " \n",
      " Run end date and time (yyyy/mm/dd hh:mm:ss): 2021/06/05 19:37:40\n",
      " Elapsed run time: 49.096 Seconds\n",
      " \n",
      " Normal termination of simulation.\n",
      "\n",
      "Success is:  True\n"
     ]
    }
   ],
   "source": [
    "success, buff = sim.run_simulation(report=True)\n",
    "print('\\nSuccess is: ', success)"
   ]
  },
  {
   "cell_type": "markdown",
   "metadata": {},
   "source": [
    "Model run time is really slow (47 seconds on my laptop), likely due to a combination of a small cell-size and large SFR-input. Change starting heads to simulated output to speed up future sims..:"
   ]
  },
  {
   "cell_type": "code",
   "execution_count": 39,
   "metadata": {},
   "outputs": [],
   "source": [
    "# Read computed head\n",
    "fname = os.path.join(tmp_model_ws, 'hagfors.bhd')\n",
    "hds = flopy.utils.binaryfile.HeadFile(fname)"
   ]
  },
  {
   "cell_type": "markdown",
   "metadata": {},
   "source": [
    "Replace IC with computed head:"
   ]
  },
  {
   "cell_type": "code",
   "execution_count": 40,
   "metadata": {},
   "outputs": [],
   "source": [
    "ic.strt = hds.get_data()"
   ]
  },
  {
   "cell_type": "markdown",
   "metadata": {},
   "source": [
    "Re-write sim files:"
   ]
  },
  {
   "cell_type": "code",
   "execution_count": 41,
   "metadata": {},
   "outputs": [
    {
     "name": "stdout",
     "output_type": "stream",
     "text": [
      "writing simulation...\n",
      "  writing simulation name file...\n",
      "  writing simulation tdis package...\n",
      "  writing ims package hagfors.ims...\n",
      "  writing model hagfors...\n",
      "    writing model name file...\n",
      "    writing package dis...\n",
      "    writing package ic...\n",
      "    writing package npf...\n",
      "    writing package oc...\n",
      "    writing package ghb_0...\n",
      "    writing package sfr_0...\n",
      "    writing package rch...\n",
      "    writing package obs_0...\n",
      "    writing package gwf_obs...\n"
     ]
    }
   ],
   "source": [
    "sim.write_simulation()"
   ]
  },
  {
   "cell_type": "markdown",
   "metadata": {},
   "source": [
    "Re-run model:"
   ]
  },
  {
   "cell_type": "code",
   "execution_count": 42,
   "metadata": {},
   "outputs": [
    {
     "name": "stdout",
     "output_type": "stream",
     "text": [
      "FloPy is using the following  executable to run the model: ..\\bins\\win\\mf6.exe\n",
      "                                   MODFLOW 6\n",
      "                U.S. GEOLOGICAL SURVEY MODULAR HYDROLOGIC MODEL\n",
      "                            VERSION 6.2.1 02/18/2021\n",
      "\n",
      "   MODFLOW 6 compiled Feb 18 2021 21:14:51 with IFORT compiler (ver. 19.10.3)\n",
      "\n",
      "This software has been approved for release by the U.S. Geological \n",
      "Survey (USGS). Although the software has been subjected to rigorous \n",
      "review, the USGS reserves the right to update the software as needed \n",
      "pursuant to further analysis and review. No warranty, expressed or \n",
      "implied, is made by the USGS or the U.S. Government as to the \n",
      "functionality of the software and related material nor shall the \n",
      "fact of release constitute any such warranty. Furthermore, the \n",
      "software is released on condition that neither the USGS nor the U.S. \n",
      "Government shall be held liable for any damages resulting from its \n",
      "authorized or unauthorized use. Also refer to the USGS Water \n",
      "Resources Software User Rights Notice for complete use, copyright, \n",
      "and distribution information.\n",
      "\n",
      " \n",
      " Run start date and time (yyyy/mm/dd hh:mm:ss): 2021/06/05 19:37:50\n",
      " \n",
      " Writing simulation list file: mfsim.lst\n",
      " Using Simulation name file: mfsim.nam\n",
      " \n",
      "    Solving:  Stress period:     1    Time step:     1\n",
      " \n",
      " Run end date and time (yyyy/mm/dd hh:mm:ss): 2021/06/05 19:38:06\n",
      " Elapsed run time: 16.046 Seconds\n",
      " \n",
      " Normal termination of simulation.\n",
      "\n",
      "Success is:  True\n"
     ]
    }
   ],
   "source": [
    "success, buff = sim.run_simulation(report=True)\n",
    "print('\\nSuccess is: ', success)"
   ]
  },
  {
   "cell_type": "markdown",
   "metadata": {},
   "source": [
    "A bit faster.  \n",
    "\n",
    "Plot results:"
   ]
  },
  {
   "cell_type": "code",
   "execution_count": 43,
   "metadata": {},
   "outputs": [
    {
     "data": {
      "image/png": "[encoded data removed]",
      "text/plain": [
       "<Figure size 1080x720 with 2 Axes>"
      ]
     },
     "metadata": {
      "needs_background": "light"
     },
     "output_type": "display_data"
    }
   ],
   "source": [
    "fname = os.path.join(tmp_model_ws, 'hagfors.bhd')\n",
    "hdobj = flopy.utils.HeadFile(fname)\n",
    "head = hdobj.get_data()\n",
    "levels = np.arange(130, 140, .25)\n",
    "fig = plt.figure(figsize=(15, 10))\n",
    "\n",
    "ax = fig.add_subplot(1, 2, 1, aspect='equal')\n",
    "ax.set_title('plot_array()')\n",
    "mapview = flopy.plot.PlotMapView(model=m)\n",
    "quadmesh = mapview.plot_ibound()\n",
    "quadmesh = mapview.plot_array(head, masked_values=[1e30], alpha=0.5)\n",
    "mapview.plot_bc(\"SFR\")\n",
    "linecollection = mapview.plot_grid(lw=0.1)\n",
    "\n",
    "ax = fig.add_subplot(1, 2, 2, aspect='equal')\n",
    "ax.set_title('contour_array()')\n",
    "mapview = flopy.plot.PlotMapView(model=m)\n",
    "quadmesh = mapview.plot_ibound()\n",
    "mapview.plot_bc(\"SFR\")\n",
    "contour_set = mapview.contour_array(head, masked_values=[1e30], levels=levels)\n",
    "linecollection = mapview.plot_grid(lw=0.1);"
   ]
  },
  {
   "cell_type": "code",
   "execution_count": null,
   "metadata": {},
   "outputs": [],
   "source": []
  }
 ],
 "metadata": {
  "kernelspec": {
   "display_name": "Python 3",
   "language": "python",
   "name": "python3"
  },
  "language_info": {
   "codemirror_mode": {
    "name": "ipython",
    "version": 3
   },
   "file_extension": ".py",
   "mimetype": "text/x-python",
   "name": "python",
   "nbconvert_exporter": "python",
   "pygments_lexer": "ipython3",
   "version": "3.8.6"
  }
 },
 "nbformat": 4,
 "nbformat_minor": 4
}
