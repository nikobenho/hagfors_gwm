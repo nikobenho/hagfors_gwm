{
 "cells": [
  {
   "cell_type": "code",
   "execution_count": 46,
   "metadata": {},
   "outputs": [],
   "source": [
    "import os\n",
    "import shutil\n",
    "import numpy as np\n",
    "import pandas as pd\n",
    "import flopy\n",
    "import lumpyrem as lr\n",
    "import matplotlib.pyplot as plt"
   ]
  },
  {
   "cell_type": "code",
   "execution_count": 22,
   "metadata": {},
   "outputs": [],
   "source": [
    "import warnings\n",
    "warnings.filterwarnings(\"ignore\", category=DeprecationWarning)"
   ]
  },
  {
   "cell_type": "code",
   "execution_count": 23,
   "metadata": {},
   "outputs": [],
   "source": [
    "bins_pth = os.path.join('..', 'bins', 'win') if 'nt' in os.name else os.path.join('..', 'bins', 'linux') # Binaries"
   ]
  },
  {
   "cell_type": "code",
   "execution_count": 24,
   "metadata": {},
   "outputs": [],
   "source": [
    "lr_ws = os.path.join('..', 'lr_prep') # Lumprem model workspace"
   ]
  },
  {
   "cell_type": "code",
   "execution_count": 25,
   "metadata": {},
   "outputs": [
    {
     "data": {
      "text/plain": [
       "['evapot.dat', 'rainfall.dat']"
      ]
     },
     "execution_count": 25,
     "metadata": {},
     "output_type": "execute_result"
    }
   ],
   "source": [
    "lumprem_input_pth = os.path.join('..', 'data', 'lumprem_input') # Input data curated in a previous notebook\n",
    "os.listdir(lumprem_input_pth)"
   ]
  },
  {
   "cell_type": "code",
   "execution_count": 26,
   "metadata": {},
   "outputs": [],
   "source": [
    "if not os.path.exists(lr_ws):\n",
    "    os.mkdir(lr_ws)"
   ]
  },
  {
   "cell_type": "code",
   "execution_count": 27,
   "metadata": {},
   "outputs": [],
   "source": [
    "for file in os.listdir(lumprem_input_pth):\n",
    "    shutil.copyfile(lumprem_input_pth+'\\\\'+file, lr_ws+'\\\\'+file) #Works for Windows. Does it work for Linux?"
   ]
  },
  {
   "cell_type": "code",
   "execution_count": 28,
   "metadata": {},
   "outputs": [
    {
     "data": {
      "text/plain": [
       "['evapot.dat', 'rainfall.dat']"
      ]
     },
     "execution_count": 28,
     "metadata": {},
     "output_type": "execute_result"
    }
   ],
   "source": [
    "os.listdir(lr_ws)"
   ]
  },
  {
   "cell_type": "code",
   "execution_count": 29,
   "metadata": {},
   "outputs": [],
   "source": [
    "# initiate the model and write the in files. What about rbuf & mbuf?\n",
    "# landuse model for recharge, evap\n",
    "lr_lu1 = lr.lumprem.Model(\n",
    "    model_name = 'lu1',\n",
    "    workspace = lr_ws,\n",
    "    irrigvolfrac = 0.0,\n",
    "    rainfile = 'rainfall.dat',\n",
    "    epotfile = 'evapot.dat',\n",
    "    maxvol = 0.2, # Varför valde jag 0.2 istället för 0.5 som är default?\n",
    "    vol = 0.1,\n",
    "    ks = 43.2 # 43.2 m/day = 0.0005 m/s ≈ reasonable initial guess considering local geology\n",
    ")"
   ]
  },
  {
   "cell_type": "code",
   "execution_count": 30,
   "metadata": {},
   "outputs": [
    {
     "name": "stdout",
     "output_type": "stream",
     "text": [
      "LUMPREM model input file written to: \n",
      "..\\lr_prep\\lr_lu1.in\n",
      "PEST template file written to: \n",
      "..\\lr_prep\\lr_lu1.tpl\n",
      "\n",
      " Enter name of LUMPREM input file:  Enter name for LUMPREM tabular output file:  Enter name for CSV output file (<Enter> if none):  \n",
      " - file lr_lu1.in read ok.\n",
      " - file lumprem_variables.rec written ok.\n",
      " - file rainfall.dat read ok.\n",
      " - file evapot.dat read ok.\n",
      " RECHMOD upper bucket: call   1 day   1 step   1: iteration limit exceeded\n",
      " RECHMOD upper bucket: call   1 day   2 step   1: iteration limit exceeded\n",
      " RECHMOD upper bucket: call   1 day   3 step   1: iteration limit exceeded\n",
      " RECHMOD upper bucket: call   1 day   4 step   1: iteration limit exceeded\n",
      " RECHMOD upper bucket: call   1 day   5 step   1: iteration limit exceeded\n",
      " RECHMOD upper bucket: call   1 day   6 step   1: iteration limit exceeded\n",
      " RECHMOD upper bucket: call   7 day  14 step   1: iteration limit exceeded\n",
      " RECHMOD upper bucket: call   7 day  15 step   1: iteration limit exceeded\n",
      " RECHMOD upper bucket: call   7 day  16 step   1: iteration limit exceeded\n",
      " RECHMOD upper bucket: call   7 day  17 step   1: iteration limit exceeded\n",
      " RECHMOD upper bucket: call  30 day  18 step   1: iteration limit exceeded\n",
      " - file lr_lu1.out written ok.\n",
      " - file lr_lu1.csv written ok.\n",
      "\n"
     ]
    }
   ],
   "source": [
    "lr_lu1.write_model(\n",
    "    start_date = '01/01/2016',\n",
    "    end_date = '01/01/2020',\n",
    "    noutdays='monthly',\n",
    "    mxiter = 500,\n",
    ")\n",
    "lr_lu1.run_model(version=2)"
   ]
  },
  {
   "cell_type": "code",
   "execution_count": 31,
   "metadata": {},
   "outputs": [
    {
     "data": {
      "text/html": [
       "<div>\n",
       "<style scoped>\n",
       "    .dataframe tbody tr th:only-of-type {\n",
       "        vertical-align: middle;\n",
       "    }\n",
       "\n",
       "    .dataframe tbody tr th {\n",
       "        vertical-align: top;\n",
       "    }\n",
       "\n",
       "    .dataframe thead th {\n",
       "        text-align: right;\n",
       "    }\n",
       "</style>\n",
       "<table border=\"1\" class=\"dataframe\">\n",
       "  <thead>\n",
       "    <tr style=\"text-align: right;\">\n",
       "      <th></th>\n",
       "      <th>days</th>\n",
       "      <th>vol_upper</th>\n",
       "      <th>vol_lower</th>\n",
       "      <th>vol_drain</th>\n",
       "      <th>vol_macro</th>\n",
       "      <th>del_vol_upper</th>\n",
       "      <th>del_vol_lower</th>\n",
       "      <th>del_vol_drain</th>\n",
       "      <th>del_vol_macro</th>\n",
       "      <th>rainfall</th>\n",
       "      <th>...</th>\n",
       "      <th>workspace</th>\n",
       "      <th>maxvol_br</th>\n",
       "      <th>extravol_br</th>\n",
       "      <th>gamma_br</th>\n",
       "      <th>ks_br</th>\n",
       "      <th>m_br</th>\n",
       "      <th>l_br</th>\n",
       "      <th>vol_br</th>\n",
       "      <th>epotfile_br</th>\n",
       "      <th>epot_br_all</th>\n",
       "    </tr>\n",
       "  </thead>\n",
       "  <tbody>\n",
       "    <tr>\n",
       "      <th>0</th>\n",
       "      <td>0</td>\n",
       "      <td>0.100000</td>\n",
       "      <td>0.0</td>\n",
       "      <td>0.000000</td>\n",
       "      <td>0.0</td>\n",
       "      <td>0.000000</td>\n",
       "      <td>0.0</td>\n",
       "      <td>0.000000</td>\n",
       "      <td>0.0</td>\n",
       "      <td>0.0000</td>\n",
       "      <td>...</td>\n",
       "      <td>..\\lr_prep</td>\n",
       "      <td>NaN</td>\n",
       "      <td>NaN</td>\n",
       "      <td>NaN</td>\n",
       "      <td>NaN</td>\n",
       "      <td>NaN</td>\n",
       "      <td>NaN</td>\n",
       "      <td>NaN</td>\n",
       "      <td>NaN</td>\n",
       "      <td>NaN</td>\n",
       "    </tr>\n",
       "    <tr>\n",
       "      <th>1</th>\n",
       "      <td>31</td>\n",
       "      <td>0.029620</td>\n",
       "      <td>0.0</td>\n",
       "      <td>0.012521</td>\n",
       "      <td>0.0</td>\n",
       "      <td>-0.070380</td>\n",
       "      <td>0.0</td>\n",
       "      <td>0.012521</td>\n",
       "      <td>0.0</td>\n",
       "      <td>0.0367</td>\n",
       "      <td>...</td>\n",
       "      <td>..\\lr_prep</td>\n",
       "      <td>NaN</td>\n",
       "      <td>NaN</td>\n",
       "      <td>NaN</td>\n",
       "      <td>NaN</td>\n",
       "      <td>NaN</td>\n",
       "      <td>NaN</td>\n",
       "      <td>NaN</td>\n",
       "      <td>NaN</td>\n",
       "      <td>NaN</td>\n",
       "    </tr>\n",
       "    <tr>\n",
       "      <th>2</th>\n",
       "      <td>60</td>\n",
       "      <td>0.020521</td>\n",
       "      <td>0.0</td>\n",
       "      <td>0.002498</td>\n",
       "      <td>0.0</td>\n",
       "      <td>-0.009098</td>\n",
       "      <td>0.0</td>\n",
       "      <td>-0.010023</td>\n",
       "      <td>0.0</td>\n",
       "      <td>0.0285</td>\n",
       "      <td>...</td>\n",
       "      <td>..\\lr_prep</td>\n",
       "      <td>NaN</td>\n",
       "      <td>NaN</td>\n",
       "      <td>NaN</td>\n",
       "      <td>NaN</td>\n",
       "      <td>NaN</td>\n",
       "      <td>NaN</td>\n",
       "      <td>NaN</td>\n",
       "      <td>NaN</td>\n",
       "      <td>NaN</td>\n",
       "    </tr>\n",
       "    <tr>\n",
       "      <th>3</th>\n",
       "      <td>91</td>\n",
       "      <td>0.029373</td>\n",
       "      <td>0.0</td>\n",
       "      <td>0.005160</td>\n",
       "      <td>0.0</td>\n",
       "      <td>0.008852</td>\n",
       "      <td>0.0</td>\n",
       "      <td>0.002663</td>\n",
       "      <td>0.0</td>\n",
       "      <td>0.0354</td>\n",
       "      <td>...</td>\n",
       "      <td>..\\lr_prep</td>\n",
       "      <td>NaN</td>\n",
       "      <td>NaN</td>\n",
       "      <td>NaN</td>\n",
       "      <td>NaN</td>\n",
       "      <td>NaN</td>\n",
       "      <td>NaN</td>\n",
       "      <td>NaN</td>\n",
       "      <td>NaN</td>\n",
       "      <td>NaN</td>\n",
       "    </tr>\n",
       "    <tr>\n",
       "      <th>4</th>\n",
       "      <td>121</td>\n",
       "      <td>0.032995</td>\n",
       "      <td>0.0</td>\n",
       "      <td>0.012032</td>\n",
       "      <td>0.0</td>\n",
       "      <td>0.003622</td>\n",
       "      <td>0.0</td>\n",
       "      <td>0.006871</td>\n",
       "      <td>0.0</td>\n",
       "      <td>0.0651</td>\n",
       "      <td>...</td>\n",
       "      <td>..\\lr_prep</td>\n",
       "      <td>NaN</td>\n",
       "      <td>NaN</td>\n",
       "      <td>NaN</td>\n",
       "      <td>NaN</td>\n",
       "      <td>NaN</td>\n",
       "      <td>NaN</td>\n",
       "      <td>NaN</td>\n",
       "      <td>NaN</td>\n",
       "      <td>NaN</td>\n",
       "    </tr>\n",
       "  </tbody>\n",
       "</table>\n",
       "<p>5 rows × 58 columns</p>\n",
       "</div>"
      ],
      "text/plain": [
       "   days  vol_upper  vol_lower  vol_drain  vol_macro  del_vol_upper  \\\n",
       "0     0   0.100000        0.0   0.000000        0.0       0.000000   \n",
       "1    31   0.029620        0.0   0.012521        0.0      -0.070380   \n",
       "2    60   0.020521        0.0   0.002498        0.0      -0.009098   \n",
       "3    91   0.029373        0.0   0.005160        0.0       0.008852   \n",
       "4   121   0.032995        0.0   0.012032        0.0       0.003622   \n",
       "\n",
       "   del_vol_lower  del_vol_drain  del_vol_macro  rainfall  ...   workspace  \\\n",
       "0            0.0       0.000000            0.0    0.0000  ...  ..\\lr_prep   \n",
       "1            0.0       0.012521            0.0    0.0367  ...  ..\\lr_prep   \n",
       "2            0.0      -0.010023            0.0    0.0285  ...  ..\\lr_prep   \n",
       "3            0.0       0.002663            0.0    0.0354  ...  ..\\lr_prep   \n",
       "4            0.0       0.006871            0.0    0.0651  ...  ..\\lr_prep   \n",
       "\n",
       "   maxvol_br  extravol_br  gamma_br  ks_br  m_br  l_br  vol_br  epotfile_br  \\\n",
       "0        NaN          NaN       NaN    NaN   NaN   NaN     NaN          NaN   \n",
       "1        NaN          NaN       NaN    NaN   NaN   NaN     NaN          NaN   \n",
       "2        NaN          NaN       NaN    NaN   NaN   NaN     NaN          NaN   \n",
       "3        NaN          NaN       NaN    NaN   NaN   NaN     NaN          NaN   \n",
       "4        NaN          NaN       NaN    NaN   NaN   NaN     NaN          NaN   \n",
       "\n",
       "   epot_br_all  \n",
       "0          NaN  \n",
       "1          NaN  \n",
       "2          NaN  \n",
       "3          NaN  \n",
       "4          NaN  \n",
       "\n",
       "[5 rows x 58 columns]"
      ]
     },
     "metadata": {},
     "output_type": "display_data"
    }
   ],
   "source": [
    "# get model results\n",
    "results = lr_lu1.get_results()\n",
    "display(results.head())"
   ]
  },
  {
   "cell_type": "code",
   "execution_count": 32,
   "metadata": {},
   "outputs": [
    {
     "data": {
      "text/html": [
       "<div>\n",
       "<style scoped>\n",
       "    .dataframe tbody tr th:only-of-type {\n",
       "        vertical-align: middle;\n",
       "    }\n",
       "\n",
       "    .dataframe tbody tr th {\n",
       "        vertical-align: top;\n",
       "    }\n",
       "\n",
       "    .dataframe thead th {\n",
       "        text-align: right;\n",
       "    }\n",
       "</style>\n",
       "<table border=\"1\" class=\"dataframe\">\n",
       "  <thead>\n",
       "    <tr style=\"text-align: right;\">\n",
       "      <th></th>\n",
       "      <th>days</th>\n",
       "      <th>vol_upper</th>\n",
       "      <th>vol_lower</th>\n",
       "      <th>vol_drain</th>\n",
       "      <th>vol_macro</th>\n",
       "      <th>del_vol_upper</th>\n",
       "      <th>del_vol_lower</th>\n",
       "      <th>del_vol_drain</th>\n",
       "      <th>del_vol_macro</th>\n",
       "      <th>rainfall</th>\n",
       "      <th>...</th>\n",
       "      <th>workspace</th>\n",
       "      <th>maxvol_br</th>\n",
       "      <th>extravol_br</th>\n",
       "      <th>gamma_br</th>\n",
       "      <th>ks_br</th>\n",
       "      <th>m_br</th>\n",
       "      <th>l_br</th>\n",
       "      <th>vol_br</th>\n",
       "      <th>epotfile_br</th>\n",
       "      <th>epot_br_all</th>\n",
       "    </tr>\n",
       "  </thead>\n",
       "  <tbody>\n",
       "    <tr>\n",
       "      <th>44</th>\n",
       "      <td>1339</td>\n",
       "      <td>0.028656</td>\n",
       "      <td>0.0</td>\n",
       "      <td>0.011535</td>\n",
       "      <td>0.0</td>\n",
       "      <td>-0.001046</td>\n",
       "      <td>0.0</td>\n",
       "      <td>0.002256</td>\n",
       "      <td>0.0</td>\n",
       "      <td>0.1049</td>\n",
       "      <td>...</td>\n",
       "      <td>..\\lr_prep</td>\n",
       "      <td>NaN</td>\n",
       "      <td>NaN</td>\n",
       "      <td>NaN</td>\n",
       "      <td>NaN</td>\n",
       "      <td>NaN</td>\n",
       "      <td>NaN</td>\n",
       "      <td>NaN</td>\n",
       "      <td>NaN</td>\n",
       "      <td>NaN</td>\n",
       "    </tr>\n",
       "    <tr>\n",
       "      <th>45</th>\n",
       "      <td>1369</td>\n",
       "      <td>0.033879</td>\n",
       "      <td>0.0</td>\n",
       "      <td>0.010354</td>\n",
       "      <td>0.0</td>\n",
       "      <td>0.005223</td>\n",
       "      <td>0.0</td>\n",
       "      <td>-0.001181</td>\n",
       "      <td>0.0</td>\n",
       "      <td>0.1053</td>\n",
       "      <td>...</td>\n",
       "      <td>..\\lr_prep</td>\n",
       "      <td>NaN</td>\n",
       "      <td>NaN</td>\n",
       "      <td>NaN</td>\n",
       "      <td>NaN</td>\n",
       "      <td>NaN</td>\n",
       "      <td>NaN</td>\n",
       "      <td>NaN</td>\n",
       "      <td>NaN</td>\n",
       "      <td>NaN</td>\n",
       "    </tr>\n",
       "    <tr>\n",
       "      <th>46</th>\n",
       "      <td>1400</td>\n",
       "      <td>0.022116</td>\n",
       "      <td>0.0</td>\n",
       "      <td>0.003948</td>\n",
       "      <td>0.0</td>\n",
       "      <td>-0.011763</td>\n",
       "      <td>0.0</td>\n",
       "      <td>-0.006406</td>\n",
       "      <td>0.0</td>\n",
       "      <td>0.0686</td>\n",
       "      <td>...</td>\n",
       "      <td>..\\lr_prep</td>\n",
       "      <td>NaN</td>\n",
       "      <td>NaN</td>\n",
       "      <td>NaN</td>\n",
       "      <td>NaN</td>\n",
       "      <td>NaN</td>\n",
       "      <td>NaN</td>\n",
       "      <td>NaN</td>\n",
       "      <td>NaN</td>\n",
       "      <td>NaN</td>\n",
       "    </tr>\n",
       "    <tr>\n",
       "      <th>47</th>\n",
       "      <td>1430</td>\n",
       "      <td>0.030076</td>\n",
       "      <td>0.0</td>\n",
       "      <td>0.023750</td>\n",
       "      <td>0.0</td>\n",
       "      <td>0.007959</td>\n",
       "      <td>0.0</td>\n",
       "      <td>0.019802</td>\n",
       "      <td>0.0</td>\n",
       "      <td>0.0734</td>\n",
       "      <td>...</td>\n",
       "      <td>..\\lr_prep</td>\n",
       "      <td>NaN</td>\n",
       "      <td>NaN</td>\n",
       "      <td>NaN</td>\n",
       "      <td>NaN</td>\n",
       "      <td>NaN</td>\n",
       "      <td>NaN</td>\n",
       "      <td>NaN</td>\n",
       "      <td>NaN</td>\n",
       "      <td>NaN</td>\n",
       "    </tr>\n",
       "    <tr>\n",
       "      <th>48</th>\n",
       "      <td>1461</td>\n",
       "      <td>0.024696</td>\n",
       "      <td>0.0</td>\n",
       "      <td>0.005877</td>\n",
       "      <td>0.0</td>\n",
       "      <td>-0.005379</td>\n",
       "      <td>0.0</td>\n",
       "      <td>-0.017873</td>\n",
       "      <td>0.0</td>\n",
       "      <td>0.0654</td>\n",
       "      <td>...</td>\n",
       "      <td>..\\lr_prep</td>\n",
       "      <td>NaN</td>\n",
       "      <td>NaN</td>\n",
       "      <td>NaN</td>\n",
       "      <td>NaN</td>\n",
       "      <td>NaN</td>\n",
       "      <td>NaN</td>\n",
       "      <td>NaN</td>\n",
       "      <td>NaN</td>\n",
       "      <td>NaN</td>\n",
       "    </tr>\n",
       "  </tbody>\n",
       "</table>\n",
       "<p>5 rows × 58 columns</p>\n",
       "</div>"
      ],
      "text/plain": [
       "    days  vol_upper  vol_lower  vol_drain  vol_macro  del_vol_upper  \\\n",
       "44  1339   0.028656        0.0   0.011535        0.0      -0.001046   \n",
       "45  1369   0.033879        0.0   0.010354        0.0       0.005223   \n",
       "46  1400   0.022116        0.0   0.003948        0.0      -0.011763   \n",
       "47  1430   0.030076        0.0   0.023750        0.0       0.007959   \n",
       "48  1461   0.024696        0.0   0.005877        0.0      -0.005379   \n",
       "\n",
       "    del_vol_lower  del_vol_drain  del_vol_macro  rainfall  ...   workspace  \\\n",
       "44            0.0       0.002256            0.0    0.1049  ...  ..\\lr_prep   \n",
       "45            0.0      -0.001181            0.0    0.1053  ...  ..\\lr_prep   \n",
       "46            0.0      -0.006406            0.0    0.0686  ...  ..\\lr_prep   \n",
       "47            0.0       0.019802            0.0    0.0734  ...  ..\\lr_prep   \n",
       "48            0.0      -0.017873            0.0    0.0654  ...  ..\\lr_prep   \n",
       "\n",
       "    maxvol_br  extravol_br  gamma_br  ks_br  m_br  l_br  vol_br  epotfile_br  \\\n",
       "44        NaN          NaN       NaN    NaN   NaN   NaN     NaN          NaN   \n",
       "45        NaN          NaN       NaN    NaN   NaN   NaN     NaN          NaN   \n",
       "46        NaN          NaN       NaN    NaN   NaN   NaN     NaN          NaN   \n",
       "47        NaN          NaN       NaN    NaN   NaN   NaN     NaN          NaN   \n",
       "48        NaN          NaN       NaN    NaN   NaN   NaN     NaN          NaN   \n",
       "\n",
       "    epot_br_all  \n",
       "44          NaN  \n",
       "45          NaN  \n",
       "46          NaN  \n",
       "47          NaN  \n",
       "48          NaN  \n",
       "\n",
       "[5 rows x 58 columns]"
      ]
     },
     "metadata": {},
     "output_type": "display_data"
    }
   ],
   "source": [
    "display(results.tail())"
   ]
  },
  {
   "cell_type": "code",
   "execution_count": 34,
   "metadata": {},
   "outputs": [
    {
     "data": {
      "image/png": "[encoded data removed]",
      "text/plain": [
       "<Figure size 500x300 with 1 Axes>"
      ]
     },
     "metadata": {
      "needs_background": "light"
     },
     "output_type": "display_data"
    }
   ],
   "source": [
    "fig = plt.figure(figsize=(10, 6), dpi=50)\n",
    "ax = fig.add_subplot(1, 1, 1)\n",
    "plt.ticklabel_format(axis='both', style='plain', useOffset=False) #Show coordinates\n",
    "ax.set_title('lr_lu1 model', fontsize=18)\n",
    "\n",
    "results.plot('days','net_recharge', ax=ax)\n",
    "results.plot('days', 'gw_pot_evap', ax=ax)\n",
    "\n",
    "plt.legend()\n",
    "plt.show()"
   ]
  },
  {
   "cell_type": "markdown",
   "metadata": {},
   "source": [
    "GHB Models:"
   ]
  },
  {
   "cell_type": "code",
   "execution_count": null,
   "metadata": {},
   "outputs": [],
   "source": [
    "lr_gred = lr.lumprem.Model(\n",
    "    model_name = 'lr_gred',\n",
    "    workspace = lr_ws,\n",
    "    factor1 = 30,\n",
    "    factor2 = 20,\n",
    "    power = 2,\n",
    "    offset = 150.0,\n",
    "    maxvol = 1,\n",
    "    surface = 200,\n",
    "    ks = 43.2,\n",
    "    irrigvolfrac=0.0,\n",
    "    rainfile = 'rainfall.dat',\n",
    "    epotfile = 'evapot.dat',\n",
    ")"
   ]
  },
  {
   "cell_type": "code",
   "execution_count": null,
   "metadata": {},
   "outputs": [],
   "source": [
    "lr_gred.write_model(\n",
    "    start_date = '01/01/2016',\n",
    "    end_date = '01/01/2020',\n",
    "    noutdays='monthly',\n",
    "    mxiter = 500,\n",
    ")\n",
    "\n",
    "lr_gred.run_model(version=2)"
   ]
  },
  {
   "cell_type": "code",
   "execution_count": null,
   "metadata": {},
   "outputs": [],
   "source": [
    "lr_gred_df = lr_gred.get_results()"
   ]
  },
  {
   "cell_type": "code",
   "execution_count": null,
   "metadata": {},
   "outputs": [],
   "source": [
    "# plot the model results\n",
    "import seaborn as sb\n",
    "sb.lineplot(data=lr_gred_df, x='days',y='elevation', hue='lumprem_model_name', alpha=0.5);"
   ]
  },
  {
   "cell_type": "markdown",
   "metadata": {},
   "source": [
    "# load the simulation"
   ]
  },
  {
   "cell_type": "code",
   "execution_count": 35,
   "metadata": {},
   "outputs": [
    {
     "data": {
      "text/plain": [
       "['experimental.cbb',\n",
       " 'experimental.disv',\n",
       " 'experimental.disv.grb',\n",
       " 'experimental.ghb',\n",
       " 'experimental.hds',\n",
       " 'experimental.ic',\n",
       " 'experimental.ims',\n",
       " 'experimental.lst',\n",
       " 'experimental.nam',\n",
       " 'experimental.npf',\n",
       " 'experimental.obs',\n",
       " 'experimental.oc',\n",
       " 'experimental.rch',\n",
       " 'experimental.sfr',\n",
       " 'experimental.sfr.bud',\n",
       " 'experimental.sfr.obs',\n",
       " 'experimental.sto',\n",
       " 'experimental.tdis',\n",
       " 'head.obs.csv',\n",
       " 'mfsim.lst',\n",
       " 'mfsim.nam',\n",
       " 'sfr.obs.csv']"
      ]
     },
     "execution_count": 35,
     "metadata": {},
     "output_type": "execute_result"
    }
   ],
   "source": [
    "org_model_ws = os.path.join('..', 'experimental')\n",
    "os.listdir(org_model_ws)"
   ]
  },
  {
   "cell_type": "code",
   "execution_count": 36,
   "metadata": {},
   "outputs": [
    {
     "data": {
      "text/plain": [
       "['experimental.cbb',\n",
       " 'experimental.disv',\n",
       " 'experimental.disv.grb',\n",
       " 'experimental.ghb',\n",
       " 'experimental.hds',\n",
       " 'experimental.ic',\n",
       " 'experimental.ims',\n",
       " 'experimental.lst',\n",
       " 'experimental.nam',\n",
       " 'experimental.npf',\n",
       " 'experimental.obs',\n",
       " 'experimental.oc',\n",
       " 'experimental.rch',\n",
       " 'experimental.sfr',\n",
       " 'experimental.sfr.bud',\n",
       " 'experimental.sfr.obs',\n",
       " 'experimental.sto',\n",
       " 'experimental.tdis',\n",
       " 'head.obs.csv',\n",
       " 'mfsim.lst',\n",
       " 'mfsim.nam',\n",
       " 'sfr.obs.csv']"
      ]
     },
     "execution_count": 36,
     "metadata": {},
     "output_type": "execute_result"
    }
   ],
   "source": [
    "tmp_model_ws = os.path.join('..', 'temp_flopy_lr')\n",
    "if os.path.exists(tmp_model_ws):\n",
    "    shutil.rmtree(tmp_model_ws)\n",
    "shutil.copytree(org_model_ws,tmp_model_ws)\n",
    "os.listdir(tmp_model_ws)"
   ]
  },
  {
   "cell_type": "code",
   "execution_count": 37,
   "metadata": {},
   "outputs": [],
   "source": [
    "ml_name = 'experimental'"
   ]
  },
  {
   "cell_type": "code",
   "execution_count": 38,
   "metadata": {},
   "outputs": [
    {
     "name": "stdout",
     "output_type": "stream",
     "text": [
      "loading simulation...\n",
      "  loading simulation name file...\n",
      "  loading tdis package...\n",
      "  loading model gwf6...\n",
      "    loading package disv...\n",
      "WARNING: Unable to resolve dimension of ('gwf6', 'disv', 'cell2d', 'cell2d', 'icvert') based on shape \"ncvert\".\n",
      "    loading package ic...\n",
      "    loading package npf...\n",
      "    loading package oc...\n",
      "    loading package sto...\n",
      "    loading package ghb...\n",
      "    loading package sfr...\n",
      "    loading package obs...\n",
      "    loading package rch...\n",
      "  loading ims package experimental...\n"
     ]
    }
   ],
   "source": [
    "loaded_sim = flopy.mf6.MFSimulation.load(ml_name, 'mf6', os.path.join(bins_pth, 'mf6'), tmp_model_ws)"
   ]
  },
  {
   "cell_type": "code",
   "execution_count": 39,
   "metadata": {},
   "outputs": [
    {
     "name": "stdout",
     "output_type": "stream",
     "text": [
      "FloPy is using the following executable to run the model: ..\\bins\\win\\mf6.exe\n",
      "                                   MODFLOW 6\n",
      "                U.S. GEOLOGICAL SURVEY MODULAR HYDROLOGIC MODEL\n",
      "                            VERSION 6.2.1 02/18/2021\n",
      "\n",
      "   MODFLOW 6 compiled Feb 18 2021 21:14:51 with IFORT compiler (ver. 19.10.3)\n",
      "\n",
      "This software has been approved for release by the U.S. Geological \n",
      "Survey (USGS). Although the software has been subjected to rigorous \n",
      "review, the USGS reserves the right to update the software as needed \n",
      "pursuant to further analysis and review. No warranty, expressed or \n",
      "implied, is made by the USGS or the U.S. Government as to the \n",
      "functionality of the software and related material nor shall the \n",
      "fact of release constitute any such warranty. Furthermore, the \n",
      "software is released on condition that neither the USGS nor the U.S. \n",
      "Government shall be held liable for any damages resulting from its \n",
      "authorized or unauthorized use. Also refer to the USGS Water \n",
      "Resources Software User Rights Notice for complete use, copyright, \n",
      "and distribution information.\n",
      "\n",
      " \n",
      " Run start date and time (yyyy/mm/dd hh:mm:ss): 2021/11/03 14:21:34\n",
      " \n",
      " Writing simulation list file: mfsim.lst\n",
      " Using Simulation name file: mfsim.nam\n",
      " \n",
      "    Solving:  Stress period:     1    Time step:     1\n",
      "    Solving:  Stress period:     2    Time step:     1\n",
      "    Solving:  Stress period:     2    Time step:     2\n",
      "    Solving:  Stress period:     2    Time step:     3\n",
      "    Solving:  Stress period:     2    Time step:     4\n",
      "    Solving:  Stress period:     2    Time step:     5\n",
      "    Solving:  Stress period:     2    Time step:     6\n",
      "    Solving:  Stress period:     2    Time step:     7\n",
      "    Solving:  Stress period:     2    Time step:     8\n",
      "    Solving:  Stress period:     2    Time step:     9\n",
      "    Solving:  Stress period:     2    Time step:    10\n",
      "    Solving:  Stress period:     2    Time step:    11\n",
      "    Solving:  Stress period:     2    Time step:    12\n",
      "    Solving:  Stress period:     2    Time step:    13\n",
      "    Solving:  Stress period:     2    Time step:    14\n",
      "    Solving:  Stress period:     2    Time step:    15\n",
      "    Solving:  Stress period:     2    Time step:    16\n",
      "    Solving:  Stress period:     2    Time step:    17\n",
      "    Solving:  Stress period:     2    Time step:    18\n",
      "    Solving:  Stress period:     2    Time step:    19\n",
      "    Solving:  Stress period:     2    Time step:    20\n",
      "    Solving:  Stress period:     2    Time step:    21\n",
      "    Solving:  Stress period:     2    Time step:    22\n",
      "    Solving:  Stress period:     2    Time step:    23\n",
      "    Solving:  Stress period:     2    Time step:    24\n",
      "    Solving:  Stress period:     2    Time step:    25\n",
      "    Solving:  Stress period:     2    Time step:    26\n",
      "    Solving:  Stress period:     2    Time step:    27\n",
      "    Solving:  Stress period:     2    Time step:    28\n",
      "    Solving:  Stress period:     2    Time step:    29\n",
      "    Solving:  Stress period:     2    Time step:    30\n",
      "    Solving:  Stress period:     2    Time step:    31\n",
      "    Solving:  Stress period:     2    Time step:    32\n",
      "    Solving:  Stress period:     2    Time step:    33\n",
      "    Solving:  Stress period:     2    Time step:    34\n",
      "    Solving:  Stress period:     2    Time step:    35\n",
      "    Solving:  Stress period:     2    Time step:    36\n",
      "    Solving:  Stress period:     2    Time step:    37\n",
      "    Solving:  Stress period:     2    Time step:    38\n",
      "    Solving:  Stress period:     2    Time step:    39\n",
      "    Solving:  Stress period:     2    Time step:    40\n",
      "    Solving:  Stress period:     2    Time step:    41\n",
      "    Solving:  Stress period:     2    Time step:    42\n",
      "    Solving:  Stress period:     2    Time step:    43\n",
      "    Solving:  Stress period:     2    Time step:    44\n",
      "    Solving:  Stress period:     2    Time step:    45\n",
      "    Solving:  Stress period:     2    Time step:    46\n",
      "    Solving:  Stress period:     2    Time step:    47\n",
      "    Solving:  Stress period:     2    Time step:    48\n",
      " \n",
      " Run end date and time (yyyy/mm/dd hh:mm:ss): 2021/11/03 14:21:37\n",
      " Elapsed run time:  3.016 Seconds\n",
      " \n",
      " Normal termination of simulation.\n"
     ]
    },
    {
     "data": {
      "text/plain": [
       "(True, [])"
      ]
     },
     "execution_count": 39,
     "metadata": {},
     "output_type": "execute_result"
    }
   ],
   "source": [
    "loaded_sim.run_simulation()"
   ]
  },
  {
   "cell_type": "code",
   "execution_count": 40,
   "metadata": {},
   "outputs": [],
   "source": [
    "mdl = loaded_sim.get_model('experimental')"
   ]
  },
  {
   "cell_type": "code",
   "execution_count": 48,
   "metadata": {},
   "outputs": [],
   "source": [
    "disv = mdl.get_package('disv')"
   ]
  },
  {
   "cell_type": "code",
   "execution_count": 101,
   "metadata": {},
   "outputs": [],
   "source": [
    "tdis = mdl.get_package('tdis')"
   ]
  },
  {
   "cell_type": "code",
   "execution_count": 42,
   "metadata": {},
   "outputs": [],
   "source": [
    "rch = mdl.get_package('rch')\n",
    "ghb = mdl.get_package('ghb')"
   ]
  },
  {
   "cell_type": "code",
   "execution_count": 106,
   "metadata": {},
   "outputs": [],
   "source": [
    "mdl.remove_package('rch')"
   ]
  },
  {
   "cell_type": "code",
   "execution_count": 107,
   "metadata": {},
   "outputs": [],
   "source": [
    "rch_ts = lr.lr2series.TimeSeries(\n",
    "    ts_file='rch.ts',\n",
    "    workspace=lr_ws,\n",
    "    lr_models=[lr_lu1],\n",
    "    ts_names=['rch'],\n",
    "    lumprem_output_cols=['net_recharge'],\n",
    "    methods=['linearend'],\n",
    "    div_delta_t=True\n",
    ")\n"
   ]
  },
  {
   "cell_type": "code",
   "execution_count": 108,
   "metadata": {},
   "outputs": [
    {
     "name": "stdout",
     "output_type": "stream",
     "text": [
      "MF6 timeseries file ..\\lr_prep\\rch.ts.in written to:\n",
      "..\\lr_prep\\rch.ts.in\n",
      " Enter name of LR2SERIES control file:  \n",
      " - reading file rch.ts.in...\n",
      " \n",
      " - reading LUMPREM output file lr_lu1.out...\n",
      " - file lr_lu1.out read ok.\n",
      " - writing file rch.ts...\n",
      " - file rch.ts written ok.\n",
      " \n",
      " - file rch.ts.in read ok.\n",
      "\n"
     ]
    }
   ],
   "source": [
    "rch_ts.write_ts()"
   ]
  },
  {
   "cell_type": "code",
   "execution_count": 109,
   "metadata": {},
   "outputs": [],
   "source": [
    "ghb_cell_ids = [i[0][1] for i in ghb.stress_period_data.data[0]]\n",
    "#ghb_cell_ids cells in ghb cant be part of rch (will cause fortran error)"
   ]
  },
  {
   "cell_type": "code",
   "execution_count": 110,
   "metadata": {},
   "outputs": [],
   "source": [
    "rchcells = np.array(list(range(disv.ncpl.data)), dtype=int)\n",
    "rchcells[ghb_cell_ids] = -1\n",
    "rch_spd = [\n",
    "    ((0, rchcells[i]), 'rch_lu1', 1, 'rch') for i in range(disv.ncpl.data) if rchcells[i] > 0\n",
    "]\n",
    "rch_spd = {0: rch_spd, 1: rch_spd}"
   ]
  },
  {
   "cell_type": "code",
   "execution_count": 111,
   "metadata": {},
   "outputs": [],
   "source": [
    "rch = flopy.mf6.ModflowGwfrch(\n",
    "    mdl,\n",
    "    filename='{}.rch'.format('experimental'), \n",
    "    pname='rch',\n",
    "    fixed_cell=True,\n",
    "    auxiliary='MULTIPLIER',\n",
    "    auxmultname='MULTIPLIER',\n",
    "    print_input=True,\n",
    "    print_flows=True, \n",
    "    save_flows=True,\n",
    "    boundnames=True,\n",
    "    stress_period_data=rch_spd\n",
    ")"
   ]
  },
  {
   "cell_type": "code",
   "execution_count": 112,
   "metadata": {},
   "outputs": [
    {
     "name": "stdout",
     "output_type": "stream",
     "text": [
      "writing simulation...\n",
      "  writing simulation name file...\n",
      "  writing simulation tdis package...\n",
      "  writing ims package experimental...\n",
      "  writing model experimental...\n",
      "    writing model name file...\n",
      "    writing package disv...\n",
      "    writing package ic...\n",
      "    writing package npf...\n",
      "    writing package oc...\n",
      "    writing package sto...\n",
      "    writing package ghb...\n",
      "    writing package sfr_obs...\n",
      "    writing package sfr...\n",
      "    writing package gwf_obs...\n",
      "    writing package rch...\n",
      "INFORMATION: maxbound in ('gwf6', 'rch', 'dimensions') changed to 2955 based on size of stress_period_data\n",
      "    writing package ts_0...\n"
     ]
    }
   ],
   "source": [
    "# flopy requires that ou initilize a ts object to tell it which .ts file to read\n",
    "#initialize the ts \n",
    "rch.ts.initialize(filename='rch.ts')\n",
    "\n",
    "\n",
    "loaded_sim.write_simulation()"
   ]
  },
  {
   "cell_type": "code",
   "execution_count": 113,
   "metadata": {},
   "outputs": [
    {
     "data": {
      "text/plain": [
       "'..\\\\temp_flopy_lr\\\\rch.ts'"
      ]
     },
     "execution_count": 113,
     "metadata": {},
     "output_type": "execute_result"
    }
   ],
   "source": [
    "lumprem_ts = os.path.join(lr_ws, 'rch.ts')\n",
    "flopy_ts = os.path.join(tmp_model_ws, 'rch.ts')\n",
    "\n",
    "shutil.move(lumprem_ts, flopy_ts)"
   ]
  },
  {
   "cell_type": "code",
   "execution_count": 114,
   "metadata": {},
   "outputs": [
    {
     "name": "stdout",
     "output_type": "stream",
     "text": [
      "FloPy is using the following executable to run the model: ..\\bins\\win\\mf6.exe\n",
      "                                   MODFLOW 6\n",
      "                U.S. GEOLOGICAL SURVEY MODULAR HYDROLOGIC MODEL\n",
      "                            VERSION 6.2.1 02/18/2021\n",
      "\n",
      "   MODFLOW 6 compiled Feb 18 2021 21:14:51 with IFORT compiler (ver. 19.10.3)\n",
      "\n",
      "This software has been approved for release by the U.S. Geological \n",
      "Survey (USGS). Although the software has been subjected to rigorous \n",
      "review, the USGS reserves the right to update the software as needed \n",
      "pursuant to further analysis and review. No warranty, expressed or \n",
      "implied, is made by the USGS or the U.S. Government as to the \n",
      "functionality of the software and related material nor shall the \n",
      "fact of release constitute any such warranty. Furthermore, the \n",
      "software is released on condition that neither the USGS nor the U.S. \n",
      "Government shall be held liable for any damages resulting from its \n",
      "authorized or unauthorized use. Also refer to the USGS Water \n",
      "Resources Software User Rights Notice for complete use, copyright, \n",
      "and distribution information.\n",
      "\n",
      " \n",
      " Run start date and time (yyyy/mm/dd hh:mm:ss): 2021/11/03 15:11:06\n",
      " \n",
      " Writing simulation list file: mfsim.lst\n",
      " Using Simulation name file: mfsim.nam\n",
      " \n",
      "    Solving:  Stress period:     1    Time step:     1\n",
      "    Solving:  Stress period:     2    Time step:     1\n",
      "    Solving:  Stress period:     2    Time step:     2\n",
      "    Solving:  Stress period:     2    Time step:     3\n",
      "    Solving:  Stress period:     2    Time step:     4\n",
      "    Solving:  Stress period:     2    Time step:     5\n",
      "    Solving:  Stress period:     2    Time step:     6\n",
      "    Solving:  Stress period:     2    Time step:     7\n",
      "    Solving:  Stress period:     2    Time step:     8\n",
      "    Solving:  Stress period:     2    Time step:     9\n",
      "    Solving:  Stress period:     2    Time step:    10\n",
      "    Solving:  Stress period:     2    Time step:    11\n",
      "    Solving:  Stress period:     2    Time step:    12\n",
      "    Solving:  Stress period:     2    Time step:    13\n",
      "    Solving:  Stress period:     2    Time step:    14\n",
      "    Solving:  Stress period:     2    Time step:    15\n",
      "    Solving:  Stress period:     2    Time step:    16\n",
      "    Solving:  Stress period:     2    Time step:    17\n",
      "    Solving:  Stress period:     2    Time step:    18\n",
      "    Solving:  Stress period:     2    Time step:    19\n",
      "    Solving:  Stress period:     2    Time step:    20\n",
      "    Solving:  Stress period:     2    Time step:    21\n",
      "    Solving:  Stress period:     2    Time step:    22\n",
      "    Solving:  Stress period:     2    Time step:    23\n",
      "    Solving:  Stress period:     2    Time step:    24\n",
      "    Solving:  Stress period:     2    Time step:    25\n",
      "    Solving:  Stress period:     2    Time step:    26\n",
      "    Solving:  Stress period:     2    Time step:    27\n",
      "    Solving:  Stress period:     2    Time step:    28\n",
      "    Solving:  Stress period:     2    Time step:    29\n",
      "    Solving:  Stress period:     2    Time step:    30\n",
      "    Solving:  Stress period:     2    Time step:    31\n",
      "    Solving:  Stress period:     2    Time step:    32\n",
      "    Solving:  Stress period:     2    Time step:    33\n",
      "    Solving:  Stress period:     2    Time step:    34\n",
      "    Solving:  Stress period:     2    Time step:    35\n",
      "    Solving:  Stress period:     2    Time step:    36\n",
      "    Solving:  Stress period:     2    Time step:    37\n",
      "    Solving:  Stress period:     2    Time step:    38\n",
      "    Solving:  Stress period:     2    Time step:    39\n",
      "    Solving:  Stress period:     2    Time step:    40\n",
      "    Solving:  Stress period:     2    Time step:    41\n",
      "    Solving:  Stress period:     2    Time step:    42\n",
      "    Solving:  Stress period:     2    Time step:    43\n",
      "    Solving:  Stress period:     2    Time step:    44\n",
      "    Solving:  Stress period:     2    Time step:    45\n",
      "    Solving:  Stress period:     2    Time step:    46\n",
      "    Solving:  Stress period:     2    Time step:    47\n",
      "    Solving:  Stress period:     2    Time step:    48\n",
      " \n",
      " Run end date and time (yyyy/mm/dd hh:mm:ss): 2021/11/03 15:11:22\n",
      " Elapsed run time: 16.405 Seconds\n",
      " \n",
      " Normal termination of simulation.\n"
     ]
    },
    {
     "data": {
      "text/plain": [
       "(True, [])"
      ]
     },
     "execution_count": 114,
     "metadata": {},
     "output_type": "execute_result"
    }
   ],
   "source": [
    "loaded_sim.run_simulation()"
   ]
  },
  {
   "cell_type": "code",
   "execution_count": null,
   "metadata": {},
   "outputs": [],
   "source": []
  },
  {
   "cell_type": "code",
   "execution_count": null,
   "metadata": {},
   "outputs": [],
   "source": []
  },
  {
   "cell_type": "code",
   "execution_count": 115,
   "metadata": {},
   "outputs": [
    {
     "data": {
      "image/png": "[encoded data removed]",
      "text/plain": [
       "<Figure size 432x288 with 1 Axes>"
      ]
     },
     "metadata": {
      "needs_background": "light"
     },
     "output_type": "display_data"
    }
   ],
   "source": [
    "# check the output\n",
    "csv = os.path.join(tmp_model_ws,'sfr.obs.csv')\n",
    "option2 = pd.read_csv(csv)\n",
    "\n",
    "option2.plot(x='time');"
   ]
  },
  {
   "cell_type": "code",
   "execution_count": 116,
   "metadata": {},
   "outputs": [
    {
     "data": {
      "text/plain": [
       "<AxesSubplot:>"
      ]
     },
     "execution_count": 116,
     "metadata": {},
     "output_type": "execute_result"
    },
    {
     "data": {
      "image/png": "[encoded data removed]",
      "text/plain": [
       "<Figure size 432x288 with 1 Axes>"
      ]
     },
     "metadata": {
      "needs_background": "light"
     },
     "output_type": "display_data"
    }
   ],
   "source": [
    "option2['NI15-O44-STG'].plot()"
   ]
  },
  {
   "cell_type": "code",
   "execution_count": 117,
   "metadata": {},
   "outputs": [],
   "source": [
    "# check the output\n",
    "csv = os.path.join(tmp_model_ws,'head.obs.csv')\n",
    "option2 = pd.read_csv(csv)"
   ]
  },
  {
   "cell_type": "code",
   "execution_count": 118,
   "metadata": {},
   "outputs": [
    {
     "data": {
      "text/plain": [
       "Index(['time', 'B9-2', 'B10-2', 'B12-1', 'B16-1', 'B2-1', 'B22-1', 'B27',\n",
       "       'B29', 'KB1-1',\n",
       "       ...\n",
       "       'NI1609-3', 'NI1612-2', 'NI1701-1', 'NI1702-1', 'NI1704-2', 'NI1705-2',\n",
       "       'NI1706-2', 'NI1707-1', 'NI1708-1', 'NI1711-1'],\n",
       "      dtype='object', length=145)"
      ]
     },
     "execution_count": 118,
     "metadata": {},
     "output_type": "execute_result"
    }
   ],
   "source": [
    "option2.columns"
   ]
  },
  {
   "cell_type": "code",
   "execution_count": 119,
   "metadata": {},
   "outputs": [
    {
     "data": {
      "text/plain": [
       "<AxesSubplot:>"
      ]
     },
     "execution_count": 119,
     "metadata": {},
     "output_type": "execute_result"
    },
    {
     "data": {
      "image/png": "[encoded data removed]",
      "text/plain": [
       "<Figure size 432x288 with 1 Axes>"
      ]
     },
     "metadata": {
      "needs_background": "light"
     },
     "output_type": "display_data"
    }
   ],
   "source": [
    "option2['B10-2'].plot()"
   ]
  },
  {
   "cell_type": "markdown",
   "metadata": {},
   "source": [
    "Delete LR to start over:"
   ]
  },
  {
   "cell_type": "code",
   "execution_count": 20,
   "metadata": {},
   "outputs": [],
   "source": [
    "shutil.rmtree(lr_ws)"
   ]
  },
  {
   "cell_type": "code",
   "execution_count": null,
   "metadata": {},
   "outputs": [],
   "source": []
  }
 ],
 "metadata": {
  "kernelspec": {
   "display_name": "Python 3",
   "language": "python",
   "name": "python3"
  },
  "language_info": {
   "codemirror_mode": {
    "name": "ipython",
    "version": 3
   },
   "file_extension": ".py",
   "mimetype": "text/x-python",
   "name": "python",
   "nbconvert_exporter": "python",
   "pygments_lexer": "ipython3",
   "version": "3.8.6"
  }
 },
 "nbformat": 4,
 "nbformat_minor": 4
}
