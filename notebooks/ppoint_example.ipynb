{
 "cells": [
  {
   "cell_type": "code",
   "execution_count": 2,
   "metadata": {},
   "outputs": [
    {
     "name": "stderr",
     "output_type": "stream",
     "text": [
      "c:\\users\\nat12nho\\appdata\\local\\programs\\python\\python38\\lib\\site-packages\\ipykernel\\ipkernel.py:287: DeprecationWarning: `should_run_async` will not call `transform_cell` automatically in the future. Please pass the result to `transformed_cell` argument and any exception that happen during thetransform in `preprocessing_exc_tuple` in IPython 7.17 and above.\n",
      "  and should_run_async(code)\n"
     ]
    }
   ],
   "source": [
    "import os\n",
    "import numpy as np\n",
    "import pandas as pd\n",
    "import matplotlib.pyplot as plt\n",
    "import pyemu\n",
    "import flopy\n",
    "\n",
    "\n",
    "from math import log10\n",
    "from math import sqrt\n",
    "import shutil"
   ]
  },
  {
   "cell_type": "code",
   "execution_count": 3,
   "metadata": {},
   "outputs": [
    {
     "name": "stderr",
     "output_type": "stream",
     "text": [
      "c:\\users\\nat12nho\\appdata\\local\\programs\\python\\python38\\lib\\site-packages\\ipykernel\\ipkernel.py:287: DeprecationWarning: `should_run_async` will not call `transform_cell` automatically in the future. Please pass the result to `transformed_cell` argument and any exception that happen during thetransform in `preprocessing_exc_tuple` in IPython 7.17 and above.\n",
      "  and should_run_async(code)\n"
     ]
    },
    {
     "name": "stdout",
     "output_type": "stream",
     "text": [
      "loading simulation...\n",
      "  loading simulation name file...\n",
      "  loading tdis package...\n",
      "  loading model gwf6...\n",
      "    loading package disv...\n",
      "WARNING: Unable to resolve dimension of ('gwf6', 'disv', 'cell2d', 'cell2d', 'icvert') based on shape \"ncvert\".\n",
      "    loading package obs...\n",
      "    loading package sfr...\n",
      "    loading package rch...\n",
      "    loading package ghb...\n",
      "    loading package sto...\n",
      "    loading package oc...\n",
      "    loading package npf...\n",
      "    loading package ic...\n",
      "  loading ims package experimental...\n",
      "writing simulation...\n",
      "  writing simulation name file...\n",
      "  writing simulation tdis package...\n",
      "  writing ims package experimental...\n",
      "  writing model experimental...\n",
      "    writing model name file...\n",
      "    writing package disv...\n",
      "    writing package gwf_obs...\n",
      "    writing package sfr_obs...\n",
      "    writing package sfr...\n",
      "    writing package rch...\n",
      "    writing package ghb...\n",
      "    writing package sto...\n",
      "    writing package oc...\n",
      "    writing package npf...\n",
      "    writing package ic...\n"
     ]
    }
   ],
   "source": [
    "org_model_ws = os.path.join('..', 'experimental')\n",
    "model_ws = os.path.join('..', 'experimental_ppoints')\n",
    "\n",
    "sim = flopy.mf6.MFSimulation.load(sim_ws=org_model_ws)\n",
    "m = sim.get_model()\n",
    "\n",
    "sim.set_sim_path(model_ws)\n",
    "\n",
    "sim.write_simulation()"
   ]
  },
  {
   "cell_type": "code",
   "execution_count": 4,
   "metadata": {},
   "outputs": [
    {
     "name": "stderr",
     "output_type": "stream",
     "text": [
      "c:\\users\\nat12nho\\appdata\\local\\programs\\python\\python38\\lib\\site-packages\\ipykernel\\ipkernel.py:287: DeprecationWarning: `should_run_async` will not call `transform_cell` automatically in the future. Please pass the result to `transformed_cell` argument and any exception that happen during thetransform in `preprocessing_exc_tuple` in IPython 7.17 and above.\n",
      "  and should_run_async(code)\n"
     ]
    },
    {
     "data": {
      "text/html": [
       "<div>\n",
       "<style scoped>\n",
       "    .dataframe tbody tr th:only-of-type {\n",
       "        vertical-align: middle;\n",
       "    }\n",
       "\n",
       "    .dataframe tbody tr th {\n",
       "        vertical-align: top;\n",
       "    }\n",
       "\n",
       "    .dataframe thead th {\n",
       "        text-align: right;\n",
       "    }\n",
       "</style>\n",
       "<table border=\"1\" class=\"dataframe\">\n",
       "  <thead>\n",
       "    <tr style=\"text-align: right;\">\n",
       "      <th></th>\n",
       "      <th>ppname</th>\n",
       "      <th>x</th>\n",
       "      <th>y</th>\n",
       "      <th>zone</th>\n",
       "      <th>val</th>\n",
       "    </tr>\n",
       "  </thead>\n",
       "  <tbody>\n",
       "    <tr>\n",
       "      <th>0</th>\n",
       "      <td>pp0000</td>\n",
       "      <td>426895.944</td>\n",
       "      <td>6654902.55</td>\n",
       "      <td>1</td>\n",
       "      <td>1</td>\n",
       "    </tr>\n",
       "    <tr>\n",
       "      <th>1</th>\n",
       "      <td>pp0001</td>\n",
       "      <td>426924.228</td>\n",
       "      <td>6654934.37</td>\n",
       "      <td>1</td>\n",
       "      <td>1</td>\n",
       "    </tr>\n",
       "    <tr>\n",
       "      <th>2</th>\n",
       "      <td>pp0002</td>\n",
       "      <td>426945.442</td>\n",
       "      <td>6654952.05</td>\n",
       "      <td>1</td>\n",
       "      <td>1</td>\n",
       "    </tr>\n",
       "    <tr>\n",
       "      <th>3</th>\n",
       "      <td>pp0003</td>\n",
       "      <td>426980.797</td>\n",
       "      <td>6654987.40</td>\n",
       "      <td>1</td>\n",
       "      <td>1</td>\n",
       "    </tr>\n",
       "    <tr>\n",
       "      <th>4</th>\n",
       "      <td>pp0004</td>\n",
       "      <td>427016.152</td>\n",
       "      <td>6655022.76</td>\n",
       "      <td>1</td>\n",
       "      <td>1</td>\n",
       "    </tr>\n",
       "  </tbody>\n",
       "</table>\n",
       "</div>"
      ],
      "text/plain": [
       "   ppname           x           y  zone  val\n",
       "0  pp0000  426895.944  6654902.55     1    1\n",
       "1  pp0001  426924.228  6654934.37     1    1\n",
       "2  pp0002  426945.442  6654952.05     1    1\n",
       "3  pp0003  426980.797  6654987.40     1    1\n",
       "4  pp0004  427016.152  6655022.76     1    1"
      ]
     },
     "execution_count": 4,
     "metadata": {},
     "output_type": "execute_result"
    }
   ],
   "source": [
    "cell_coords = list(zip(m.modelgrid.xcellcenters, m.modelgrid.ycellcenters))\n",
    "\n",
    "# set a ppoint at evey nth cell:\n",
    "nth = 5\n",
    "ppoints = pd.DataFrame(cell_coords[::nth], columns=['x','y'])\n",
    "ppoints['ppname'] = [f'pp{i:04d}' for i in ppoints.index.values]\n",
    "ppoints[['zone','val']] = 1, 1\n",
    "\n",
    "ppoints = ppoints[['ppname', 'x', 'y','zone', 'val']]\n",
    "ppoints.to_csv(os.path.join(model_ws, 'ppoints.dat'), sep='\\t', index=False)\n",
    "\n",
    "ppoints.head()"
   ]
  },
  {
   "cell_type": "code",
   "execution_count": 14,
   "metadata": {},
   "outputs": [
    {
     "name": "stderr",
     "output_type": "stream",
     "text": [
      "c:\\users\\nat12nho\\appdata\\local\\programs\\python\\python38\\lib\\site-packages\\ipykernel\\ipkernel.py:287: DeprecationWarning: `should_run_async` will not call `transform_cell` automatically in the future. Please pass the result to `transformed_cell` argument and any exception that happen during thetransform in `preprocessing_exc_tuple` in IPython 7.17 and above.\n",
      "  and should_run_async(code)\n"
     ]
    },
    {
     "data": {
      "text/plain": [
       "<AxesSubplot:xlabel='x'>"
      ]
     },
     "execution_count": 14,
     "metadata": {},
     "output_type": "execute_result"
    },
    {
     "data": {
      "image/png": "[encoded data removed]",
      "text/plain": [
       "<Figure size 432x288 with 1 Axes>"
      ]
     },
     "metadata": {
      "needs_background": "light"
     },
     "output_type": "display_data"
    }
   ],
   "source": [
    "#\n",
    "ppoints.plot(x='x', y='y', linestyle='', marker='o')\n"
   ]
  },
  {
   "cell_type": "code",
   "execution_count": 6,
   "metadata": {},
   "outputs": [
    {
     "name": "stderr",
     "output_type": "stream",
     "text": [
      "c:\\users\\nat12nho\\appdata\\local\\programs\\python\\python38\\lib\\site-packages\\ipykernel\\ipkernel.py:287: DeprecationWarning: `should_run_async` will not call `transform_cell` automatically in the future. Please pass the result to `transformed_cell` argument and any exception that happen during thetransform in `preprocessing_exc_tuple` in IPython 7.17 and above.\n",
      "  and should_run_async(code)\n"
     ]
    },
    {
     "name": "stdout",
     "output_type": "stream",
     "text": [
      " \n",
      " Program MKPPSTAT writes a pilot points statistical specification file based \n",
      "   on a pilot points file using local pilot point density to set local \n",
      "   variogram range.\n",
      " \n",
      " Enter name of pilot points file:   - data for 757 pilot points read from pilot points file mkppoints.dat\n",
      " \n",
      " Enter no. of pilot points to compute local ave. pp. sepn.:  Enter factor of ave. separation for local variogram \"a\" value: \n",
      " Enter name for pilot point statistical spec. file:  - file ppstat.dat written ok\n",
      " \n",
      "\n",
      " \n",
      " Program PP2COV_SVA creates a covariance matrix file for pilot point \n",
      "   parameters where geostatistical properties are pilot-point-specific.\n",
      " \n",
      " Enter name of pilot points statistical specs file:  Skip a line at the top of this file?  [y/n]:   - data for 757 pilot points read from pilot points file ppstat.dat\n",
      " \n",
      " Enter minimum allowable separation for points in same zone: \n",
      " Is overall variogram spherical, exponential or Gaussian? [s/x/g]: \n",
      " Enter name for output matrix file:  Enter pilot point prefix for parameter name (<Enter> if none): \n",
      " Filling covariance matrix....\n",
      " Using SVD to assure positive definiteness of matrix....\n",
      " - file cov.mat written ok.\n",
      "\n"
     ]
    }
   ],
   "source": [
    "# READ THE MANUAL and/or tutorials to follow what is happening here\n",
    "\n",
    "from lumpyrem import run\n",
    "#MKPPSTAT\n",
    "# mkppstat requires no headers in ppoint file ...sigh...\n",
    "ppoints.to_csv(os.path.join(model_ws, 'mkppoints.dat'),\n",
    "                       header=None, index=False, sep='\\t')\n",
    "\n",
    "# Input for MKPPSTAT\n",
    "npoints = 10\n",
    "a = 1.2\n",
    "# run MKPPSTAT\n",
    "run.run_process('mkppstat', path=model_ws, commands=['mkppoints.dat', npoints, a, 'ppstat.dat'])\n",
    "\n",
    "# run PPCOV_SVA\n",
    "run.run_process('ppcov_sva', path=model_ws, commands=['ppstat.dat', 'y', 1, 'x',  'cov.mat', ''])"
   ]
  },
  {
   "cell_type": "code",
   "execution_count": 7,
   "metadata": {},
   "outputs": [
    {
     "name": "stderr",
     "output_type": "stream",
     "text": [
      "c:\\users\\nat12nho\\appdata\\local\\programs\\python\\python38\\lib\\site-packages\\ipykernel\\ipkernel.py:287: DeprecationWarning: `should_run_async` will not call `transform_cell` automatically in the future. Please pass the result to `transformed_cell` argument and any exception that happen during thetransform in `preprocessing_exc_tuple` in IPython 7.17 and above.\n",
      "  and should_run_async(code)\n"
     ]
    },
    {
     "data": {
      "text/html": [
       "<div>\n",
       "<style scoped>\n",
       "    .dataframe tbody tr th:only-of-type {\n",
       "        vertical-align: middle;\n",
       "    }\n",
       "\n",
       "    .dataframe tbody tr th {\n",
       "        vertical-align: top;\n",
       "    }\n",
       "\n",
       "    .dataframe thead th {\n",
       "        text-align: right;\n",
       "    }\n",
       "</style>\n",
       "<table border=\"1\" class=\"dataframe\">\n",
       "  <thead>\n",
       "    <tr style=\"text-align: right;\">\n",
       "      <th></th>\n",
       "      <th>pp0000</th>\n",
       "      <th>pp0001</th>\n",
       "      <th>pp0002</th>\n",
       "      <th>pp0003</th>\n",
       "      <th>pp0004</th>\n",
       "      <th>pp0005</th>\n",
       "      <th>pp0006</th>\n",
       "      <th>pp0007</th>\n",
       "      <th>pp0008</th>\n",
       "      <th>pp0009</th>\n",
       "      <th>...</th>\n",
       "      <th>pp0747</th>\n",
       "      <th>pp0748</th>\n",
       "      <th>pp0749</th>\n",
       "      <th>pp0750</th>\n",
       "      <th>pp0751</th>\n",
       "      <th>pp0752</th>\n",
       "      <th>pp0753</th>\n",
       "      <th>pp0754</th>\n",
       "      <th>pp0755</th>\n",
       "      <th>pp0756</th>\n",
       "    </tr>\n",
       "  </thead>\n",
       "  <tbody>\n",
       "    <tr>\n",
       "      <th>pp0000</th>\n",
       "      <td>1.000000</td>\n",
       "      <td>0.312988</td>\n",
       "      <td>0.140840</td>\n",
       "      <td>0.081857</td>\n",
       "      <td>0.028849</td>\n",
       "      <td>0.683772</td>\n",
       "      <td>0.254439</td>\n",
       "      <td>0.131276</td>\n",
       "      <td>0.068153</td>\n",
       "      <td>0.026528</td>\n",
       "      <td>...</td>\n",
       "      <td>1.173461e-06</td>\n",
       "      <td>1.104334e-06</td>\n",
       "      <td>0.000008</td>\n",
       "      <td>0.000002</td>\n",
       "      <td>1.942176e-06</td>\n",
       "      <td>0.000026</td>\n",
       "      <td>0.000006</td>\n",
       "      <td>7.525925e-06</td>\n",
       "      <td>0.000019</td>\n",
       "      <td>1.184458e-05</td>\n",
       "    </tr>\n",
       "    <tr>\n",
       "      <th>pp0001</th>\n",
       "      <td>0.312988</td>\n",
       "      <td>1.000000</td>\n",
       "      <td>0.461505</td>\n",
       "      <td>0.120562</td>\n",
       "      <td>0.030824</td>\n",
       "      <td>0.386713</td>\n",
       "      <td>0.578452</td>\n",
       "      <td>0.507458</td>\n",
       "      <td>0.200787</td>\n",
       "      <td>0.052196</td>\n",
       "      <td>...</td>\n",
       "      <td>1.072294e-07</td>\n",
       "      <td>4.231633e-08</td>\n",
       "      <td>0.000002</td>\n",
       "      <td>0.000002</td>\n",
       "      <td>8.799042e-07</td>\n",
       "      <td>0.000002</td>\n",
       "      <td>0.000001</td>\n",
       "      <td>6.906736e-07</td>\n",
       "      <td>0.000001</td>\n",
       "      <td>6.861773e-07</td>\n",
       "    </tr>\n",
       "    <tr>\n",
       "      <th>pp0002</th>\n",
       "      <td>0.140840</td>\n",
       "      <td>0.461505</td>\n",
       "      <td>1.000000</td>\n",
       "      <td>0.246612</td>\n",
       "      <td>0.060806</td>\n",
       "      <td>0.182081</td>\n",
       "      <td>0.299486</td>\n",
       "      <td>0.445119</td>\n",
       "      <td>0.412534</td>\n",
       "      <td>0.104625</td>\n",
       "      <td>...</td>\n",
       "      <td>1.220597e-07</td>\n",
       "      <td>4.857244e-08</td>\n",
       "      <td>0.000002</td>\n",
       "      <td>0.000002</td>\n",
       "      <td>9.143945e-07</td>\n",
       "      <td>0.000002</td>\n",
       "      <td>0.000001</td>\n",
       "      <td>7.091294e-07</td>\n",
       "      <td>0.000001</td>\n",
       "      <td>6.841103e-07</td>\n",
       "    </tr>\n",
       "    <tr>\n",
       "      <th>pp0003</th>\n",
       "      <td>0.081857</td>\n",
       "      <td>0.120562</td>\n",
       "      <td>0.246612</td>\n",
       "      <td>1.000000</td>\n",
       "      <td>0.352752</td>\n",
       "      <td>0.051360</td>\n",
       "      <td>0.055631</td>\n",
       "      <td>0.075553</td>\n",
       "      <td>0.550162</td>\n",
       "      <td>0.466044</td>\n",
       "      <td>...</td>\n",
       "      <td>6.480234e-06</td>\n",
       "      <td>6.297450e-06</td>\n",
       "      <td>0.000017</td>\n",
       "      <td>0.000006</td>\n",
       "      <td>7.128918e-06</td>\n",
       "      <td>0.000049</td>\n",
       "      <td>0.000016</td>\n",
       "      <td>2.324853e-05</td>\n",
       "      <td>0.000041</td>\n",
       "      <td>3.176866e-05</td>\n",
       "    </tr>\n",
       "    <tr>\n",
       "      <th>pp0004</th>\n",
       "      <td>0.028849</td>\n",
       "      <td>0.030824</td>\n",
       "      <td>0.060806</td>\n",
       "      <td>0.352752</td>\n",
       "      <td>1.000000</td>\n",
       "      <td>0.013445</td>\n",
       "      <td>0.009970</td>\n",
       "      <td>0.011725</td>\n",
       "      <td>0.151090</td>\n",
       "      <td>0.582729</td>\n",
       "      <td>...</td>\n",
       "      <td>1.184124e-05</td>\n",
       "      <td>1.191409e-05</td>\n",
       "      <td>0.000018</td>\n",
       "      <td>0.000008</td>\n",
       "      <td>1.017721e-05</td>\n",
       "      <td>0.000053</td>\n",
       "      <td>0.000020</td>\n",
       "      <td>3.163454e-05</td>\n",
       "      <td>0.000047</td>\n",
       "      <td>4.081638e-05</td>\n",
       "    </tr>\n",
       "  </tbody>\n",
       "</table>\n",
       "<p>5 rows × 757 columns</p>\n",
       "</div>"
      ],
      "text/plain": [
       "          pp0000    pp0001    pp0002    pp0003    pp0004    pp0005    pp0006  \\\n",
       "pp0000  1.000000  0.312988  0.140840  0.081857  0.028849  0.683772  0.254439   \n",
       "pp0001  0.312988  1.000000  0.461505  0.120562  0.030824  0.386713  0.578452   \n",
       "pp0002  0.140840  0.461505  1.000000  0.246612  0.060806  0.182081  0.299486   \n",
       "pp0003  0.081857  0.120562  0.246612  1.000000  0.352752  0.051360  0.055631   \n",
       "pp0004  0.028849  0.030824  0.060806  0.352752  1.000000  0.013445  0.009970   \n",
       "\n",
       "          pp0007    pp0008    pp0009  ...        pp0747        pp0748  \\\n",
       "pp0000  0.131276  0.068153  0.026528  ...  1.173461e-06  1.104334e-06   \n",
       "pp0001  0.507458  0.200787  0.052196  ...  1.072294e-07  4.231633e-08   \n",
       "pp0002  0.445119  0.412534  0.104625  ...  1.220597e-07  4.857244e-08   \n",
       "pp0003  0.075553  0.550162  0.466044  ...  6.480234e-06  6.297450e-06   \n",
       "pp0004  0.011725  0.151090  0.582729  ...  1.184124e-05  1.191409e-05   \n",
       "\n",
       "          pp0749    pp0750        pp0751    pp0752    pp0753        pp0754  \\\n",
       "pp0000  0.000008  0.000002  1.942176e-06  0.000026  0.000006  7.525925e-06   \n",
       "pp0001  0.000002  0.000002  8.799042e-07  0.000002  0.000001  6.906736e-07   \n",
       "pp0002  0.000002  0.000002  9.143945e-07  0.000002  0.000001  7.091294e-07   \n",
       "pp0003  0.000017  0.000006  7.128918e-06  0.000049  0.000016  2.324853e-05   \n",
       "pp0004  0.000018  0.000008  1.017721e-05  0.000053  0.000020  3.163454e-05   \n",
       "\n",
       "          pp0755        pp0756  \n",
       "pp0000  0.000019  1.184458e-05  \n",
       "pp0001  0.000001  6.861773e-07  \n",
       "pp0002  0.000001  6.841103e-07  \n",
       "pp0003  0.000041  3.176866e-05  \n",
       "pp0004  0.000047  4.081638e-05  \n",
       "\n",
       "[5 rows x 757 columns]"
      ]
     },
     "execution_count": 7,
     "metadata": {},
     "output_type": "execute_result"
    }
   ],
   "source": [
    "# Load cov mat file with Pyemu for further processing\n",
    "covmat = pyemu.Cov.from_ascii(os.path.join(model_ws, \"cov.mat\"))\n",
    "\n",
    "# This covaraince matrix can now be used as the base for all pilot point parameters. \n",
    "# Note that in this case the variance is 1, so it is easy to scale to a parameters prior varaince\n",
    "# Depending on how you setup the scrpt, variance can be assigned at various stages (i.e. when running PPCOV_SVA, or by manipulating the matrix later)\n",
    "# Note that parameter names (headers and row names) come from the parameter name sin the ppoint file. These can have a prefix added by PPCOV_SVA, or changed in the dataframe. The latter is more versatile.\n",
    "covmat.to_dataframe().head()"
   ]
  },
  {
   "cell_type": "code",
   "execution_count": 8,
   "metadata": {},
   "outputs": [
    {
     "name": "stderr",
     "output_type": "stream",
     "text": [
      "c:\\users\\nat12nho\\appdata\\local\\programs\\python\\python38\\lib\\site-packages\\ipykernel\\ipkernel.py:287: DeprecationWarning: `should_run_async` will not call `transform_cell` automatically in the future. Please pass the result to `transformed_cell` argument and any exception that happen during thetransform in `preprocessing_exc_tuple` in IPython 7.17 and above.\n",
      "  and should_run_async(code)\n"
     ]
    },
    {
     "data": {
      "text/plain": [
       "<matplotlib.image.AxesImage at 0x1af8c9c2dc0>"
      ]
     },
     "execution_count": 8,
     "metadata": {},
     "output_type": "execute_result"
    },
    {
     "data": {
      "image/png": "[encoded data removed]",
      "text/plain": [
       "<Figure size 432x288 with 1 Axes>"
      ]
     },
     "metadata": {
      "needs_background": "light"
     },
     "output_type": "display_data"
    }
   ],
   "source": [
    "plt.imshow(covmat.as_2d)"
   ]
  },
  {
   "cell_type": "code",
   "execution_count": 16,
   "metadata": {},
   "outputs": [
    {
     "name": "stderr",
     "output_type": "stream",
     "text": [
      "c:\\users\\nat12nho\\appdata\\local\\programs\\python\\python38\\lib\\site-packages\\ipykernel\\ipkernel.py:287: DeprecationWarning: `should_run_async` will not call `transform_cell` automatically in the future. Please pass the result to `transformed_cell` argument and any exception that happen during thetransform in `preprocessing_exc_tuple` in IPython 7.17 and above.\n",
      "  and should_run_async(code)\n"
     ]
    }
   ],
   "source": [
    "run.run_process??"
   ]
  },
  {
   "cell_type": "code",
   "execution_count": null,
   "metadata": {},
   "outputs": [],
   "source": []
  }
 ],
 "metadata": {
  "interpreter": {
   "hash": "b3ba2566441a7c06988d0923437866b63cedc61552a5af99d1f4fb67d367b25f"
  },
  "kernelspec": {
   "display_name": "Python 3",
   "language": "python",
   "name": "python3"
  },
  "language_info": {
   "codemirror_mode": {
    "name": "ipython",
    "version": 3
   },
   "file_extension": ".py",
   "mimetype": "text/x-python",
   "name": "python",
   "nbconvert_exporter": "python",
   "pygments_lexer": "ipython3",
   "version": "3.8.6"
  }
 },
 "nbformat": 4,
 "nbformat_minor": 2
}
